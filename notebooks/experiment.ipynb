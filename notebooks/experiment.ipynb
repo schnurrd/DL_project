{
 "cells": [
  {
   "cell_type": "code",
   "execution_count": 1,
   "metadata": {},
   "outputs": [],
   "source": [
    "import torch\n",
    "import torchvision\n",
    "from torchvision import transforms, datasets\n",
    "from sklearn import metrics\n",
    "from sklearn.model_selection import train_test_split\n",
    "from torch.utils.data import DataLoader, Subset\n",
    "import numpy as np\n",
    "import copy\n",
    "import statistics\n",
    "import matplotlib.pyplot as plt\n",
    "import time\n",
    "from tqdm import tqdm\n",
    "torch.cuda.empty_cache()\n",
    "import sys\n",
    "sys.path.append('./../src')\n",
    "import globals\n",
    "from model import MnistCNN, TinyImageNetCNN\n",
    "from training import train_model, train_model_CL\n",
    "from visualizations import plot_embeddings, plot_confusion_matrix\n",
    "from feature_attribution import Feature_Importance_Evaluations\n",
    "from pytorch_utils import get_features, get_labels\n",
    "from embedding_measurements import measure_embedding_confusion_knn, measure_embedding_drift"
   ]
  },
  {
   "cell_type": "code",
   "execution_count": 2,
   "metadata": {},
   "outputs": [],
   "source": [
    "SEED = globals.SEED\n",
    "DEVICE = globals.DEVICE\n",
    "full_trainset = globals.full_trainset\n",
    "trainset = globals.trainset\n",
    "testset = globals.testset\n",
    "trainloaders = globals.trainloaders\n",
    "valloaders = globals.valloaders\n",
    "testloaders = globals.testloaders"
   ]
  },
  {
   "cell_type": "code",
   "execution_count": 3,
   "metadata": {},
   "outputs": [],
   "source": [
    "from collections import defaultdict\n",
    "import json\n",
    "file_path = \"class_to_indices.json\"\n",
    "def initialize_data():\n",
    "    data_folder = './../data/'\n",
    "    if globals.dataset == 'mnist':\n",
    "        transform = transforms.Compose([\n",
    "            transforms.ToTensor()\n",
    "            #transforms.Normalize((0.5,), (0.5,))  # Normalizes to mean 0.5 and std 0.5 for the single channel\n",
    "        ])\n",
    "        globals.full_trainset = torchvision.datasets.MNIST(data_folder, train=True, download=True,\n",
    "                                    transform=transform)\n",
    "        targets = np.array(globals.full_trainset.targets)\n",
    "        globals.testset = torchvision.datasets.MNIST(data_folder, train=False, download=True,\n",
    "                                transform=transform)\n",
    "    elif globals.dataset == 'tiny_imagenet':\n",
    "        transform = transforms.Compose([\n",
    "            transforms.ToTensor()\n",
    "            #transforms.Normalize((0.5,), (0.5,))  # Normalizes to mean 0.5 and std 0.5 for the single channel\n",
    "        ])\n",
    "        globals.full_trainset = datasets.ImageFolder(root=data_folder + \"tiny-imagenet-200/train\", transform=transform)\n",
    "        globals.testset = datasets.ImageFolder(root=data_folder + \"tiny-imagenet-200/val\", transform=transform)\n",
    "        targets = [sample[1] for sample in globals.full_trainset.samples]\n",
    "        targets = np.array(targets)\n",
    "    else:\n",
    "        raise NotImplementedError(\"unsupported dataset\")\n",
    "    if globals.val_set_size != 0:\n",
    "        # Perform stratified split\n",
    "        train_indices, val_indices = train_test_split(\n",
    "            np.arange(len(targets)),\n",
    "            test_size=globals.val_set_size,\n",
    "            stratify=targets\n",
    "        )\n",
    "    else:\n",
    "        train_indices = np.arange(len(targets))\n",
    "        val_indices = []\n",
    "\n",
    "    # Create subsets\n",
    "    valset = Subset(globals.full_trainset, val_indices)\n",
    "    globals.trainset = Subset(globals.full_trainset, train_indices)\n",
    "\n",
    "    # Define class pairs for each subset\n",
    "    class_pairs = [tuple(range(i*globals.CLASSES_PER_ITER,(i+1)*globals.CLASSES_PER_ITER)) for i in range(globals.ITERATIONS)]\n",
    "    #print(class_pairs)\n",
    "\n",
    "    # Dictionary to hold data loaders for each subset\n",
    "    globals.trainloaders = []\n",
    "    globals.testloaders = []\n",
    "    globals.valloaders = []\n",
    "    subset_indices = []\n",
    "\n",
    "    def compute_class_to_indices(dataset):\n",
    "        class_to_indices = defaultdict(list)\n",
    "        for idx, (_, label) in enumerate(dataset):\n",
    "            if idx%1000 == 0:\n",
    "                print(idx, end=' ')\n",
    "            class_to_indices[label].append(idx)\n",
    "        return class_to_indices\n",
    "\n",
    "    train_class_to_indices = compute_class_to_indices(globals.trainset)\n",
    "    val_class_to_indices = compute_class_to_indices(valset)\n",
    "    test_class_to_indices = compute_class_to_indices(globals.testset)\n",
    "\n",
    "    # Loop over each class pair\n",
    "    for i, t in enumerate(class_pairs):\n",
    "        # Get indices of images belonging to the specified class pair\n",
    "        subs_ind = [idx for cls in t for idx in train_class_to_indices[cls]]\n",
    "        val_subset_indices = [idx for cls in t for idx in val_class_to_indices[cls]]\n",
    "        test_subset_indices = [idx for cls in t for idx in test_class_to_indices[cls]]\n",
    "\n",
    "        # Create a subset for the current class pair\n",
    "        train_subset = Subset(globals.trainset, subs_ind)\n",
    "        globals.trainloaders.append(DataLoader(train_subset, batch_size=globals.BATCH_SIZE, shuffle=True, pin_memory=True, num_workers = 0))\n",
    "        subset_indices.append(subs_ind)\n",
    "        \n",
    "        val_subset = Subset(valset, val_subset_indices)\n",
    "        globals.valloaders.append(DataLoader(val_subset, batch_size=100, shuffle=False))\n",
    "\n",
    "        test_subset = Subset(globals.testset, test_subset_indices)\n",
    "        globals.testloaders.append(DataLoader(test_subset, batch_size=100, shuffle=False))\n"
   ]
  },
  {
   "cell_type": "code",
   "execution_count": 4,
   "metadata": {},
   "outputs": [],
   "source": [
    "def run_experiment(\n",
    "        verbose = False,\n",
    "        stopOnLoss = None,\n",
    "        full_CE = True,\n",
    "        with_OOD = False,\n",
    "        ood_method = 'jigsaw',\n",
    "        kd_loss = 0,\n",
    "        stopOnValAcc = None,\n",
    "        epochs = 1000000,\n",
    "        with_dropout = False,\n",
    "        ogd = False,\n",
    "        dataset = None,\n",
    "        joint_training = False\n",
    "        ):\n",
    "    def _print(*args, **kwargs):\n",
    "        if verbose:\n",
    "            print(*args, **kwargs)\n",
    "    if dataset is not None:\n",
    "        globals.dataset = dataset\n",
    "    else:\n",
    "        dataset = globals.dataset\n",
    "    if dataset == 'tiny_imagenet':\n",
    "        stopOnLoss = 1.3\n",
    "        if joint_training:\n",
    "            globals.CLASSES_PER_ITER = 200\n",
    "            globals.ITERATIONS = 1\n",
    "        else:\n",
    "            globals.CLASSES_PER_ITER = 40\n",
    "            globals.ITERATIONS = 5\n",
    "    elif dataset == 'mnist':\n",
    "        stopOnLoss = 0.03\n",
    "        if joint_training:\n",
    "            globals.CLASSES_PER_ITER = 10\n",
    "            globals.ITERATIONS = 1\n",
    "        else:\n",
    "            globals.CLASSES_PER_ITER = 2\n",
    "            globals.ITERATIONS = 5\n",
    "    if with_OOD:\n",
    "        globals.toggle_OOD(ood_method)\n",
    "    else:\n",
    "        globals.disable_OOD()\n",
    "    initialize_data()\n",
    "    prevModel = None\n",
    "    globals.BATCH_SIZE=4\n",
    "    \n",
    "    globals.WITH_DROPOUT = with_dropout\n",
    "\n",
    "    #[Denis] added code:\n",
    "    Feature_Importance_Eval=Feature_Importance_Evaluations(globals.testloaders, DEVICE)\n",
    "\n",
    "    for i in tqdm(range(globals.ITERATIONS), desc=\"Experiment Progress\"):\n",
    "        if globals.dataset == 'mnist':\n",
    "            model = MnistCNN((i+1)*(globals.CLASSES_PER_ITER+globals.OOD_CLASS))\n",
    "        elif globals.dataset == 'tiny_imagenet':\n",
    "            model = TinyImageNetCNN((i+1)*(globals.CLASSES_PER_ITER+globals.OOD_CLASS))\n",
    "        if prevModel is not None:\n",
    "            with torch.no_grad():\n",
    "                model.copyPrev(prevModel)\n",
    "        train_loader = globals.trainloaders[i]\n",
    "        val_loader = globals.valloaders[i]\n",
    "        if prevModel:\n",
    "            _print(\"CL TRAIN!!\")\n",
    "            train_model_CL(\n",
    "                model,\n",
    "                prevModel,\n",
    "                train_loader,\n",
    "                val_loader,\n",
    "                i,\n",
    "                verbose,\n",
    "                epochs,\n",
    "                True,\n",
    "                freeze_nonzero_params=False,\n",
    "                l1_loss=0,\n",
    "                ewc_loss=0,\n",
    "                kd_loss=kd_loss,\n",
    "                distance_loss=0,\n",
    "                center_loss=0,\n",
    "                param_reuse_loss=0,\n",
    "                stopOnLoss=stopOnLoss,\n",
    "                stopOnValAcc = stopOnValAcc,\n",
    "                full_CE=full_CE,\n",
    "                ogd=ogd,\n",
    "                )\n",
    "        else:\n",
    "            print(\"TRAINING!\")\n",
    "            train_model(\n",
    "                model, \n",
    "                train_loader, \n",
    "                val_loader, \n",
    "                verbose, \n",
    "                epochs=epochs, \n",
    "                l1_loss=0,\n",
    "                stopOnLoss=stopOnLoss,\n",
    "                center_loss=0,\n",
    "                ogd=ogd\n",
    "                )\n",
    "\n",
    "        #[Denis] added code:\n",
    "        Feature_Importance_Eval.Task_Feature_Attribution(model, i)\n",
    "        \n",
    "        if verbose or i == globals.ITERATIONS-1:\n",
    "            _print(\"Starting evaluation\")\n",
    "            _print(\"ITERATION\", i+1)\n",
    "            _print(\"ACCURACIES PER TASK:\")\n",
    "            accumPred = []\n",
    "            all_labels = []\n",
    "            all_embeddings = []\n",
    "            with torch.no_grad():\n",
    "                for j in range(i+1):\n",
    "                    val_loader = globals.testloaders[j]\n",
    "                    val_labels = get_labels(val_loader).to(DEVICE)\n",
    "                    all_labels.append(val_labels)\n",
    "                    model.eval()\n",
    "                    pred, embeddings = model.get_pred_and_embeddings((get_features(val_loader).to(DEVICE)))\n",
    "                    model.train()\n",
    "                    accumPred.append(pred)\n",
    "                    all_embeddings.append(embeddings)\n",
    "                    sliced_pred = pred[:, j*(globals.CLASSES_PER_ITER+globals.OOD_CLASS):(j+1)*(globals.CLASSES_PER_ITER+globals.OOD_CLASS)]\n",
    "                    _, predicted = torch.max(sliced_pred, 1)  # Get the class predictions\n",
    "                    predicted += j*globals.CLASSES_PER_ITER\n",
    "                    correct = (predicted == val_labels).sum().item()  # Count how many were correct\n",
    "                    accuracy = correct / val_labels.size(0)  # Accuracy as a percentage\n",
    "                    _print(str(accuracy), end=' ')\n",
    "            accumPred = torch.cat(accumPred)\n",
    "            all_labels = torch.cat(all_labels)\n",
    "            all_embeddings = torch.cat(all_embeddings)\n",
    "            predicted = []\n",
    "            for x in accumPred:\n",
    "                if globals.OOD_CLASS == 1:\n",
    "                    x_pred = x[[i for i in range(x.size(0)) if (i + 1) % (globals.CLASSES_PER_ITER+1) != 0]]\n",
    "                else:\n",
    "                    x_pred = x\n",
    "                x_pred = torch.softmax(x_pred, dim=-1)\n",
    "                max = 0\n",
    "                for (k, v) in enumerate(x_pred):\n",
    "                    if v > max:\n",
    "                        max = v\n",
    "                        p = k\n",
    "                predicted.append(p)\n",
    "            predicted = torch.tensor(predicted).to(DEVICE)\n",
    "            correct = (predicted == all_labels).sum().item()  # Count how many were correct\n",
    "            accuracy = correct / all_labels.size(0)  # Accuracy as a percentage\n",
    "            _print(\"Accuracy on tasks so far:\", accuracy)\n",
    "            embedding_drift = measure_embedding_drift(all_embeddings, all_labels, model.prev_test_embedding_centers)\n",
    "            _print(\"Average embedding drift based on centroids:\", embedding_drift)\n",
    "            total_confusion, intra_phase_confusion, per_task_confusion = measure_embedding_confusion_knn(all_embeddings, all_labels, k = 1000, task=i+1)\n",
    "            _print(\"Total confusion\", total_confusion)\n",
    "            _print(\"Intra-phase confusion\", intra_phase_confusion)\n",
    "            _print(\"Per task confusions\", per_task_confusion)\n",
    "            if verbose and globals.dataset == 'mnist':\n",
    "                plot_confusion_matrix(predicted.cpu(), all_labels.cpu(), list(range(globals.CLASSES_PER_ITER*(i+1))))\n",
    "        prevModel = copy.deepcopy(model)\n",
    "        \n",
    "    #[Denis] added code:\n",
    "    [avg_att_diff,att_diffs,_,_,avg_att_spread,att_spreads]=Feature_Importance_Eval.Get_Feature_Change_Score(prevModel)\n",
    "    _print(\"Average SHAPC values (ordered as tasks):\", att_diffs)\n",
    "    _print(\"Averaged SHAPC value (the smaller the better):\", avg_att_diff)\n",
    "    _print(\"Average attention spread values (ordered as tasks):\", att_spreads)\n",
    "    _print(\"Averaged attention spread value (the bigger the better):\", avg_att_spread)\n",
    "    Feature_Importance_Eval.Save_Random_Picture_Salency() #prints the salcency maps for 1 example by class (first row: image, second row: salency map after training, third row: salency map after training task where class is included)\n",
    "    \n",
    "    return accuracy, total_confusion, intra_phase_confusion, per_task_confusion, embedding_drift, avg_att_diff, avg_att_spread"
   ]
  },
  {
   "cell_type": "code",
   "execution_count": 5,
   "metadata": {},
   "outputs": [],
   "source": [
    "def run_experiments(n_runs=globals.EXPERIMENT_N_RUNS, *args, **kwargs):\n",
    "    verbose = kwargs.get('verbose', None)\n",
    "    def _print(*args, **kwargs):\n",
    "        if verbose:\n",
    "            print(*args, **kwargs)\n",
    "    def report_stats(data, name):\n",
    "        #print(name, data)\n",
    "        mean = statistics.mean(data)\n",
    "        std = statistics.stdev(data)\n",
    "        print(f\"Mean \" + name + f\" across {n_runs} runs: {mean}\")\n",
    "        print(f\"Standard deviation of \" + name + f\" across {n_runs} runs: {std}\\n\")\n",
    "    accuracies = []\n",
    "    total_confusions = []\n",
    "    intra_phase_confusions = []\n",
    "    per_task_confusions = []\n",
    "    att_diffs = []\n",
    "    embedding_drifts = []\n",
    "    att_spreads = []\n",
    "    for r in range(n_runs):\n",
    "        print(f\"Starting run {r+1}.\")\n",
    "        accuracy, total_confusion, intra_phase_confusion, per_task_confusion, embedding_drift, avg_att_diff, avg_att_spread = run_experiment(*args, **kwargs)\n",
    "        accuracies.append(accuracy)\n",
    "        total_confusions.append(total_confusion)\n",
    "        intra_phase_confusions.append(intra_phase_confusion)\n",
    "        per_task_confusions.append(per_task_confusion)\n",
    "        att_diffs.append(avg_att_diff)\n",
    "        embedding_drifts.append(embedding_drift)\n",
    "        att_spreads.append(avg_att_spread)\n",
    "        print(f\"Run {r} finished with accuracy {accuracy}\")\n",
    "\n",
    "    report_stats(accuracies, \"accuracy\")\n",
    "    report_stats(total_confusions, \"total confusion\")\n",
    "    report_stats(intra_phase_confusions, \"intra-phase confusion\")\n",
    "    report_stats(per_task_confusions, \"per-task confusion\")\n",
    "    report_stats(embedding_drifts, \"embedding drift\")\n",
    "    report_stats(att_diffs, \"attention drift\")\n",
    "    report_stats(att_spreads, \"attention spread\")"
   ]
  },
  {
   "cell_type": "code",
   "execution_count": 6,
   "metadata": {},
   "outputs": [
    {
     "name": "stdout",
     "output_type": "stream",
     "text": [
      "Starting run 1.\n",
      "0 1000 2000 3000 4000 5000 6000 7000 8000 9000 10000 11000 12000 13000 14000 15000 16000 17000 18000 19000 20000 21000 22000 23000 24000 25000 26000 27000 28000 29000 30000 31000 32000 33000 34000 35000 36000 37000 38000 39000 40000 41000 42000 43000 44000 45000 46000 47000 48000 49000 50000 51000 52000 53000 54000 55000 56000 57000 58000 59000 60000 61000 62000 63000 64000 65000 66000 67000 68000 69000 70000 71000 72000 73000 74000 75000 76000 77000 78000 79000 80000 81000 82000 83000 84000 85000 86000 87000 88000 89000 0 1000 2000 3000 4000 5000 6000 7000 8000 9000 0 1000 2000 3000 4000 5000 6000 7000 8000 9000 "
     ]
    },
    {
     "name": "stderr",
     "output_type": "stream",
     "text": [
      "Experiment Progress:   0%|          | 0/5 [00:00<?, ?it/s]"
     ]
    },
    {
     "name": "stdout",
     "output_type": "stream",
     "text": [
      "TRAINING!\n",
      "Epoch 0, CE Loss: 3.7142, center loss: 0.0000\n",
      "Fraction of nonzero parameters 0.9999146269162125\n",
      "Validation loss 3.6810053110122682 validation accuracy 0.0455 \n",
      "\n",
      "Epoch 1, CE Loss: 3.6132, center loss: 0.0000\n",
      "Fraction of nonzero parameters 0.9999145919272436\n",
      "Validation loss 3.591951620578766 validation accuracy 0.0585 \n",
      "\n",
      "Epoch 2, CE Loss: 3.4670, center loss: 0.0000\n",
      "Fraction of nonzero parameters 0.9999145219493061\n",
      "Validation loss 3.4247055888175963 validation accuracy 0.1025 \n",
      "\n",
      "Epoch 3, CE Loss: 3.3028, center loss: 0.0000\n",
      "Fraction of nonzero parameters 0.9999156066073378\n",
      "Validation loss 3.2678787112236023 validation accuracy 0.137 \n",
      "\n",
      "Epoch 4, CE Loss: 3.1299, center loss: 0.0000\n",
      "Fraction of nonzero parameters 0.9999140670927121\n",
      "Validation loss 3.125190496444702 validation accuracy 0.1625 \n",
      "\n",
      "Epoch 5, CE Loss: 2.9665, center loss: 0.0000\n",
      "Fraction of nonzero parameters 0.99991753100062\n",
      "Validation loss 2.992747700214386 validation accuracy 0.187 \n",
      "\n",
      "Epoch 6, CE Loss: 2.8215, center loss: 0.0000\n",
      "Fraction of nonzero parameters 0.9999169711771198\n",
      "Validation loss 2.8039308369159697 validation accuracy 0.2375 \n",
      "\n",
      "Epoch 7, CE Loss: 2.6935, center loss: 0.0000\n",
      "Fraction of nonzero parameters 0.9999176534620107\n",
      "Validation loss 2.696038568019867 validation accuracy 0.265 \n",
      "\n",
      "Epoch 8, CE Loss: 2.5842, center loss: 0.0000\n",
      "Fraction of nonzero parameters 0.9999162014198069\n",
      "Validation loss 2.7249786376953127 validation accuracy 0.257 \n",
      "\n",
      "Epoch 9, CE Loss: 2.4618, center loss: 0.0000\n",
      "Fraction of nonzero parameters 0.9999147668720875\n",
      "Validation loss 2.641211521625519 validation accuracy 0.271 \n",
      "\n",
      "Epoch 10, CE Loss: 2.3469, center loss: 0.0000\n",
      "Fraction of nonzero parameters 0.9999132098629774\n",
      "Validation loss 2.514260172843933 validation accuracy 0.299 \n",
      "\n",
      "Epoch 11, CE Loss: 2.2167, center loss: 0.0000\n",
      "Fraction of nonzero parameters 0.9999165338150101\n",
      "Validation loss 2.4166931807994843 validation accuracy 0.332 \n",
      "\n",
      "Epoch 12, CE Loss: 2.0918, center loss: 0.0000\n",
      "Fraction of nonzero parameters 0.9999155716183691\n",
      "Validation loss 2.4162265062332153 validation accuracy 0.3325 \n",
      "\n",
      "Epoch 13, CE Loss: 1.9628, center loss: 0.0000\n",
      "Fraction of nonzero parameters 0.9999160789584162\n",
      "Validation loss 2.4125601649284363 validation accuracy 0.3465 \n",
      "\n",
      "Epoch 14, CE Loss: 1.8251, center loss: 0.0000\n",
      "Fraction of nonzero parameters 0.9999207149967776\n",
      "Validation loss 2.391345125436783 validation accuracy 0.337 \n",
      "\n",
      "Epoch 15, CE Loss: 1.6758, center loss: 0.0000\n",
      "Fraction of nonzero parameters 0.9999189655483394\n",
      "Validation loss 2.4757647633552553 validation accuracy 0.3235 \n",
      "\n",
      "Epoch 16, CE Loss: 1.5671, center loss: 0.0000\n",
      "Fraction of nonzero parameters 0.9999212573257935\n",
      "Validation loss 2.486071506142616 validation accuracy 0.338 \n",
      "\n",
      "Epoch 17, CE Loss: 1.4310, center loss: 0.0000\n",
      "Fraction of nonzero parameters 0.999921327303731\n",
      "Validation loss 2.4844864547252654 validation accuracy 0.3285 \n",
      "\n",
      "Epoch 18, CE Loss: 1.3018, center loss: 0.0000\n",
      "Fraction of nonzero parameters 0.9999216771934186\n",
      "Validation loss 2.495602661371231 validation accuracy 0.3425 \n",
      "\n",
      "Epoch 19, CE Loss: 1.2098, center loss: 0.0000\n",
      "Fraction of nonzero parameters 0.9999268730552803\n",
      "Validation loss 2.5485053300857543 validation accuracy 0.338 \n",
      "\n",
      "Starting evaluation\n",
      "ITERATION 1\n",
      "ACCURACIES PER TASK:\n",
      "0.3535 Accuracy on tasks so far: 0.354\n",
      "Average embedding drift based on centroids: 0.00033586303470656276\n",
      "ALL EMBEDDINGS LEN 2000\n"
     ]
    },
    {
     "name": "stderr",
     "output_type": "stream",
     "text": [
      "Experiment Progress:  20%|██        | 1/5 [23:21<1:33:24, 1401.15s/it]"
     ]
    },
    {
     "name": "stdout",
     "output_type": "stream",
     "text": [
      "Total confusion 0.967853\n",
      "Intra-phase confusion 0.0\n",
      "Per task confusions 0.967853\n",
      "CL TRAIN!!\n",
      "Epoch 0  CELoss: 2.9253, KLLoss: 0.1786, L1Loss: 0.0000, EWCLoss: 0.0000, CenterLoss: 0.0000, InterCenterLoss: 0.0000, ParamReuseLoss: 0.0000\n",
      "Fraction of nonzero parameters 0.9999277152777354\n",
      "Validation losses: 2.6526939928531648 0.25693308711051943\n",
      "Validation accuracy (for last task) 0.0595\n",
      "Total validation accuracy 0.197\n",
      "\n",
      "\n",
      "Epoch 1  CELoss: 2.4091, KLLoss: 0.2607, L1Loss: 0.0000, EWCLoss: 0.0000, CenterLoss: 0.0000, InterCenterLoss: 0.0000, ParamReuseLoss: 0.0000\n",
      "Fraction of nonzero parameters 0.9999265116952459\n",
      "Validation losses: 2.443448632955551 0.288641095161438\n",
      "Validation accuracy (for last task) 0.166\n",
      "Total validation accuracy 0.23325\n",
      "\n",
      "\n",
      "Epoch 2  CELoss: 2.0880, KLLoss: 0.2630, L1Loss: 0.0000, EWCLoss: 0.0000, CenterLoss: 0.0000, InterCenterLoss: 0.0000, ParamReuseLoss: 0.0000\n",
      "Fraction of nonzero parameters 0.9999270349919804\n",
      "Validation losses: 2.3818488985300066 0.3327667087316513\n",
      "Validation accuracy (for last task) 0.206\n",
      "Total validation accuracy 0.23675\n",
      "\n",
      "\n",
      "Epoch 3  CELoss: 1.8308, KLLoss: 0.2634, L1Loss: 0.0000, EWCLoss: 0.0000, CenterLoss: 0.0000, InterCenterLoss: 0.0000, ParamReuseLoss: 0.0000\n",
      "Fraction of nonzero parameters 0.9999287269847555\n",
      "Validation losses: 2.313509523868561 0.3289641499519348\n",
      "Validation accuracy (for last task) 0.273\n",
      "Total validation accuracy 0.26075\n",
      "\n",
      "\n",
      "Epoch 4  CELoss: 1.5814, KLLoss: 0.2743, L1Loss: 0.0000, EWCLoss: 0.0000, CenterLoss: 0.0000, InterCenterLoss: 0.0000, ParamReuseLoss: 0.0000\n",
      "Fraction of nonzero parameters 0.9999300352265919\n",
      "Validation losses: 2.3735620260238646 0.41935024261474607\n",
      "Validation accuracy (for last task) 0.288\n",
      "Total validation accuracy 0.24975\n",
      "\n",
      "\n",
      "Epoch 5  CELoss: 1.3669, KLLoss: 0.2771, L1Loss: 0.0000, EWCLoss: 0.0000, CenterLoss: 0.0000, InterCenterLoss: 0.0000, ParamReuseLoss: 0.0000\n",
      "Fraction of nonzero parameters 0.9999303666478571\n",
      "Validation losses: 2.358214017748833 0.3886023789644241\n",
      "Validation accuracy (for last task) 0.3055\n",
      "Total validation accuracy 0.24975\n",
      "\n",
      "\n",
      "Epoch 6  CELoss: 1.1784, KLLoss: 0.2829, L1Loss: 0.0000, EWCLoss: 0.0000, CenterLoss: 0.0000, InterCenterLoss: 0.0000, ParamReuseLoss: 0.0000\n",
      "Fraction of nonzero parameters 0.9999313783548772\n",
      "Validation losses: 2.3919853419065475 0.4248176246881485\n",
      "Validation accuracy (for last task) 0.3365\n",
      "Total validation accuracy 0.2405\n",
      "\n",
      "\n",
      "Starting evaluation\n",
      "ITERATION 2\n",
      "ACCURACIES PER TASK:\n",
      "0.3295 0.3725 Accuracy on tasks so far: 0.2475\n",
      "Average embedding drift based on centroids: 2.087536573410034\n",
      "ALL EMBEDDINGS LEN 4000\n"
     ]
    },
    {
     "name": "stderr",
     "output_type": "stream",
     "text": [
      "Experiment Progress:  40%|████      | 2/5 [38:26<55:27, 1109.28s/it]  "
     ]
    },
    {
     "name": "stdout",
     "output_type": "stream",
     "text": [
      "Total confusion 0.98056025\n",
      "Intra-phase confusion 0.49351124999999996\n",
      "Per task confusions 0.96919475\n",
      "CL TRAIN!!\n",
      "Epoch 0  CELoss: 2.8200, KLLoss: 0.1616, L1Loss: 0.0000, EWCLoss: 0.0000, CenterLoss: 0.0000, InterCenterLoss: 0.0000, ParamReuseLoss: 0.0000\n",
      "Fraction of nonzero parameters 0.9999329876064291\n",
      "Validation losses: 2.564415621757507 0.22115917205810548\n",
      "Validation accuracy (for last task) 0.1035\n",
      "Total validation accuracy 0.18566666666666667\n",
      "\n",
      "\n",
      "Epoch 1  CELoss: 2.2988, KLLoss: 0.2294, L1Loss: 0.0000, EWCLoss: 0.0000, CenterLoss: 0.0000, InterCenterLoss: 0.0000, ParamReuseLoss: 0.0000\n",
      "Fraction of nonzero parameters 0.9999326397611472\n",
      "Validation losses: 2.4113117814064027 0.25564190149307253\n",
      "Validation accuracy (for last task) 0.1965\n",
      "Total validation accuracy 0.19533333333333333\n",
      "\n",
      "\n",
      "Epoch 2  CELoss: 1.9820, KLLoss: 0.2447, L1Loss: 0.0000, EWCLoss: 0.0000, CenterLoss: 0.0000, InterCenterLoss: 0.0000, ParamReuseLoss: 0.0000\n",
      "Fraction of nonzero parameters 0.9999353877388747\n",
      "Validation losses: 2.3721578776836396 0.29231135845184325\n",
      "Validation accuracy (for last task) 0.2505\n",
      "Total validation accuracy 0.20333333333333334\n",
      "\n",
      "\n",
      "Epoch 3  CELoss: 1.7000, KLLoss: 0.2450, L1Loss: 0.0000, EWCLoss: 0.0000, CenterLoss: 0.0000, InterCenterLoss: 0.0000, ParamReuseLoss: 0.0000\n",
      "Fraction of nonzero parameters 0.9999337876505776\n",
      "Validation losses: 2.3180092751979826 0.30641910433769226\n",
      "Validation accuracy (for last task) 0.2845\n",
      "Total validation accuracy 0.203\n",
      "\n",
      "\n",
      "Epoch 4  CELoss: 1.4508, KLLoss: 0.2554, L1Loss: 0.0000, EWCLoss: 0.0000, CenterLoss: 0.0000, InterCenterLoss: 0.0000, ParamReuseLoss: 0.0000\n",
      "Fraction of nonzero parameters 0.9999365182360411\n",
      "Validation losses: 2.379014199972153 0.34530640244483946\n",
      "Validation accuracy (for last task) 0.3115\n",
      "Total validation accuracy 0.19033333333333333\n",
      "\n",
      "\n",
      "Epoch 5  CELoss: 1.2361, KLLoss: 0.2643, L1Loss: 0.0000, EWCLoss: 0.0000, CenterLoss: 0.0000, InterCenterLoss: 0.0000, ParamReuseLoss: 0.0000\n",
      "Fraction of nonzero parameters 0.9999351442471773\n",
      "Validation losses: 2.3955930709838866 0.33829370737075803\n",
      "Validation accuracy (for last task) 0.323\n",
      "Total validation accuracy 0.18416666666666667\n",
      "\n",
      "\n",
      "Starting evaluation\n",
      "ITERATION 3\n",
      "ACCURACIES PER TASK:\n",
      "0.289 0.341 0.36 Accuracy on tasks so far: 0.18783333333333332\n",
      "Average embedding drift based on centroids: 2.86011004447937\n",
      "ALL EMBEDDINGS LEN 6000\n"
     ]
    },
    {
     "name": "stderr",
     "output_type": "stream",
     "text": [
      "Experiment Progress:  60%|██████    | 3/5 [52:13<32:41, 980.70s/it] "
     ]
    },
    {
     "name": "stdout",
     "output_type": "stream",
     "text": [
      "Total confusion 0.9856675\n",
      "Intra-phase confusion 0.6537978333333334\n",
      "Per task confusions 0.9697598333333333\n",
      "CL TRAIN!!\n",
      "Epoch 0  CELoss: 2.8565, KLLoss: 0.1131, L1Loss: 0.0000, EWCLoss: 0.0000, CenterLoss: 0.0000, InterCenterLoss: 0.0000, ParamReuseLoss: 0.0000\n",
      "Fraction of nonzero parameters 0.9999359574689615\n",
      "Validation losses: 2.6522301375865935 0.17769975066184998\n",
      "Validation accuracy (for last task) 0.075\n",
      "Total validation accuracy 0.146625\n",
      "\n",
      "\n",
      "Epoch 1  CELoss: 2.3762, KLLoss: 0.1777, L1Loss: 0.0000, EWCLoss: 0.0000, CenterLoss: 0.0000, InterCenterLoss: 0.0000, ParamReuseLoss: 0.0000\n",
      "Fraction of nonzero parameters 0.9999382465602416\n",
      "Validation losses: 2.4788750052452087 0.20217849612236022\n",
      "Validation accuracy (for last task) 0.1765\n",
      "Total validation accuracy 0.162625\n",
      "\n",
      "\n",
      "Epoch 2  CELoss: 2.0743, KLLoss: 0.1928, L1Loss: 0.0000, EWCLoss: 0.0000, CenterLoss: 0.0000, InterCenterLoss: 0.0000, ParamReuseLoss: 0.0000\n",
      "Fraction of nonzero parameters 0.9999408824835336\n",
      "Validation losses: 2.4519585251808165 0.2226502537727356\n",
      "Validation accuracy (for last task) 0.223\n",
      "Total validation accuracy 0.157375\n",
      "\n",
      "\n",
      "Epoch 3  CELoss: 1.7942, KLLoss: 0.2049, L1Loss: 0.0000, EWCLoss: 0.0000, CenterLoss: 0.0000, InterCenterLoss: 0.0000, ParamReuseLoss: 0.0000\n",
      "Fraction of nonzero parameters 0.9999380558026348\n",
      "Validation losses: 2.416765236854553 0.2426395058631897\n",
      "Validation accuracy (for last task) 0.262\n",
      "Total validation accuracy 0.154625\n",
      "\n",
      "\n",
      "Epoch 4  CELoss: 1.5454, KLLoss: 0.2201, L1Loss: 0.0000, EWCLoss: 0.0000, CenterLoss: 0.0000, InterCenterLoss: 0.0000, ParamReuseLoss: 0.0000\n",
      "Fraction of nonzero parameters 0.9999400847699057\n",
      "Validation losses: 2.4116443514823915 0.249300217628479\n",
      "Validation accuracy (for last task) 0.286\n",
      "Total validation accuracy 0.14625\n",
      "\n",
      "\n",
      "Epoch 5  CELoss: 1.3334, KLLoss: 0.2303, L1Loss: 0.0000, EWCLoss: 0.0000, CenterLoss: 0.0000, InterCenterLoss: 0.0000, ParamReuseLoss: 0.0000\n",
      "Fraction of nonzero parameters 0.9999398766706985\n",
      "Validation losses: 2.5246055126190186 0.2649203181266785\n",
      "Validation accuracy (for last task) 0.294\n",
      "Total validation accuracy 0.134875\n",
      "\n",
      "\n",
      "Epoch 6  CELoss: 1.1588, KLLoss: 0.2398, L1Loss: 0.0000, EWCLoss: 0.0000, CenterLoss: 0.0000, InterCenterLoss: 0.0000, ParamReuseLoss: 0.0000\n",
      "Fraction of nonzero parameters 0.9999427727179997\n",
      "Validation losses: 2.5455883860588076 0.30389095544815065\n",
      "Validation accuracy (for last task) 0.31\n",
      "Total validation accuracy 0.132625\n",
      "\n",
      "\n",
      "Starting evaluation\n",
      "ITERATION 4\n",
      "ACCURACIES PER TASK:\n",
      "0.248 0.305 0.343 0.3475 Accuracy on tasks so far: 0.132125\n",
      "Average embedding drift based on centroids: 3.3241171836853027\n",
      "ALL EMBEDDINGS LEN 8000\n"
     ]
    },
    {
     "name": "stderr",
     "output_type": "stream",
     "text": [
      "Experiment Progress:  80%|████████  | 4/5 [1:09:13<16:36, 996.07s/it]"
     ]
    },
    {
     "name": "stdout",
     "output_type": "stream",
     "text": [
      "Total confusion 0.988779625\n",
      "Intra-phase confusion 0.738088125\n",
      "Per task confusions 0.969997875\n",
      "CL TRAIN!!\n",
      "Epoch 0  CELoss: 2.5131, KLLoss: 0.1463, L1Loss: 0.0000, EWCLoss: 0.0000, CenterLoss: 0.0000, InterCenterLoss: 0.0000, ParamReuseLoss: 0.0000\n",
      "Fraction of nonzero parameters 0.9999422645782847\n",
      "Validation losses: 2.3082621335983275 0.19270626902580262\n",
      "Validation accuracy (for last task) 0.137\n",
      "Total validation accuracy 0.1196\n",
      "\n",
      "\n",
      "Epoch 1  CELoss: 2.0487, KLLoss: 0.2030, L1Loss: 0.0000, EWCLoss: 0.0000, CenterLoss: 0.0000, InterCenterLoss: 0.0000, ParamReuseLoss: 0.0000\n",
      "Fraction of nonzero parameters 0.9999422818695162\n",
      "Validation losses: 2.157367479801178 0.2224252462387085\n",
      "Validation accuracy (for last task) 0.249\n",
      "Total validation accuracy 0.1308\n",
      "\n",
      "\n",
      "Epoch 2  CELoss: 1.7780, KLLoss: 0.2079, L1Loss: 0.0000, EWCLoss: 0.0000, CenterLoss: 0.0000, InterCenterLoss: 0.0000, ParamReuseLoss: 0.0000\n",
      "Fraction of nonzero parameters 0.9999432501784757\n",
      "Validation losses: 2.020438474416733 0.23404317498207092\n",
      "Validation accuracy (for last task) 0.3155\n",
      "Total validation accuracy 0.1331\n",
      "\n",
      "\n",
      "Epoch 3  CELoss: 1.5497, KLLoss: 0.2123, L1Loss: 0.0000, EWCLoss: 0.0000, CenterLoss: 0.0000, InterCenterLoss: 0.0000, ParamReuseLoss: 0.0000\n",
      "Fraction of nonzero parameters 0.9999429216450788\n",
      "Validation losses: 2.0651850581169127 0.259047144651413\n",
      "Validation accuracy (for last task) 0.326\n",
      "Total validation accuracy 0.1209\n",
      "\n",
      "\n",
      "Epoch 4  CELoss: 1.3413, KLLoss: 0.2184, L1Loss: 0.0000, EWCLoss: 0.0000, CenterLoss: 0.0000, InterCenterLoss: 0.0000, ParamReuseLoss: 0.0000\n",
      "Fraction of nonzero parameters 0.9999428524801531\n",
      "Validation losses: 2.0057525038719177 0.25081565976142883\n",
      "Validation accuracy (for last task) 0.3725\n",
      "Total validation accuracy 0.1261\n",
      "\n",
      "\n",
      "Epoch 5  CELoss: 1.1621, KLLoss: 0.2288, L1Loss: 0.0000, EWCLoss: 0.0000, CenterLoss: 0.0000, InterCenterLoss: 0.0000, ParamReuseLoss: 0.0000\n",
      "Fraction of nonzero parameters 0.9999443395260553\n",
      "Validation losses: 2.0537717044353485 0.2933389961719513\n",
      "Validation accuracy (for last task) 0.3775\n",
      "Total validation accuracy 0.1141\n",
      "\n",
      "\n",
      "Starting evaluation\n",
      "ITERATION 5\n",
      "ACCURACIES PER TASK:\n",
      "0.2065 0.2715 0.3205 0.3075 0.432 Accuracy on tasks so far: 0.1191\n",
      "Average embedding drift based on centroids: 3.5951671600341797\n",
      "ALL EMBEDDINGS LEN 10000\n"
     ]
    },
    {
     "name": "stderr",
     "output_type": "stream",
     "text": [
      "Experiment Progress: 100%|██████████| 5/5 [1:25:06<00:00, 1021.21s/it]"
     ]
    },
    {
     "name": "stdout",
     "output_type": "stream",
     "text": [
      "Total confusion 0.9892286\n",
      "Intra-phase confusion 0.7816408\n",
      "Per task confusions 0.9691332000000001\n"
     ]
    },
    {
     "name": "stderr",
     "output_type": "stream",
     "text": [
      "\n"
     ]
    },
    {
     "name": "stdout",
     "output_type": "stream",
     "text": [
      "Average SHAPC values (ordered as tasks): [3.3029472622736475e-08, 3.0496576480132376e-08, 2.9247850735991676e-08, 2.5072801775216645e-08, 2.238449428156504e-16]\n",
      "Averaged SHAPC value (the smaller the better): 2.3569340367584423e-08\n",
      "Average attention spread values (ordered as tasks): [531.7690983835846, 538.2286958821611, 544.1302551116951, 543.7956164042156, 551.2464450632735]\n",
      "Averaged attention spread value (the bigger the better): 541.8340221689859\n",
      "Run 0 finished with accuracy 0.1191\n",
      "Starting run 2.\n",
      "0 1000 2000 3000 4000 5000 6000 7000 8000 9000 10000 11000 12000 13000 14000 15000 16000 17000 18000 19000 20000 21000 22000 23000 24000 25000 26000 27000 28000 29000 30000 31000 32000 33000 34000 35000 36000 37000 38000 39000 40000 41000 42000 43000 44000 45000 46000 47000 48000 49000 50000 51000 52000 53000 54000 55000 56000 57000 58000 59000 60000 61000 62000 63000 64000 65000 66000 67000 68000 69000 70000 71000 72000 73000 74000 75000 76000 77000 78000 79000 80000 81000 82000 83000 84000 85000 86000 87000 88000 89000 0 1000 2000 3000 4000 5000 6000 7000 8000 9000 0 1000 2000 3000 4000 5000 6000 7000 8000 9000 "
     ]
    },
    {
     "name": "stderr",
     "output_type": "stream",
     "text": [
      "Experiment Progress:   0%|          | 0/5 [00:00<?, ?it/s]"
     ]
    },
    {
     "name": "stdout",
     "output_type": "stream",
     "text": [
      "TRAINING!\n",
      "Epoch 0, CE Loss: 3.7150, center loss: 0.0000\n",
      "Fraction of nonzero parameters 0.9999140845871965\n",
      "Validation loss 3.68889297246933 validation accuracy 0.025 \n",
      "\n",
      "Epoch 1, CE Loss: 3.6933, center loss: 0.0000\n",
      "Fraction of nonzero parameters 0.9999155891128535\n",
      "Validation loss 3.6336562395095826 validation accuracy 0.048 \n",
      "\n",
      "Epoch 2, CE Loss: 3.5371, center loss: 0.0000\n",
      "Fraction of nonzero parameters 0.9999147143886343\n",
      "Validation loss 3.5381251096725466 validation accuracy 0.0645 \n",
      "\n",
      "Epoch 3, CE Loss: 3.3904, center loss: 0.0000\n",
      "Fraction of nonzero parameters 0.9999157465632129\n",
      "Validation loss 3.3781723976135254 validation accuracy 0.0965 \n",
      "\n",
      "Epoch 4, CE Loss: 3.2477, center loss: 0.0000\n",
      "Fraction of nonzero parameters 0.9999179158792764\n",
      "Validation loss 3.2737032413482665 validation accuracy 0.13 \n",
      "\n",
      "Epoch 5, CE Loss: 3.0607, center loss: 0.0000\n",
      "Fraction of nonzero parameters 0.9999169536826353\n",
      "Validation loss 3.153542917966843 validation accuracy 0.148 \n",
      "\n",
      "Epoch 6, CE Loss: 2.8920, center loss: 0.0000\n",
      "Fraction of nonzero parameters 0.9999128949622585\n",
      "Validation loss 2.9678895592689516 validation accuracy 0.2 \n",
      "\n",
      "Epoch 7, CE Loss: 2.7662, center loss: 0.0000\n",
      "Fraction of nonzero parameters 0.9999170061660885\n",
      "Validation loss 2.7580114781856535 validation accuracy 0.2535 \n",
      "\n",
      "Epoch 8, CE Loss: 2.6456, center loss: 0.0000\n",
      "Fraction of nonzero parameters 0.9999153092011034\n",
      "Validation loss 2.685060954093933 validation accuracy 0.2655 \n",
      "\n",
      "Epoch 9, CE Loss: 2.5293, center loss: 0.0000\n",
      "Fraction of nonzero parameters 0.9999169536826353\n",
      "Validation loss 2.654959410429001 validation accuracy 0.2765 \n",
      "\n",
      "Epoch 10, CE Loss: 2.4139, center loss: 0.0000\n",
      "Fraction of nonzero parameters 0.9999172860778386\n",
      "Validation loss 2.6312033414840696 validation accuracy 0.2825 \n",
      "\n",
      "Epoch 11, CE Loss: 2.2952, center loss: 0.0000\n",
      "Fraction of nonzero parameters 0.9999178633958232\n",
      "Validation loss 2.480216121673584 validation accuracy 0.318 \n",
      "\n",
      "Epoch 12, CE Loss: 2.1718, center loss: 0.0000\n",
      "Fraction of nonzero parameters 0.9999174610226824\n",
      "Validation loss 2.489331656694412 validation accuracy 0.3245 \n",
      "\n",
      "Epoch 13, CE Loss: 2.0569, center loss: 0.0000\n",
      "Fraction of nonzero parameters 0.9999166737708852\n",
      "Validation loss 2.4742863297462465 validation accuracy 0.332 \n",
      "\n",
      "Epoch 14, CE Loss: 1.9169, center loss: 0.0000\n",
      "Fraction of nonzero parameters 0.9999203301181212\n",
      "Validation loss 2.4247800409793854 validation accuracy 0.334 \n",
      "\n",
      "Epoch 15, CE Loss: 1.7718, center loss: 0.0000\n",
      "Fraction of nonzero parameters 0.9999166737708852\n",
      "Validation loss 2.4686621606349943 validation accuracy 0.332 \n",
      "\n",
      "Epoch 16, CE Loss: 1.6509, center loss: 0.0000\n",
      "Fraction of nonzero parameters 0.999918405724839\n",
      "Validation loss 2.431258165836334 validation accuracy 0.3515 \n",
      "\n",
      "Epoch 17, CE Loss: 1.5097, center loss: 0.0000\n",
      "Fraction of nonzero parameters 0.9999227268624816\n",
      "Validation loss 2.439588391780853 validation accuracy 0.34 \n",
      "\n",
      "Epoch 18, CE Loss: 1.3782, center loss: 0.0000\n",
      "Fraction of nonzero parameters 0.9999233216749506\n",
      "Validation loss 2.43895360827446 validation accuracy 0.345 \n",
      "\n",
      "Epoch 19, CE Loss: 1.2748, center loss: 0.0000\n",
      "Fraction of nonzero parameters 0.9999239689708728\n",
      "Validation loss 2.5312906324863436 validation accuracy 0.338 \n",
      "\n",
      "Starting evaluation\n",
      "ITERATION 1\n",
      "ACCURACIES PER TASK:\n",
      "0.352 Accuracy on tasks so far: 0.354\n",
      "Average embedding drift based on centroids: 0.0002831117599271238\n",
      "ALL EMBEDDINGS LEN 2000\n"
     ]
    },
    {
     "name": "stderr",
     "output_type": "stream",
     "text": [
      "Experiment Progress:  20%|██        | 1/5 [23:16<1:33:04, 1396.23s/it]"
     ]
    },
    {
     "name": "stdout",
     "output_type": "stream",
     "text": [
      "Total confusion 0.967084\n",
      "Intra-phase confusion 0.0\n",
      "Per task confusions 0.967084\n",
      "CL TRAIN!!\n",
      "Epoch 0  CELoss: 2.9029, KLLoss: 0.1574, L1Loss: 0.0000, EWCLoss: 0.0000, CenterLoss: 0.0000, InterCenterLoss: 0.0000, ParamReuseLoss: 0.0000\n",
      "Fraction of nonzero parameters 0.9999237731090018\n",
      "Validation losses: 2.55069095492363 0.25484737753868103\n",
      "Validation accuracy (for last task) 0.117\n",
      "Total validation accuracy 0.21175\n",
      "\n",
      "\n",
      "Epoch 1  CELoss: 2.4014, KLLoss: 0.2339, L1Loss: 0.0000, EWCLoss: 0.0000, CenterLoss: 0.0000, InterCenterLoss: 0.0000, ParamReuseLoss: 0.0000\n",
      "Fraction of nonzero parameters 0.9999238428818997\n",
      "Validation losses: 2.3997799456119537 0.28782689571380615\n",
      "Validation accuracy (for last task) 0.211\n",
      "Total validation accuracy 0.2555\n",
      "\n",
      "\n",
      "Epoch 2  CELoss: 2.1027, KLLoss: 0.2388, L1Loss: 0.0000, EWCLoss: 0.0000, CenterLoss: 0.0000, InterCenterLoss: 0.0000, ParamReuseLoss: 0.0000\n",
      "Fraction of nonzero parameters 0.9999262674901032\n",
      "Validation losses: 2.377864217758179 0.3133918523788452\n",
      "Validation accuracy (for last task) 0.25\n",
      "Total validation accuracy 0.252\n",
      "\n",
      "\n",
      "Epoch 3  CELoss: 1.8326, KLLoss: 0.2409, L1Loss: 0.0000, EWCLoss: 0.0000, CenterLoss: 0.0000, InterCenterLoss: 0.0000, ParamReuseLoss: 0.0000\n",
      "Fraction of nonzero parameters 0.9999245580541036\n",
      "Validation losses: 2.2969183802604674 0.31691133975982666\n",
      "Validation accuracy (for last task) 0.3015\n",
      "Total validation accuracy 0.26725\n",
      "\n",
      "\n",
      "Epoch 4  CELoss: 1.5985, KLLoss: 0.2479, L1Loss: 0.0000, EWCLoss: 0.0000, CenterLoss: 0.0000, InterCenterLoss: 0.0000, ParamReuseLoss: 0.0000\n",
      "Fraction of nonzero parameters 0.99992536044243\n",
      "Validation losses: 2.327129748463631 0.3563673347234726\n",
      "Validation accuracy (for last task) 0.317\n",
      "Total validation accuracy 0.2525\n",
      "\n",
      "\n",
      "Epoch 5  CELoss: 1.3760, KLLoss: 0.2551, L1Loss: 0.0000, EWCLoss: 0.0000, CenterLoss: 0.0000, InterCenterLoss: 0.0000, ParamReuseLoss: 0.0000\n",
      "Fraction of nonzero parameters 0.9999271047648784\n",
      "Validation losses: 2.3496493637561797 0.3681506931781769\n",
      "Validation accuracy (for last task) 0.335\n",
      "Total validation accuracy 0.24075\n",
      "\n",
      "\n",
      "Epoch 6  CELoss: 1.2167, KLLoss: 0.2598, L1Loss: 0.0000, EWCLoss: 0.0000, CenterLoss: 0.0000, InterCenterLoss: 0.0000, ParamReuseLoss: 0.0000\n",
      "Fraction of nonzero parameters 0.9999323726186728\n",
      "Validation losses: 2.3490378320217133 0.37314426302909853\n",
      "Validation accuracy (for last task) 0.353\n",
      "Total validation accuracy 0.24225\n",
      "\n",
      "\n",
      "Starting evaluation\n",
      "ITERATION 2\n",
      "ACCURACIES PER TASK:\n",
      "0.31 0.38 Accuracy on tasks so far: 0.232\n",
      "Average embedding drift based on centroids: 2.113112211227417\n",
      "ALL EMBEDDINGS LEN 4000\n"
     ]
    },
    {
     "name": "stderr",
     "output_type": "stream",
     "text": [
      "Experiment Progress:  40%|████      | 2/5 [38:21<55:22, 1107.50s/it]  "
     ]
    },
    {
     "name": "stdout",
     "output_type": "stream",
     "text": [
      "Total confusion 0.9795945\n",
      "Intra-phase confusion 0.4942885\n",
      "Per task confusions 0.968256\n",
      "CL TRAIN!!\n",
      "Epoch 0  CELoss: 2.7842, KLLoss: 0.1661, L1Loss: 0.0000, EWCLoss: 0.0000, CenterLoss: 0.0000, InterCenterLoss: 0.0000, ParamReuseLoss: 0.0000\n",
      "Fraction of nonzero parameters 0.9999322049545447\n",
      "Validation losses: 2.481087452173233 0.2102882146835327\n",
      "Validation accuracy (for last task) 0.124\n",
      "Total validation accuracy 0.188\n",
      "\n",
      "\n",
      "Epoch 1  CELoss: 2.2839, KLLoss: 0.2339, L1Loss: 0.0000, EWCLoss: 0.0000, CenterLoss: 0.0000, InterCenterLoss: 0.0000, ParamReuseLoss: 0.0000\n",
      "Fraction of nonzero parameters 0.9999289699934224\n",
      "Validation losses: 2.362017822265625 0.2710171341896057\n",
      "Validation accuracy (for last task) 0.2015\n",
      "Total validation accuracy 0.1955\n",
      "\n",
      "\n",
      "Epoch 2  CELoss: 1.9621, KLLoss: 0.2392, L1Loss: 0.0000, EWCLoss: 0.0000, CenterLoss: 0.0000, InterCenterLoss: 0.0000, ParamReuseLoss: 0.0000\n",
      "Fraction of nonzero parameters 0.9999323267003934\n",
      "Validation losses: 2.3100959599018096 0.32391855120658875\n",
      "Validation accuracy (for last task) 0.24\n",
      "Total validation accuracy 0.19066666666666668\n",
      "\n",
      "\n",
      "Epoch 3  CELoss: 1.7001, KLLoss: 0.2460, L1Loss: 0.0000, EWCLoss: 0.0000, CenterLoss: 0.0000, InterCenterLoss: 0.0000, ParamReuseLoss: 0.0000\n",
      "Fraction of nonzero parameters 0.9999322049545447\n",
      "Validation losses: 2.246784543991089 0.29482410550117494\n",
      "Validation accuracy (for last task) 0.282\n",
      "Total validation accuracy 0.20116666666666666\n",
      "\n",
      "\n",
      "Epoch 4  CELoss: 1.4680, KLLoss: 0.2575, L1Loss: 0.0000, EWCLoss: 0.0000, CenterLoss: 0.0000, InterCenterLoss: 0.0000, ParamReuseLoss: 0.0000\n",
      "Fraction of nonzero parameters 0.9999334398052957\n",
      "Validation losses: 2.2450503051280974 0.3559627175331116\n",
      "Validation accuracy (for last task) 0.32\n",
      "Total validation accuracy 0.20783333333333334\n",
      "\n",
      "\n",
      "Epoch 5  CELoss: 1.2369, KLLoss: 0.2679, L1Loss: 0.0000, EWCLoss: 0.0000, CenterLoss: 0.0000, InterCenterLoss: 0.0000, ParamReuseLoss: 0.0000\n",
      "Fraction of nonzero parameters 0.9999338398273699\n",
      "Validation losses: 2.2918699443340302 0.3526505947113037\n",
      "Validation accuracy (for last task) 0.3405\n",
      "Total validation accuracy 0.19566666666666666\n",
      "\n",
      "\n",
      "Starting evaluation\n",
      "ITERATION 3\n",
      "ACCURACIES PER TASK:\n",
      "0.284 0.3575 0.391 Accuracy on tasks so far: 0.19116666666666668\n",
      "Average embedding drift based on centroids: 2.8045849800109863\n",
      "ALL EMBEDDINGS LEN 6000\n"
     ]
    },
    {
     "name": "stderr",
     "output_type": "stream",
     "text": [
      "Experiment Progress:  60%|██████    | 3/5 [52:06<32:37, 978.59s/it] "
     ]
    },
    {
     "name": "stdout",
     "output_type": "stream",
     "text": [
      "Total confusion 0.9846785\n",
      "Intra-phase confusion 0.6529546666666667\n",
      "Per task confusions 0.9685643333333332\n",
      "CL TRAIN!!\n",
      "Epoch 0  CELoss: 2.8331, KLLoss: 0.1165, L1Loss: 0.0000, EWCLoss: 0.0000, CenterLoss: 0.0000, InterCenterLoss: 0.0000, ParamReuseLoss: 0.0000\n",
      "Fraction of nonzero parameters 0.9999354372209432\n",
      "Validation losses: 2.6483939707279207 0.1802607297897339\n",
      "Validation accuracy (for last task) 0.0765\n",
      "Total validation accuracy 0.153125\n",
      "\n",
      "\n",
      "Epoch 1  CELoss: 2.3734, KLLoss: 0.1834, L1Loss: 0.0000, EWCLoss: 0.0000, CenterLoss: 0.0000, InterCenterLoss: 0.0000, ParamReuseLoss: 0.0000\n",
      "Fraction of nonzero parameters 0.9999358013945561\n",
      "Validation losses: 2.4572916686534882 0.19780558943748475\n",
      "Validation accuracy (for last task) 0.1575\n",
      "Total validation accuracy 0.166375\n",
      "\n",
      "\n",
      "Epoch 2  CELoss: 2.0756, KLLoss: 0.1939, L1Loss: 0.0000, EWCLoss: 0.0000, CenterLoss: 0.0000, InterCenterLoss: 0.0000, ParamReuseLoss: 0.0000\n",
      "Fraction of nonzero parameters 0.9999358881025591\n",
      "Validation losses: 2.472323101758957 0.23579636216163635\n",
      "Validation accuracy (for last task) 0.216\n",
      "Total validation accuracy 0.166625\n",
      "\n",
      "\n",
      "Epoch 3  CELoss: 1.7747, KLLoss: 0.2072, L1Loss: 0.0000, EWCLoss: 0.0000, CenterLoss: 0.0000, InterCenterLoss: 0.0000, ParamReuseLoss: 0.0000\n",
      "Fraction of nonzero parameters 0.9999352464633366\n",
      "Validation losses: 2.40636870265007 0.26664180755615235\n",
      "Validation accuracy (for last task) 0.259\n",
      "Total validation accuracy 0.169\n",
      "\n",
      "\n",
      "Epoch 4  CELoss: 1.5274, KLLoss: 0.2174, L1Loss: 0.0000, EWCLoss: 0.0000, CenterLoss: 0.0000, InterCenterLoss: 0.0000, ParamReuseLoss: 0.0000\n",
      "Fraction of nonzero parameters 0.9999369632817966\n",
      "Validation losses: 2.4106828570365906 0.24141290187835693\n",
      "Validation accuracy (for last task) 0.284\n",
      "Total validation accuracy 0.153125\n",
      "\n",
      "\n",
      "Epoch 5  CELoss: 1.3205, KLLoss: 0.2325, L1Loss: 0.0000, EWCLoss: 0.0000, CenterLoss: 0.0000, InterCenterLoss: 0.0000, ParamReuseLoss: 0.0000\n",
      "Fraction of nonzero parameters 0.9999387321250585\n",
      "Validation losses: 2.4503993332386016 0.3221047341823578\n",
      "Validation accuracy (for last task) 0.287\n",
      "Total validation accuracy 0.1405\n",
      "\n",
      "\n",
      "Epoch 6  CELoss: 1.1257, KLLoss: 0.2433, L1Loss: 0.0000, EWCLoss: 0.0000, CenterLoss: 0.0000, InterCenterLoss: 0.0000, ParamReuseLoss: 0.0000\n",
      "Fraction of nonzero parameters 0.9999376396042203\n",
      "Validation losses: 2.4716114938259124 0.2959113895893097\n",
      "Validation accuracy (for last task) 0.3125\n",
      "Total validation accuracy 0.139\n",
      "\n",
      "\n",
      "Starting evaluation\n",
      "ITERATION 4\n",
      "ACCURACIES PER TASK:\n",
      "0.2375 0.316 0.3625 0.3635 Accuracy on tasks so far: 0.139375\n",
      "Average embedding drift based on centroids: 3.3468501567840576\n",
      "ALL EMBEDDINGS LEN 8000\n"
     ]
    },
    {
     "name": "stderr",
     "output_type": "stream",
     "text": [
      "Experiment Progress:  80%|████████  | 4/5 [1:08:55<16:30, 990.34s/it]"
     ]
    },
    {
     "name": "stdout",
     "output_type": "stream",
     "text": [
      "Total confusion 0.988391625\n",
      "Intra-phase confusion 0.7374385\n",
      "Per task confusions 0.969691125\n",
      "CL TRAIN!!\n",
      "Epoch 0  CELoss: 2.5242, KLLoss: 0.1368, L1Loss: 0.0000, EWCLoss: 0.0000, CenterLoss: 0.0000, InterCenterLoss: 0.0000, ParamReuseLoss: 0.0000\n",
      "Fraction of nonzero parameters 0.9999395498549516\n",
      "Validation losses: 2.287313610315323 0.2016712725162506\n",
      "Validation accuracy (for last task) 0.153\n",
      "Total validation accuracy 0.1265\n",
      "\n",
      "\n",
      "Epoch 1  CELoss: 2.0301, KLLoss: 0.1970, L1Loss: 0.0000, EWCLoss: 0.0000, CenterLoss: 0.0000, InterCenterLoss: 0.0000, ParamReuseLoss: 0.0000\n",
      "Fraction of nonzero parameters 0.9999408121148454\n",
      "Validation losses: 2.1029998302459716 0.21369392275810242\n",
      "Validation accuracy (for last task) 0.2645\n",
      "Total validation accuracy 0.1356\n",
      "\n",
      "\n",
      "Epoch 2  CELoss: 1.7561, KLLoss: 0.2023, L1Loss: 0.0000, EWCLoss: 0.0000, CenterLoss: 0.0000, InterCenterLoss: 0.0000, ParamReuseLoss: 0.0000\n",
      "Fraction of nonzero parameters 0.9999394979812574\n",
      "Validation losses: 2.0001137018203736 0.24370762705802917\n",
      "Validation accuracy (for last task) 0.3465\n",
      "Total validation accuracy 0.1366\n",
      "\n",
      "\n",
      "Epoch 3  CELoss: 1.5112, KLLoss: 0.2116, L1Loss: 0.0000, EWCLoss: 0.0000, CenterLoss: 0.0000, InterCenterLoss: 0.0000, ParamReuseLoss: 0.0000\n",
      "Fraction of nonzero parameters 0.9999391867390918\n",
      "Validation losses: 2.0141925692558287 0.26280786395072936\n",
      "Validation accuracy (for last task) 0.352\n",
      "Total validation accuracy 0.1245\n",
      "\n",
      "\n",
      "Epoch 4  CELoss: 1.3073, KLLoss: 0.2137, L1Loss: 0.0000, EWCLoss: 0.0000, CenterLoss: 0.0000, InterCenterLoss: 0.0000, ParamReuseLoss: 0.0000\n",
      "Fraction of nonzero parameters 0.9999407429499197\n",
      "Validation losses: 1.9734624981880189 0.2678233742713928\n",
      "Validation accuracy (for last task) 0.387\n",
      "Total validation accuracy 0.1281\n",
      "\n",
      "\n",
      "Epoch 5  CELoss: 1.1311, KLLoss: 0.2252, L1Loss: 0.0000, EWCLoss: 0.0000, CenterLoss: 0.0000, InterCenterLoss: 0.0000, ParamReuseLoss: 0.0000\n",
      "Fraction of nonzero parameters 0.9999439764101955\n",
      "Validation losses: 2.0330549120903014 0.30145055055618286\n",
      "Validation accuracy (for last task) 0.4\n",
      "Total validation accuracy 0.1236\n",
      "\n",
      "\n",
      "Starting evaluation\n",
      "ITERATION 5\n",
      "ACCURACIES PER TASK:\n",
      "0.2015 0.276 0.325 0.3335 0.416 Accuracy on tasks so far: 0.1228\n",
      "Average embedding drift based on centroids: 3.438145637512207\n",
      "ALL EMBEDDINGS LEN 10000\n"
     ]
    },
    {
     "name": "stderr",
     "output_type": "stream",
     "text": [
      "Experiment Progress: 100%|██████████| 5/5 [1:24:36<00:00, 1015.39s/it]"
     ]
    },
    {
     "name": "stdout",
     "output_type": "stream",
     "text": [
      "Total confusion 0.989728\n",
      "Intra-phase confusion 0.7840871\n",
      "Per task confusions 0.9696906000000001\n"
     ]
    },
    {
     "name": "stderr",
     "output_type": "stream",
     "text": [
      "\n"
     ]
    },
    {
     "name": "stdout",
     "output_type": "stream",
     "text": [
      "Average SHAPC values (ordered as tasks): [3.163390837546132e-08, 2.9355965743604884e-08, 2.9063340949875283e-08, 2.4709996164773428e-08, 0.0]\n",
      "Averaged SHAPC value (the smaller the better): 2.2952642246742983e-08\n",
      "Average attention spread values (ordered as tasks): [521.0138665186576, 528.6964583333341, 534.5057629648846, 534.8133495941155, 536.9082104848234]\n",
      "Averaged attention spread value (the bigger the better): 531.1875295791631\n",
      "Run 1 finished with accuracy 0.1228\n",
      "Mean accuracy across 2 runs: 0.12095\n",
      "Standard deviation of accuracy across 2 runs: 0.002616295090390232\n",
      "\n",
      "Mean total confusion across 2 runs: 0.9894783\n",
      "Standard deviation of total confusion across 2 runs: 0.00035312912652458924\n",
      "\n",
      "Mean intra-phase confusion across 2 runs: 0.7828639500000001\n",
      "Standard deviation of intra-phase confusion across 2 runs: 0.0017297953188166598\n",
      "\n",
      "Mean per-task confusion across 2 runs: 0.9694119000000001\n",
      "Standard deviation of per-task confusion across 2 runs: 0.0003941413198333322\n",
      "\n",
      "Mean embedding drift across 2 runs: 3.5166563987731934\n",
      "Standard deviation of embedding drift across 2 runs: 0.11103098336752307\n",
      "\n",
      "Mean attention drift across 2 runs: 2.3260991307163703e-08\n",
      "Standard deviation of attention drift across 2 runs: 4.360714231919835e-10\n",
      "\n",
      "Mean attention spread across 2 runs: 536.5107758740745\n",
      "Standard deviation of attention spread across 2 runs: 7.52820710611607\n",
      "\n"
     ]
    }
   ],
   "source": [
    "run_experiments(verbose=True, with_dropout=True, kd_loss=1, full_CE=False, with_OOD=True, ogd=False) # best version"
   ]
  },
  {
   "cell_type": "code",
   "execution_count": 7,
   "metadata": {},
   "outputs": [
    {
     "name": "stdout",
     "output_type": "stream",
     "text": [
      "Starting run 1.\n",
      "0 1000 2000 3000 4000 5000 6000 7000 8000 9000 10000 11000 12000 13000 14000 15000 16000 17000 18000 19000 20000 21000 22000 23000 24000 25000 26000 27000 28000 29000 30000 31000 32000 33000 34000 35000 36000 37000 38000 39000 40000 41000 42000 43000 44000 45000 46000 47000 48000 49000 50000 51000 52000 53000 54000 55000 56000 57000 58000 59000 60000 61000 62000 63000 64000 65000 66000 67000 68000 69000 70000 71000 72000 73000 74000 75000 76000 77000 78000 79000 80000 81000 82000 83000 84000 85000 86000 87000 88000 89000 0 1000 2000 3000 4000 5000 6000 7000 8000 9000 0 1000 2000 3000 4000 5000 6000 7000 8000 9000 "
     ]
    },
    {
     "name": "stderr",
     "output_type": "stream",
     "text": [
      "Experiment Progress:   0%|          | 0/5 [00:00<?, ?it/s]"
     ]
    },
    {
     "name": "stdout",
     "output_type": "stream",
     "text": [
      "TRAINING!\n"
     ]
    },
    {
     "name": "stderr",
     "output_type": "stream",
     "text": [
      "Experiment Progress:  80%|████████  | 4/5 [32:38<07:15, 435.12s/it]"
     ]
    },
    {
     "name": "stdout",
     "output_type": "stream",
     "text": [
      "ALL EMBEDDINGS LEN 10000\n"
     ]
    },
    {
     "name": "stderr",
     "output_type": "stream",
     "text": [
      "Experiment Progress: 100%|██████████| 5/5 [40:17<00:00, 483.41s/it]\n"
     ]
    },
    {
     "name": "stdout",
     "output_type": "stream",
     "text": [
      "Run 0 finished with accuracy 0.0796\n",
      "Starting run 2.\n",
      "0 1000 2000 3000 4000 5000 6000 7000 8000 9000 10000 11000 12000 13000 14000 15000 16000 17000 18000 19000 20000 21000 22000 23000 24000 25000 26000 27000 28000 29000 30000 31000 32000 33000 34000 35000 36000 37000 38000 39000 40000 41000 42000 43000 44000 45000 46000 47000 48000 49000 50000 51000 52000 53000 54000 55000 56000 57000 58000 59000 60000 61000 62000 63000 64000 65000 66000 67000 68000 69000 70000 71000 72000 73000 74000 75000 76000 77000 78000 79000 80000 81000 82000 83000 84000 85000 86000 87000 88000 89000 0 1000 2000 3000 4000 5000 6000 7000 8000 9000 0 1000 2000 3000 4000 5000 6000 7000 8000 9000 "
     ]
    },
    {
     "name": "stderr",
     "output_type": "stream",
     "text": [
      "Experiment Progress:   0%|          | 0/5 [00:00<?, ?it/s]"
     ]
    },
    {
     "name": "stdout",
     "output_type": "stream",
     "text": [
      "TRAINING!\n"
     ]
    },
    {
     "name": "stderr",
     "output_type": "stream",
     "text": [
      "Experiment Progress:  80%|████████  | 4/5 [32:43<07:16, 436.50s/it]"
     ]
    },
    {
     "name": "stdout",
     "output_type": "stream",
     "text": [
      "ALL EMBEDDINGS LEN 10000\n"
     ]
    },
    {
     "name": "stderr",
     "output_type": "stream",
     "text": [
      "Experiment Progress: 100%|██████████| 5/5 [40:25<00:00, 485.18s/it]\n"
     ]
    },
    {
     "name": "stdout",
     "output_type": "stream",
     "text": [
      "Run 1 finished with accuracy 0.0747\n",
      "Mean accuracy across 2 runs: 0.07715\n",
      "Standard deviation of accuracy across 2 runs: 0.003464823227814084\n",
      "\n",
      "Mean total confusion across 2 runs: 0.9901413\n",
      "Standard deviation of total confusion across 2 runs: 0.00022174868658004045\n",
      "\n",
      "Mean intra-phase confusion across 2 runs: 0.7862998\n",
      "Standard deviation of intra-phase confusion across 2 runs: 0.0013937074657186463\n",
      "\n",
      "Mean per-task confusion across 2 runs: 0.97019425\n",
      "Standard deviation of per-task confusion across 2 runs: 3.3021886681458536e-05\n",
      "\n",
      "Mean embedding drift across 2 runs: 10.08632230758667\n",
      "Standard deviation of embedding drift across 2 runs: 0.457977096813441\n",
      "\n",
      "Mean attention drift across 2 runs: 2.377720081443435e-08\n",
      "Standard deviation of attention drift across 2 runs: 6.49803816454002e-11\n",
      "\n",
      "Mean attention spread across 2 runs: 542.7944798161824\n",
      "Standard deviation of attention spread across 2 runs: 1.633229647082942\n",
      "\n"
     ]
    }
   ],
   "source": [
    "run_experiments()"
   ]
  },
  {
   "cell_type": "code",
   "execution_count": null,
   "metadata": {},
   "outputs": [
    {
     "name": "stdout",
     "output_type": "stream",
     "text": [
      "Starting run 1.\n",
      "0 1000 2000 3000 4000 5000 6000 7000 8000 9000 10000 11000 12000 13000 14000 15000 16000 17000 18000 19000 20000 21000 22000 23000 24000 25000 26000 27000 28000 29000 30000 31000 32000 33000 34000 35000 36000 37000 38000 39000 40000 41000 42000 43000 44000 45000 46000 47000 48000 49000 50000 51000 52000 53000 54000 55000 56000 57000 58000 59000 60000 61000 62000 63000 64000 65000 66000 67000 68000 69000 70000 71000 72000 73000 74000 75000 76000 77000 78000 79000 80000 81000 82000 83000 84000 85000 86000 87000 88000 89000 0 1000 2000 3000 4000 5000 6000 7000 8000 9000 0 1000 2000 3000 4000 5000 6000 7000 8000 9000 "
     ]
    },
    {
     "name": "stderr",
     "output_type": "stream",
     "text": [
      "Experiment Progress:   0%|          | 0/5 [00:00<?, ?it/s]"
     ]
    },
    {
     "name": "stdout",
     "output_type": "stream",
     "text": [
      "TRAINING!\n"
     ]
    },
    {
     "name": "stderr",
     "output_type": "stream",
     "text": [
      "Experiment Progress:  80%|████████  | 4/5 [29:57<06:20, 380.93s/it]"
     ]
    },
    {
     "name": "stdout",
     "output_type": "stream",
     "text": [
      "ALL EMBEDDINGS LEN 10000\n"
     ]
    },
    {
     "name": "stderr",
     "output_type": "stream",
     "text": [
      "Experiment Progress: 100%|██████████| 5/5 [39:44<00:00, 476.99s/it]\n"
     ]
    },
    {
     "name": "stdout",
     "output_type": "stream",
     "text": [
      "Run 0 finished with accuracy 0.1022\n",
      "Starting run 2.\n",
      "0 1000 2000 3000 4000 5000 6000 7000 8000 9000 10000 11000 12000 13000 14000 15000 16000 17000 18000 19000 20000 21000 22000 23000 24000 25000 26000 27000 28000 29000 30000 31000 32000 33000 34000 35000 36000 37000 38000 39000 40000 41000 42000 43000 44000 45000 46000 47000 48000 49000 50000 51000 52000 53000 54000 55000 56000 57000 58000 59000 60000 61000 62000 63000 64000 65000 66000 67000 68000 69000 70000 71000 72000 73000 74000 75000 76000 77000 78000 79000 80000 81000 82000 83000 84000 85000 86000 87000 88000 89000 0 1000 2000 3000 4000 5000 6000 7000 8000 9000 0 1000 2000 3000 4000 5000 6000 7000 8000 9000 "
     ]
    },
    {
     "name": "stderr",
     "output_type": "stream",
     "text": [
      "Experiment Progress:   0%|          | 0/5 [00:00<?, ?it/s]"
     ]
    },
    {
     "name": "stdout",
     "output_type": "stream",
     "text": [
      "TRAINING!\n"
     ]
    },
    {
     "name": "stderr",
     "output_type": "stream",
     "text": [
      "Experiment Progress:  40%|████      | 2/5 [20:31<28:32, 570.96s/it]"
     ]
    }
   ],
   "source": [
    "run_experiments(full_CE=False)"
   ]
  },
  {
   "cell_type": "code",
   "execution_count": 9,
   "metadata": {},
   "outputs": [
    {
     "name": "stdout",
     "output_type": "stream",
     "text": [
      "Starting run 1.\n"
     ]
    },
    {
     "name": "stderr",
     "output_type": "stream",
     "text": [
      "Experiment Progress: 100%|██████████| 5/5 [01:54<00:00, 22.95s/it]\n"
     ]
    },
    {
     "name": "stdout",
     "output_type": "stream",
     "text": [
      "Starting run 2.\n"
     ]
    },
    {
     "name": "stderr",
     "output_type": "stream",
     "text": [
      "Experiment Progress: 100%|██████████| 5/5 [01:56<00:00, 23.32s/it]\n"
     ]
    },
    {
     "name": "stdout",
     "output_type": "stream",
     "text": [
      "Starting run 3.\n"
     ]
    },
    {
     "name": "stderr",
     "output_type": "stream",
     "text": [
      "Experiment Progress: 100%|██████████| 5/5 [01:54<00:00, 22.94s/it]\n"
     ]
    },
    {
     "name": "stdout",
     "output_type": "stream",
     "text": [
      "Starting run 4.\n"
     ]
    },
    {
     "name": "stderr",
     "output_type": "stream",
     "text": [
      "Experiment Progress: 100%|██████████| 5/5 [01:54<00:00, 22.83s/it]\n"
     ]
    },
    {
     "name": "stdout",
     "output_type": "stream",
     "text": [
      "Starting run 5.\n"
     ]
    },
    {
     "name": "stderr",
     "output_type": "stream",
     "text": [
      "Experiment Progress: 100%|██████████| 5/5 [01:50<00:00, 22.05s/it]\n"
     ]
    },
    {
     "name": "stdout",
     "output_type": "stream",
     "text": [
      "Starting run 6.\n"
     ]
    },
    {
     "name": "stderr",
     "output_type": "stream",
     "text": [
      "Experiment Progress: 100%|██████████| 5/5 [01:59<00:00, 23.83s/it]\n"
     ]
    },
    {
     "name": "stdout",
     "output_type": "stream",
     "text": [
      "Starting run 7.\n"
     ]
    },
    {
     "name": "stderr",
     "output_type": "stream",
     "text": [
      "Experiment Progress: 100%|██████████| 5/5 [01:48<00:00, 21.64s/it]\n"
     ]
    },
    {
     "name": "stdout",
     "output_type": "stream",
     "text": [
      "Starting run 8.\n"
     ]
    },
    {
     "name": "stderr",
     "output_type": "stream",
     "text": [
      "Experiment Progress: 100%|██████████| 5/5 [01:53<00:00, 22.61s/it]\n"
     ]
    },
    {
     "name": "stdout",
     "output_type": "stream",
     "text": [
      "Starting run 9.\n"
     ]
    },
    {
     "name": "stderr",
     "output_type": "stream",
     "text": [
      "Experiment Progress: 100%|██████████| 5/5 [01:52<00:00, 22.51s/it]\n"
     ]
    },
    {
     "name": "stdout",
     "output_type": "stream",
     "text": [
      "Starting run 10.\n"
     ]
    },
    {
     "name": "stderr",
     "output_type": "stream",
     "text": [
      "Experiment Progress: 100%|██████████| 5/5 [01:51<00:00, 22.28s/it]\n"
     ]
    },
    {
     "name": "stdout",
     "output_type": "stream",
     "text": [
      "Starting run 11.\n"
     ]
    },
    {
     "name": "stderr",
     "output_type": "stream",
     "text": [
      "Experiment Progress: 100%|██████████| 5/5 [01:54<00:00, 22.94s/it]\n"
     ]
    },
    {
     "name": "stdout",
     "output_type": "stream",
     "text": [
      "Starting run 12.\n"
     ]
    },
    {
     "name": "stderr",
     "output_type": "stream",
     "text": [
      "Experiment Progress: 100%|██████████| 5/5 [01:52<00:00, 22.52s/it]\n"
     ]
    },
    {
     "name": "stdout",
     "output_type": "stream",
     "text": [
      "Starting run 13.\n"
     ]
    },
    {
     "name": "stderr",
     "output_type": "stream",
     "text": [
      "Experiment Progress: 100%|██████████| 5/5 [01:45<00:00, 21.05s/it]\n"
     ]
    },
    {
     "name": "stdout",
     "output_type": "stream",
     "text": [
      "Starting run 14.\n"
     ]
    },
    {
     "name": "stderr",
     "output_type": "stream",
     "text": [
      "Experiment Progress: 100%|██████████| 5/5 [02:02<00:00, 24.40s/it]\n"
     ]
    },
    {
     "name": "stdout",
     "output_type": "stream",
     "text": [
      "Starting run 15.\n"
     ]
    },
    {
     "name": "stderr",
     "output_type": "stream",
     "text": [
      "Experiment Progress: 100%|██████████| 5/5 [01:52<00:00, 22.56s/it]\n"
     ]
    },
    {
     "name": "stdout",
     "output_type": "stream",
     "text": [
      "Starting run 16.\n"
     ]
    },
    {
     "name": "stderr",
     "output_type": "stream",
     "text": [
      "Experiment Progress: 100%|██████████| 5/5 [01:49<00:00, 21.95s/it]\n"
     ]
    },
    {
     "name": "stdout",
     "output_type": "stream",
     "text": [
      "Starting run 17.\n"
     ]
    },
    {
     "name": "stderr",
     "output_type": "stream",
     "text": [
      "Experiment Progress: 100%|██████████| 5/5 [01:57<00:00, 23.54s/it]\n"
     ]
    },
    {
     "name": "stdout",
     "output_type": "stream",
     "text": [
      "Starting run 18.\n"
     ]
    },
    {
     "name": "stderr",
     "output_type": "stream",
     "text": [
      "Experiment Progress: 100%|██████████| 5/5 [01:51<00:00, 22.34s/it]\n"
     ]
    },
    {
     "name": "stdout",
     "output_type": "stream",
     "text": [
      "Starting run 19.\n"
     ]
    },
    {
     "name": "stderr",
     "output_type": "stream",
     "text": [
      "Experiment Progress: 100%|██████████| 5/5 [01:54<00:00, 22.84s/it]\n"
     ]
    },
    {
     "name": "stdout",
     "output_type": "stream",
     "text": [
      "Starting run 20.\n"
     ]
    },
    {
     "name": "stderr",
     "output_type": "stream",
     "text": [
      "Experiment Progress: 100%|██████████| 5/5 [01:56<00:00, 23.27s/it]\n"
     ]
    },
    {
     "name": "stdout",
     "output_type": "stream",
     "text": [
      "Mean accuracy across 20 runs: 0.6283\n",
      "Standard deviation of accuracy across 20 runs: 0.048455655256283446\n",
      "\n",
      "Mean total confusion across 20 runs: 0.42272846\n",
      "Standard deviation of total confusion across 20 runs: 0.013965500739751512\n",
      "\n",
      "Mean intra-phase confusion across 20 runs: 0.420302175\n",
      "Standard deviation of intra-phase confusion across 20 runs: 0.013710185111609733\n",
      "\n",
      "Mean per-task confusion across 20 runs: 0.06710880139771606\n",
      "Standard deviation of per-task confusion across 20 runs: 0.005308599754009476\n",
      "\n",
      "Mean embedding drift across 20 runs: 5.311595153808594\n",
      "Standard deviation of embedding drift across 20 runs: 0.26183589240492755\n",
      "\n",
      "Mean attention drift across 20 runs: 2.481615933800046e-06\n",
      "Standard deviation of attention drift across 20 runs: 2.374863145379374e-07\n",
      "\n",
      "Mean attention spread across 20 runs: 48.717932207607355\n",
      "Standard deviation of attention spread across 20 runs: 1.6846581863184822\n",
      "\n"
     ]
    }
   ],
   "source": [
    "run_experiments(with_OOD=True)"
   ]
  },
  {
   "cell_type": "code",
   "execution_count": 10,
   "metadata": {},
   "outputs": [
    {
     "name": "stdout",
     "output_type": "stream",
     "text": [
      "Starting run 1.\n"
     ]
    },
    {
     "name": "stderr",
     "output_type": "stream",
     "text": [
      "Experiment Progress: 100%|██████████| 5/5 [02:39<00:00, 31.98s/it]\n"
     ]
    },
    {
     "name": "stdout",
     "output_type": "stream",
     "text": [
      "Starting run 2.\n"
     ]
    },
    {
     "name": "stderr",
     "output_type": "stream",
     "text": [
      "Experiment Progress: 100%|██████████| 5/5 [02:42<00:00, 32.45s/it]\n"
     ]
    },
    {
     "name": "stdout",
     "output_type": "stream",
     "text": [
      "Starting run 3.\n"
     ]
    },
    {
     "name": "stderr",
     "output_type": "stream",
     "text": [
      "Experiment Progress: 100%|██████████| 5/5 [02:45<00:00, 33.07s/it]\n"
     ]
    },
    {
     "name": "stdout",
     "output_type": "stream",
     "text": [
      "Starting run 4.\n"
     ]
    },
    {
     "name": "stderr",
     "output_type": "stream",
     "text": [
      "Experiment Progress: 100%|██████████| 5/5 [02:38<00:00, 31.61s/it]\n"
     ]
    },
    {
     "name": "stdout",
     "output_type": "stream",
     "text": [
      "Starting run 5.\n"
     ]
    },
    {
     "name": "stderr",
     "output_type": "stream",
     "text": [
      "Experiment Progress: 100%|██████████| 5/5 [02:37<00:00, 31.40s/it]\n"
     ]
    },
    {
     "name": "stdout",
     "output_type": "stream",
     "text": [
      "Starting run 6.\n"
     ]
    },
    {
     "name": "stderr",
     "output_type": "stream",
     "text": [
      "Experiment Progress: 100%|██████████| 5/5 [02:43<00:00, 32.67s/it]\n"
     ]
    },
    {
     "name": "stdout",
     "output_type": "stream",
     "text": [
      "Starting run 7.\n"
     ]
    },
    {
     "name": "stderr",
     "output_type": "stream",
     "text": [
      "Experiment Progress: 100%|██████████| 5/5 [02:44<00:00, 32.88s/it]\n"
     ]
    },
    {
     "name": "stdout",
     "output_type": "stream",
     "text": [
      "Starting run 8.\n"
     ]
    },
    {
     "name": "stderr",
     "output_type": "stream",
     "text": [
      "Experiment Progress: 100%|██████████| 5/5 [02:42<00:00, 32.52s/it]\n"
     ]
    },
    {
     "name": "stdout",
     "output_type": "stream",
     "text": [
      "Starting run 9.\n"
     ]
    },
    {
     "name": "stderr",
     "output_type": "stream",
     "text": [
      "Experiment Progress: 100%|██████████| 5/5 [02:39<00:00, 31.83s/it]\n"
     ]
    },
    {
     "name": "stdout",
     "output_type": "stream",
     "text": [
      "Starting run 10.\n"
     ]
    },
    {
     "name": "stderr",
     "output_type": "stream",
     "text": [
      "Experiment Progress: 100%|██████████| 5/5 [02:42<00:00, 32.41s/it]\n"
     ]
    },
    {
     "name": "stdout",
     "output_type": "stream",
     "text": [
      "Starting run 11.\n"
     ]
    },
    {
     "name": "stderr",
     "output_type": "stream",
     "text": [
      "Experiment Progress: 100%|██████████| 5/5 [02:45<00:00, 33.07s/it]\n"
     ]
    },
    {
     "name": "stdout",
     "output_type": "stream",
     "text": [
      "Starting run 12.\n"
     ]
    },
    {
     "name": "stderr",
     "output_type": "stream",
     "text": [
      "Experiment Progress: 100%|██████████| 5/5 [02:40<00:00, 32.04s/it]\n"
     ]
    },
    {
     "name": "stdout",
     "output_type": "stream",
     "text": [
      "Starting run 13.\n"
     ]
    },
    {
     "name": "stderr",
     "output_type": "stream",
     "text": [
      "Experiment Progress: 100%|██████████| 5/5 [02:39<00:00, 31.97s/it]\n"
     ]
    },
    {
     "name": "stdout",
     "output_type": "stream",
     "text": [
      "Starting run 14.\n"
     ]
    },
    {
     "name": "stderr",
     "output_type": "stream",
     "text": [
      "Experiment Progress: 100%|██████████| 5/5 [02:42<00:00, 32.52s/it]\n"
     ]
    },
    {
     "name": "stdout",
     "output_type": "stream",
     "text": [
      "Starting run 15.\n"
     ]
    },
    {
     "name": "stderr",
     "output_type": "stream",
     "text": [
      "Experiment Progress: 100%|██████████| 5/5 [02:39<00:00, 31.99s/it]\n"
     ]
    },
    {
     "name": "stdout",
     "output_type": "stream",
     "text": [
      "Starting run 16.\n"
     ]
    },
    {
     "name": "stderr",
     "output_type": "stream",
     "text": [
      "Experiment Progress: 100%|██████████| 5/5 [02:38<00:00, 31.74s/it]\n"
     ]
    },
    {
     "name": "stdout",
     "output_type": "stream",
     "text": [
      "Starting run 17.\n"
     ]
    },
    {
     "name": "stderr",
     "output_type": "stream",
     "text": [
      "Experiment Progress: 100%|██████████| 5/5 [02:39<00:00, 31.91s/it]\n"
     ]
    },
    {
     "name": "stdout",
     "output_type": "stream",
     "text": [
      "Starting run 18.\n"
     ]
    },
    {
     "name": "stderr",
     "output_type": "stream",
     "text": [
      "Experiment Progress: 100%|██████████| 5/5 [02:35<00:00, 31.20s/it]\n"
     ]
    },
    {
     "name": "stdout",
     "output_type": "stream",
     "text": [
      "Starting run 19.\n"
     ]
    },
    {
     "name": "stderr",
     "output_type": "stream",
     "text": [
      "Experiment Progress: 100%|██████████| 5/5 [02:40<00:00, 32.15s/it]\n"
     ]
    },
    {
     "name": "stdout",
     "output_type": "stream",
     "text": [
      "Starting run 20.\n"
     ]
    },
    {
     "name": "stderr",
     "output_type": "stream",
     "text": [
      "Experiment Progress: 100%|██████████| 5/5 [02:45<00:00, 33.09s/it]\n"
     ]
    },
    {
     "name": "stdout",
     "output_type": "stream",
     "text": [
      "Mean accuracy across 20 runs: 0.198135\n",
      "Standard deviation of accuracy across 20 runs: 0.0023528873639357285\n",
      "\n",
      "Mean total confusion across 20 runs: 0.35109726\n",
      "Standard deviation of total confusion across 20 runs: 0.014281296893541353\n",
      "\n",
      "Mean intra-phase confusion across 20 runs: 0.343802215\n",
      "Standard deviation of intra-phase confusion across 20 runs: 0.013427579682730567\n",
      "\n",
      "Mean per-task confusion across 20 runs: 0.07598414344695434\n",
      "Standard deviation of per-task confusion across 20 runs: 0.008372468915565324\n",
      "\n",
      "Mean embedding drift across 20 runs: 11.377571392059327\n",
      "Standard deviation of embedding drift across 20 runs: 0.4583113572741939\n",
      "\n",
      "Mean attention drift across 20 runs: 3.4306784140112743e-06\n",
      "Standard deviation of attention drift across 20 runs: 5.925314459883529e-07\n",
      "\n",
      "Mean attention spread across 20 runs: 70.53680304246653\n",
      "Standard deviation of attention spread across 20 runs: 5.56448982202968\n",
      "\n"
     ]
    }
   ],
   "source": [
    "run_experiments(kd_loss=1)"
   ]
  },
  {
   "cell_type": "code",
   "execution_count": 11,
   "metadata": {},
   "outputs": [
    {
     "name": "stdout",
     "output_type": "stream",
     "text": [
      "Starting run 1.\n"
     ]
    },
    {
     "name": "stderr",
     "output_type": "stream",
     "text": [
      "Experiment Progress: 100%|██████████| 5/5 [02:17<00:00, 27.46s/it]\n"
     ]
    },
    {
     "name": "stdout",
     "output_type": "stream",
     "text": [
      "Starting run 2.\n"
     ]
    },
    {
     "name": "stderr",
     "output_type": "stream",
     "text": [
      "Experiment Progress: 100%|██████████| 5/5 [02:21<00:00, 28.23s/it]\n"
     ]
    },
    {
     "name": "stdout",
     "output_type": "stream",
     "text": [
      "Starting run 3.\n"
     ]
    },
    {
     "name": "stderr",
     "output_type": "stream",
     "text": [
      "Experiment Progress: 100%|██████████| 5/5 [02:22<00:00, 28.46s/it]\n"
     ]
    },
    {
     "name": "stdout",
     "output_type": "stream",
     "text": [
      "Starting run 4.\n"
     ]
    },
    {
     "name": "stderr",
     "output_type": "stream",
     "text": [
      "Experiment Progress: 100%|██████████| 5/5 [02:16<00:00, 27.39s/it]\n"
     ]
    },
    {
     "name": "stdout",
     "output_type": "stream",
     "text": [
      "Starting run 5.\n"
     ]
    },
    {
     "name": "stderr",
     "output_type": "stream",
     "text": [
      "Experiment Progress: 100%|██████████| 5/5 [02:16<00:00, 27.28s/it]\n"
     ]
    },
    {
     "name": "stdout",
     "output_type": "stream",
     "text": [
      "Starting run 6.\n"
     ]
    },
    {
     "name": "stderr",
     "output_type": "stream",
     "text": [
      "Experiment Progress: 100%|██████████| 5/5 [02:21<00:00, 28.32s/it]\n"
     ]
    },
    {
     "name": "stdout",
     "output_type": "stream",
     "text": [
      "Starting run 7.\n"
     ]
    },
    {
     "name": "stderr",
     "output_type": "stream",
     "text": [
      "Experiment Progress: 100%|██████████| 5/5 [02:19<00:00, 27.93s/it]\n"
     ]
    },
    {
     "name": "stdout",
     "output_type": "stream",
     "text": [
      "Starting run 8.\n"
     ]
    },
    {
     "name": "stderr",
     "output_type": "stream",
     "text": [
      "Experiment Progress: 100%|██████████| 5/5 [02:19<00:00, 27.89s/it]\n"
     ]
    },
    {
     "name": "stdout",
     "output_type": "stream",
     "text": [
      "Starting run 9.\n"
     ]
    },
    {
     "name": "stderr",
     "output_type": "stream",
     "text": [
      "Experiment Progress: 100%|██████████| 5/5 [02:22<00:00, 28.48s/it]\n"
     ]
    },
    {
     "name": "stdout",
     "output_type": "stream",
     "text": [
      "Starting run 10.\n"
     ]
    },
    {
     "name": "stderr",
     "output_type": "stream",
     "text": [
      "Experiment Progress: 100%|██████████| 5/5 [02:16<00:00, 27.37s/it]\n"
     ]
    },
    {
     "name": "stdout",
     "output_type": "stream",
     "text": [
      "Starting run 11.\n"
     ]
    },
    {
     "name": "stderr",
     "output_type": "stream",
     "text": [
      "Experiment Progress: 100%|██████████| 5/5 [02:34<00:00, 30.96s/it]\n"
     ]
    },
    {
     "name": "stdout",
     "output_type": "stream",
     "text": [
      "Starting run 12.\n"
     ]
    },
    {
     "name": "stderr",
     "output_type": "stream",
     "text": [
      "Experiment Progress: 100%|██████████| 5/5 [02:23<00:00, 28.78s/it]\n"
     ]
    },
    {
     "name": "stdout",
     "output_type": "stream",
     "text": [
      "Starting run 13.\n"
     ]
    },
    {
     "name": "stderr",
     "output_type": "stream",
     "text": [
      "Experiment Progress: 100%|██████████| 5/5 [02:23<00:00, 28.63s/it]\n"
     ]
    },
    {
     "name": "stdout",
     "output_type": "stream",
     "text": [
      "Starting run 14.\n"
     ]
    },
    {
     "name": "stderr",
     "output_type": "stream",
     "text": [
      "Experiment Progress: 100%|██████████| 5/5 [02:20<00:00, 28.20s/it]\n"
     ]
    },
    {
     "name": "stdout",
     "output_type": "stream",
     "text": [
      "Starting run 15.\n"
     ]
    },
    {
     "name": "stderr",
     "output_type": "stream",
     "text": [
      "Experiment Progress: 100%|██████████| 5/5 [02:26<00:00, 29.21s/it]\n"
     ]
    },
    {
     "name": "stdout",
     "output_type": "stream",
     "text": [
      "Starting run 16.\n"
     ]
    },
    {
     "name": "stderr",
     "output_type": "stream",
     "text": [
      "Experiment Progress: 100%|██████████| 5/5 [02:21<00:00, 28.37s/it]\n"
     ]
    },
    {
     "name": "stdout",
     "output_type": "stream",
     "text": [
      "Starting run 17.\n"
     ]
    },
    {
     "name": "stderr",
     "output_type": "stream",
     "text": [
      "Experiment Progress: 100%|██████████| 5/5 [02:31<00:00, 30.33s/it]\n"
     ]
    },
    {
     "name": "stdout",
     "output_type": "stream",
     "text": [
      "Starting run 18.\n"
     ]
    },
    {
     "name": "stderr",
     "output_type": "stream",
     "text": [
      "Experiment Progress: 100%|██████████| 5/5 [02:23<00:00, 28.75s/it]\n"
     ]
    },
    {
     "name": "stdout",
     "output_type": "stream",
     "text": [
      "Starting run 19.\n"
     ]
    },
    {
     "name": "stderr",
     "output_type": "stream",
     "text": [
      "Experiment Progress: 100%|██████████| 5/5 [02:25<00:00, 29.05s/it]\n"
     ]
    },
    {
     "name": "stdout",
     "output_type": "stream",
     "text": [
      "Starting run 20.\n"
     ]
    },
    {
     "name": "stderr",
     "output_type": "stream",
     "text": [
      "Experiment Progress: 100%|██████████| 5/5 [02:28<00:00, 29.62s/it]\n"
     ]
    },
    {
     "name": "stdout",
     "output_type": "stream",
     "text": [
      "Mean accuracy across 20 runs: 0.209255\n",
      "Standard deviation of accuracy across 20 runs: 0.011154440937652544\n",
      "\n",
      "Mean total confusion across 20 runs: 0.396663665\n",
      "Standard deviation of total confusion across 20 runs: 0.011422315999429186\n",
      "\n",
      "Mean intra-phase confusion across 20 runs: 0.392806475\n",
      "Standard deviation of intra-phase confusion across 20 runs: 0.011228882843006858\n",
      "\n",
      "Mean per-task confusion across 20 runs: 0.06895191923239256\n",
      "Standard deviation of per-task confusion across 20 runs: 0.004630687357285916\n",
      "\n",
      "Mean embedding drift across 20 runs: 10.525574493408204\n",
      "Standard deviation of embedding drift across 20 runs: 0.536590333801918\n",
      "\n",
      "Mean attention drift across 20 runs: 3.5386282061989125e-06\n",
      "Standard deviation of attention drift across 20 runs: 3.211259395193246e-07\n",
      "\n",
      "Mean attention spread across 20 runs: 52.21747352882258\n",
      "Standard deviation of attention spread across 20 runs: 2.8498456039367315\n",
      "\n"
     ]
    }
   ],
   "source": [
    "run_experiments(ogd=True)"
   ]
  },
  {
   "cell_type": "code",
   "execution_count": 12,
   "metadata": {},
   "outputs": [
    {
     "name": "stdout",
     "output_type": "stream",
     "text": [
      "Starting run 1.\n"
     ]
    },
    {
     "name": "stderr",
     "output_type": "stream",
     "text": [
      "Experiment Progress: 100%|██████████| 5/5 [06:10<00:00, 74.01s/it] \n"
     ]
    },
    {
     "name": "stdout",
     "output_type": "stream",
     "text": [
      "Starting run 2.\n"
     ]
    },
    {
     "name": "stderr",
     "output_type": "stream",
     "text": [
      "Experiment Progress: 100%|██████████| 5/5 [06:33<00:00, 78.78s/it] \n"
     ]
    },
    {
     "name": "stdout",
     "output_type": "stream",
     "text": [
      "Starting run 3.\n"
     ]
    },
    {
     "name": "stderr",
     "output_type": "stream",
     "text": [
      "Experiment Progress: 100%|██████████| 5/5 [06:23<00:00, 76.72s/it] \n"
     ]
    },
    {
     "name": "stdout",
     "output_type": "stream",
     "text": [
      "Starting run 4.\n"
     ]
    },
    {
     "name": "stderr",
     "output_type": "stream",
     "text": [
      "Experiment Progress: 100%|██████████| 5/5 [05:45<00:00, 69.09s/it]\n"
     ]
    },
    {
     "name": "stdout",
     "output_type": "stream",
     "text": [
      "Starting run 5.\n"
     ]
    },
    {
     "name": "stderr",
     "output_type": "stream",
     "text": [
      "Experiment Progress: 100%|██████████| 5/5 [06:08<00:00, 73.77s/it] \n"
     ]
    },
    {
     "name": "stdout",
     "output_type": "stream",
     "text": [
      "Starting run 6.\n"
     ]
    },
    {
     "name": "stderr",
     "output_type": "stream",
     "text": [
      "Experiment Progress: 100%|██████████| 5/5 [06:05<00:00, 73.20s/it] \n"
     ]
    },
    {
     "name": "stdout",
     "output_type": "stream",
     "text": [
      "Starting run 7.\n"
     ]
    },
    {
     "name": "stderr",
     "output_type": "stream",
     "text": [
      "Experiment Progress: 100%|██████████| 5/5 [06:27<00:00, 77.55s/it]\n"
     ]
    },
    {
     "name": "stdout",
     "output_type": "stream",
     "text": [
      "Starting run 8.\n"
     ]
    },
    {
     "name": "stderr",
     "output_type": "stream",
     "text": [
      "Experiment Progress: 100%|██████████| 5/5 [06:14<00:00, 74.83s/it]\n"
     ]
    },
    {
     "name": "stdout",
     "output_type": "stream",
     "text": [
      "Starting run 9.\n"
     ]
    },
    {
     "name": "stderr",
     "output_type": "stream",
     "text": [
      "Experiment Progress: 100%|██████████| 5/5 [06:22<00:00, 76.54s/it]\n"
     ]
    },
    {
     "name": "stdout",
     "output_type": "stream",
     "text": [
      "Starting run 10.\n"
     ]
    },
    {
     "name": "stderr",
     "output_type": "stream",
     "text": [
      "Experiment Progress: 100%|██████████| 5/5 [05:28<00:00, 65.77s/it]\n"
     ]
    },
    {
     "name": "stdout",
     "output_type": "stream",
     "text": [
      "Starting run 11.\n"
     ]
    },
    {
     "name": "stderr",
     "output_type": "stream",
     "text": [
      "Experiment Progress: 100%|██████████| 5/5 [06:11<00:00, 74.39s/it]\n"
     ]
    },
    {
     "name": "stdout",
     "output_type": "stream",
     "text": [
      "Starting run 12.\n"
     ]
    },
    {
     "name": "stderr",
     "output_type": "stream",
     "text": [
      "Experiment Progress: 100%|██████████| 5/5 [06:11<00:00, 74.22s/it]\n"
     ]
    },
    {
     "name": "stdout",
     "output_type": "stream",
     "text": [
      "Starting run 13.\n"
     ]
    },
    {
     "name": "stderr",
     "output_type": "stream",
     "text": [
      "Experiment Progress: 100%|██████████| 5/5 [06:35<00:00, 79.09s/it] \n"
     ]
    },
    {
     "name": "stdout",
     "output_type": "stream",
     "text": [
      "Starting run 14.\n"
     ]
    },
    {
     "name": "stderr",
     "output_type": "stream",
     "text": [
      "Experiment Progress: 100%|██████████| 5/5 [05:39<00:00, 67.81s/it]\n"
     ]
    },
    {
     "name": "stdout",
     "output_type": "stream",
     "text": [
      "Starting run 15.\n"
     ]
    },
    {
     "name": "stderr",
     "output_type": "stream",
     "text": [
      "Experiment Progress: 100%|██████████| 5/5 [06:12<00:00, 74.42s/it]\n"
     ]
    },
    {
     "name": "stdout",
     "output_type": "stream",
     "text": [
      "Starting run 16.\n"
     ]
    },
    {
     "name": "stderr",
     "output_type": "stream",
     "text": [
      "Experiment Progress: 100%|██████████| 5/5 [06:28<00:00, 77.76s/it] \n"
     ]
    },
    {
     "name": "stdout",
     "output_type": "stream",
     "text": [
      "Starting run 17.\n"
     ]
    },
    {
     "name": "stderr",
     "output_type": "stream",
     "text": [
      "Experiment Progress: 100%|██████████| 5/5 [06:29<00:00, 77.97s/it] \n"
     ]
    },
    {
     "name": "stdout",
     "output_type": "stream",
     "text": [
      "Starting run 18.\n"
     ]
    },
    {
     "name": "stderr",
     "output_type": "stream",
     "text": [
      "Experiment Progress: 100%|██████████| 5/5 [06:33<00:00, 78.76s/it]\n"
     ]
    },
    {
     "name": "stdout",
     "output_type": "stream",
     "text": [
      "Starting run 19.\n"
     ]
    },
    {
     "name": "stderr",
     "output_type": "stream",
     "text": [
      "Experiment Progress: 100%|██████████| 5/5 [06:43<00:00, 80.66s/it] \n"
     ]
    },
    {
     "name": "stdout",
     "output_type": "stream",
     "text": [
      "Starting run 20.\n"
     ]
    },
    {
     "name": "stderr",
     "output_type": "stream",
     "text": [
      "Experiment Progress: 100%|██████████| 5/5 [05:52<00:00, 70.54s/it]\n"
     ]
    },
    {
     "name": "stdout",
     "output_type": "stream",
     "text": [
      "Mean accuracy across 20 runs: 0.871815\n",
      "Standard deviation of accuracy across 20 runs: 0.01575520882956357\n",
      "\n",
      "Mean total confusion across 20 runs: 0.316397895\n",
      "Standard deviation of total confusion across 20 runs: 0.007647750371082655\n",
      "\n",
      "Mean intra-phase confusion across 20 runs: 0.31410229\n",
      "Standard deviation of intra-phase confusion across 20 runs: 0.00771135210363335\n",
      "\n",
      "Mean per-task confusion across 20 runs: 0.05065046355999813\n",
      "Standard deviation of per-task confusion across 20 runs: 0.0017025988970819426\n",
      "\n",
      "Mean embedding drift across 20 runs: 5.121034741401672\n",
      "Standard deviation of embedding drift across 20 runs: 0.297980671060721\n",
      "\n",
      "Mean attention drift across 20 runs: 1.3957485409985412e-06\n",
      "Standard deviation of attention drift across 20 runs: 8.139538808058916e-08\n",
      "\n",
      "Mean attention spread across 20 runs: 59.9870614130834\n",
      "Standard deviation of attention spread across 20 runs: 2.964589650580979\n",
      "\n"
     ]
    }
   ],
   "source": [
    "run_experiments(with_dropout=True, kd_loss=1, full_CE=False, with_OOD=True, ogd=True) # best version"
   ]
  },
  {
   "cell_type": "code",
   "execution_count": 13,
   "metadata": {},
   "outputs": [
    {
     "name": "stdout",
     "output_type": "stream",
     "text": [
      "Starting run 1.\n"
     ]
    },
    {
     "name": "stderr",
     "output_type": "stream",
     "text": [
      "Experiment Progress: 100%|██████████| 5/5 [05:45<00:00, 69.02s/it]\n"
     ]
    },
    {
     "name": "stdout",
     "output_type": "stream",
     "text": [
      "Starting run 2.\n"
     ]
    },
    {
     "name": "stderr",
     "output_type": "stream",
     "text": [
      "Experiment Progress: 100%|██████████| 5/5 [05:47<00:00, 69.59s/it]\n"
     ]
    },
    {
     "name": "stdout",
     "output_type": "stream",
     "text": [
      "Starting run 3.\n"
     ]
    },
    {
     "name": "stderr",
     "output_type": "stream",
     "text": [
      "Experiment Progress: 100%|██████████| 5/5 [06:15<00:00, 75.10s/it] \n"
     ]
    },
    {
     "name": "stdout",
     "output_type": "stream",
     "text": [
      "Starting run 4.\n"
     ]
    },
    {
     "name": "stderr",
     "output_type": "stream",
     "text": [
      "Experiment Progress: 100%|██████████| 5/5 [06:12<00:00, 74.51s/it]\n"
     ]
    },
    {
     "name": "stdout",
     "output_type": "stream",
     "text": [
      "Starting run 5.\n"
     ]
    },
    {
     "name": "stderr",
     "output_type": "stream",
     "text": [
      "Experiment Progress: 100%|██████████| 5/5 [05:21<00:00, 64.22s/it]\n"
     ]
    },
    {
     "name": "stdout",
     "output_type": "stream",
     "text": [
      "Starting run 6.\n"
     ]
    },
    {
     "name": "stderr",
     "output_type": "stream",
     "text": [
      "Experiment Progress: 100%|██████████| 5/5 [05:17<00:00, 63.54s/it]\n"
     ]
    },
    {
     "name": "stdout",
     "output_type": "stream",
     "text": [
      "Starting run 7.\n"
     ]
    },
    {
     "name": "stderr",
     "output_type": "stream",
     "text": [
      "Experiment Progress: 100%|██████████| 5/5 [05:42<00:00, 68.40s/it]\n"
     ]
    },
    {
     "name": "stdout",
     "output_type": "stream",
     "text": [
      "Starting run 8.\n"
     ]
    },
    {
     "name": "stderr",
     "output_type": "stream",
     "text": [
      "Experiment Progress: 100%|██████████| 5/5 [05:51<00:00, 70.29s/it]\n"
     ]
    },
    {
     "name": "stdout",
     "output_type": "stream",
     "text": [
      "Starting run 9.\n"
     ]
    },
    {
     "name": "stderr",
     "output_type": "stream",
     "text": [
      "Experiment Progress: 100%|██████████| 5/5 [05:23<00:00, 64.60s/it]\n"
     ]
    },
    {
     "name": "stdout",
     "output_type": "stream",
     "text": [
      "Starting run 10.\n"
     ]
    },
    {
     "name": "stderr",
     "output_type": "stream",
     "text": [
      "Experiment Progress: 100%|██████████| 5/5 [05:30<00:00, 66.15s/it]\n"
     ]
    },
    {
     "name": "stdout",
     "output_type": "stream",
     "text": [
      "Starting run 11.\n"
     ]
    },
    {
     "name": "stderr",
     "output_type": "stream",
     "text": [
      "Experiment Progress: 100%|██████████| 5/5 [05:43<00:00, 68.67s/it]\n"
     ]
    },
    {
     "name": "stdout",
     "output_type": "stream",
     "text": [
      "Starting run 12.\n"
     ]
    },
    {
     "name": "stderr",
     "output_type": "stream",
     "text": [
      "Experiment Progress: 100%|██████████| 5/5 [05:26<00:00, 65.37s/it]\n"
     ]
    },
    {
     "name": "stdout",
     "output_type": "stream",
     "text": [
      "Starting run 13.\n"
     ]
    },
    {
     "name": "stderr",
     "output_type": "stream",
     "text": [
      "Experiment Progress: 100%|██████████| 5/5 [05:04<00:00, 60.98s/it]\n"
     ]
    },
    {
     "name": "stdout",
     "output_type": "stream",
     "text": [
      "Starting run 14.\n"
     ]
    },
    {
     "name": "stderr",
     "output_type": "stream",
     "text": [
      "Experiment Progress: 100%|██████████| 5/5 [05:54<00:00, 70.86s/it]\n"
     ]
    },
    {
     "name": "stdout",
     "output_type": "stream",
     "text": [
      "Starting run 15.\n"
     ]
    },
    {
     "name": "stderr",
     "output_type": "stream",
     "text": [
      "Experiment Progress: 100%|██████████| 5/5 [05:26<00:00, 65.21s/it]\n"
     ]
    },
    {
     "name": "stdout",
     "output_type": "stream",
     "text": [
      "Starting run 16.\n"
     ]
    },
    {
     "name": "stderr",
     "output_type": "stream",
     "text": [
      "Experiment Progress: 100%|██████████| 5/5 [05:43<00:00, 68.69s/it]\n"
     ]
    },
    {
     "name": "stdout",
     "output_type": "stream",
     "text": [
      "Starting run 17.\n"
     ]
    },
    {
     "name": "stderr",
     "output_type": "stream",
     "text": [
      "Experiment Progress: 100%|██████████| 5/5 [05:21<00:00, 64.28s/it]\n"
     ]
    },
    {
     "name": "stdout",
     "output_type": "stream",
     "text": [
      "Starting run 18.\n"
     ]
    },
    {
     "name": "stderr",
     "output_type": "stream",
     "text": [
      "Experiment Progress: 100%|██████████| 5/5 [05:23<00:00, 64.66s/it]\n"
     ]
    },
    {
     "name": "stdout",
     "output_type": "stream",
     "text": [
      "Starting run 19.\n"
     ]
    },
    {
     "name": "stderr",
     "output_type": "stream",
     "text": [
      "Experiment Progress: 100%|██████████| 5/5 [05:31<00:00, 66.36s/it]\n"
     ]
    },
    {
     "name": "stdout",
     "output_type": "stream",
     "text": [
      "Starting run 20.\n"
     ]
    },
    {
     "name": "stderr",
     "output_type": "stream",
     "text": [
      "Experiment Progress: 100%|██████████| 5/5 [05:06<00:00, 61.35s/it]\n"
     ]
    },
    {
     "name": "stdout",
     "output_type": "stream",
     "text": [
      "Mean accuracy across 20 runs: 0.858475\n",
      "Standard deviation of accuracy across 20 runs: 0.023806497896693323\n",
      "\n",
      "Mean total confusion across 20 runs: 0.31626039499999997\n",
      "Standard deviation of total confusion across 20 runs: 0.008508850530599231\n",
      "\n",
      "Mean intra-phase confusion across 20 runs: 0.313983085\n",
      "Standard deviation of intra-phase confusion across 20 runs: 0.008481222010528212\n",
      "\n",
      "Mean per-task confusion across 20 runs: 0.05121441125292367\n",
      "Standard deviation of per-task confusion across 20 runs: 0.0026791838663664923\n",
      "\n",
      "Mean embedding drift across 20 runs: 5.118687725067138\n",
      "Standard deviation of embedding drift across 20 runs: 0.19137689914486014\n",
      "\n",
      "Mean attention drift across 20 runs: 1.4939435838786699e-06\n",
      "Standard deviation of attention drift across 20 runs: 8.791844230266099e-08\n",
      "\n",
      "Mean attention spread across 20 runs: 58.78804669647447\n",
      "Standard deviation of attention spread across 20 runs: 2.3469737513292404\n",
      "\n"
     ]
    }
   ],
   "source": [
    "run_experiments(with_dropout=True, kd_loss=1, full_CE=False, with_OOD=True, ogd=False)"
   ]
  },
  {
   "cell_type": "code",
   "execution_count": 14,
   "metadata": {},
   "outputs": [
    {
     "name": "stdout",
     "output_type": "stream",
     "text": [
      "Starting run 1.\n"
     ]
    },
    {
     "name": "stderr",
     "output_type": "stream",
     "text": [
      "Experiment Progress: 100%|██████████| 5/5 [03:22<00:00, 40.58s/it]\n"
     ]
    },
    {
     "name": "stdout",
     "output_type": "stream",
     "text": [
      "Starting run 2.\n"
     ]
    },
    {
     "name": "stderr",
     "output_type": "stream",
     "text": [
      "Experiment Progress: 100%|██████████| 5/5 [03:24<00:00, 40.89s/it]\n"
     ]
    },
    {
     "name": "stdout",
     "output_type": "stream",
     "text": [
      "Starting run 3.\n"
     ]
    },
    {
     "name": "stderr",
     "output_type": "stream",
     "text": [
      "Experiment Progress: 100%|██████████| 5/5 [03:37<00:00, 43.58s/it]\n"
     ]
    },
    {
     "name": "stdout",
     "output_type": "stream",
     "text": [
      "Starting run 4.\n"
     ]
    },
    {
     "name": "stderr",
     "output_type": "stream",
     "text": [
      "Experiment Progress: 100%|██████████| 5/5 [03:32<00:00, 42.46s/it]\n"
     ]
    },
    {
     "name": "stdout",
     "output_type": "stream",
     "text": [
      "Starting run 5.\n"
     ]
    },
    {
     "name": "stderr",
     "output_type": "stream",
     "text": [
      "Experiment Progress: 100%|██████████| 5/5 [03:26<00:00, 41.29s/it]\n"
     ]
    },
    {
     "name": "stdout",
     "output_type": "stream",
     "text": [
      "Starting run 6.\n"
     ]
    },
    {
     "name": "stderr",
     "output_type": "stream",
     "text": [
      "Experiment Progress: 100%|██████████| 5/5 [03:49<00:00, 45.95s/it]\n"
     ]
    },
    {
     "name": "stdout",
     "output_type": "stream",
     "text": [
      "Starting run 7.\n"
     ]
    },
    {
     "name": "stderr",
     "output_type": "stream",
     "text": [
      "Experiment Progress: 100%|██████████| 5/5 [03:29<00:00, 41.91s/it]\n"
     ]
    },
    {
     "name": "stdout",
     "output_type": "stream",
     "text": [
      "Starting run 8.\n"
     ]
    },
    {
     "name": "stderr",
     "output_type": "stream",
     "text": [
      "Experiment Progress: 100%|██████████| 5/5 [03:23<00:00, 40.77s/it]\n"
     ]
    },
    {
     "name": "stdout",
     "output_type": "stream",
     "text": [
      "Starting run 9.\n"
     ]
    },
    {
     "name": "stderr",
     "output_type": "stream",
     "text": [
      "Experiment Progress: 100%|██████████| 5/5 [03:24<00:00, 40.91s/it]\n"
     ]
    },
    {
     "name": "stdout",
     "output_type": "stream",
     "text": [
      "Starting run 10.\n"
     ]
    },
    {
     "name": "stderr",
     "output_type": "stream",
     "text": [
      "Experiment Progress: 100%|██████████| 5/5 [03:22<00:00, 40.43s/it]\n"
     ]
    },
    {
     "name": "stdout",
     "output_type": "stream",
     "text": [
      "Starting run 11.\n"
     ]
    },
    {
     "name": "stderr",
     "output_type": "stream",
     "text": [
      "Experiment Progress: 100%|██████████| 5/5 [03:30<00:00, 42.13s/it]\n"
     ]
    },
    {
     "name": "stdout",
     "output_type": "stream",
     "text": [
      "Starting run 12.\n"
     ]
    },
    {
     "name": "stderr",
     "output_type": "stream",
     "text": [
      "Experiment Progress: 100%|██████████| 5/5 [03:19<00:00, 39.96s/it]\n"
     ]
    },
    {
     "name": "stdout",
     "output_type": "stream",
     "text": [
      "Starting run 13.\n"
     ]
    },
    {
     "name": "stderr",
     "output_type": "stream",
     "text": [
      "Experiment Progress: 100%|██████████| 5/5 [03:24<00:00, 40.94s/it]\n"
     ]
    },
    {
     "name": "stdout",
     "output_type": "stream",
     "text": [
      "Starting run 14.\n"
     ]
    },
    {
     "name": "stderr",
     "output_type": "stream",
     "text": [
      "Experiment Progress: 100%|██████████| 5/5 [03:28<00:00, 41.69s/it]\n"
     ]
    },
    {
     "name": "stdout",
     "output_type": "stream",
     "text": [
      "Starting run 15.\n"
     ]
    },
    {
     "name": "stderr",
     "output_type": "stream",
     "text": [
      "Experiment Progress: 100%|██████████| 5/5 [03:24<00:00, 40.82s/it]\n"
     ]
    },
    {
     "name": "stdout",
     "output_type": "stream",
     "text": [
      "Starting run 16.\n"
     ]
    },
    {
     "name": "stderr",
     "output_type": "stream",
     "text": [
      "Experiment Progress: 100%|██████████| 5/5 [03:31<00:00, 42.38s/it]\n"
     ]
    },
    {
     "name": "stdout",
     "output_type": "stream",
     "text": [
      "Starting run 17.\n"
     ]
    },
    {
     "name": "stderr",
     "output_type": "stream",
     "text": [
      "Experiment Progress: 100%|██████████| 5/5 [03:31<00:00, 42.30s/it]\n"
     ]
    },
    {
     "name": "stdout",
     "output_type": "stream",
     "text": [
      "Starting run 18.\n"
     ]
    },
    {
     "name": "stderr",
     "output_type": "stream",
     "text": [
      "Experiment Progress: 100%|██████████| 5/5 [03:18<00:00, 39.80s/it]\n"
     ]
    },
    {
     "name": "stdout",
     "output_type": "stream",
     "text": [
      "Starting run 19.\n"
     ]
    },
    {
     "name": "stderr",
     "output_type": "stream",
     "text": [
      "Experiment Progress: 100%|██████████| 5/5 [03:29<00:00, 41.91s/it]\n"
     ]
    },
    {
     "name": "stdout",
     "output_type": "stream",
     "text": [
      "Starting run 20.\n"
     ]
    },
    {
     "name": "stderr",
     "output_type": "stream",
     "text": [
      "Experiment Progress: 100%|██████████| 5/5 [03:28<00:00, 41.65s/it]\n"
     ]
    },
    {
     "name": "stdout",
     "output_type": "stream",
     "text": [
      "Mean accuracy across 20 runs: 0.81172\n",
      "Standard deviation of accuracy across 20 runs: 0.033084828769948955\n",
      "\n",
      "Mean total confusion across 20 runs: 0.347483375\n",
      "Standard deviation of total confusion across 20 runs: 0.007654212741523459\n",
      "\n",
      "Mean intra-phase confusion across 20 runs: 0.3439667\n",
      "Standard deviation of intra-phase confusion across 20 runs: 0.007557838211454804\n",
      "\n",
      "Mean per-task confusion across 20 runs: 0.06472576782833862\n",
      "Standard deviation of per-task confusion across 20 runs: 0.003323329509736449\n",
      "\n",
      "Mean embedding drift across 20 runs: 5.184679293632508\n",
      "Standard deviation of embedding drift across 20 runs: 0.26218339714907\n",
      "\n",
      "Mean attention drift across 20 runs: 7.776475092738062e-07\n",
      "Standard deviation of attention drift across 20 runs: 1.5827700630732783e-07\n",
      "\n",
      "Mean attention spread across 20 runs: 71.38503082507216\n",
      "Standard deviation of attention spread across 20 runs: 5.877301429072464\n",
      "\n"
     ]
    }
   ],
   "source": [
    "run_experiments(with_dropout=False, kd_loss=1, full_CE=False, with_OOD=True, ogd=True)"
   ]
  },
  {
   "cell_type": "code",
   "execution_count": 15,
   "metadata": {},
   "outputs": [
    {
     "name": "stdout",
     "output_type": "stream",
     "text": [
      "Starting run 1.\n"
     ]
    },
    {
     "name": "stderr",
     "output_type": "stream",
     "text": [
      "Experiment Progress: 100%|██████████| 5/5 [04:37<00:00, 55.51s/it]\n"
     ]
    },
    {
     "name": "stdout",
     "output_type": "stream",
     "text": [
      "Starting run 2.\n"
     ]
    },
    {
     "name": "stderr",
     "output_type": "stream",
     "text": [
      "Experiment Progress: 100%|██████████| 5/5 [04:22<00:00, 52.54s/it]\n"
     ]
    },
    {
     "name": "stdout",
     "output_type": "stream",
     "text": [
      "Starting run 3.\n"
     ]
    },
    {
     "name": "stderr",
     "output_type": "stream",
     "text": [
      "Experiment Progress: 100%|██████████| 5/5 [04:02<00:00, 48.54s/it]\n"
     ]
    },
    {
     "name": "stdout",
     "output_type": "stream",
     "text": [
      "Starting run 4.\n"
     ]
    },
    {
     "name": "stderr",
     "output_type": "stream",
     "text": [
      "Experiment Progress: 100%|██████████| 5/5 [04:10<00:00, 50.14s/it]\n"
     ]
    },
    {
     "name": "stdout",
     "output_type": "stream",
     "text": [
      "Starting run 5.\n"
     ]
    },
    {
     "name": "stderr",
     "output_type": "stream",
     "text": [
      "Experiment Progress: 100%|██████████| 5/5 [04:06<00:00, 49.36s/it]\n"
     ]
    },
    {
     "name": "stdout",
     "output_type": "stream",
     "text": [
      "Starting run 6.\n"
     ]
    },
    {
     "name": "stderr",
     "output_type": "stream",
     "text": [
      "Experiment Progress: 100%|██████████| 5/5 [04:28<00:00, 53.77s/it]\n"
     ]
    },
    {
     "name": "stdout",
     "output_type": "stream",
     "text": [
      "Starting run 7.\n"
     ]
    },
    {
     "name": "stderr",
     "output_type": "stream",
     "text": [
      "Experiment Progress: 100%|██████████| 5/5 [04:34<00:00, 54.97s/it]\n"
     ]
    },
    {
     "name": "stdout",
     "output_type": "stream",
     "text": [
      "Starting run 8.\n"
     ]
    },
    {
     "name": "stderr",
     "output_type": "stream",
     "text": [
      "Experiment Progress: 100%|██████████| 5/5 [04:24<00:00, 52.85s/it]\n"
     ]
    },
    {
     "name": "stdout",
     "output_type": "stream",
     "text": [
      "Starting run 9.\n"
     ]
    },
    {
     "name": "stderr",
     "output_type": "stream",
     "text": [
      "Experiment Progress: 100%|██████████| 5/5 [04:20<00:00, 52.04s/it]\n"
     ]
    },
    {
     "name": "stdout",
     "output_type": "stream",
     "text": [
      "Starting run 10.\n"
     ]
    },
    {
     "name": "stderr",
     "output_type": "stream",
     "text": [
      "Experiment Progress: 100%|██████████| 5/5 [04:27<00:00, 53.54s/it]\n"
     ]
    },
    {
     "name": "stdout",
     "output_type": "stream",
     "text": [
      "Starting run 11.\n"
     ]
    },
    {
     "name": "stderr",
     "output_type": "stream",
     "text": [
      "Experiment Progress: 100%|██████████| 5/5 [04:32<00:00, 54.51s/it]\n"
     ]
    },
    {
     "name": "stdout",
     "output_type": "stream",
     "text": [
      "Starting run 12.\n"
     ]
    },
    {
     "name": "stderr",
     "output_type": "stream",
     "text": [
      "Experiment Progress: 100%|██████████| 5/5 [04:10<00:00, 50.08s/it]\n"
     ]
    },
    {
     "name": "stdout",
     "output_type": "stream",
     "text": [
      "Starting run 13.\n"
     ]
    },
    {
     "name": "stderr",
     "output_type": "stream",
     "text": [
      "Experiment Progress: 100%|██████████| 5/5 [04:51<00:00, 58.23s/it]\n"
     ]
    },
    {
     "name": "stdout",
     "output_type": "stream",
     "text": [
      "Starting run 14.\n"
     ]
    },
    {
     "name": "stderr",
     "output_type": "stream",
     "text": [
      "Experiment Progress: 100%|██████████| 5/5 [04:31<00:00, 54.37s/it]\n"
     ]
    },
    {
     "name": "stdout",
     "output_type": "stream",
     "text": [
      "Starting run 15.\n"
     ]
    },
    {
     "name": "stderr",
     "output_type": "stream",
     "text": [
      "Experiment Progress: 100%|██████████| 5/5 [04:15<00:00, 51.06s/it]\n"
     ]
    },
    {
     "name": "stdout",
     "output_type": "stream",
     "text": [
      "Starting run 16.\n"
     ]
    },
    {
     "name": "stderr",
     "output_type": "stream",
     "text": [
      "Experiment Progress: 100%|██████████| 5/5 [04:28<00:00, 53.68s/it]\n"
     ]
    },
    {
     "name": "stdout",
     "output_type": "stream",
     "text": [
      "Starting run 17.\n"
     ]
    },
    {
     "name": "stderr",
     "output_type": "stream",
     "text": [
      "Experiment Progress: 100%|██████████| 5/5 [04:19<00:00, 51.88s/it]\n"
     ]
    },
    {
     "name": "stdout",
     "output_type": "stream",
     "text": [
      "Starting run 18.\n"
     ]
    },
    {
     "name": "stderr",
     "output_type": "stream",
     "text": [
      "Experiment Progress: 100%|██████████| 5/5 [04:08<00:00, 49.73s/it]\n"
     ]
    },
    {
     "name": "stdout",
     "output_type": "stream",
     "text": [
      "Starting run 19.\n"
     ]
    },
    {
     "name": "stderr",
     "output_type": "stream",
     "text": [
      "Experiment Progress: 100%|██████████| 5/5 [04:33<00:00, 54.73s/it]\n"
     ]
    },
    {
     "name": "stdout",
     "output_type": "stream",
     "text": [
      "Starting run 20.\n"
     ]
    },
    {
     "name": "stderr",
     "output_type": "stream",
     "text": [
      "Experiment Progress: 100%|██████████| 5/5 [04:34<00:00, 54.94s/it]\n"
     ]
    },
    {
     "name": "stdout",
     "output_type": "stream",
     "text": [
      "Mean accuracy across 20 runs: 0.76306\n",
      "Standard deviation of accuracy across 20 runs: 0.022815239597574616\n",
      "\n",
      "Mean total confusion across 20 runs: 0.38624753500000003\n",
      "Standard deviation of total confusion across 20 runs: 0.007639918549667443\n",
      "\n",
      "Mean intra-phase confusion across 20 runs: 0.384547365\n",
      "Standard deviation of intra-phase confusion across 20 runs: 0.007622410869291255\n",
      "\n",
      "Mean per-task confusion across 20 runs: 0.05615223586213179\n",
      "Standard deviation of per-task confusion across 20 runs: 0.0021236330593199524\n",
      "\n",
      "Mean embedding drift across 20 runs: 4.436177814006806\n",
      "Standard deviation of embedding drift across 20 runs: 0.20393670061664768\n",
      "\n",
      "Mean attention drift across 20 runs: 1.288934924350007e-06\n",
      "Standard deviation of attention drift across 20 runs: 7.783110215203474e-08\n",
      "\n",
      "Mean attention spread across 20 runs: 49.28415918543767\n",
      "Standard deviation of attention spread across 20 runs: 1.5464254827885922\n",
      "\n"
     ]
    }
   ],
   "source": [
    "run_experiments(with_dropout=True, kd_loss=1, full_CE=False, with_OOD=False, ogd=True)"
   ]
  },
  {
   "cell_type": "code",
   "execution_count": 16,
   "metadata": {},
   "outputs": [
    {
     "name": "stdout",
     "output_type": "stream",
     "text": [
      "Starting run 1.\n"
     ]
    },
    {
     "name": "stderr",
     "output_type": "stream",
     "text": [
      "Experiment Progress: 100%|██████████| 1/1 [03:34<00:00, 214.20s/it]\n"
     ]
    },
    {
     "name": "stdout",
     "output_type": "stream",
     "text": [
      "Starting run 2.\n"
     ]
    },
    {
     "name": "stderr",
     "output_type": "stream",
     "text": [
      "Experiment Progress: 100%|██████████| 1/1 [03:31<00:00, 211.66s/it]\n"
     ]
    },
    {
     "name": "stdout",
     "output_type": "stream",
     "text": [
      "Starting run 3.\n"
     ]
    },
    {
     "name": "stderr",
     "output_type": "stream",
     "text": [
      "Experiment Progress: 100%|██████████| 1/1 [03:31<00:00, 211.63s/it]\n"
     ]
    },
    {
     "name": "stdout",
     "output_type": "stream",
     "text": [
      "Starting run 4.\n"
     ]
    },
    {
     "name": "stderr",
     "output_type": "stream",
     "text": [
      "Experiment Progress: 100%|██████████| 1/1 [03:28<00:00, 208.76s/it]\n"
     ]
    },
    {
     "name": "stdout",
     "output_type": "stream",
     "text": [
      "Starting run 5.\n"
     ]
    },
    {
     "name": "stderr",
     "output_type": "stream",
     "text": [
      "Experiment Progress: 100%|██████████| 1/1 [03:24<00:00, 204.90s/it]\n"
     ]
    },
    {
     "name": "stdout",
     "output_type": "stream",
     "text": [
      "Starting run 6.\n"
     ]
    },
    {
     "name": "stderr",
     "output_type": "stream",
     "text": [
      "Experiment Progress: 100%|██████████| 1/1 [04:30<00:00, 270.70s/it]\n"
     ]
    },
    {
     "name": "stdout",
     "output_type": "stream",
     "text": [
      "Starting run 7.\n"
     ]
    },
    {
     "name": "stderr",
     "output_type": "stream",
     "text": [
      "Experiment Progress: 100%|██████████| 1/1 [03:24<00:00, 204.43s/it]\n"
     ]
    },
    {
     "name": "stdout",
     "output_type": "stream",
     "text": [
      "Starting run 8.\n"
     ]
    },
    {
     "name": "stderr",
     "output_type": "stream",
     "text": [
      "Experiment Progress: 100%|██████████| 1/1 [03:23<00:00, 203.38s/it]\n"
     ]
    },
    {
     "name": "stdout",
     "output_type": "stream",
     "text": [
      "Starting run 9.\n"
     ]
    },
    {
     "name": "stderr",
     "output_type": "stream",
     "text": [
      "Experiment Progress: 100%|██████████| 1/1 [04:00<00:00, 240.87s/it]\n"
     ]
    },
    {
     "name": "stdout",
     "output_type": "stream",
     "text": [
      "Starting run 10.\n"
     ]
    },
    {
     "name": "stderr",
     "output_type": "stream",
     "text": [
      "Experiment Progress: 100%|██████████| 1/1 [03:21<00:00, 201.48s/it]\n"
     ]
    },
    {
     "name": "stdout",
     "output_type": "stream",
     "text": [
      "Starting run 11.\n"
     ]
    },
    {
     "name": "stderr",
     "output_type": "stream",
     "text": [
      "Experiment Progress: 100%|██████████| 1/1 [03:49<00:00, 229.31s/it]\n"
     ]
    },
    {
     "name": "stdout",
     "output_type": "stream",
     "text": [
      "Starting run 12.\n"
     ]
    },
    {
     "name": "stderr",
     "output_type": "stream",
     "text": [
      "Experiment Progress: 100%|██████████| 1/1 [03:25<00:00, 205.38s/it]\n"
     ]
    },
    {
     "name": "stdout",
     "output_type": "stream",
     "text": [
      "Starting run 13.\n"
     ]
    },
    {
     "name": "stderr",
     "output_type": "stream",
     "text": [
      "Experiment Progress: 100%|██████████| 1/1 [03:25<00:00, 205.48s/it]\n"
     ]
    },
    {
     "name": "stdout",
     "output_type": "stream",
     "text": [
      "Starting run 14.\n"
     ]
    },
    {
     "name": "stderr",
     "output_type": "stream",
     "text": [
      "Experiment Progress: 100%|██████████| 1/1 [03:24<00:00, 204.68s/it]\n"
     ]
    },
    {
     "name": "stdout",
     "output_type": "stream",
     "text": [
      "Starting run 15.\n"
     ]
    },
    {
     "name": "stderr",
     "output_type": "stream",
     "text": [
      "Experiment Progress: 100%|██████████| 1/1 [03:37<00:00, 217.50s/it]\n"
     ]
    },
    {
     "name": "stdout",
     "output_type": "stream",
     "text": [
      "Starting run 16.\n"
     ]
    },
    {
     "name": "stderr",
     "output_type": "stream",
     "text": [
      "Experiment Progress: 100%|██████████| 1/1 [03:28<00:00, 208.54s/it]\n"
     ]
    },
    {
     "name": "stdout",
     "output_type": "stream",
     "text": [
      "Starting run 17.\n"
     ]
    },
    {
     "name": "stderr",
     "output_type": "stream",
     "text": [
      "Experiment Progress: 100%|██████████| 1/1 [03:57<00:00, 237.87s/it]\n"
     ]
    },
    {
     "name": "stdout",
     "output_type": "stream",
     "text": [
      "Starting run 18.\n"
     ]
    },
    {
     "name": "stderr",
     "output_type": "stream",
     "text": [
      "Experiment Progress: 100%|██████████| 1/1 [04:03<00:00, 243.11s/it]\n"
     ]
    },
    {
     "name": "stdout",
     "output_type": "stream",
     "text": [
      "Starting run 19.\n"
     ]
    },
    {
     "name": "stderr",
     "output_type": "stream",
     "text": [
      "Experiment Progress: 100%|██████████| 1/1 [04:00<00:00, 240.77s/it]\n"
     ]
    },
    {
     "name": "stdout",
     "output_type": "stream",
     "text": [
      "Starting run 20.\n"
     ]
    },
    {
     "name": "stderr",
     "output_type": "stream",
     "text": [
      "Experiment Progress: 100%|██████████| 1/1 [03:54<00:00, 234.82s/it]\n"
     ]
    },
    {
     "name": "stdout",
     "output_type": "stream",
     "text": [
      "Mean accuracy across 20 runs: 0.989975\n",
      "Standard deviation of accuracy across 20 runs: 0.0010577408895725271\n",
      "\n",
      "Mean total confusion across 20 runs: 0.20250792\n",
      "Standard deviation of total confusion across 20 runs: 0.009379041777932884\n",
      "\n",
      "Mean intra-phase confusion across 20 runs: 0.0\n",
      "Standard deviation of intra-phase confusion across 20 runs: 0.0\n",
      "\n",
      "Mean per-task confusion across 20 runs: 0.20250792\n",
      "Standard deviation of per-task confusion across 20 runs: 0.009379041777932884\n",
      "\n",
      "Mean embedding drift across 20 runs: 7.819666097930168e-06\n",
      "Standard deviation of embedding drift across 20 runs: 4.108424095086772e-07\n",
      "\n",
      "Mean attention drift across 20 runs: 1.5143667320842182e-20\n",
      "Standard deviation of attention drift across 20 runs: 1.267635715636015e-21\n",
      "\n",
      "Mean attention spread across 20 runs: 52.118767505178454\n",
      "Standard deviation of attention spread across 20 runs: 2.053219975656019\n",
      "\n"
     ]
    }
   ],
   "source": [
    "# training on entire dataset\n",
    "globals.ITERATIONS = 1\n",
    "globals.CLASSES_PER_ITER = 10\n",
    "run_experiments()"
   ]
  },
  {
   "cell_type": "code",
   "execution_count": 2,
   "metadata": {},
   "outputs": [],
   "source": [
    "torch.cuda.empty_cache()"
   ]
  }
 ],
 "metadata": {
  "kernelspec": {
   "display_name": "Python 3",
   "language": "python",
   "name": "python3"
  },
  "language_info": {
   "codemirror_mode": {
    "name": "ipython",
    "version": 3
   },
   "file_extension": ".py",
   "mimetype": "text/x-python",
   "name": "python",
   "nbconvert_exporter": "python",
   "pygments_lexer": "ipython3",
   "version": "3.8.5"
  }
 },
 "nbformat": 4,
 "nbformat_minor": 4
}
