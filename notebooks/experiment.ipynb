{
 "cells": [
  {
   "cell_type": "code",
   "execution_count": 1,
   "metadata": {},
   "outputs": [],
   "source": [
    "import torch\n",
    "import torchvision\n",
    "import torchvision.transforms as transforms\n",
    "from sklearn import metrics\n",
    "from sklearn.model_selection import train_test_split\n",
    "from torch.utils.data import DataLoader, Subset\n",
    "import numpy as np\n",
    "import copy\n",
    "import statistics\n",
    "import matplotlib.pyplot as plt\n",
    "import time\n",
    "from tqdm import tqdm\n",
    "\n",
    "import sys\n",
    "sys.path.append('./../src')\n",
    "import globals\n",
    "from model import Net\n",
    "from training import train_model, train_model_CL\n",
    "from visualizations import plot_embeddings, plot_confusion_matrix\n",
    "from feature_attribution import Feature_Importance_Evaluations\n",
    "from pytorch_utils import get_features, get_labels\n",
    "from embedding_measurements import measure_embedding_confusion_knn, measure_embedding_drift"
   ]
  },
  {
   "cell_type": "code",
   "execution_count": 2,
   "metadata": {},
   "outputs": [],
   "source": [
    "SEED = globals.SEED\n",
    "DEVICE = globals.DEVICE\n",
    "full_trainset = globals.full_trainset\n",
    "trainset = globals.trainset\n",
    "testset = globals.testset\n",
    "trainloaders = globals.trainloaders\n",
    "valloaders = globals.valloaders\n",
    "testloaders = globals.testloaders"
   ]
  },
  {
   "cell_type": "code",
   "execution_count": 3,
   "metadata": {},
   "outputs": [],
   "source": [
    "# This is the two-step process used to prepare the\n",
    "# data for use with the convolutional neural network.\n",
    "\n",
    "# First step is to convert Python Image Library (PIL) format\n",
    "# to PyTorch tensors.\n",
    "\n",
    "# Second step is used to normalize the data by specifying a \n",
    "# mean and standard deviation for each of the three channels.\n",
    "# This will convert the data from [0,1] to [-1,1]\n",
    "\n",
    "# Normalization of data should help speed up conversion and\n",
    "# reduce the chance of vanishing gradients with certain \n",
    "# activation functions.\n",
    "def initialize_data():\n",
    "    transform = transforms.Compose([\n",
    "        transforms.ToTensor()\n",
    "        #transforms.Normalize((0.5,), (0.5,))  # Normalizes to mean 0.5 and std 0.5 for the single channel\n",
    "    ])\n",
    "\n",
    "    globals.full_trainset = torchvision.datasets.MNIST('./../data/', train=True, download=True,\n",
    "                                transform=transform)\n",
    "    targets = np.array(globals.full_trainset.targets)\n",
    "\n",
    "    # Perform stratified split\n",
    "    train_indices, val_indices = train_test_split(\n",
    "        np.arange(len(targets)),\n",
    "        test_size=0.01,\n",
    "        stratify=targets\n",
    "    )\n",
    "\n",
    "    # Create subsets\n",
    "    valset = Subset(globals.full_trainset, val_indices)\n",
    "    globals.trainset = Subset(globals.full_trainset, train_indices)\n",
    "\n",
    "    globals.testset = torchvision.datasets.MNIST('./../data/', train=False, download=True,\n",
    "                                transform=transform)\n",
    "\n",
    "    # Define class pairs for each subset\n",
    "    class_pairs = [tuple(range(i*globals.CLASSES_PER_ITER,(i+1)*globals.CLASSES_PER_ITER)) for i in range(globals.ITERATIONS)]\n",
    "    #print(class_pairs)\n",
    "\n",
    "    # Dictionary to hold data loaders for each subset\n",
    "    globals.trainloaders = []\n",
    "    globals.testloaders = []\n",
    "    globals.valloaders = []\n",
    "    subset_indices = []\n",
    "    # Loop over each class pair\n",
    "    for i, t in enumerate(class_pairs):\n",
    "        # Get indices of images belonging to the specified class pair\n",
    "        subs_ind = [idx for idx, (_, label) in enumerate(globals.trainset) if label in list(t)]\n",
    "        val_subset_indices = [idx for idx, (_, label) in enumerate(valset) if label in list(t)]\n",
    "        test_subset_indices = [idx for idx, (_, label) in enumerate(globals.testset) if label in list(t)]\n",
    "        # Create a subset for the current class pair\n",
    "        train_subset = Subset(globals.trainset, subs_ind)\n",
    "        globals.trainloaders.append(DataLoader(train_subset, batch_size=globals.BATCH_SIZE, shuffle=True, pin_memory=True, num_workers = 0))\n",
    "\n",
    "        subset_indices.append(subs_ind)\n",
    "        \n",
    "        val_subset = Subset(valset, val_subset_indices)\n",
    "        globals.valloaders.append(DataLoader(val_subset, batch_size=500, shuffle=False))\n",
    "\n",
    "        test_subset = Subset(globals.testset, test_subset_indices)\n",
    "        globals.testloaders.append(DataLoader(test_subset, batch_size=500, shuffle=False))\n"
   ]
  },
  {
   "cell_type": "code",
   "execution_count": 4,
   "metadata": {},
   "outputs": [],
   "source": [
    "def run_experiment(\n",
    "        verbose = False,\n",
    "        stopOnLoss = 0.03,\n",
    "        full_CE = True,\n",
    "        with_OOD = False,\n",
    "        kd_loss = 0,\n",
    "        stopOnValAcc = None,\n",
    "        epochs = 1000000,\n",
    "        with_dropout = False\n",
    "        ):\n",
    "    def _print(*args, **kwargs):\n",
    "        if verbose:\n",
    "            print(*args, **kwargs)\n",
    "    if with_OOD:\n",
    "        globals.OOD_CLASS = 1\n",
    "    else:\n",
    "        globals.OOD_CLASS = 0\n",
    "    initialize_data()\n",
    "    prevModel = None\n",
    "    globals.BATCH_SIZE=4\n",
    "    globals.WITH_DROPOUT = with_dropout\n",
    "\n",
    "    #[Denis] added code:\n",
    "    Feature_Importance_Eval=Feature_Importance_Evaluations(globals.testloaders, DEVICE)\n",
    "\n",
    "    for i in tqdm(range(globals.ITERATIONS), desc=\"Experiment Progress\"):\n",
    "        model = Net((i+1)*(globals.CLASSES_PER_ITER+globals.OOD_CLASS))\n",
    "        if prevModel is not None:\n",
    "            with torch.no_grad():\n",
    "                model.copyPrev(prevModel)\n",
    "        train_loader = globals.trainloaders[i]\n",
    "        val_loader = globals.valloaders[i]\n",
    "        if prevModel:\n",
    "            _print(\"CL TRAIN!!\")\n",
    "            train_model_CL(\n",
    "                model,\n",
    "                prevModel,\n",
    "                train_loader,\n",
    "                val_loader,\n",
    "                i,\n",
    "                verbose,\n",
    "                epochs,\n",
    "                True,\n",
    "                freeze_nonzero_params=False,\n",
    "                l1_loss=0,\n",
    "                ewc_loss=0,\n",
    "                kd_loss=kd_loss,\n",
    "                distance_loss=0,\n",
    "                center_loss=0,\n",
    "                param_reuse_loss=0,\n",
    "                stopOnLoss=stopOnLoss,\n",
    "                stopOnValAcc = stopOnValAcc,\n",
    "                full_CE=full_CE\n",
    "                )\n",
    "        else:\n",
    "            train_model(\n",
    "                model, \n",
    "                train_loader, \n",
    "                val_loader, \n",
    "                verbose, \n",
    "                epochs=epochs, \n",
    "                l1_loss=0,\n",
    "                stopOnLoss=stopOnLoss,\n",
    "                center_loss =0,\n",
    "                )\n",
    "\n",
    "        #[Denis] added code:\n",
    "        Feature_Importance_Eval.Task_Feature_Attribution(model, i)\n",
    "        \n",
    "        if verbose or i == globals.ITERATIONS-1:\n",
    "            _print(\"Starting evaluation\")\n",
    "            _print(\"ITERATION\", i+1)\n",
    "            _print(\"ACCURACIES PER TASK:\")\n",
    "            accumPred = []\n",
    "            all_labels = []\n",
    "            all_embeddings = []\n",
    "            with torch.no_grad():\n",
    "                for j in range(i+1):\n",
    "                    val_loader = globals.testloaders[j]\n",
    "                    val_labels = get_labels(val_loader).to(DEVICE)\n",
    "                    all_labels.append(val_labels)\n",
    "                    model.eval()\n",
    "                    pred, embeddings = model.get_pred_and_embeddings((get_features(val_loader).to(DEVICE)))\n",
    "                    model.train()\n",
    "                    accumPred.append(pred)\n",
    "                    all_embeddings.append(embeddings)\n",
    "                    sliced_pred = pred[:, j*(globals.CLASSES_PER_ITER+globals.OOD_CLASS):(j+1)*(globals.CLASSES_PER_ITER+globals.OOD_CLASS)]\n",
    "                    _, predicted = torch.max(sliced_pred, 1)  # Get the class predictions\n",
    "                    predicted += j*globals.CLASSES_PER_ITER\n",
    "                    correct = (predicted == val_labels).sum().item()  # Count how many were correct\n",
    "                    accuracy = correct / val_labels.size(0)  # Accuracy as a percentage\n",
    "                    _print(str(accuracy), end=' ')\n",
    "            accumPred = torch.cat(accumPred)\n",
    "            all_labels = torch.cat(all_labels)\n",
    "            all_embeddings = torch.cat(all_embeddings)\n",
    "            predicted = []\n",
    "            for x in accumPred:\n",
    "                if globals.OOD_CLASS == 1:\n",
    "                    x_pred = x[[i for i in range(x.size(0)) if (i + 1) % (globals.CLASSES_PER_ITER+1) != 0]]\n",
    "                else:\n",
    "                    x_pred = x\n",
    "                x_pred = torch.softmax(x_pred, dim=-1)\n",
    "                max = 0\n",
    "                for (k, v) in enumerate(x_pred):\n",
    "                    if v > max:\n",
    "                        max = v\n",
    "                        p = k\n",
    "                predicted.append(p)\n",
    "            predicted = torch.tensor(predicted).to(DEVICE)\n",
    "            correct = (predicted == all_labels).sum().item()  # Count how many were correct\n",
    "            accuracy = correct / all_labels.size(0)  # Accuracy as a percentage\n",
    "            _print(\"Accuracy on tasks so far:\", accuracy)\n",
    "\n",
    "            embedding_drift = measure_embedding_drift(all_embeddings, all_labels, model.prev_test_embedding_centers)\n",
    "            _print(\"Average embedding drift based on centroids:\", embedding_drift)\n",
    "            total_confusion, intra_phase_confusion, per_task_confusion = measure_embedding_confusion_knn(all_embeddings, all_labels, k = 1000, task=i+1)\n",
    "            _print(\"Total confusion\", total_confusion)\n",
    "            _print(\"Intra-phase confusion\", intra_phase_confusion)\n",
    "            _print(\"Per task confusions\", per_task_confusion)\n",
    "            if verbose:\n",
    "                plot_confusion_matrix(predicted.cpu(), all_labels.cpu(), list(range(globals.CLASSES_PER_ITER*(i+1))))\n",
    "        prevModel = copy.deepcopy(model)\n",
    "        \n",
    "    #[Denis] added code:\n",
    "    [avg_att_diff,att_diffs,_,_,avg_att_spread,att_spreads]=Feature_Importance_Eval.Get_Feature_Change_Score(prevModel)\n",
    "    _print(\"Average SHAPC values (ordered as tasks):\", att_diffs)\n",
    "    _print(\"Averaged SHAPC value (the smaller the better):\", avg_att_diff)\n",
    "    _print(\"Average attention spread values (ordered as tasks):\", att_spreads)\n",
    "    _print(\"Averaged attention spread value (the bigger the better):\", avg_att_spread)\n",
    "    Feature_Importance_Eval.Save_Random_Picture_Salency() #prints the salcency maps for 1 example by class (first row: image, second row: salency map after training, third row: salency map after training task where class is included)\n",
    "    \n",
    "    return accuracy, total_confusion, intra_phase_confusion, per_task_confusion, embedding_drift, avg_att_diff, avg_att_spread"
   ]
  },
  {
   "cell_type": "code",
   "execution_count": 5,
   "metadata": {},
   "outputs": [],
   "source": [
    "def run_experiments(n_runs=1, *args, **kwargs):\n",
    "    verbose = kwargs.get('verbose', None)\n",
    "    def _print(*args, **kwargs):\n",
    "        if verbose:\n",
    "            print(*args, **kwargs)\n",
    "    def report_stats(data, name):\n",
    "        print(name, data)\n",
    "        mean = statistics.mean(data)\n",
    "        std = statistics.stdev(data)\n",
    "        print(f\"Mean \" + name + f\" across {n_runs} runs: {mean}\")\n",
    "        print(f\"Standard deviation of \" + name + f\" across {n_runs} runs: {std}\\n\")\n",
    "    accuracies = []\n",
    "    total_confusions = []\n",
    "    intra_phase_confusions = []\n",
    "    per_task_confusions = []\n",
    "    att_diffs = []\n",
    "    embedding_drifts = []\n",
    "    att_spreads = []\n",
    "    for r in range(n_runs):\n",
    "        print(f\"Starting run {r+1}.\")\n",
    "        accuracy, total_confusion, intra_phase_confusion, per_task_confusion, embedding_drift, avg_att_diff, avg_att_spread = run_experiment(*args, **kwargs)\n",
    "        accuracies.append(accuracy)\n",
    "        total_confusions.append(total_confusion)\n",
    "        intra_phase_confusions.append(intra_phase_confusion)\n",
    "        per_task_confusions.append(per_task_confusion)\n",
    "        att_diffs.append(avg_att_diff)\n",
    "        embedding_drifts.append(embedding_drift)\n",
    "        att_spreads.append(avg_att_spread)\n",
    "        _print(f\"Run {r} finished with accuracy {accuracy}\")\n",
    "\n",
    "    report_stats(accuracies, \"accuracy\")\n",
    "    report_stats(total_confusions, \"total confusion\")\n",
    "    report_stats(intra_phase_confusions, \"intra-phase confusion\")\n",
    "    report_stats(per_task_confusions, \"per-task confusion\")\n",
    "    report_stats(embedding_drifts, \"embedding drift\")\n",
    "    report_stats(att_diffs, \"attention drift\")\n",
    "    report_stats(att_spreads, \"attention spread\")"
   ]
  },
  {
   "cell_type": "code",
   "execution_count": 6,
   "metadata": {},
   "outputs": [
    {
     "name": "stdout",
     "output_type": "stream",
     "text": [
      "Starting run 1.\n"
     ]
    },
    {
     "name": "stderr",
     "output_type": "stream",
     "text": [
      "Experiment Progress: 100%|██████████| 5/5 [02:48<00:00, 33.69s/it]\n"
     ]
    },
    {
     "name": "stdout",
     "output_type": "stream",
     "text": [
      "Starting run 2.\n"
     ]
    },
    {
     "name": "stderr",
     "output_type": "stream",
     "text": [
      "Experiment Progress: 100%|██████████| 5/5 [03:27<00:00, 41.48s/it]\n"
     ]
    },
    {
     "name": "stdout",
     "output_type": "stream",
     "text": [
      "Starting run 3.\n"
     ]
    },
    {
     "name": "stderr",
     "output_type": "stream",
     "text": [
      "Experiment Progress: 100%|██████████| 5/5 [02:15<00:00, 27.04s/it]\n"
     ]
    },
    {
     "name": "stdout",
     "output_type": "stream",
     "text": [
      "accuracy [0.1964, 0.1975, 0.1977]\n",
      "Mean accuracy across 3 runs: 0.1972\n",
      "Standard deviation of accuracy across 3 runs: 0.0007000000000000023\n",
      "\n",
      "total confusion [0.415069, 0.3985588, 0.40981270000000003]\n",
      "Mean total confusion across 3 runs: 0.4078135\n",
      "Standard deviation of total confusion across 3 runs: 0.008434706662949239\n",
      "\n",
      "intra-phase confusion [0.409624, 0.3929266, 0.40238399999999996]\n",
      "Mean intra-phase confusion across 3 runs: 0.40164486666666666\n",
      "Standard deviation of intra-phase confusion across 3 runs: 0.008373203105940587\n",
      "\n",
      "per-task confusion [0.07924270031978235, 0.07444721949064895, 0.08855066330220647]\n",
      "Mean per-task confusion across 3 runs: 0.08074686103754593\n",
      "Standard deviation of per-task confusion across 3 runs: 0.007171028966270273\n",
      "\n",
      "embedding drift [9.406989097595215, 8.95884895324707, 9.783537864685059]\n",
      "Mean embedding drift across 3 runs: 9.383125305175781\n",
      "Standard deviation of embedding drift across 3 runs: 0.41286203579848785\n",
      "\n",
      "attention drift [6.822499271845407e-06, 5.3854567178515145e-06, 7.296486485499754e-06]\n",
      "Mean attention drift across 3 runs: 6.501480825065558e-06\n",
      "Standard deviation of attention drift across 3 runs: 9.951373400637377e-07\n",
      "\n",
      "attention spread [53.30747024335447, 56.338465908540414, 55.71795384002053]\n",
      "Mean attention spread across 3 runs: 55.121296663971805\n",
      "Standard deviation of attention spread across 3 runs: 1.601166299886373\n",
      "\n"
     ]
    }
   ],
   "source": [
    "run_experiments(n_runs=3, verbose=False, stopOnLoss = 0.02)"
   ]
  },
  {
   "cell_type": "code",
   "execution_count": 7,
   "metadata": {},
   "outputs": [
    {
     "name": "stdout",
     "output_type": "stream",
     "text": [
      "Starting run 1.\n"
     ]
    },
    {
     "name": "stderr",
     "output_type": "stream",
     "text": [
      "Experiment Progress: 100%|██████████| 5/5 [03:11<00:00, 38.39s/it]\n"
     ]
    },
    {
     "name": "stdout",
     "output_type": "stream",
     "text": [
      "Starting run 2.\n"
     ]
    },
    {
     "name": "stderr",
     "output_type": "stream",
     "text": [
      "Experiment Progress: 100%|██████████| 5/5 [03:19<00:00, 39.99s/it]\n"
     ]
    },
    {
     "name": "stdout",
     "output_type": "stream",
     "text": [
      "Starting run 3.\n"
     ]
    },
    {
     "name": "stderr",
     "output_type": "stream",
     "text": [
      "Experiment Progress: 100%|██████████| 5/5 [03:30<00:00, 42.05s/it]\n"
     ]
    },
    {
     "name": "stdout",
     "output_type": "stream",
     "text": [
      "accuracy [0.1976, 0.198, 0.1977]\n",
      "Mean accuracy across 3 runs: 0.19776666666666667\n",
      "Standard deviation of accuracy across 3 runs: 0.00020816659994662146\n",
      "\n",
      "total confusion [0.43540540000000005, 0.4399872, 0.4529856]\n",
      "Mean total confusion across 3 runs: 0.44279273333333335\n",
      "Standard deviation of total confusion across 3 runs: 0.009119710575085854\n",
      "\n",
      "intra-phase confusion [0.42733049999999995, 0.42952840000000003, 0.44323429999999997]\n",
      "Mean intra-phase confusion across 3 runs: 0.4333644\n",
      "Standard deviation of intra-phase confusion across 3 runs: 0.008617939754372845\n",
      "\n",
      "per-task confusion [0.10210612156045648, 0.10872054799485395, 0.11486059058351616]\n",
      "Mean per-task confusion across 3 runs: 0.10856242004627553\n",
      "Standard deviation of per-task confusion across 3 runs: 0.006378704676589007\n",
      "\n",
      "embedding drift [7.711767673492432, 8.657382011413574, 8.532083511352539]\n",
      "Mean embedding drift across 3 runs: 8.300411065419516\n",
      "Standard deviation of embedding drift across 3 runs: 0.5136153333711453\n",
      "\n",
      "attention drift [8.297765197729138e-06, 8.488935958969258e-06, 1.0456208947797662e-05]\n",
      "Mean attention drift across 3 runs: 9.080970034832019e-06\n",
      "Standard deviation of attention drift across 3 runs: 1.194821374009301e-06\n",
      "\n",
      "attention spread [57.44775566048605, 54.48017582107953, 54.604253571843756]\n",
      "Mean attention spread across 3 runs: 55.51072835113644\n",
      "Standard deviation of attention spread across 3 runs: 1.6786616454584622\n",
      "\n"
     ]
    }
   ],
   "source": [
    "run_experiments(n_runs=3, verbose=False, stopOnLoss = 0.02, with_dropout=True)"
   ]
  },
  {
   "cell_type": "code",
   "execution_count": 8,
   "metadata": {},
   "outputs": [
    {
     "name": "stdout",
     "output_type": "stream",
     "text": [
      "Starting run 1.\n"
     ]
    },
    {
     "name": "stderr",
     "output_type": "stream",
     "text": [
      "Experiment Progress: 100%|██████████| 5/5 [02:42<00:00, 32.43s/it]\n"
     ]
    },
    {
     "name": "stdout",
     "output_type": "stream",
     "text": [
      "Starting run 2.\n"
     ]
    },
    {
     "name": "stderr",
     "output_type": "stream",
     "text": [
      "Experiment Progress: 100%|██████████| 5/5 [02:43<00:00, 32.67s/it]\n"
     ]
    },
    {
     "name": "stdout",
     "output_type": "stream",
     "text": [
      "Starting run 3.\n"
     ]
    },
    {
     "name": "stderr",
     "output_type": "stream",
     "text": [
      "Experiment Progress: 100%|██████████| 5/5 [02:51<00:00, 34.39s/it]\n"
     ]
    },
    {
     "name": "stdout",
     "output_type": "stream",
     "text": [
      "accuracy [0.2011, 0.196, 0.2104]\n",
      "Mean accuracy across 3 runs: 0.2025\n",
      "Standard deviation of accuracy across 3 runs: 0.007301369734508722\n",
      "\n",
      "total confusion [0.3813442, 0.38061730000000005, 0.37627330000000003]\n",
      "Mean total confusion across 3 runs: 0.3794116\n",
      "Standard deviation of total confusion across 3 runs: 0.0027420414055954728\n",
      "\n",
      "intra-phase confusion [0.37786030000000004, 0.37774339999999995, 0.3734803]\n",
      "Mean intra-phase confusion across 3 runs: 0.3763613333333333\n",
      "Standard deviation of intra-phase confusion across 3 runs: 0.0024957325985235997\n",
      "\n",
      "per-task confusion [0.06769524134907531, 0.060844546645660566, 0.06240981341149352]\n",
      "Mean per-task confusion across 3 runs: 0.0636498671354098\n",
      "Standard deviation of per-task confusion across 3 runs: 0.0035897499089069832\n",
      "\n",
      "embedding drift [10.058082580566406, 10.744964599609375, 11.043731689453125]\n",
      "Mean embedding drift across 3 runs: 10.615592956542969\n",
      "Standard deviation of embedding drift across 3 runs: 0.5053996517455982\n",
      "\n",
      "attention drift [6.365006822521414e-06, 5.717914811099348e-06, 7.074895564303279e-06]\n",
      "Mean attention drift across 3 runs: 6.38593906597468e-06\n",
      "Standard deviation of attention drift across 3 runs: 6.787325027236186e-07\n",
      "\n",
      "attention spread [59.327012238138806, 57.88082858173887, 53.11126274882103]\n",
      "Mean attention spread across 3 runs: 56.773034522899565\n",
      "Standard deviation of attention spread across 3 runs: 3.252582233562789\n",
      "\n"
     ]
    }
   ],
   "source": [
    "run_experiments(n_runs=3, verbose=False, stopOnLoss = 0.02, kd_loss=1)"
   ]
  },
  {
   "cell_type": "code",
   "execution_count": 9,
   "metadata": {},
   "outputs": [
    {
     "name": "stdout",
     "output_type": "stream",
     "text": [
      "Starting run 1.\n"
     ]
    },
    {
     "name": "stderr",
     "output_type": "stream",
     "text": [
      "Experiment Progress: 100%|██████████| 5/5 [01:53<00:00, 22.63s/it]\n"
     ]
    },
    {
     "name": "stdout",
     "output_type": "stream",
     "text": [
      "Starting run 2.\n"
     ]
    },
    {
     "name": "stderr",
     "output_type": "stream",
     "text": [
      "Experiment Progress: 100%|██████████| 5/5 [01:59<00:00, 23.81s/it]\n"
     ]
    },
    {
     "name": "stdout",
     "output_type": "stream",
     "text": [
      "Starting run 3.\n"
     ]
    },
    {
     "name": "stderr",
     "output_type": "stream",
     "text": [
      "Experiment Progress: 100%|██████████| 5/5 [02:01<00:00, 24.32s/it]\n"
     ]
    },
    {
     "name": "stdout",
     "output_type": "stream",
     "text": [
      "accuracy [0.5644, 0.6899, 0.6116]\n",
      "Mean accuracy across 3 runs: 0.6219666666666667\n",
      "Standard deviation of accuracy across 3 runs: 0.0633889843216732\n",
      "\n",
      "total confusion [0.44386689999999995, 0.4237191, 0.4426772]\n",
      "Mean total confusion across 3 runs: 0.4367544\n",
      "Standard deviation of total confusion across 3 runs: 0.011304562401526183\n",
      "\n",
      "intra-phase confusion [0.44077370000000005, 0.42138790000000004, 0.43978740000000005]\n",
      "Mean intra-phase confusion across 3 runs: 0.43398300000000006\n",
      "Standard deviation of intra-phase confusion across 3 runs: 0.010918818843171642\n",
      "\n",
      "per-task confusion [0.0753906675313886, 0.06373890813393235, 0.07395251927662698]\n",
      "Mean per-task confusion across 3 runs: 0.07102736498064931\n",
      "Standard deviation of per-task confusion across 3 runs: 0.006352815911508058\n",
      "\n",
      "embedding drift [5.349673271179199, 5.414111137390137, 5.4888596534729]\n",
      "Mean embedding drift across 3 runs: 5.417548020680745\n",
      "Standard deviation of embedding drift across 3 runs: 0.0696568114333913\n",
      "\n",
      "attention drift [3.4388277191247526e-06, 2.4852914064553002e-06, 2.959336049899387e-06]\n",
      "Mean attention drift across 3 runs: 2.9611517251598133e-06\n",
      "Standard deviation of attention drift across 3 runs: 4.767707493149117e-07\n",
      "\n",
      "attention spread [46.26092002732061, 50.86059442113064, 46.640991374099954]\n",
      "Mean attention spread across 3 runs: 47.92083527418374\n",
      "Standard deviation of attention spread across 3 runs: 2.552988726709182\n",
      "\n"
     ]
    }
   ],
   "source": [
    "run_experiments(n_runs=3, verbose=False, stopOnLoss = 0.02, full_CE=False)"
   ]
  },
  {
   "cell_type": "code",
   "execution_count": 10,
   "metadata": {},
   "outputs": [
    {
     "name": "stdout",
     "output_type": "stream",
     "text": [
      "Starting run 1.\n"
     ]
    },
    {
     "name": "stderr",
     "output_type": "stream",
     "text": [
      "Experiment Progress: 100%|██████████| 5/5 [03:03<00:00, 36.64s/it]\n"
     ]
    },
    {
     "name": "stdout",
     "output_type": "stream",
     "text": [
      "Starting run 2.\n"
     ]
    },
    {
     "name": "stderr",
     "output_type": "stream",
     "text": [
      "Experiment Progress: 100%|██████████| 5/5 [03:12<00:00, 38.51s/it]\n"
     ]
    },
    {
     "name": "stdout",
     "output_type": "stream",
     "text": [
      "Starting run 3.\n"
     ]
    },
    {
     "name": "stderr",
     "output_type": "stream",
     "text": [
      "Experiment Progress: 100%|██████████| 5/5 [03:01<00:00, 36.28s/it]\n"
     ]
    },
    {
     "name": "stdout",
     "output_type": "stream",
     "text": [
      "accuracy [0.1956, 0.1978, 0.1963]\n",
      "Mean accuracy across 3 runs: 0.19656666666666667\n",
      "Standard deviation of accuracy across 3 runs: 0.0011239810200058277\n",
      "\n",
      "total confusion [0.31434470000000003, 0.3418599, 0.33706820000000004]\n",
      "Mean total confusion across 3 runs: 0.33109093333333334\n",
      "Standard deviation of total confusion across 3 runs: 0.014699229413929593\n",
      "\n",
      "intra-phase confusion [0.31037950000000003, 0.3371006, 0.3304551]\n",
      "Mean intra-phase confusion across 3 runs: 0.3259784\n",
      "Standard deviation of intra-phase confusion across 3 runs: 0.01391168316452036\n",
      "\n",
      "per-task confusion [0.05960315311095501, 0.0664080323482237, 0.07616511991531197]\n",
      "Mean per-task confusion across 3 runs: 0.06739210179149689\n",
      "Standard deviation of per-task confusion across 3 runs: 0.008324721052926847\n",
      "\n",
      "embedding drift [9.44377326965332, 10.233915328979492, 10.4202299118042]\n",
      "Mean embedding drift across 3 runs: 10.032639503479004\n",
      "Standard deviation of embedding drift across 3 runs: 0.5184118651693069\n",
      "\n",
      "attention drift [3.0905997055673886e-06, 3.733680625895595e-06, 2.5349907590820215e-06]\n",
      "Mean attention drift across 3 runs: 3.119757030181668e-06\n",
      "Standard deviation of attention drift across 3 runs: 5.998766218018356e-07\n",
      "\n",
      "attention spread [64.36687137644645, 63.68115035937755, 70.6023862326541]\n",
      "Mean attention spread across 3 runs: 66.21680265615936\n",
      "Standard deviation of attention spread across 3 runs: 3.813470965947918\n",
      "\n"
     ]
    }
   ],
   "source": [
    "run_experiments(n_runs=3, verbose=False, stopOnLoss = 0.02, with_OOD=True)"
   ]
  },
  {
   "cell_type": "code",
   "execution_count": 11,
   "metadata": {},
   "outputs": [
    {
     "name": "stdout",
     "output_type": "stream",
     "text": [
      "Starting run 1.\n"
     ]
    },
    {
     "name": "stderr",
     "output_type": "stream",
     "text": [
      "Experiment Progress: 100%|██████████| 5/5 [03:09<00:00, 37.97s/it]\n"
     ]
    },
    {
     "name": "stdout",
     "output_type": "stream",
     "text": [
      "Starting run 2.\n"
     ]
    },
    {
     "name": "stderr",
     "output_type": "stream",
     "text": [
      "Experiment Progress: 100%|██████████| 5/5 [03:03<00:00, 36.79s/it]\n"
     ]
    },
    {
     "name": "stdout",
     "output_type": "stream",
     "text": [
      "Starting run 3.\n"
     ]
    },
    {
     "name": "stderr",
     "output_type": "stream",
     "text": [
      "Experiment Progress: 100%|██████████| 5/5 [03:11<00:00, 38.21s/it]\n"
     ]
    },
    {
     "name": "stdout",
     "output_type": "stream",
     "text": [
      "accuracy [0.7654, 0.7314, 0.7328]\n",
      "Mean accuracy across 3 runs: 0.7432\n",
      "Standard deviation of accuracy across 3 runs: 0.019238503060269495\n",
      "\n",
      "total confusion [0.35066620000000004, 0.3228105, 0.3514534]\n",
      "Mean total confusion across 3 runs: 0.34164336666666667\n",
      "Standard deviation of total confusion across 3 runs: 0.016314489606583896\n",
      "\n",
      "intra-phase confusion [0.347985, 0.3202524, 0.3489135]\n",
      "Mean intra-phase confusion across 3 runs: 0.33905029999999997\n",
      "Standard deviation of intra-phase confusion across 3 runs: 0.016286077224734012\n",
      "\n",
      "per-task confusion [0.059980212444068835, 0.05483852550189692, 0.059442913083810736]\n",
      "Mean per-task confusion across 3 runs: 0.058087217009925494\n",
      "Standard deviation of per-task confusion across 3 runs: 0.0028262466340335884\n",
      "\n",
      "embedding drift [6.5190749168396, 5.821240425109863, 6.616893768310547]\n",
      "Mean embedding drift across 3 runs: 6.319069703420003\n",
      "Standard deviation of embedding drift across 3 runs: 0.4338981731730037\n",
      "\n",
      "attention drift [1.9613252560486547e-06, 1.3824820164803455e-06, 1.6654125887630415e-06]\n",
      "Mean attention drift across 3 runs: 1.6697399537640138e-06\n",
      "Standard deviation of attention drift across 3 runs: 2.8944588192678176e-07\n",
      "\n",
      "attention spread [61.670879473634294, 72.02342630853397, 74.12780269794666]\n",
      "Mean attention spread across 3 runs: 69.2740361600383\n",
      "Standard deviation of attention spread across 3 runs: 6.6680652138072976\n",
      "\n"
     ]
    }
   ],
   "source": [
    "run_experiments(n_runs=3, verbose=False, stopOnLoss = 0.02, full_CE = False, with_OOD=True)"
   ]
  },
  {
   "cell_type": "code",
   "execution_count": 12,
   "metadata": {},
   "outputs": [
    {
     "name": "stdout",
     "output_type": "stream",
     "text": [
      "Starting run 1.\n"
     ]
    },
    {
     "name": "stderr",
     "output_type": "stream",
     "text": [
      "Experiment Progress: 100%|██████████| 5/5 [03:44<00:00, 44.95s/it]\n"
     ]
    },
    {
     "name": "stdout",
     "output_type": "stream",
     "text": [
      "Starting run 2.\n"
     ]
    },
    {
     "name": "stderr",
     "output_type": "stream",
     "text": [
      "Experiment Progress: 100%|██████████| 5/5 [04:01<00:00, 48.29s/it]\n"
     ]
    },
    {
     "name": "stdout",
     "output_type": "stream",
     "text": [
      "Starting run 3.\n"
     ]
    },
    {
     "name": "stderr",
     "output_type": "stream",
     "text": [
      "Experiment Progress: 100%|██████████| 5/5 [03:43<00:00, 44.75s/it]\n"
     ]
    },
    {
     "name": "stdout",
     "output_type": "stream",
     "text": [
      "accuracy [0.7769, 0.8705, 0.8392]\n",
      "Mean accuracy across 3 runs: 0.8288666666666666\n",
      "Standard deviation of accuracy across 3 runs: 0.047647910062597006\n",
      "\n",
      "total confusion [0.35181189999999996, 0.33913230000000005, 0.35328760000000003]\n",
      "Mean total confusion across 3 runs: 0.34807726666666666\n",
      "Standard deviation of total confusion across 3 runs: 0.007781628629235198\n",
      "\n",
      "intra-phase confusion [0.3490227, 0.3359761, 0.3500449]\n",
      "Mean intra-phase confusion across 3 runs: 0.3450145666666667\n",
      "Standard deviation of intra-phase confusion across 3 runs: 0.007844210156117273\n",
      "\n",
      "per-task confusion [0.05687022024336545, 0.05976064777910328, 0.06189915734324638]\n",
      "Mean per-task confusion across 3 runs: 0.05951000845523837\n",
      "Standard deviation of per-task confusion across 3 runs: 0.002523819950321396\n",
      "\n",
      "embedding drift [5.19499397277832, 5.30782413482666, 5.013857841491699]\n",
      "Mean embedding drift across 3 runs: 5.17222531636556\n",
      "Standard deviation of embedding drift across 3 runs: 0.1482998792663225\n",
      "\n",
      "attention drift [9.84272655020644e-07, 9.608395183170675e-07, 8.267475369761262e-07]\n",
      "Mean attention drift across 3 runs: 9.239532367712792e-07\n",
      "Standard deviation of attention drift across 3 runs: 8.499405290043053e-08\n",
      "\n",
      "attention spread [54.1996993267486, 69.39352074990163, 62.748982111041336]\n",
      "Mean attention spread across 3 runs: 62.11406739589719\n",
      "Standard deviation of attention spread across 3 runs: 7.61678343405508\n",
      "\n"
     ]
    }
   ],
   "source": [
    "run_experiments(n_runs=3, verbose=False, stopOnLoss = 0.02, full_CE = False, kd_loss = 1, with_OOD=True)"
   ]
  },
  {
   "cell_type": "code",
   "execution_count": 13,
   "metadata": {},
   "outputs": [
    {
     "name": "stdout",
     "output_type": "stream",
     "text": [
      "Starting run 1.\n"
     ]
    },
    {
     "name": "stderr",
     "output_type": "stream",
     "text": [
      "Experiment Progress: 100%|██████████| 5/5 [02:31<00:00, 30.25s/it]\n"
     ]
    },
    {
     "name": "stdout",
     "output_type": "stream",
     "text": [
      "Starting run 2.\n"
     ]
    },
    {
     "name": "stderr",
     "output_type": "stream",
     "text": [
      "Experiment Progress: 100%|██████████| 5/5 [02:25<00:00, 29.20s/it]\n"
     ]
    },
    {
     "name": "stdout",
     "output_type": "stream",
     "text": [
      "Starting run 3.\n"
     ]
    },
    {
     "name": "stderr",
     "output_type": "stream",
     "text": [
      "Experiment Progress: 100%|██████████| 5/5 [02:23<00:00, 28.79s/it]\n"
     ]
    },
    {
     "name": "stdout",
     "output_type": "stream",
     "text": [
      "accuracy [0.6707, 0.7146, 0.708]\n",
      "Mean accuracy across 3 runs: 0.6977666666666666\n",
      "Standard deviation of accuracy across 3 runs: 0.023671572261540513\n",
      "\n",
      "total confusion [0.39216870000000004, 0.3781702, 0.3921686]\n",
      "Mean total confusion across 3 runs: 0.3875025\n",
      "Standard deviation of total confusion across 3 runs: 0.008082008875892178\n",
      "\n",
      "intra-phase confusion [0.3900099, 0.3760787, 0.3900641]\n",
      "Mean intra-phase confusion across 3 runs: 0.3853842333333333\n",
      "Standard deviation of intra-phase confusion across 3 runs: 0.008058873827857938\n",
      "\n",
      "per-task confusion [0.05703432950829794, 0.05830395668970132, 0.057738022293946825]\n",
      "Mean per-task confusion across 3 runs: 0.0576921028306487\n",
      "Standard deviation of per-task confusion across 3 runs: 0.0006360579712351418\n",
      "\n",
      "embedding drift [5.050500869750977, 4.625858306884766, 4.97245454788208]\n",
      "Mean embedding drift across 3 runs: 4.882937908172607\n",
      "Standard deviation of embedding drift across 3 runs: 0.22603152023125586\n",
      "\n",
      "attention drift [8.581989060222118e-07, 9.163730320507205e-07, 7.733269089436079e-07]\n",
      "Mean attention drift across 3 runs: 8.492996156721801e-07\n",
      "Standard deviation of attention drift across 3 runs: 7.193710002873641e-08\n",
      "\n",
      "attention spread [49.315927326154686, 47.83581723930969, 47.02939694629666]\n",
      "Mean attention spread across 3 runs: 48.06038050392034\n",
      "Standard deviation of attention spread across 3 runs: 1.1596882293801516\n",
      "\n"
     ]
    }
   ],
   "source": [
    "run_experiments(n_runs=3, verbose=False, stopOnLoss = 0.02, full_CE = False, kd_loss = 1)"
   ]
  },
  {
   "cell_type": "code",
   "execution_count": 14,
   "metadata": {},
   "outputs": [
    {
     "name": "stdout",
     "output_type": "stream",
     "text": [
      "Starting run 1.\n"
     ]
    },
    {
     "name": "stderr",
     "output_type": "stream",
     "text": [
      "Experiment Progress: 100%|██████████| 5/5 [04:06<00:00, 49.22s/it]\n"
     ]
    },
    {
     "name": "stdout",
     "output_type": "stream",
     "text": [
      "Starting run 2.\n"
     ]
    },
    {
     "name": "stderr",
     "output_type": "stream",
     "text": [
      "Experiment Progress: 100%|██████████| 5/5 [03:54<00:00, 46.80s/it]\n"
     ]
    },
    {
     "name": "stdout",
     "output_type": "stream",
     "text": [
      "Starting run 3.\n"
     ]
    },
    {
     "name": "stderr",
     "output_type": "stream",
     "text": [
      "Experiment Progress: 100%|██████████| 5/5 [04:16<00:00, 51.29s/it]\n"
     ]
    },
    {
     "name": "stdout",
     "output_type": "stream",
     "text": [
      "accuracy [0.7941, 0.7589, 0.7547]\n",
      "Mean accuracy across 3 runs: 0.7692333333333333\n",
      "Standard deviation of accuracy across 3 runs: 0.021637313449994974\n",
      "\n",
      "total confusion [0.3988575, 0.3862567, 0.38862149999999995]\n",
      "Mean total confusion across 3 runs: 0.39124523333333333\n",
      "Standard deviation of total confusion across 3 runs: 0.00669761320272627\n",
      "\n",
      "intra-phase confusion [0.39698809999999995, 0.38445490000000004, 0.38682479999999997]\n",
      "Mean intra-phase confusion across 3 runs: 0.3894226\n",
      "Standard deviation of intra-phase confusion across 3 runs: 0.006658205403109724\n",
      "\n",
      "per-task confusion [0.06140189885493008, 0.056351439357886356, 0.06230954945676648]\n",
      "Mean per-task confusion across 3 runs: 0.06002096255652764\n",
      "Standard deviation of per-task confusion across 3 runs: 0.0032101413960725165\n",
      "\n",
      "embedding drift [4.694825649261475, 4.6878814697265625, 4.639401435852051]\n",
      "Mean embedding drift across 3 runs: 4.674036184946696\n",
      "Standard deviation of embedding drift across 3 runs: 0.030194863652449933\n",
      "\n",
      "attention drift [1.2857329647024986e-06, 1.2850781937090383e-06, 1.3293183555560669e-06]\n",
      "Mean attention drift across 3 runs: 1.3000431713225345e-06\n",
      "Standard deviation of attention drift across 3 runs: 2.5355166932874086e-08\n",
      "\n",
      "attention spread [48.42282827960245, 48.30713391953608, 47.36616933840321]\n",
      "Mean attention spread across 3 runs: 48.03204384584725\n",
      "Standard deviation of attention spread across 3 runs: 0.5795584017039777\n",
      "\n"
     ]
    }
   ],
   "source": [
    "run_experiments(n_runs=3, verbose=False, stopOnLoss = 0.02, full_CE = False, kd_loss = 1, with_dropout=True)"
   ]
  },
  {
   "cell_type": "code",
   "execution_count": 15,
   "metadata": {},
   "outputs": [
    {
     "name": "stdout",
     "output_type": "stream",
     "text": [
      "Starting run 1.\n"
     ]
    },
    {
     "name": "stderr",
     "output_type": "stream",
     "text": [
      "Experiment Progress: 100%|██████████| 5/5 [06:52<00:00, 82.60s/it] \n"
     ]
    },
    {
     "name": "stdout",
     "output_type": "stream",
     "text": [
      "Starting run 2.\n"
     ]
    },
    {
     "name": "stderr",
     "output_type": "stream",
     "text": [
      "Experiment Progress: 100%|██████████| 5/5 [07:25<00:00, 89.03s/it] \n"
     ]
    },
    {
     "name": "stdout",
     "output_type": "stream",
     "text": [
      "Starting run 3.\n"
     ]
    },
    {
     "name": "stderr",
     "output_type": "stream",
     "text": [
      "Experiment Progress: 100%|██████████| 5/5 [08:30<00:00, 102.05s/it]\n"
     ]
    },
    {
     "name": "stdout",
     "output_type": "stream",
     "text": [
      "accuracy [0.8426, 0.8516, 0.8419]\n",
      "Mean accuracy across 3 runs: 0.8453666666666667\n",
      "Standard deviation of accuracy across 3 runs: 0.005409559439855847\n",
      "\n",
      "total confusion [0.3361244, 0.3372204, 0.32370750000000004]\n",
      "Mean total confusion across 3 runs: 0.3323507666666667\n",
      "Standard deviation of total confusion across 3 runs: 0.007505321312464434\n",
      "\n",
      "intra-phase confusion [0.3335331, 0.3346409, 0.32130820000000004]\n",
      "Mean intra-phase confusion across 3 runs: 0.32982740000000005\n",
      "Standard deviation of intra-phase confusion across 3 runs: 0.0073986067397855265\n",
      "\n",
      "per-task confusion [0.0553429920459035, 0.055829422516431484, 0.05180261498255838]\n",
      "Mean per-task confusion across 3 runs: 0.05432500984829779\n",
      "Standard deviation of per-task confusion across 3 runs: 0.0021979559924384094\n",
      "\n",
      "embedding drift [5.326330184936523, 4.6283979415893555, 5.182539463043213]\n",
      "Mean embedding drift across 3 runs: 5.045755863189697\n",
      "Standard deviation of embedding drift across 3 runs: 0.36852363420487383\n",
      "\n",
      "attention drift [1.6006146696358242e-06, 1.5911078181466886e-06, 1.8044957682336752e-06]\n",
      "Mean attention drift across 3 runs: 1.6654060853387292e-06\n",
      "Standard deviation of attention drift across 3 runs: 1.2054895259674206e-07\n",
      "\n",
      "attention spread [55.30955753126392, 57.993378322552545, 54.02566392501335]\n",
      "Mean attention spread across 3 runs: 55.776199926276604\n",
      "Standard deviation of attention spread across 3 runs: 2.0246001404542424\n",
      "\n"
     ]
    }
   ],
   "source": [
    "run_experiments(n_runs=3, verbose=False, stopOnLoss = 0.02, full_CE = False, kd_loss = 1, with_OOD=True, with_dropout=True)"
   ]
  },
  {
   "cell_type": "code",
   "execution_count": 16,
   "metadata": {},
   "outputs": [
    {
     "name": "stdout",
     "output_type": "stream",
     "text": [
      "Starting run 1.\n"
     ]
    },
    {
     "name": "stderr",
     "output_type": "stream",
     "text": [
      "Experiment Progress: 100%|██████████| 5/5 [03:40<00:00, 44.04s/it]\n"
     ]
    },
    {
     "name": "stdout",
     "output_type": "stream",
     "text": [
      "Starting run 2.\n"
     ]
    },
    {
     "name": "stderr",
     "output_type": "stream",
     "text": [
      "Experiment Progress: 100%|██████████| 5/5 [03:41<00:00, 44.21s/it]\n"
     ]
    },
    {
     "name": "stdout",
     "output_type": "stream",
     "text": [
      "Starting run 3.\n"
     ]
    },
    {
     "name": "stderr",
     "output_type": "stream",
     "text": [
      "Experiment Progress: 100%|██████████| 5/5 [03:31<00:00, 42.22s/it]\n"
     ]
    },
    {
     "name": "stdout",
     "output_type": "stream",
     "text": [
      "accuracy [0.8188, 0.857, 0.8669]\n",
      "Mean accuracy across 3 runs: 0.8475666666666667\n",
      "Standard deviation of accuracy across 3 runs: 0.025399671913891607\n",
      "\n",
      "total confusion [0.3407717, 0.34503989999999995, 0.3564543]\n",
      "Mean total confusion across 3 runs: 0.34742196666666664\n",
      "Standard deviation of total confusion across 3 runs: 0.008108123512461646\n",
      "\n",
      "intra-phase confusion [0.33786700000000003, 0.3416525, 0.35379879999999997]\n",
      "Mean intra-phase confusion across 3 runs: 0.3444394333333333\n",
      "Standard deviation of intra-phase confusion across 3 runs: 0.008323509528037605\n",
      "\n",
      "per-task confusion [0.05994734114534672, 0.06377310507573661, 0.06036305765982066]\n",
      "Mean per-task confusion across 3 runs: 0.06136116796030133\n",
      "Standard deviation of per-task confusion across 3 runs: 0.002099115418863926\n",
      "\n",
      "embedding drift [4.810020923614502, 5.231167316436768, 5.27020263671875]\n",
      "Mean embedding drift across 3 runs: 5.10379695892334\n",
      "Standard deviation of embedding drift across 3 runs: 0.25516506079146867\n",
      "\n",
      "attention drift [7.727220423040127e-07, 9.005682948016939e-07, 1.025279005051058e-06]\n",
      "Mean attention drift across 3 runs: 8.995231140522549e-07\n",
      "Standard deviation of attention drift across 3 runs: 1.262817253608073e-07\n",
      "\n",
      "attention spread [62.33672327585568, 60.04405885502278, 54.311063375133266]\n",
      "Mean attention spread across 3 runs: 58.897281835337246\n",
      "Standard deviation of attention spread across 3 runs: 4.133899776261523\n",
      "\n"
     ]
    }
   ],
   "source": [
    "run_experiments(n_runs=3, verbose=False, stopOnLoss = 0.02, full_CE = False, kd_loss = 1, with_OOD=True)"
   ]
  },
  {
   "cell_type": "code",
   "execution_count": 17,
   "metadata": {},
   "outputs": [
    {
     "name": "stdout",
     "output_type": "stream",
     "text": [
      "Starting run 1.\n"
     ]
    },
    {
     "name": "stderr",
     "output_type": "stream",
     "text": [
      "Experiment Progress: 100%|██████████| 1/1 [03:27<00:00, 207.65s/it]\n"
     ]
    },
    {
     "name": "stdout",
     "output_type": "stream",
     "text": [
      "Starting run 2.\n"
     ]
    },
    {
     "name": "stderr",
     "output_type": "stream",
     "text": [
      "Experiment Progress: 100%|██████████| 1/1 [03:28<00:00, 208.37s/it]\n"
     ]
    },
    {
     "name": "stdout",
     "output_type": "stream",
     "text": [
      "Starting run 3.\n"
     ]
    },
    {
     "name": "stderr",
     "output_type": "stream",
     "text": [
      "Experiment Progress: 100%|██████████| 1/1 [03:33<00:00, 213.33s/it]\n"
     ]
    },
    {
     "name": "stdout",
     "output_type": "stream",
     "text": [
      "accuracy [0.9875, 0.9905, 0.9917]\n",
      "Mean accuracy across 3 runs: 0.9899\n",
      "Standard deviation of accuracy across 3 runs: 0.0021633307652783864\n",
      "\n",
      "total confusion [0.20088799999999996, 0.18580180000000002, 0.19334340000000005]\n",
      "Mean total confusion across 3 runs: 0.1933444\n",
      "Standard deviation of total confusion across 3 runs: 0.0075431000497142775\n",
      "\n",
      "intra-phase confusion [0.0, 0.0, 0.0]\n",
      "Mean intra-phase confusion across 3 runs: 0.0\n",
      "Standard deviation of intra-phase confusion across 3 runs: 0.0\n",
      "\n",
      "per-task confusion [0.20088799999999996, 0.18580180000000002, 0.19334340000000005]\n",
      "Mean per-task confusion across 3 runs: 0.1933444\n",
      "Standard deviation of per-task confusion across 3 runs: 0.0075431000497142775\n",
      "\n",
      "embedding drift [7.900726814114023e-06, 7.735938197583891e-06, 7.888202162575908e-06]\n",
      "Mean embedding drift across 3 runs: 7.841622391424607e-06\n",
      "Standard deviation of embedding drift across 3 runs: 9.173918652821886e-08\n",
      "\n",
      "attention drift [1.453547069852216e-20, 1.6469810920513368e-20, 1.8219633346340236e-20]\n",
      "Mean attention drift across 3 runs: 1.6408304988458586e-20\n",
      "Standard deviation of attention drift across 3 runs: 1.8428512795808896e-21\n",
      "\n",
      "attention spread [54.2513583574295, 49.98253577213287, 50.0576790266037]\n",
      "Mean attention spread across 3 runs: 51.43052438538869\n",
      "Standard deviation of attention spread across 3 runs: 2.4432027853900653\n",
      "\n"
     ]
    }
   ],
   "source": [
    "# training on entire dataset\n",
    "globals.ITERATIONS = 1\n",
    "globals.CLASSES_PER_ITER = 10\n",
    "run_experiments(n_runs=3, verbose=False, stopOnLoss = 0.02)"
   ]
  },
  {
   "cell_type": "code",
   "execution_count": 18,
   "metadata": {},
   "outputs": [],
   "source": [
    "torch.cuda.empty_cache()"
   ]
  }
 ],
 "metadata": {
  "kernelspec": {
   "display_name": "Python 3",
   "language": "python",
   "name": "python3"
  },
  "language_info": {
   "codemirror_mode": {
    "name": "ipython",
    "version": 3
   },
   "file_extension": ".py",
   "mimetype": "text/x-python",
   "name": "python",
   "nbconvert_exporter": "python",
   "pygments_lexer": "ipython3",
   "version": "3.8.5"
  }
 },
 "nbformat": 4,
 "nbformat_minor": 4
}
