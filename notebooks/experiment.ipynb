{
 "cells": [
  {
   "cell_type": "code",
   "execution_count": 1,
   "metadata": {},
   "outputs": [],
   "source": [
    "import torch\n",
    "import torchvision\n",
    "import torchvision.transforms as transforms\n",
    "from sklearn import metrics\n",
    "from sklearn.model_selection import train_test_split\n",
    "from torch.utils.data import DataLoader, Subset\n",
    "import numpy as np\n",
    "import copy\n",
    "import statistics\n",
    "import matplotlib.pyplot as plt\n",
    "import time\n",
    "from tqdm import tqdm\n",
    "\n",
    "import sys\n",
    "sys.path.append('./../src')\n",
    "import globals\n",
    "from model import Net\n",
    "from training import train_model, train_model_CL\n",
    "from visualizations import plot_embeddings, plot_confusion_matrix\n",
    "from feature_attribution import Feature_Importance_Evaluations\n",
    "from pytorch_utils import get_features, get_labels\n",
    "from embedding_measurements import measure_embedding_confusion_knn, measure_embedding_drift"
   ]
  },
  {
   "cell_type": "code",
   "execution_count": 17,
   "metadata": {},
   "outputs": [],
   "source": [
    "SEED = globals.SEED\n",
    "DEVICE = globals.DEVICE\n",
    "full_trainset = globals.full_trainset\n",
    "trainset = globals.trainset\n",
    "testset = globals.testset\n",
    "trainloaders = globals.trainloaders\n",
    "valloaders = globals.valloaders\n",
    "testloaders = globals.testloaders"
   ]
  },
  {
   "cell_type": "code",
   "execution_count": 18,
   "metadata": {},
   "outputs": [],
   "source": [
    "# This is the two-step process used to prepare the\n",
    "# data for use with the convolutional neural network.\n",
    "\n",
    "# First step is to convert Python Image Library (PIL) format\n",
    "# to PyTorch tensors.\n",
    "\n",
    "# Second step is used to normalize the data by specifying a \n",
    "# mean and standard deviation for each of the three channels.\n",
    "# This will convert the data from [0,1] to [-1,1]\n",
    "\n",
    "# Normalization of data should help speed up conversion and\n",
    "# reduce the chance of vanishing gradients with certain \n",
    "# activation functions.\n",
    "def initialize_data():\n",
    "    transform = transforms.Compose([\n",
    "        transforms.ToTensor()\n",
    "        #transforms.Normalize((0.5,), (0.5,))  # Normalizes to mean 0.5 and std 0.5 for the single channel\n",
    "    ])\n",
    "\n",
    "    globals.full_trainset = torchvision.datasets.MNIST('./../data/', train=True, download=True,\n",
    "                                transform=transform)\n",
    "    targets = np.array(globals.full_trainset.targets)\n",
    "\n",
    "    # Perform stratified split\n",
    "    train_indices, val_indices = train_test_split(\n",
    "        np.arange(len(targets)),\n",
    "        test_size=0.01,\n",
    "        stratify=targets\n",
    "    )\n",
    "\n",
    "    # Create subsets\n",
    "    valset = Subset(globals.full_trainset, val_indices)\n",
    "    globals.trainset = Subset(globals.full_trainset, train_indices)\n",
    "\n",
    "    globals.testset = torchvision.datasets.MNIST('./../data/', train=False, download=True,\n",
    "                                transform=transform)\n",
    "\n",
    "    # Define class pairs for each subset\n",
    "    class_pairs = [tuple(range(i*globals.CLASSES_PER_ITER,(i+1)*globals.CLASSES_PER_ITER)) for i in range(globals.ITERATIONS)]\n",
    "    #print(class_pairs)\n",
    "\n",
    "    # Dictionary to hold data loaders for each subset\n",
    "    globals.trainloaders = []\n",
    "    globals.testloaders = []\n",
    "    globals.valloaders = []\n",
    "    subset_indices = []\n",
    "    # Loop over each class pair\n",
    "    for i, t in enumerate(class_pairs):\n",
    "        # Get indices of images belonging to the specified class pair\n",
    "        subs_ind = [idx for idx, (_, label) in enumerate(globals.trainset) if label in list(t)]\n",
    "        val_subset_indices = [idx for idx, (_, label) in enumerate(valset) if label in list(t)]\n",
    "        test_subset_indices = [idx for idx, (_, label) in enumerate(globals.testset) if label in list(t)]\n",
    "        # Create a subset for the current class pair\n",
    "        train_subset = Subset(globals.trainset, subs_ind)\n",
    "        globals.trainloaders.append(DataLoader(train_subset, batch_size=globals.BATCH_SIZE, shuffle=True, pin_memory=True, num_workers = 0))\n",
    "\n",
    "        subset_indices.append(subs_ind)\n",
    "        \n",
    "        val_subset = Subset(valset, val_subset_indices)\n",
    "        globals.valloaders.append(DataLoader(val_subset, batch_size=500, shuffle=False))\n",
    "\n",
    "        test_subset = Subset(globals.testset, test_subset_indices)\n",
    "        globals.testloaders.append(DataLoader(test_subset, batch_size=500, shuffle=False))\n"
   ]
  },
  {
   "cell_type": "code",
   "execution_count": 19,
   "metadata": {},
   "outputs": [],
   "source": [
    "def run_experiment(\n",
    "        verbose = False,\n",
    "        stopOnLoss = 0.03,\n",
    "        full_CE = True,\n",
    "        with_OOD = False,\n",
    "        kd_loss = 0,\n",
    "        stopOnValAcc = None,\n",
    "        epochs = 1000000,\n",
    "        with_dropout = False\n",
    "        ):\n",
    "    def _print(*args, **kwargs):\n",
    "        if verbose:\n",
    "            print(*args, **kwargs)\n",
    "    if with_OOD:\n",
    "        globals.OOD_CLASS = 1\n",
    "    else:\n",
    "        globals.OOD_CLASS = 0\n",
    "    initialize_data()\n",
    "    prevModel = None\n",
    "    globals.BATCH_SIZE=4\n",
    "    globals.WITH_DROPOUT = with_dropout\n",
    "\n",
    "    #[Denis] added code:\n",
    "    Feature_Importance_Eval=Feature_Importance_Evaluations(globals.valloaders, DEVICE)\n",
    "\n",
    "    for i in tqdm(range(globals.ITERATIONS), desc=\"Experiment Progress\"):\n",
    "        model = Net((i+1)*(globals.CLASSES_PER_ITER+globals.OOD_CLASS))\n",
    "        if prevModel is not None:\n",
    "            with torch.no_grad():\n",
    "                model.copyPrev(prevModel)\n",
    "        train_loader = globals.trainloaders[i]\n",
    "        val_loader = globals.valloaders[i]\n",
    "        if prevModel:\n",
    "            _print(\"CL TRAIN!!\")\n",
    "            train_model_CL(\n",
    "                model,\n",
    "                prevModel,\n",
    "                train_loader,\n",
    "                val_loader,\n",
    "                i,\n",
    "                verbose,\n",
    "                epochs,\n",
    "                True,\n",
    "                freeze_nonzero_params=False,\n",
    "                l1_loss=0,\n",
    "                ewc_loss=0,\n",
    "                kd_loss=kd_loss,\n",
    "                distance_loss=0,\n",
    "                center_loss=0,\n",
    "                param_reuse_loss=0,\n",
    "                stopOnLoss=stopOnLoss,\n",
    "                stopOnValAcc = stopOnValAcc,\n",
    "                full_CE=full_CE\n",
    "                )\n",
    "        else:\n",
    "            train_model(\n",
    "                model, \n",
    "                train_loader, \n",
    "                val_loader, \n",
    "                verbose, \n",
    "                epochs=epochs, \n",
    "                l1_loss=0,\n",
    "                stopOnLoss=stopOnLoss,\n",
    "                center_loss =0,\n",
    "                )\n",
    "\n",
    "        #[Denis] added code:\n",
    "        Feature_Importance_Eval.Task_Feature_Attribution(model, i)\n",
    "        \n",
    "        if verbose or i == globals.ITERATIONS-1:\n",
    "            _print(\"Starting evaluation\")\n",
    "            _print(\"ITERATION\", i+1)\n",
    "            _print(\"ACCURACIES PER TASK:\")\n",
    "            accumPred = []\n",
    "            all_labels = []\n",
    "            all_embeddings = []\n",
    "            with torch.no_grad():\n",
    "                for j in range(i+1):\n",
    "                    val_loader = globals.testloaders[j]\n",
    "                    val_labels = get_labels(val_loader).to(DEVICE)\n",
    "                    all_labels.append(val_labels)\n",
    "                    model.eval()\n",
    "                    pred, embeddings = model.get_pred_and_embeddings((get_features(val_loader).to(DEVICE)))\n",
    "                    model.train()\n",
    "                    accumPred.append(pred)\n",
    "                    all_embeddings.append(embeddings)\n",
    "                    sliced_pred = pred[:, j*(globals.CLASSES_PER_ITER+globals.OOD_CLASS):(j+1)*(globals.CLASSES_PER_ITER+globals.OOD_CLASS)]\n",
    "                    _, predicted = torch.max(sliced_pred, 1)  # Get the class predictions\n",
    "                    predicted += j*globals.CLASSES_PER_ITER\n",
    "                    correct = (predicted == val_labels).sum().item()  # Count how many were correct\n",
    "                    accuracy = correct / val_labels.size(0)  # Accuracy as a percentage\n",
    "                    _print(str(accuracy), end=' ')\n",
    "            accumPred = torch.cat(accumPred)\n",
    "            all_labels = torch.cat(all_labels)\n",
    "            all_embeddings = torch.cat(all_embeddings)\n",
    "            predicted = []\n",
    "            for x in accumPred:\n",
    "                if globals.OOD_CLASS == 1:\n",
    "                    x_pred = x[[i for i in range(x.size(0)) if (i + 1) % (globals.CLASSES_PER_ITER+1) != 0]]\n",
    "                else:\n",
    "                    x_pred = x\n",
    "                x_pred = torch.softmax(x_pred, dim=-1)\n",
    "                max = 0\n",
    "                for (k, v) in enumerate(x_pred):\n",
    "                    if v > max:\n",
    "                        max = v\n",
    "                        p = k\n",
    "                predicted.append(p)\n",
    "            predicted = torch.tensor(predicted).to(DEVICE)\n",
    "            correct = (predicted == all_labels).sum().item()  # Count how many were correct\n",
    "            accuracy = correct / all_labels.size(0)  # Accuracy as a percentage\n",
    "            _print(\"Accuracy on tasks so far:\", accuracy)\n",
    "\n",
    "            embedding_drift = measure_embedding_drift(all_embeddings, all_labels, model.prev_test_embedding_centers)\n",
    "            _print(\"Average embedding drift based on centroids:\", embedding_drift)\n",
    "            total_confusion, intra_phase_confusion, per_task_confusion = measure_embedding_confusion_knn(all_embeddings, all_labels, k = 1000, task=i+1)\n",
    "            _print(\"Total confusion\", total_confusion)\n",
    "            _print(\"Intra-phase confusion\", intra_phase_confusion)\n",
    "            _print(\"Per task confusions\", per_task_confusion)\n",
    "            if verbose:\n",
    "                plot_confusion_matrix(predicted.cpu(), all_labels.cpu(), list(range(globals.CLASSES_PER_ITER*(i+1))))\n",
    "        prevModel = copy.deepcopy(model)\n",
    "        \n",
    "    #[Denis] added code:\n",
    "    avg_shap_val,shap_vals,avg_entropy_val,entropy_vals=Feature_Importance_Eval.Get_Feature_Change_Score(prevModel)\n",
    "    _print(\"Average SHAPC values (ordered as tasks):\", shap_vals)\n",
    "    _print(\"Averaged SHAPC value (the smaller the better):\", avg_shap_val)\n",
    "    _print(\"Average entropy values (ordered as tasks):\", entropy_vals)\n",
    "    _print(\"Averaged entropy value (the bigger the better):\", avg_entropy_val)\n",
    "    Feature_Importance_Eval.Save_Random_Picture_Salency() #prints the salcency maps for 1 example by class (first row: image, second row: salency map after training, third row: salency map after training task where class is included)\n",
    "    \n",
    "    return accuracy, total_confusion, intra_phase_confusion, per_task_confusion, embedding_drift, avg_shap_val"
   ]
  },
  {
   "cell_type": "code",
   "execution_count": 20,
   "metadata": {},
   "outputs": [],
   "source": [
    "def run_experiments(n_runs=1, *args, **kwargs):\n",
    "    verbose = kwargs.get('verbose', None)\n",
    "    def _print(*args, **kwargs):\n",
    "        if verbose:\n",
    "            print(*args, **kwargs)\n",
    "    accuracies = []\n",
    "    total_confusions = []\n",
    "    intra_phase_confusions = []\n",
    "    per_task_confusions = []\n",
    "    shap_vals = []\n",
    "    embedding_drifts = []\n",
    "    for r in range(n_runs):\n",
    "        print(f\"Starting run {r+1}.\")\n",
    "        accuracy, total_confusion, intra_phase_confusion, per_task_confusion, embedding_drift, avg_shap_val = run_experiment(*args, **kwargs)\n",
    "        accuracies.append(accuracy)\n",
    "        total_confusions.append(total_confusion)\n",
    "        intra_phase_confusions.append(intra_phase_confusion)\n",
    "        per_task_confusions.append(per_task_confusion)\n",
    "        shap_vals.append(avg_shap_val)\n",
    "        embedding_drifts.append(embedding_drift)\n",
    "        _print(f\"Run {r} finished with accuracy {accuracy}\")\n",
    "    # Calculate means and standard deviations for each measure\n",
    "    mean_acc = statistics.mean(accuracies)\n",
    "    acc_std = statistics.stdev(accuracies)\n",
    "\n",
    "    mean_total_confusion = statistics.mean(total_confusions)\n",
    "    total_confusion_std = statistics.stdev(total_confusions)\n",
    "\n",
    "    mean_intra_phase_confusion = statistics.mean(intra_phase_confusions)\n",
    "    intra_phase_confusion_std = statistics.stdev(intra_phase_confusions)\n",
    "\n",
    "    mean_per_task_confusion = statistics.mean(per_task_confusions)\n",
    "    per_task_confusion_std = statistics.stdev(per_task_confusions)\n",
    "\n",
    "    mean_embedding_drift = statistics.mean(embedding_drifts)\n",
    "    embedding_drift_std = statistics.stdev(embedding_drifts)\n",
    "\n",
    "    mean_shap_val = statistics.mean(shap_vals)\n",
    "    shap_val_std = statistics.stdev(shap_vals)\n",
    "\n",
    "    # Print all results\n",
    "    #print(\"Accuracies:\")\n",
    "    #print(accuracies)\n",
    "    print(f\"Mean accuracy across {n_runs} runs: {mean_acc}\")\n",
    "    print(f\"Standard deviation of accuracy across {n_runs} runs: {acc_std}\\n\")\n",
    "\n",
    "    #print(\"Total Confusions:\")\n",
    "    #print(total_confusions)\n",
    "    print(f\"Mean total confusion across {n_runs} runs: {mean_total_confusion}\")\n",
    "    print(f\"Standard deviation of total confusion across {n_runs} runs: {total_confusion_std}\\n\")\n",
    "\n",
    "    #print(\"Intra-Phase Confusions:\")\n",
    "    #print(intra_phase_confusions)\n",
    "    print(f\"Mean intra-phase confusion across {n_runs} runs: {mean_intra_phase_confusion}\")\n",
    "    print(f\"Standard deviation of intra-phase confusion across {n_runs} runs: {intra_phase_confusion_std}\\n\")\n",
    "\n",
    "    #print(\"Per-Task Confusions:\")\n",
    "    #print(per_task_confusions)\n",
    "    print(f\"Mean per-task confusion across {n_runs} runs: {mean_per_task_confusion}\")\n",
    "    print(f\"Standard deviation of per-task confusion across {n_runs} runs: {per_task_confusion_std}\\n\")\n",
    "\n",
    "    #print(\"Embedding drifts:\")\n",
    "    #print(embedding_drifts)\n",
    "    print(f\"Mean embedding drift across {n_runs} runs: {mean_embedding_drift}\")\n",
    "    print(f\"Standard deviation of embedding drift across {n_runs} runs: {embedding_drift_std}\\n\")\n",
    "\n",
    "    #print(\"SHAP Values:\")\n",
    "    #print(shap_vals)\n",
    "    print(f\"Mean SHAP values across {n_runs} runs: {mean_shap_val}\")\n",
    "    print(f\"Standard deviation of SHAP values across {n_runs} runs: {shap_val_std}\\n\")"
   ]
  },
  {
   "cell_type": "code",
   "execution_count": 6,
   "metadata": {},
   "outputs": [
    {
     "name": "stdout",
     "output_type": "stream",
     "text": [
      "Starting run 1.\n"
     ]
    },
    {
     "name": "stderr",
     "output_type": "stream",
     "text": [
      "Experiment Progress: 100%|██████████| 5/5 [02:03<00:00, 24.66s/it]\n"
     ]
    },
    {
     "name": "stdout",
     "output_type": "stream",
     "text": [
      "Starting run 2.\n"
     ]
    },
    {
     "name": "stderr",
     "output_type": "stream",
     "text": [
      "Experiment Progress: 100%|██████████| 5/5 [02:03<00:00, 24.68s/it]\n"
     ]
    },
    {
     "name": "stdout",
     "output_type": "stream",
     "text": [
      "Starting run 3.\n"
     ]
    },
    {
     "name": "stderr",
     "output_type": "stream",
     "text": [
      "Experiment Progress: 100%|██████████| 5/5 [01:54<00:00, 22.86s/it]\n"
     ]
    },
    {
     "name": "stdout",
     "output_type": "stream",
     "text": [
      "Starting run 4.\n"
     ]
    },
    {
     "name": "stderr",
     "output_type": "stream",
     "text": [
      "Experiment Progress: 100%|██████████| 5/5 [01:59<00:00, 23.91s/it]\n"
     ]
    },
    {
     "name": "stdout",
     "output_type": "stream",
     "text": [
      "Starting run 5.\n"
     ]
    },
    {
     "name": "stderr",
     "output_type": "stream",
     "text": [
      "Experiment Progress: 100%|██████████| 5/5 [01:55<00:00, 23.05s/it]\n"
     ]
    },
    {
     "name": "stdout",
     "output_type": "stream",
     "text": [
      "Mean accuracy across 5 runs: 0.19712\n",
      "Standard deviation of accuracy across 5 runs: 0.00017888543819998597\n",
      "\n",
      "Mean total confusion across 5 runs: 0.41027318\n",
      "Standard deviation of total confusion across 5 runs: 0.01668874668562622\n",
      "\n",
      "Mean intra-phase confusion across 5 runs: 0.40326086\n",
      "Standard deviation of intra-phase confusion across 5 runs: 0.015929467483346702\n",
      "\n",
      "Mean per-task confusion across 5 runs: 0.07731184684362342\n",
      "Standard deviation of per-task confusion across 5 runs: 0.007665591813330528\n",
      "\n",
      "Mean embedding drift across 5 runs: 9.901034545898437\n",
      "Standard deviation of embedding drift across 5 runs: 0.5234171887956153\n",
      "\n",
      "Mean SHAP values across 5 runs: 0.0008863337079308142\n",
      "Standard deviation of SHAP values across 5 runs: 7.095100737754766e-05\n",
      "\n"
     ]
    }
   ],
   "source": [
    "run_experiments(n_runs=5, verbose=False, stopOnLoss = 0.02)"
   ]
  },
  {
   "cell_type": "code",
   "execution_count": 7,
   "metadata": {},
   "outputs": [
    {
     "name": "stdout",
     "output_type": "stream",
     "text": [
      "Starting run 1.\n"
     ]
    },
    {
     "name": "stderr",
     "output_type": "stream",
     "text": [
      "Experiment Progress: 100%|██████████| 5/5 [03:11<00:00, 38.23s/it]\n"
     ]
    },
    {
     "name": "stdout",
     "output_type": "stream",
     "text": [
      "Starting run 2.\n"
     ]
    },
    {
     "name": "stderr",
     "output_type": "stream",
     "text": [
      "Experiment Progress: 100%|██████████| 5/5 [03:01<00:00, 36.37s/it]\n"
     ]
    },
    {
     "name": "stdout",
     "output_type": "stream",
     "text": [
      "Starting run 3.\n"
     ]
    },
    {
     "name": "stderr",
     "output_type": "stream",
     "text": [
      "Experiment Progress: 100%|██████████| 5/5 [03:06<00:00, 37.22s/it]\n"
     ]
    },
    {
     "name": "stdout",
     "output_type": "stream",
     "text": [
      "Starting run 4.\n"
     ]
    },
    {
     "name": "stderr",
     "output_type": "stream",
     "text": [
      "Experiment Progress: 100%|██████████| 5/5 [03:15<00:00, 39.11s/it]\n"
     ]
    },
    {
     "name": "stdout",
     "output_type": "stream",
     "text": [
      "Starting run 5.\n"
     ]
    },
    {
     "name": "stderr",
     "output_type": "stream",
     "text": [
      "Experiment Progress: 100%|██████████| 5/5 [03:19<00:00, 39.89s/it]\n"
     ]
    },
    {
     "name": "stdout",
     "output_type": "stream",
     "text": [
      "Mean accuracy across 5 runs: 0.1977\n",
      "Standard deviation of accuracy across 5 runs: 0.0003162277660168448\n",
      "\n",
      "Mean total confusion across 5 runs: 0.4342616\n",
      "Standard deviation of total confusion across 5 runs: 0.006836191673366111\n",
      "\n",
      "Mean intra-phase confusion across 5 runs: 0.42464177999999997\n",
      "Standard deviation of intra-phase confusion across 5 runs: 0.008322003001201067\n",
      "\n",
      "Mean per-task confusion across 5 runs: 0.11041337647890548\n",
      "Standard deviation of per-task confusion across 5 runs: 0.006085887620899638\n",
      "\n",
      "Mean embedding drift across 5 runs: 8.4266357421875\n",
      "Standard deviation of embedding drift across 5 runs: 0.32925923782169186\n",
      "\n",
      "Mean SHAP values across 5 runs: 0.0015679794807187378\n",
      "Standard deviation of SHAP values across 5 runs: 0.00014219603657457793\n",
      "\n"
     ]
    }
   ],
   "source": [
    "run_experiments(n_runs=5, verbose=False, stopOnLoss = 0.02, with_dropout=True)"
   ]
  },
  {
   "cell_type": "code",
   "execution_count": 8,
   "metadata": {},
   "outputs": [
    {
     "name": "stdout",
     "output_type": "stream",
     "text": [
      "Starting run 1.\n"
     ]
    },
    {
     "name": "stderr",
     "output_type": "stream",
     "text": [
      "Experiment Progress: 100%|██████████| 5/5 [02:42<00:00, 32.45s/it]\n"
     ]
    },
    {
     "name": "stdout",
     "output_type": "stream",
     "text": [
      "Starting run 2.\n"
     ]
    },
    {
     "name": "stderr",
     "output_type": "stream",
     "text": [
      "Experiment Progress: 100%|██████████| 5/5 [02:46<00:00, 33.28s/it]\n"
     ]
    },
    {
     "name": "stdout",
     "output_type": "stream",
     "text": [
      "Starting run 3.\n"
     ]
    },
    {
     "name": "stderr",
     "output_type": "stream",
     "text": [
      "Experiment Progress: 100%|██████████| 5/5 [02:25<00:00, 29.18s/it]\n"
     ]
    },
    {
     "name": "stdout",
     "output_type": "stream",
     "text": [
      "Starting run 4.\n"
     ]
    },
    {
     "name": "stderr",
     "output_type": "stream",
     "text": [
      "Experiment Progress: 100%|██████████| 5/5 [02:35<00:00, 31.01s/it]\n"
     ]
    },
    {
     "name": "stdout",
     "output_type": "stream",
     "text": [
      "Starting run 5.\n"
     ]
    },
    {
     "name": "stderr",
     "output_type": "stream",
     "text": [
      "Experiment Progress: 100%|██████████| 5/5 [02:37<00:00, 31.42s/it]\n"
     ]
    },
    {
     "name": "stdout",
     "output_type": "stream",
     "text": [
      "Mean accuracy across 5 runs: 0.20788\n",
      "Standard deviation of accuracy across 5 runs: 0.009331237860005502\n",
      "\n",
      "Mean total confusion across 5 runs: 0.38565748\n",
      "Standard deviation of total confusion across 5 runs: 0.013362716836107832\n",
      "\n",
      "Mean intra-phase confusion across 5 runs: 0.38222578\n",
      "Standard deviation of intra-phase confusion across 5 runs: 0.012737244903706618\n",
      "\n",
      "Mean per-task confusion across 5 runs: 0.06670221160245901\n",
      "Standard deviation of per-task confusion across 5 runs: 0.004874366234574275\n",
      "\n",
      "Mean embedding drift across 5 runs: 10.33856201171875\n",
      "Standard deviation of embedding drift across 5 runs: 0.32364676735838166\n",
      "\n",
      "Mean SHAP values across 5 runs: 0.0009319879324541062\n",
      "Standard deviation of SHAP values across 5 runs: 7.25542854255561e-05\n",
      "\n"
     ]
    }
   ],
   "source": [
    "run_experiments(n_runs=5, verbose=False, stopOnLoss = 0.02, kd_loss=1)"
   ]
  },
  {
   "cell_type": "code",
   "execution_count": 9,
   "metadata": {},
   "outputs": [
    {
     "name": "stdout",
     "output_type": "stream",
     "text": [
      "Starting run 1.\n"
     ]
    },
    {
     "name": "stderr",
     "output_type": "stream",
     "text": [
      "Experiment Progress: 100%|██████████| 5/5 [01:54<00:00, 22.99s/it]\n"
     ]
    },
    {
     "name": "stdout",
     "output_type": "stream",
     "text": [
      "Starting run 2.\n"
     ]
    },
    {
     "name": "stderr",
     "output_type": "stream",
     "text": [
      "Experiment Progress: 100%|██████████| 5/5 [01:56<00:00, 23.33s/it]\n"
     ]
    },
    {
     "name": "stdout",
     "output_type": "stream",
     "text": [
      "Starting run 3.\n"
     ]
    },
    {
     "name": "stderr",
     "output_type": "stream",
     "text": [
      "Experiment Progress: 100%|██████████| 5/5 [02:00<00:00, 24.06s/it]\n"
     ]
    },
    {
     "name": "stdout",
     "output_type": "stream",
     "text": [
      "Starting run 4.\n"
     ]
    },
    {
     "name": "stderr",
     "output_type": "stream",
     "text": [
      "Experiment Progress: 100%|██████████| 5/5 [01:54<00:00, 22.82s/it]\n"
     ]
    },
    {
     "name": "stdout",
     "output_type": "stream",
     "text": [
      "Starting run 5.\n"
     ]
    },
    {
     "name": "stderr",
     "output_type": "stream",
     "text": [
      "Experiment Progress: 100%|██████████| 5/5 [01:56<00:00, 23.20s/it]\n"
     ]
    },
    {
     "name": "stdout",
     "output_type": "stream",
     "text": [
      "Mean accuracy across 5 runs: 0.65862\n",
      "Standard deviation of accuracy across 5 runs: 0.038600867865891335\n",
      "\n",
      "Mean total confusion across 5 runs: 0.41970142\n",
      "Standard deviation of total confusion across 5 runs: 0.011164848655803633\n",
      "\n",
      "Mean intra-phase confusion across 5 runs: 0.41735474\n",
      "Standard deviation of intra-phase confusion across 5 runs: 0.011159116510414256\n",
      "\n",
      "Mean per-task confusion across 5 runs: 0.06622207210816197\n",
      "Standard deviation of per-task confusion across 5 runs: 0.004421540729752876\n",
      "\n",
      "Mean embedding drift across 5 runs: 5.348196601867675\n",
      "Standard deviation of embedding drift across 5 runs: 0.13468180027021937\n",
      "\n",
      "Mean SHAP values across 5 runs: 0.0005514491549105287\n",
      "Standard deviation of SHAP values across 5 runs: 1.129900453609687e-05\n",
      "\n"
     ]
    }
   ],
   "source": [
    "run_experiments(n_runs=5, verbose=False, stopOnLoss = 0.02, full_CE=False)"
   ]
  },
  {
   "cell_type": "code",
   "execution_count": 10,
   "metadata": {},
   "outputs": [
    {
     "name": "stdout",
     "output_type": "stream",
     "text": [
      "Starting run 1.\n"
     ]
    },
    {
     "name": "stderr",
     "output_type": "stream",
     "text": [
      "Experiment Progress: 100%|██████████| 5/5 [03:10<00:00, 38.14s/it]\n"
     ]
    },
    {
     "name": "stdout",
     "output_type": "stream",
     "text": [
      "Starting run 2.\n"
     ]
    },
    {
     "name": "stderr",
     "output_type": "stream",
     "text": [
      "Experiment Progress: 100%|██████████| 5/5 [03:00<00:00, 36.12s/it]\n"
     ]
    },
    {
     "name": "stdout",
     "output_type": "stream",
     "text": [
      "Starting run 3.\n"
     ]
    },
    {
     "name": "stderr",
     "output_type": "stream",
     "text": [
      "Experiment Progress: 100%|██████████| 5/5 [03:00<00:00, 36.16s/it]\n"
     ]
    },
    {
     "name": "stdout",
     "output_type": "stream",
     "text": [
      "Starting run 4.\n"
     ]
    },
    {
     "name": "stderr",
     "output_type": "stream",
     "text": [
      "Experiment Progress: 100%|██████████| 5/5 [02:59<00:00, 35.87s/it]\n"
     ]
    },
    {
     "name": "stdout",
     "output_type": "stream",
     "text": [
      "Starting run 5.\n"
     ]
    },
    {
     "name": "stderr",
     "output_type": "stream",
     "text": [
      "Experiment Progress: 100%|██████████| 5/5 [02:52<00:00, 34.44s/it]\n"
     ]
    },
    {
     "name": "stdout",
     "output_type": "stream",
     "text": [
      "Mean accuracy across 5 runs: 0.20118\n",
      "Standard deviation of accuracy across 5 runs: 0.0050967636790418295\n",
      "\n",
      "Mean total confusion across 5 runs: 0.3520012\n",
      "Standard deviation of total confusion across 5 runs: 0.01887235752734672\n",
      "\n",
      "Mean intra-phase confusion across 5 runs: 0.34562892\n",
      "Standard deviation of intra-phase confusion across 5 runs: 0.018263727836260575\n",
      "\n",
      "Mean per-task confusion across 5 runs: 0.07485453104021554\n",
      "Standard deviation of per-task confusion across 5 runs: 0.00806487088908623\n",
      "\n",
      "Mean embedding drift across 5 runs: 10.17542839050293\n",
      "Standard deviation of embedding drift across 5 runs: 0.5715770296552717\n",
      "\n",
      "Mean SHAP values across 5 runs: 0.00046121513314196236\n",
      "Standard deviation of SHAP values across 5 runs: 3.328521156119207e-05\n",
      "\n"
     ]
    }
   ],
   "source": [
    "run_experiments(n_runs=5, verbose=False, stopOnLoss = 0.02, with_OOD=True)"
   ]
  },
  {
   "cell_type": "code",
   "execution_count": 11,
   "metadata": {},
   "outputs": [
    {
     "name": "stdout",
     "output_type": "stream",
     "text": [
      "Starting run 1.\n"
     ]
    },
    {
     "name": "stderr",
     "output_type": "stream",
     "text": [
      "Experiment Progress: 100%|██████████| 5/5 [02:56<00:00, 35.21s/it]\n"
     ]
    },
    {
     "name": "stdout",
     "output_type": "stream",
     "text": [
      "Starting run 2.\n"
     ]
    },
    {
     "name": "stderr",
     "output_type": "stream",
     "text": [
      "Experiment Progress: 100%|██████████| 5/5 [02:57<00:00, 35.42s/it]\n"
     ]
    },
    {
     "name": "stdout",
     "output_type": "stream",
     "text": [
      "Starting run 3.\n"
     ]
    },
    {
     "name": "stderr",
     "output_type": "stream",
     "text": [
      "Experiment Progress: 100%|██████████| 5/5 [03:03<00:00, 36.78s/it]\n"
     ]
    },
    {
     "name": "stdout",
     "output_type": "stream",
     "text": [
      "Starting run 4.\n"
     ]
    },
    {
     "name": "stderr",
     "output_type": "stream",
     "text": [
      "Experiment Progress: 100%|██████████| 5/5 [03:05<00:00, 37.09s/it]\n"
     ]
    },
    {
     "name": "stdout",
     "output_type": "stream",
     "text": [
      "Starting run 5.\n"
     ]
    },
    {
     "name": "stderr",
     "output_type": "stream",
     "text": [
      "Experiment Progress: 100%|██████████| 5/5 [03:09<00:00, 37.83s/it]\n"
     ]
    },
    {
     "name": "stdout",
     "output_type": "stream",
     "text": [
      "Mean accuracy across 5 runs: 0.76278\n",
      "Standard deviation of accuracy across 5 runs: 0.04507030064244082\n",
      "\n",
      "Mean total confusion across 5 runs: 0.3381334\n",
      "Standard deviation of total confusion across 5 runs: 0.011750315672142611\n",
      "\n",
      "Mean intra-phase confusion across 5 runs: 0.3351177\n",
      "Standard deviation of intra-phase confusion across 5 runs: 0.011500446784364496\n",
      "\n",
      "Mean per-task confusion across 5 runs: 0.05976915174421091\n",
      "Standard deviation of per-task confusion across 5 runs: 0.006660504678722782\n",
      "\n",
      "Mean embedding drift across 5 runs: 6.203188705444336\n",
      "Standard deviation of embedding drift across 5 runs: 0.38552032661363195\n",
      "\n",
      "Mean SHAP values across 5 runs: 0.0009006374135017964\n",
      "Standard deviation of SHAP values across 5 runs: 6.116743572649732e-05\n",
      "\n"
     ]
    }
   ],
   "source": [
    "run_experiments(n_runs=5, verbose=False, stopOnLoss = 0.02, full_CE = False, with_OOD=True)"
   ]
  },
  {
   "cell_type": "code",
   "execution_count": 12,
   "metadata": {},
   "outputs": [
    {
     "name": "stdout",
     "output_type": "stream",
     "text": [
      "Starting run 1.\n"
     ]
    },
    {
     "name": "stderr",
     "output_type": "stream",
     "text": [
      "Experiment Progress: 100%|██████████| 5/5 [03:23<00:00, 40.64s/it]\n"
     ]
    },
    {
     "name": "stdout",
     "output_type": "stream",
     "text": [
      "Starting run 2.\n"
     ]
    },
    {
     "name": "stderr",
     "output_type": "stream",
     "text": [
      "Experiment Progress: 100%|██████████| 5/5 [03:35<00:00, 43.08s/it]\n"
     ]
    },
    {
     "name": "stdout",
     "output_type": "stream",
     "text": [
      "Starting run 3.\n"
     ]
    },
    {
     "name": "stderr",
     "output_type": "stream",
     "text": [
      "Experiment Progress: 100%|██████████| 5/5 [03:36<00:00, 43.28s/it]\n"
     ]
    },
    {
     "name": "stdout",
     "output_type": "stream",
     "text": [
      "Starting run 4.\n"
     ]
    },
    {
     "name": "stderr",
     "output_type": "stream",
     "text": [
      "Experiment Progress: 100%|██████████| 5/5 [03:28<00:00, 41.69s/it]\n"
     ]
    },
    {
     "name": "stdout",
     "output_type": "stream",
     "text": [
      "Starting run 5.\n"
     ]
    },
    {
     "name": "stderr",
     "output_type": "stream",
     "text": [
      "Experiment Progress: 100%|██████████| 5/5 [03:45<00:00, 45.12s/it]\n"
     ]
    },
    {
     "name": "stdout",
     "output_type": "stream",
     "text": [
      "Mean accuracy across 5 runs: 0.84322\n",
      "Standard deviation of accuracy across 5 runs: 0.016848204652128385\n",
      "\n",
      "Mean total confusion across 5 runs: 0.33744808000000004\n",
      "Standard deviation of total confusion across 5 runs: 0.013354935730919852\n",
      "\n",
      "Mean intra-phase confusion across 5 runs: 0.33412914\n",
      "Standard deviation of intra-phase confusion across 5 runs: 0.013293854543096234\n",
      "\n",
      "Mean per-task confusion across 5 runs: 0.06099390556090557\n",
      "Standard deviation of per-task confusion across 5 runs: 0.00274550748986781\n",
      "\n",
      "Mean embedding drift across 5 runs: 5.186639595031738\n",
      "Standard deviation of embedding drift across 5 runs: 0.259908944499797\n",
      "\n",
      "Mean SHAP values across 5 runs: 0.0004815936748197613\n",
      "Standard deviation of SHAP values across 5 runs: 4.3243486941720384e-05\n",
      "\n"
     ]
    }
   ],
   "source": [
    "run_experiments(n_runs=5, verbose=False, stopOnLoss = 0.02, full_CE = False, kd_loss = 1, with_OOD=True)"
   ]
  },
  {
   "cell_type": "code",
   "execution_count": 13,
   "metadata": {},
   "outputs": [
    {
     "name": "stdout",
     "output_type": "stream",
     "text": [
      "Starting run 1.\n"
     ]
    },
    {
     "name": "stderr",
     "output_type": "stream",
     "text": [
      "Experiment Progress: 100%|██████████| 5/5 [02:19<00:00, 27.92s/it]\n"
     ]
    },
    {
     "name": "stdout",
     "output_type": "stream",
     "text": [
      "Starting run 2.\n"
     ]
    },
    {
     "name": "stderr",
     "output_type": "stream",
     "text": [
      "Experiment Progress: 100%|██████████| 5/5 [02:19<00:00, 27.93s/it]\n"
     ]
    },
    {
     "name": "stdout",
     "output_type": "stream",
     "text": [
      "Starting run 3.\n"
     ]
    },
    {
     "name": "stderr",
     "output_type": "stream",
     "text": [
      "Experiment Progress: 100%|██████████| 5/5 [02:21<00:00, 28.30s/it]\n"
     ]
    },
    {
     "name": "stdout",
     "output_type": "stream",
     "text": [
      "Starting run 4.\n"
     ]
    },
    {
     "name": "stderr",
     "output_type": "stream",
     "text": [
      "Experiment Progress: 100%|██████████| 5/5 [02:17<00:00, 27.59s/it]\n"
     ]
    },
    {
     "name": "stdout",
     "output_type": "stream",
     "text": [
      "Starting run 5.\n"
     ]
    },
    {
     "name": "stderr",
     "output_type": "stream",
     "text": [
      "Experiment Progress: 100%|██████████| 5/5 [02:41<00:00, 32.37s/it]\n"
     ]
    },
    {
     "name": "stdout",
     "output_type": "stream",
     "text": [
      "Mean accuracy across 5 runs: 0.7285200000000001\n",
      "Standard deviation of accuracy across 5 runs: 0.041093576140316605\n",
      "\n",
      "Mean total confusion across 5 runs: 0.39564756\n",
      "Standard deviation of total confusion across 5 runs: 0.008445913656200883\n",
      "\n",
      "Mean intra-phase confusion across 5 runs: 0.39362472\n",
      "Standard deviation of intra-phase confusion across 5 runs: 0.008372517833184951\n",
      "\n",
      "Mean per-task confusion across 5 runs: 0.05749871795516995\n",
      "Standard deviation of per-task confusion across 5 runs: 0.0029189804114646426\n",
      "\n",
      "Mean embedding drift across 5 runs: 4.801405525207519\n",
      "Standard deviation of embedding drift across 5 runs: 0.11469332839415294\n",
      "\n",
      "Mean SHAP values across 5 runs: 0.0004116192882103642\n",
      "Standard deviation of SHAP values across 5 runs: 3.6677832461491065e-05\n",
      "\n"
     ]
    }
   ],
   "source": [
    "run_experiments(n_runs=5, verbose=False, stopOnLoss = 0.02, full_CE = False, kd_loss = 1)"
   ]
  },
  {
   "cell_type": "code",
   "execution_count": 14,
   "metadata": {},
   "outputs": [
    {
     "name": "stdout",
     "output_type": "stream",
     "text": [
      "Starting run 1.\n"
     ]
    },
    {
     "name": "stderr",
     "output_type": "stream",
     "text": [
      "Experiment Progress: 100%|██████████| 5/5 [03:49<00:00, 45.95s/it]\n"
     ]
    },
    {
     "name": "stdout",
     "output_type": "stream",
     "text": [
      "Starting run 2.\n"
     ]
    },
    {
     "name": "stderr",
     "output_type": "stream",
     "text": [
      "Experiment Progress: 100%|██████████| 5/5 [04:03<00:00, 48.67s/it]\n"
     ]
    },
    {
     "name": "stdout",
     "output_type": "stream",
     "text": [
      "Starting run 3.\n"
     ]
    },
    {
     "name": "stderr",
     "output_type": "stream",
     "text": [
      "Experiment Progress: 100%|██████████| 5/5 [04:02<00:00, 48.47s/it]\n"
     ]
    },
    {
     "name": "stdout",
     "output_type": "stream",
     "text": [
      "Starting run 4.\n"
     ]
    },
    {
     "name": "stderr",
     "output_type": "stream",
     "text": [
      "Experiment Progress: 100%|██████████| 5/5 [04:01<00:00, 48.31s/it]\n"
     ]
    },
    {
     "name": "stdout",
     "output_type": "stream",
     "text": [
      "Starting run 5.\n"
     ]
    },
    {
     "name": "stderr",
     "output_type": "stream",
     "text": [
      "Experiment Progress: 100%|██████████| 5/5 [04:03<00:00, 48.67s/it]\n"
     ]
    },
    {
     "name": "stdout",
     "output_type": "stream",
     "text": [
      "Mean accuracy across 5 runs: 0.77592\n",
      "Standard deviation of accuracy across 5 runs: 0.019157557255558455\n",
      "\n",
      "Mean total confusion across 5 runs: 0.39213982\n",
      "Standard deviation of total confusion across 5 runs: 0.005603796637726973\n",
      "\n",
      "Mean intra-phase confusion across 5 runs: 0.39050850000000004\n",
      "Standard deviation of intra-phase confusion across 5 runs: 0.005608870130873021\n",
      "\n",
      "Mean per-task confusion across 5 runs: 0.056725291065110366\n",
      "Standard deviation of per-task confusion across 5 runs: 0.0015721690216526512\n",
      "\n",
      "Mean embedding drift across 5 runs: 4.493971157073974\n",
      "Standard deviation of embedding drift across 5 runs: 0.24495078220048352\n",
      "\n",
      "Mean SHAP values across 5 runs: 0.0005218379968121305\n",
      "Standard deviation of SHAP values across 5 runs: 5.0939184468199486e-05\n",
      "\n"
     ]
    }
   ],
   "source": [
    "run_experiments(n_runs=5, verbose=False, stopOnLoss = 0.02, full_CE = False, kd_loss = 1, with_dropout=True)"
   ]
  },
  {
   "cell_type": "code",
   "execution_count": 15,
   "metadata": {},
   "outputs": [
    {
     "name": "stdout",
     "output_type": "stream",
     "text": [
      "Starting run 1.\n"
     ]
    },
    {
     "name": "stderr",
     "output_type": "stream",
     "text": [
      "Experiment Progress: 100%|██████████| 5/5 [08:29<00:00, 101.99s/it]\n"
     ]
    },
    {
     "name": "stdout",
     "output_type": "stream",
     "text": [
      "Starting run 2.\n"
     ]
    },
    {
     "name": "stderr",
     "output_type": "stream",
     "text": [
      "Experiment Progress: 100%|██████████| 5/5 [08:07<00:00, 97.56s/it] \n"
     ]
    },
    {
     "name": "stdout",
     "output_type": "stream",
     "text": [
      "Starting run 3.\n"
     ]
    },
    {
     "name": "stderr",
     "output_type": "stream",
     "text": [
      "Experiment Progress: 100%|██████████| 5/5 [06:18<00:00, 75.67s/it] \n"
     ]
    },
    {
     "name": "stdout",
     "output_type": "stream",
     "text": [
      "Starting run 4.\n"
     ]
    },
    {
     "name": "stderr",
     "output_type": "stream",
     "text": [
      "Experiment Progress: 100%|██████████| 5/5 [07:24<00:00, 88.86s/it] \n"
     ]
    },
    {
     "name": "stdout",
     "output_type": "stream",
     "text": [
      "Starting run 5.\n"
     ]
    },
    {
     "name": "stderr",
     "output_type": "stream",
     "text": [
      "Experiment Progress: 100%|██████████| 5/5 [07:53<00:00, 94.65s/it] \n"
     ]
    },
    {
     "name": "stdout",
     "output_type": "stream",
     "text": [
      "Mean accuracy across 5 runs: 0.8506\n",
      "Standard deviation of accuracy across 5 runs: 0.03785941098326809\n",
      "\n",
      "Mean total confusion across 5 runs: 0.32519064\n",
      "Standard deviation of total confusion across 5 runs: 0.01114584482320656\n",
      "\n",
      "Mean intra-phase confusion across 5 runs: 0.32300544\n",
      "Standard deviation of intra-phase confusion across 5 runs: 0.0111097349371171\n",
      "\n",
      "Mean per-task confusion across 5 runs: 0.050529086045436974\n",
      "Standard deviation of per-task confusion across 5 runs: 0.002420955818193815\n",
      "\n",
      "Mean embedding drift across 5 runs: 4.840276145935059\n",
      "Standard deviation of embedding drift across 5 runs: 0.27403502367552246\n",
      "\n",
      "Mean SHAP values across 5 runs: 0.0005207426627989993\n",
      "Standard deviation of SHAP values across 5 runs: 4.3099602605594366e-05\n",
      "\n"
     ]
    }
   ],
   "source": [
    "run_experiments(n_runs=5, verbose=False, stopOnLoss = 0.02, full_CE = False, kd_loss = 1, with_OOD=True, with_dropout=True)"
   ]
  },
  {
   "cell_type": "code",
   "execution_count": 21,
   "metadata": {},
   "outputs": [
    {
     "name": "stdout",
     "output_type": "stream",
     "text": [
      "Starting run 1.\n"
     ]
    },
    {
     "name": "stderr",
     "output_type": "stream",
     "text": [
      "Experiment Progress: 100%|██████████| 1/1 [04:32<00:00, 272.77s/it]\n"
     ]
    },
    {
     "name": "stdout",
     "output_type": "stream",
     "text": [
      "Starting run 2.\n"
     ]
    },
    {
     "name": "stderr",
     "output_type": "stream",
     "text": [
      "Experiment Progress: 100%|██████████| 1/1 [03:24<00:00, 204.35s/it]\n"
     ]
    },
    {
     "name": "stdout",
     "output_type": "stream",
     "text": [
      "Starting run 3.\n"
     ]
    },
    {
     "name": "stderr",
     "output_type": "stream",
     "text": [
      "Experiment Progress: 100%|██████████| 1/1 [03:19<00:00, 199.88s/it]\n"
     ]
    },
    {
     "name": "stdout",
     "output_type": "stream",
     "text": [
      "Starting run 4.\n"
     ]
    },
    {
     "name": "stderr",
     "output_type": "stream",
     "text": [
      "Experiment Progress: 100%|██████████| 1/1 [03:09<00:00, 189.94s/it]\n"
     ]
    },
    {
     "name": "stdout",
     "output_type": "stream",
     "text": [
      "Starting run 5.\n"
     ]
    },
    {
     "name": "stderr",
     "output_type": "stream",
     "text": [
      "Experiment Progress: 100%|██████████| 1/1 [03:17<00:00, 197.87s/it]\n"
     ]
    },
    {
     "name": "stdout",
     "output_type": "stream",
     "text": [
      "Mean accuracy across 5 runs: 0.99084\n",
      "Standard deviation of accuracy across 5 runs: 0.000684105255059517\n",
      "\n",
      "Mean total confusion across 5 runs: 0.19484374\n",
      "Standard deviation of total confusion across 5 runs: 0.009626986084595703\n",
      "\n",
      "Mean intra-phase confusion across 5 runs: 0.0\n",
      "Standard deviation of intra-phase confusion across 5 runs: 0.0\n",
      "\n",
      "Mean per-task confusion across 5 runs: 0.19484374\n",
      "Standard deviation of per-task confusion across 5 runs: 0.009626986084595703\n",
      "\n",
      "Mean embedding drift across 5 runs: 7.962159907037858e-06\n",
      "Standard deviation of embedding drift across 5 runs: 5.002824389924782e-07\n",
      "\n",
      "Mean SHAP values across 5 runs: 0.0031779530191561206\n",
      "Standard deviation of SHAP values across 5 runs: 0.00011392721770175777\n",
      "\n"
     ]
    }
   ],
   "source": [
    "# training on entire dataset\n",
    "globals.ITERATIONS = 1\n",
    "globals.CLASSES_PER_ITER = 10\n",
    "run_experiments(n_runs=5, verbose=False, stopOnLoss = 0.02)"
   ]
  }
 ],
 "metadata": {
  "kernelspec": {
   "display_name": "Python 3 (ipykernel)",
   "language": "python",
   "name": "python3"
  },
  "language_info": {
   "codemirror_mode": {
    "name": "ipython",
    "version": 3
   },
   "file_extension": ".py",
   "mimetype": "text/x-python",
   "name": "python",
   "nbconvert_exporter": "python",
   "pygments_lexer": "ipython3",
   "version": "3.11.7"
  }
 },
 "nbformat": 4,
 "nbformat_minor": 4
}
