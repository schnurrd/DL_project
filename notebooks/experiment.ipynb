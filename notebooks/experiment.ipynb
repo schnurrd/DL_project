{
 "cells": [
  {
   "cell_type": "code",
   "execution_count": 1,
   "metadata": {},
   "outputs": [
    {
     "name": "stderr",
     "output_type": "stream",
     "text": [
      "/Users/david/miniconda3/envs/dl_project/lib/python3.10/site-packages/torchvision/io/image.py:14: UserWarning: Failed to load image Python extension: 'dlopen(/Users/david/miniconda3/envs/dl_project/lib/python3.10/site-packages/torchvision/image.so, 0x0006): Library not loaded: @rpath/libjpeg.9.dylib\n",
      "  Referenced from: <0B7EB158-53DC-3403-8A49-22178CAB4612> /Users/david/miniconda3/envs/dl_project/lib/python3.10/site-packages/torchvision/image.so\n",
      "  Reason: tried: '/Users/david/miniconda3/envs/dl_project/lib/python3.10/site-packages/torchvision/../../../libjpeg.9.dylib' (no such file), '/Users/david/miniconda3/envs/dl_project/lib/python3.10/site-packages/torchvision/../../../libjpeg.9.dylib' (no such file), '/Users/david/miniconda3/envs/dl_project/lib/python3.10/lib-dynload/../../libjpeg.9.dylib' (no such file), '/Users/david/miniconda3/envs/dl_project/bin/../lib/libjpeg.9.dylib' (no such file)'If you don't plan on using image functionality from `torchvision.io`, you can ignore this warning. Otherwise, there might be something wrong with your environment. Did you have `libjpeg` or `libpng` installed before building `torchvision` from source?\n",
      "  warn(\n",
      "/Users/david/miniconda3/envs/dl_project/lib/python3.10/site-packages/tqdm/auto.py:21: TqdmWarning: IProgress not found. Please update jupyter and ipywidgets. See https://ipywidgets.readthedocs.io/en/stable/user_install.html\n",
      "  from .autonotebook import tqdm as notebook_tqdm\n"
     ]
    }
   ],
   "source": [
    "import torch\n",
    "import torchvision\n",
    "import torchvision.transforms as transforms\n",
    "from sklearn import metrics\n",
    "from sklearn.model_selection import train_test_split\n",
    "from torch.utils.data import DataLoader, Subset\n",
    "import numpy as np\n",
    "import copy\n",
    "import statistics\n",
    "import matplotlib.pyplot as plt\n",
    "import time\n",
    "from tqdm import tqdm\n",
    "\n",
    "import sys\n",
    "sys.path.append('./../src')\n",
    "import globals\n",
    "from model import Net\n",
    "from training import train_model, train_model_CL\n",
    "from visualizations import plot_embeddings, plot_confusion_matrix\n",
    "from feature_attribution import Feature_Importance_Evaluations\n",
    "from pytorch_utils import get_features, get_labels\n",
    "from embedding_measurements import measure_embedding_confusion_knn, measure_embedding_drift"
   ]
  },
  {
   "cell_type": "code",
   "execution_count": 2,
   "metadata": {},
   "outputs": [],
   "source": [
    "SEED = globals.SEED\n",
    "DEVICE = globals.DEVICE\n",
    "full_trainset = globals.full_trainset\n",
    "trainset = globals.trainset\n",
    "testset = globals.testset\n",
    "trainloaders = globals.trainloaders\n",
    "valloaders = globals.valloaders\n",
    "testloaders = globals.testloaders"
   ]
  },
  {
   "cell_type": "code",
   "execution_count": 3,
   "metadata": {},
   "outputs": [],
   "source": [
    "# This is the two-step process used to prepare the\n",
    "# data for use with the convolutional neural network.\n",
    "\n",
    "# First step is to convert Python Image Library (PIL) format\n",
    "# to PyTorch tensors.\n",
    "\n",
    "# Second step is used to normalize the data by specifying a \n",
    "# mean and standard deviation for each of the three channels.\n",
    "# This will convert the data from [0,1] to [-1,1]\n",
    "\n",
    "# Normalization of data should help speed up conversion and\n",
    "# reduce the chance of vanishing gradients with certain \n",
    "# activation functions.\n",
    "def initialize_data():\n",
    "    transform = transforms.Compose([\n",
    "        transforms.ToTensor()\n",
    "        #transforms.Normalize((0.5,), (0.5,))  # Normalizes to mean 0.5 and std 0.5 for the single channel\n",
    "    ])\n",
    "\n",
    "    globals.full_trainset = torchvision.datasets.MNIST('./../data/', train=True, download=True,\n",
    "                                transform=transform)\n",
    "    targets = np.array(globals.full_trainset.targets)\n",
    "\n",
    "    # Perform stratified split\n",
    "    train_indices, val_indices = train_test_split(\n",
    "        np.arange(len(targets)),\n",
    "        test_size=0.01,\n",
    "        stratify=targets\n",
    "    )\n",
    "\n",
    "    # Create subsets\n",
    "    valset = Subset(globals.full_trainset, val_indices)\n",
    "    globals.trainset = Subset(globals.full_trainset, train_indices)\n",
    "\n",
    "    globals.testset = torchvision.datasets.MNIST('./../data/', train=False, download=True,\n",
    "                                transform=transform)\n",
    "\n",
    "    # Define class pairs for each subset\n",
    "    class_pairs = [tuple(range(i*globals.CLASSES_PER_ITER,(i+1)*globals.CLASSES_PER_ITER)) for i in range(globals.ITERATIONS)]\n",
    "    #print(class_pairs)\n",
    "\n",
    "    # Dictionary to hold data loaders for each subset\n",
    "    globals.trainloaders = []\n",
    "    globals.testloaders = []\n",
    "    globals.valloaders = []\n",
    "    subset_indices = []\n",
    "    # Loop over each class pair\n",
    "    for i, t in enumerate(class_pairs):\n",
    "        # Get indices of images belonging to the specified class pair\n",
    "        subs_ind = [idx for idx, (_, label) in enumerate(globals.trainset) if label in list(t)]\n",
    "        val_subset_indices = [idx for idx, (_, label) in enumerate(valset) if label in list(t)]\n",
    "        test_subset_indices = [idx for idx, (_, label) in enumerate(globals.testset) if label in list(t)]\n",
    "        # Create a subset for the current class pair\n",
    "        train_subset = Subset(globals.trainset, subs_ind)\n",
    "        globals.trainloaders.append(DataLoader(train_subset, batch_size=globals.BATCH_SIZE, shuffle=True, pin_memory=True, num_workers = 0))\n",
    "\n",
    "        subset_indices.append(subs_ind)\n",
    "        \n",
    "        val_subset = Subset(valset, val_subset_indices)\n",
    "        globals.valloaders.append(DataLoader(val_subset, batch_size=500, shuffle=False))\n",
    "\n",
    "        test_subset = Subset(globals.testset, test_subset_indices)\n",
    "        globals.testloaders.append(DataLoader(test_subset, batch_size=500, shuffle=False))\n"
   ]
  },
  {
   "cell_type": "code",
   "execution_count": null,
   "metadata": {},
   "outputs": [],
   "source": [
    "def run_experiment(\n",
    "        verbose = False,\n",
    "        stopOnLoss = 0.03,\n",
    "        full_CE = True,\n",
    "        with_OOD = False,\n",
    "        kd_loss = 0,\n",
    "        stopOnValAcc = None,\n",
    "        epochs = 1000000,\n",
    "        with_dropout = False\n",
    "        ):\n",
    "    def _print(*args, **kwargs):\n",
    "        if verbose:\n",
    "            print(*args, **kwargs)\n",
    "    if with_OOD:\n",
    "        globals.OOD_CLASS = 1\n",
    "    else:\n",
    "        globals.OOD_CLASS = 0\n",
    "    initialize_data()\n",
    "    prevModel = None\n",
    "    globals.BATCH_SIZE=4\n",
    "    \n",
    "    ogd = True\n",
    "    globals.WITH_DROPOUT = with_dropout\n",
    "\n",
    "    #[Denis] added code:\n",
    "    Feature_Importance_Eval=Feature_Importance_Evaluations(globals.testloaders, DEVICE)\n",
    "\n",
    "    for i in tqdm(range(globals.ITERATIONS), desc=\"Experiment Progress\"):\n",
    "        model = Net((i+1)*(globals.CLASSES_PER_ITER+globals.OOD_CLASS))\n",
    "        if prevModel is not None:\n",
    "            with torch.no_grad():\n",
    "                model.copyPrev(prevModel)\n",
    "        train_loader = globals.trainloaders[i]\n",
    "        val_loader = globals.valloaders[i]\n",
    "        if prevModel:\n",
    "            _print(\"CL TRAIN!!\")\n",
    "            train_model_CL(\n",
    "                model,\n",
    "                prevModel,\n",
    "                train_loader,\n",
    "                val_loader,\n",
    "                i,\n",
    "                verbose,\n",
    "                epochs,\n",
    "                True,\n",
    "                freeze_nonzero_params=False,\n",
    "                l1_loss=0,\n",
    "                ewc_loss=0,\n",
    "                kd_loss=kd_loss,\n",
    "                distance_loss=0,\n",
    "                center_loss=0,\n",
    "                param_reuse_loss=0,\n",
    "                stopOnLoss=stopOnLoss,\n",
    "                stopOnValAcc = stopOnValAcc,\n",
    "                full_CE=full_CE,\n",
    "                ogd=ogd,\n",
    "                )\n",
    "        else:\n",
    "            train_model(\n",
    "                model, \n",
    "                train_loader, \n",
    "                val_loader, \n",
    "                verbose, \n",
    "                epochs=epochs, \n",
    "                l1_loss=0,\n",
    "                stopOnLoss=stopOnLoss,\n",
    "                center_loss =0,\n",
    "                ogd=ogd\n",
    "                )\n",
    "\n",
    "        #[Denis] added code:\n",
    "        Feature_Importance_Eval.Task_Feature_Attribution(model, i)\n",
    "        \n",
    "        if verbose or i == globals.ITERATIONS-1:\n",
    "            _print(\"Starting evaluation\")\n",
    "            _print(\"ITERATION\", i+1)\n",
    "            _print(\"ACCURACIES PER TASK:\")\n",
    "            accumPred = []\n",
    "            all_labels = []\n",
    "            all_embeddings = []\n",
    "            with torch.no_grad():\n",
    "                for j in range(i+1):\n",
    "                    val_loader = globals.testloaders[j]\n",
    "                    val_labels = get_labels(val_loader).to(DEVICE)\n",
    "                    all_labels.append(val_labels)\n",
    "                    model.eval()\n",
    "                    pred, embeddings = model.get_pred_and_embeddings((get_features(val_loader).to(DEVICE)))\n",
    "                    model.train()\n",
    "                    accumPred.append(pred)\n",
    "                    all_embeddings.append(embeddings)\n",
    "                    sliced_pred = pred[:, j*(globals.CLASSES_PER_ITER+globals.OOD_CLASS):(j+1)*(globals.CLASSES_PER_ITER+globals.OOD_CLASS)]\n",
    "                    _, predicted = torch.max(sliced_pred, 1)  # Get the class predictions\n",
    "                    predicted += j*globals.CLASSES_PER_ITER\n",
    "                    correct = (predicted == val_labels).sum().item()  # Count how many were correct\n",
    "                    accuracy = correct / val_labels.size(0)  # Accuracy as a percentage\n",
    "                    _print(str(accuracy), end=' ')\n",
    "            accumPred = torch.cat(accumPred)\n",
    "            all_labels = torch.cat(all_labels)\n",
    "            all_embeddings = torch.cat(all_embeddings)\n",
    "            predicted = []\n",
    "            for x in accumPred:\n",
    "                if globals.OOD_CLASS == 1:\n",
    "                    x_pred = x[[i for i in range(x.size(0)) if (i + 1) % (globals.CLASSES_PER_ITER+1) != 0]]\n",
    "                else:\n",
    "                    x_pred = x\n",
    "                x_pred = torch.softmax(x_pred, dim=-1)\n",
    "                max = 0\n",
    "                for (k, v) in enumerate(x_pred):\n",
    "                    if v > max:\n",
    "                        max = v\n",
    "                        p = k\n",
    "                predicted.append(p)\n",
    "            predicted = torch.tensor(predicted).to(DEVICE)\n",
    "            correct = (predicted == all_labels).sum().item()  # Count how many were correct\n",
    "            accuracy = correct / all_labels.size(0)  # Accuracy as a percentage\n",
    "            _print(\"Accuracy on tasks so far:\", accuracy)\n",
    "\n",
    "            embedding_drift = measure_embedding_drift(all_embeddings, all_labels, model.prev_test_embedding_centers)\n",
    "            _print(\"Average embedding drift based on centroids:\", embedding_drift)\n",
    "            total_confusion, intra_phase_confusion, per_task_confusion = measure_embedding_confusion_knn(all_embeddings, all_labels, k = 1000, task=i+1)\n",
    "            _print(\"Total confusion\", total_confusion)\n",
    "            _print(\"Intra-phase confusion\", intra_phase_confusion)\n",
    "            _print(\"Per task confusions\", per_task_confusion)\n",
    "            if verbose:\n",
    "                plot_confusion_matrix(predicted.cpu(), all_labels.cpu(), list(range(globals.CLASSES_PER_ITER*(i+1))))\n",
    "        prevModel = copy.deepcopy(model)\n",
    "        \n",
    "    #[Denis] added code:\n",
    "    [avg_att_diff,att_diffs,_,_,avg_att_spread,att_spreads]=Feature_Importance_Eval.Get_Feature_Change_Score(prevModel)\n",
    "    _print(\"Average SHAPC values (ordered as tasks):\", att_diffs)\n",
    "    _print(\"Averaged SHAPC value (the smaller the better):\", avg_att_diff)\n",
    "    _print(\"Average attention spread values (ordered as tasks):\", att_spreads)\n",
    "    _print(\"Averaged attention spread value (the bigger the better):\", avg_att_spread)\n",
    "    Feature_Importance_Eval.Save_Random_Picture_Salency() #prints the salcency maps for 1 example by class (first row: image, second row: salency map after training, third row: salency map after training task where class is included)\n",
    "    \n",
    "    return accuracy, total_confusion, intra_phase_confusion, per_task_confusion, embedding_drift, avg_att_diff, avg_att_spread"
   ]
  },
  {
   "cell_type": "code",
   "execution_count": 5,
   "metadata": {},
   "outputs": [],
   "source": [
    "def run_experiments(n_runs=1, *args, **kwargs):\n",
    "    verbose = kwargs.get('verbose', None)\n",
    "    def _print(*args, **kwargs):\n",
    "        if verbose:\n",
    "            print(*args, **kwargs)\n",
    "    def report_stats(data, name):\n",
    "        print(name, data)\n",
    "        mean = statistics.mean(data)\n",
    "        std = statistics.stdev(data)\n",
    "        print(f\"Mean \" + name + f\" across {n_runs} runs: {mean}\")\n",
    "        print(f\"Standard deviation of \" + name + f\" across {n_runs} runs: {std}\\n\")\n",
    "    accuracies = []\n",
    "    total_confusions = []\n",
    "    intra_phase_confusions = []\n",
    "    per_task_confusions = []\n",
    "    att_diffs = []\n",
    "    embedding_drifts = []\n",
    "    att_spreads = []\n",
    "    for r in range(n_runs):\n",
    "        print(f\"Starting run {r+1}.\")\n",
    "        accuracy, total_confusion, intra_phase_confusion, per_task_confusion, embedding_drift, avg_att_diff, avg_att_spread = run_experiment(*args, **kwargs)\n",
    "        accuracies.append(accuracy)\n",
    "        total_confusions.append(total_confusion)\n",
    "        intra_phase_confusions.append(intra_phase_confusion)\n",
    "        per_task_confusions.append(per_task_confusion)\n",
    "        att_diffs.append(avg_att_diff)\n",
    "        embedding_drifts.append(embedding_drift)\n",
    "        att_spreads.append(avg_att_spread)\n",
    "        _print(f\"Run {r} finished with accuracy {accuracy}\")\n",
    "\n",
    "    report_stats(accuracies, \"accuracy\")\n",
    "    report_stats(total_confusions, \"total confusion\")\n",
    "    report_stats(intra_phase_confusions, \"intra-phase confusion\")\n",
    "    report_stats(per_task_confusions, \"per-task confusion\")\n",
    "    report_stats(embedding_drifts, \"embedding drift\")\n",
    "    report_stats(att_diffs, \"attention drift\")\n",
    "    report_stats(att_spreads, \"attention spread\")"
   ]
  },
  {
   "cell_type": "code",
   "execution_count": 6,
   "metadata": {},
   "outputs": [
    {
     "name": "stdout",
     "output_type": "stream",
     "text": [
      "Starting run 1.\n"
     ]
    },
    {
     "name": "stderr",
     "output_type": "stream",
     "text": [
      "Experiment Progress: 100%|██████████| 5/5 [02:08<00:00, 25.66s/it]\n"
     ]
    },
    {
     "name": "stdout",
     "output_type": "stream",
     "text": [
      "Starting run 2.\n"
     ]
    },
    {
     "name": "stderr",
     "output_type": "stream",
     "text": [
      "Experiment Progress: 100%|██████████| 5/5 [02:12<00:00, 26.47s/it]\n"
     ]
    },
    {
     "name": "stdout",
     "output_type": "stream",
     "text": [
      "Starting run 3.\n"
     ]
    },
    {
     "name": "stderr",
     "output_type": "stream",
     "text": [
      "Experiment Progress: 100%|██████████| 5/5 [02:06<00:00, 25.34s/it]\n"
     ]
    },
    {
     "name": "stdout",
     "output_type": "stream",
     "text": [
      "Starting run 4.\n"
     ]
    },
    {
     "name": "stderr",
     "output_type": "stream",
     "text": [
      "Experiment Progress: 100%|██████████| 5/5 [02:15<00:00, 27.01s/it]\n"
     ]
    },
    {
     "name": "stdout",
     "output_type": "stream",
     "text": [
      "Starting run 5.\n"
     ]
    },
    {
     "name": "stderr",
     "output_type": "stream",
     "text": [
      "Experiment Progress: 100%|██████████| 5/5 [02:05<00:00, 25.06s/it]\n"
     ]
    },
    {
     "name": "stdout",
     "output_type": "stream",
     "text": [
      "Starting run 6.\n"
     ]
    },
    {
     "name": "stderr",
     "output_type": "stream",
     "text": [
      "Experiment Progress: 100%|██████████| 5/5 [02:03<00:00, 24.80s/it]\n"
     ]
    },
    {
     "name": "stdout",
     "output_type": "stream",
     "text": [
      "Starting run 7.\n"
     ]
    },
    {
     "name": "stderr",
     "output_type": "stream",
     "text": [
      "Experiment Progress: 100%|██████████| 5/5 [02:05<00:00, 25.07s/it]\n"
     ]
    },
    {
     "name": "stdout",
     "output_type": "stream",
     "text": [
      "Starting run 8.\n"
     ]
    },
    {
     "name": "stderr",
     "output_type": "stream",
     "text": [
      "Experiment Progress: 100%|██████████| 5/5 [02:02<00:00, 24.42s/it]\n"
     ]
    },
    {
     "name": "stdout",
     "output_type": "stream",
     "text": [
      "Starting run 9.\n"
     ]
    },
    {
     "name": "stderr",
     "output_type": "stream",
     "text": [
      "Experiment Progress: 100%|██████████| 5/5 [02:07<00:00, 25.56s/it]\n"
     ]
    },
    {
     "name": "stdout",
     "output_type": "stream",
     "text": [
      "Starting run 10.\n"
     ]
    },
    {
     "name": "stderr",
     "output_type": "stream",
     "text": [
      "Experiment Progress: 100%|██████████| 5/5 [02:06<00:00, 25.39s/it]\n"
     ]
    },
    {
     "name": "stdout",
     "output_type": "stream",
     "text": [
      "accuracy [0.1971, 0.1949, 0.1974, 0.1973, 0.1968, 0.1969, 0.197, 0.1974, 0.1975, 0.1976]\n",
      "Mean accuracy across 10 runs: 0.19699\n",
      "Standard deviation of accuracy across 10 runs: 0.0007809538327512664\n",
      "\n",
      "total confusion [0.41886920000000005, 0.39497669999999996, 0.38679169999999996, 0.4123612, 0.4253873, 0.4256447, 0.4123061, 0.44758889999999996, 0.3921654, 0.4048849]\n",
      "Mean total confusion across 10 runs: 0.41209761\n",
      "Standard deviation of total confusion across 10 runs: 0.018404617094960475\n",
      "\n",
      "intra-phase confusion [0.4118088, 0.38928149999999995, 0.37939449999999997, 0.40564310000000003, 0.41835279999999997, 0.41840750000000004, 0.40767489999999995, 0.43944950000000005, 0.3863132, 0.39890499999999995]\n",
      "Mean intra-phase confusion across 10 runs: 0.40552308\n",
      "Standard deviation of intra-phase confusion across 10 runs: 0.017904304461578216\n",
      "\n",
      "per-task confusion [0.08560009517237521, 0.0749314110333608, 0.07121918643941919, 0.08285076101719413, 0.08913623755668428, 0.08317366227662773, 0.07556520729037404, 0.09314656841117686, 0.07487993424809251, 0.08474208382447819]\n",
      "Mean per-task confusion across 10 runs: 0.08152451472697829\n",
      "Standard deviation of per-task confusion across 10 runs: 0.0071007416067704575\n",
      "\n",
      "embedding drift [10.05993366241455, 10.220267295837402, 10.045373916625977, 10.496448516845703, 10.015756607055664, 9.77857494354248, 9.964422225952148, 10.078486442565918, 9.13547134399414, 10.744028091430664]\n",
      "Mean embedding drift across 10 runs: 10.053876304626465\n",
      "Standard deviation of embedding drift across 10 runs: 0.425479325721972\n",
      "\n",
      "attention drift [6.250724735126186e-06, 6.6960193499017095e-06, 6.998754713847833e-06, 6.933764921209006e-06, 9.63968817673796e-06, 6.8635221645693696e-06, 6.881690335873078e-06, 8.217866773832956e-06, 6.0837536247720955e-06, 6.596226792439212e-06]\n",
      "Mean attention drift across 10 runs: 7.116201158830941e-06\n",
      "Standard deviation of attention drift across 10 runs: 1.054592915147712e-06\n",
      "\n",
      "attention spread [54.48139280424366, 55.39355051102731, 54.17683970881486, 56.43083208314258, 54.58702048415773, 59.54229700222176, 57.829308946252446, 53.97240017473943, 56.875353601070046, 58.52920770187815]\n",
      "Mean attention spread across 10 runs: 56.1818203017548\n",
      "Standard deviation of attention spread across 10 runs: 1.9725319113069002\n",
      "\n"
     ]
    }
   ],
   "source": [
    "run_experiments(n_runs=10, verbose=False, stopOnLoss = 0.02)"
   ]
  },
  {
   "cell_type": "code",
   "execution_count": 7,
   "metadata": {},
   "outputs": [
    {
     "name": "stdout",
     "output_type": "stream",
     "text": [
      "Starting run 1.\n"
     ]
    },
    {
     "name": "stderr",
     "output_type": "stream",
     "text": [
      "Experiment Progress: 100%|██████████| 5/5 [03:00<00:00, 36.15s/it]\n"
     ]
    },
    {
     "name": "stdout",
     "output_type": "stream",
     "text": [
      "Starting run 2.\n"
     ]
    },
    {
     "name": "stderr",
     "output_type": "stream",
     "text": [
      "Experiment Progress: 100%|██████████| 5/5 [03:26<00:00, 41.33s/it]\n"
     ]
    },
    {
     "name": "stdout",
     "output_type": "stream",
     "text": [
      "Starting run 3.\n"
     ]
    },
    {
     "name": "stderr",
     "output_type": "stream",
     "text": [
      "Experiment Progress: 100%|██████████| 5/5 [02:55<00:00, 35.14s/it]\n"
     ]
    },
    {
     "name": "stdout",
     "output_type": "stream",
     "text": [
      "Starting run 4.\n"
     ]
    },
    {
     "name": "stderr",
     "output_type": "stream",
     "text": [
      "Experiment Progress: 100%|██████████| 5/5 [03:16<00:00, 39.37s/it]\n"
     ]
    },
    {
     "name": "stdout",
     "output_type": "stream",
     "text": [
      "Starting run 5.\n"
     ]
    },
    {
     "name": "stderr",
     "output_type": "stream",
     "text": [
      "Experiment Progress: 100%|██████████| 5/5 [03:27<00:00, 41.50s/it]\n"
     ]
    },
    {
     "name": "stdout",
     "output_type": "stream",
     "text": [
      "Starting run 6.\n"
     ]
    },
    {
     "name": "stderr",
     "output_type": "stream",
     "text": [
      "Experiment Progress: 100%|██████████| 5/5 [03:33<00:00, 42.62s/it]\n"
     ]
    },
    {
     "name": "stdout",
     "output_type": "stream",
     "text": [
      "Starting run 7.\n"
     ]
    },
    {
     "name": "stderr",
     "output_type": "stream",
     "text": [
      "Experiment Progress: 100%|██████████| 5/5 [03:11<00:00, 38.28s/it]\n"
     ]
    },
    {
     "name": "stdout",
     "output_type": "stream",
     "text": [
      "Starting run 8.\n"
     ]
    },
    {
     "name": "stderr",
     "output_type": "stream",
     "text": [
      "Experiment Progress: 100%|██████████| 5/5 [03:17<00:00, 39.48s/it]\n"
     ]
    },
    {
     "name": "stdout",
     "output_type": "stream",
     "text": [
      "Starting run 9.\n"
     ]
    },
    {
     "name": "stderr",
     "output_type": "stream",
     "text": [
      "Experiment Progress: 100%|██████████| 5/5 [03:03<00:00, 36.78s/it]\n"
     ]
    },
    {
     "name": "stdout",
     "output_type": "stream",
     "text": [
      "Starting run 10.\n"
     ]
    },
    {
     "name": "stderr",
     "output_type": "stream",
     "text": [
      "Experiment Progress: 100%|██████████| 5/5 [03:20<00:00, 40.19s/it]\n"
     ]
    },
    {
     "name": "stdout",
     "output_type": "stream",
     "text": [
      "accuracy [0.1977, 0.1977, 0.1976, 0.1977, 0.1978, 0.1978, 0.1974, 0.1978, 0.1969, 0.1976]\n",
      "Mean accuracy across 10 runs: 0.1976\n",
      "Standard deviation of accuracy across 10 runs: 0.000274873708374513\n",
      "\n",
      "total confusion [0.4522132, 0.40832440000000003, 0.41583879999999995, 0.4654612, 0.46736920000000004, 0.4425601, 0.4694939, 0.4181722, 0.4429925, 0.4397649]\n",
      "Mean total confusion across 10 runs: 0.44221904\n",
      "Standard deviation of total confusion across 10 runs: 0.02222681397227733\n",
      "\n",
      "intra-phase confusion [0.4445894, 0.4027069, 0.41177739999999996, 0.4548078, 0.45097810000000005, 0.43200249999999996, 0.45952040000000005, 0.40962109999999996, 0.43726750000000003, 0.4313709]\n",
      "Mean intra-phase confusion across 10 runs: 0.4334642\n",
      "Standard deviation of intra-phase confusion across 10 runs: 0.019918688503959763\n",
      "\n",
      "per-task confusion [0.10428779704970643, 0.08650513910173005, 0.08700019937146886, 0.11838636549703152, 0.1412950540952015, 0.11911672534407676, 0.11811482562754314, 0.09705507259719445, 0.09672784471066839, 0.10475519046520179]\n",
      "Mean per-task confusion across 10 runs: 0.10732442138598229\n",
      "Standard deviation of per-task confusion across 10 runs: 0.017035737803248234\n",
      "\n",
      "embedding drift [8.616459846496582, 8.31457805633545, 8.490105628967285, 8.823991775512695, 8.832369804382324, 8.177356719970703, 8.750621795654297, 8.964851379394531, 8.191329956054688, 8.617072105407715]\n",
      "Mean embedding drift across 10 runs: 8.577873706817627\n",
      "Standard deviation of embedding drift across 10 runs: 0.27785271005619716\n",
      "\n",
      "attention drift [8.615467381194061e-06, 8.703179023666535e-06, 7.633267361567777e-06, 1.1292716866406747e-05, 9.380324531332785e-06, 8.837888029090177e-06, 1.108938557401919e-05, 9.335367864497742e-06, 9.564472957285454e-06, 8.815964052283146e-06]\n",
      "Mean attention drift across 10 runs: 9.326803364134362e-06\n",
      "Standard deviation of attention drift across 10 runs: 1.1202133747413926e-06\n",
      "\n",
      "attention spread [55.04915182516256, 52.75122915777803, 59.92755798831265, 52.199501116603415, 57.45575030514699, 57.25838121639276, 51.97326434580826, 58.4739285039653, 54.28267330191922, 58.99431388050114]\n",
      "Mean attention spread across 10 runs: 55.83657516415903\n",
      "Standard deviation of attention spread across 10 runs: 2.962990833084848\n",
      "\n"
     ]
    }
   ],
   "source": [
    "run_experiments(n_runs=10, verbose=False, stopOnLoss = 0.02, with_dropout=True)"
   ]
  },
  {
   "cell_type": "code",
   "execution_count": 8,
   "metadata": {},
   "outputs": [
    {
     "name": "stdout",
     "output_type": "stream",
     "text": [
      "Starting run 1.\n"
     ]
    },
    {
     "name": "stderr",
     "output_type": "stream",
     "text": [
      "Experiment Progress: 100%|██████████| 5/5 [02:33<00:00, 30.66s/it]\n"
     ]
    },
    {
     "name": "stdout",
     "output_type": "stream",
     "text": [
      "Starting run 2.\n"
     ]
    },
    {
     "name": "stderr",
     "output_type": "stream",
     "text": [
      "Experiment Progress: 100%|██████████| 5/5 [02:48<00:00, 33.70s/it]\n"
     ]
    },
    {
     "name": "stdout",
     "output_type": "stream",
     "text": [
      "Starting run 3.\n"
     ]
    },
    {
     "name": "stderr",
     "output_type": "stream",
     "text": [
      "Experiment Progress: 100%|██████████| 5/5 [02:38<00:00, 31.74s/it]\n"
     ]
    },
    {
     "name": "stdout",
     "output_type": "stream",
     "text": [
      "Starting run 4.\n"
     ]
    },
    {
     "name": "stderr",
     "output_type": "stream",
     "text": [
      "Experiment Progress: 100%|██████████| 5/5 [02:41<00:00, 32.24s/it]\n"
     ]
    },
    {
     "name": "stdout",
     "output_type": "stream",
     "text": [
      "Starting run 5.\n"
     ]
    },
    {
     "name": "stderr",
     "output_type": "stream",
     "text": [
      "Experiment Progress: 100%|██████████| 5/5 [02:31<00:00, 30.33s/it]\n"
     ]
    },
    {
     "name": "stdout",
     "output_type": "stream",
     "text": [
      "Starting run 6.\n"
     ]
    },
    {
     "name": "stderr",
     "output_type": "stream",
     "text": [
      "Experiment Progress: 100%|██████████| 5/5 [02:33<00:00, 30.72s/it]\n"
     ]
    },
    {
     "name": "stdout",
     "output_type": "stream",
     "text": [
      "Starting run 7.\n"
     ]
    },
    {
     "name": "stderr",
     "output_type": "stream",
     "text": [
      "Experiment Progress: 100%|██████████| 5/5 [02:39<00:00, 31.99s/it]\n"
     ]
    },
    {
     "name": "stdout",
     "output_type": "stream",
     "text": [
      "Starting run 8.\n"
     ]
    },
    {
     "name": "stderr",
     "output_type": "stream",
     "text": [
      "Experiment Progress: 100%|██████████| 5/5 [02:37<00:00, 31.53s/it]\n"
     ]
    },
    {
     "name": "stdout",
     "output_type": "stream",
     "text": [
      "Starting run 9.\n"
     ]
    },
    {
     "name": "stderr",
     "output_type": "stream",
     "text": [
      "Experiment Progress: 100%|██████████| 5/5 [02:36<00:00, 31.31s/it]\n"
     ]
    },
    {
     "name": "stdout",
     "output_type": "stream",
     "text": [
      "Starting run 10.\n"
     ]
    },
    {
     "name": "stderr",
     "output_type": "stream",
     "text": [
      "Experiment Progress: 100%|██████████| 5/5 [02:46<00:00, 33.36s/it]\n"
     ]
    },
    {
     "name": "stdout",
     "output_type": "stream",
     "text": [
      "accuracy [0.1955, 0.2079, 0.2222, 0.2005, 0.2342, 0.2037, 0.213, 0.1981, 0.198, 0.2024]\n",
      "Mean accuracy across 10 runs: 0.20755\n",
      "Standard deviation of accuracy across 10 runs: 0.012344251923691265\n",
      "\n",
      "total confusion [0.3811489, 0.3953571, 0.37087479999999995, 0.38938059999999997, 0.3984137, 0.38683219999999996, 0.3998899, 0.3837528, 0.3814963, 0.39586010000000005]\n",
      "Mean total confusion across 10 runs: 0.38830064\n",
      "Standard deviation of total confusion across 10 runs: 0.009241427252708934\n",
      "\n",
      "intra-phase confusion [0.37783, 0.3915653, 0.3672797, 0.38573460000000004, 0.3948804, 0.38241289999999994, 0.3955149, 0.3800896, 0.3779739, 0.3924938]\n",
      "Mean intra-phase confusion across 10 runs: 0.38457751\n",
      "Standard deviation of intra-phase confusion across 10 runs: 0.009139592841216855\n",
      "\n",
      "per-task confusion [0.06184715411221091, 0.06959069173376908, 0.06651591354113343, 0.06722747169749217, 0.06481714528597562, 0.0690401595283358, 0.07339972321465393, 0.06304749494619215, 0.06717803468061004, 0.06107767844678409]\n",
      "Mean per-task confusion across 10 runs: 0.06637414671871572\n",
      "Standard deviation of per-task confusion across 10 runs: 0.0038041514185008733\n",
      "\n",
      "embedding drift [10.63889217376709, 10.315052032470703, 10.696435928344727, 10.788159370422363, 11.273030281066895, 10.866284370422363, 11.257461547851562, 9.674299240112305, 10.2821626663208, 9.549029350280762]\n",
      "Mean embedding drift across 10 runs: 10.534080696105956\n",
      "Standard deviation of embedding drift across 10 runs: 0.5871373890183844\n",
      "\n",
      "attention drift [7.584788377711484e-06, 6.531874490612494e-06, 8.372329463318417e-06, 6.9117367104535055e-06, 8.8299188766001e-06, 6.737275410403271e-06, 7.848648452518764e-06, 7.96965622564056e-06, 8.050856566140458e-06, 6.177349896421072e-06]\n",
      "Mean attention drift across 10 runs: 7.501443446982013e-06\n",
      "Standard deviation of attention drift across 10 runs: 8.690262501167722e-07\n",
      "\n",
      "attention spread [52.37644765254841, 55.32694509467673, 54.72555931145873, 55.283398387108036, 51.71051277906702, 56.06969510659275, 50.172464142184886, 52.303862380524855, 52.978429906808685, 57.791887953130356]\n",
      "Mean attention spread across 10 runs: 53.87392027141004\n",
      "Standard deviation of attention spread across 10 runs: 2.3306082921892526\n",
      "\n"
     ]
    }
   ],
   "source": [
    "run_experiments(n_runs=10, verbose=False, stopOnLoss = 0.02, kd_loss=1)"
   ]
  },
  {
   "cell_type": "code",
   "execution_count": 9,
   "metadata": {},
   "outputs": [
    {
     "name": "stdout",
     "output_type": "stream",
     "text": [
      "Starting run 1.\n"
     ]
    },
    {
     "name": "stderr",
     "output_type": "stream",
     "text": [
      "Experiment Progress: 100%|██████████| 5/5 [02:03<00:00, 24.70s/it]\n"
     ]
    },
    {
     "name": "stdout",
     "output_type": "stream",
     "text": [
      "Starting run 2.\n"
     ]
    },
    {
     "name": "stderr",
     "output_type": "stream",
     "text": [
      "Experiment Progress: 100%|██████████| 5/5 [02:00<00:00, 24.06s/it]\n"
     ]
    },
    {
     "name": "stdout",
     "output_type": "stream",
     "text": [
      "Starting run 3.\n"
     ]
    },
    {
     "name": "stderr",
     "output_type": "stream",
     "text": [
      "Experiment Progress: 100%|██████████| 5/5 [01:52<00:00, 22.44s/it]\n"
     ]
    },
    {
     "name": "stdout",
     "output_type": "stream",
     "text": [
      "Starting run 4.\n"
     ]
    },
    {
     "name": "stderr",
     "output_type": "stream",
     "text": [
      "Experiment Progress: 100%|██████████| 5/5 [01:59<00:00, 23.87s/it]\n"
     ]
    },
    {
     "name": "stdout",
     "output_type": "stream",
     "text": [
      "Starting run 5.\n"
     ]
    },
    {
     "name": "stderr",
     "output_type": "stream",
     "text": [
      "Experiment Progress: 100%|██████████| 5/5 [01:59<00:00, 23.82s/it]\n"
     ]
    },
    {
     "name": "stdout",
     "output_type": "stream",
     "text": [
      "Starting run 6.\n"
     ]
    },
    {
     "name": "stderr",
     "output_type": "stream",
     "text": [
      "Experiment Progress: 100%|██████████| 5/5 [02:03<00:00, 24.65s/it]\n"
     ]
    },
    {
     "name": "stdout",
     "output_type": "stream",
     "text": [
      "Starting run 7.\n"
     ]
    },
    {
     "name": "stderr",
     "output_type": "stream",
     "text": [
      "Experiment Progress: 100%|██████████| 5/5 [02:02<00:00, 24.52s/it]\n"
     ]
    },
    {
     "name": "stdout",
     "output_type": "stream",
     "text": [
      "Starting run 8.\n"
     ]
    },
    {
     "name": "stderr",
     "output_type": "stream",
     "text": [
      "Experiment Progress: 100%|██████████| 5/5 [01:55<00:00, 23.15s/it]\n"
     ]
    },
    {
     "name": "stdout",
     "output_type": "stream",
     "text": [
      "Starting run 9.\n"
     ]
    },
    {
     "name": "stderr",
     "output_type": "stream",
     "text": [
      "Experiment Progress: 100%|██████████| 5/5 [02:04<00:00, 24.81s/it]\n"
     ]
    },
    {
     "name": "stdout",
     "output_type": "stream",
     "text": [
      "Starting run 10.\n"
     ]
    },
    {
     "name": "stderr",
     "output_type": "stream",
     "text": [
      "Experiment Progress: 100%|██████████| 5/5 [01:58<00:00, 23.67s/it]\n"
     ]
    },
    {
     "name": "stdout",
     "output_type": "stream",
     "text": [
      "accuracy [0.6229, 0.5949, 0.5406, 0.6298, 0.6252, 0.6053, 0.7107, 0.6894, 0.5617, 0.5955]\n",
      "Mean accuracy across 10 runs: 0.6176\n",
      "Standard deviation of accuracy across 10 runs: 0.051925523589079016\n",
      "\n",
      "total confusion [0.4239429, 0.43690209999999996, 0.43993479999999996, 0.39339979999999997, 0.4246637, 0.4167843, 0.42107779999999995, 0.41578000000000004, 0.41555240000000004, 0.41765189999999996]\n",
      "Mean total confusion across 10 runs: 0.42056897\n",
      "Standard deviation of total confusion across 10 runs: 0.012820611285829281\n",
      "\n",
      "intra-phase confusion [0.4210081, 0.4333814, 0.4370111, 0.3916493, 0.42251150000000004, 0.41450810000000005, 0.41875549999999995, 0.4139252, 0.41330009999999995, 0.41528180000000003]\n",
      "Mean intra-phase confusion across 10 runs: 0.41813321\n",
      "Standard deviation of intra-phase confusion across 10 runs: 0.012384755147756821\n",
      "\n",
      "per-task confusion [0.07335754687082643, 0.07558208210778464, 0.0747055472420104, 0.05750761713763726, 0.06809817210826516, 0.06291662934402227, 0.06964569579244528, 0.06398103594392242, 0.05910439075103544, 0.06567136914249505]\n",
      "Mean per-task confusion across 10 runs: 0.06705700864404443\n",
      "Standard deviation of per-task confusion across 10 runs: 0.00633875627328034\n",
      "\n",
      "embedding drift [5.6068315505981445, 5.777684211730957, 5.7823991775512695, 5.0504279136657715, 5.530785083770752, 5.327237606048584, 5.551224231719971, 5.216555118560791, 4.885715484619141, 5.237433910369873]\n",
      "Mean embedding drift across 10 runs: 5.396629428863525\n",
      "Standard deviation of embedding drift across 10 runs: 0.302503813438942\n",
      "\n",
      "attention drift [2.6814405722028014e-06, 3.3272074754859858e-06, 2.855303056639707e-06, 2.272451357315681e-06, 2.608873819673023e-06, 2.586181417940713e-06, 2.5387126485613864e-06, 2.776233629005074e-06, 2.5884906685996793e-06, 2.938941885193225e-06]\n",
      "Mean attention drift across 10 runs: 2.7173836530617274e-06\n",
      "Standard deviation of attention drift across 10 runs: 2.828898526847849e-07\n",
      "\n",
      "attention spread [46.88369712284434, 48.517133302743545, 47.28378842212919, 53.246314145208146, 50.89685001849743, 49.51998417967751, 49.123689006037836, 47.27103758602599, 50.823880856107046, 46.12614540003379]\n",
      "Mean attention spread across 10 runs: 48.969252003930485\n",
      "Standard deviation of attention spread across 10 runs: 2.2145384495376392\n",
      "\n"
     ]
    }
   ],
   "source": [
    "run_experiments(n_runs=10, verbose=False, stopOnLoss = 0.02, full_CE=False)"
   ]
  },
  {
   "cell_type": "code",
   "execution_count": 10,
   "metadata": {},
   "outputs": [
    {
     "name": "stdout",
     "output_type": "stream",
     "text": [
      "Starting run 1.\n"
     ]
    },
    {
     "name": "stderr",
     "output_type": "stream",
     "text": [
      "Experiment Progress: 100%|██████████| 5/5 [03:18<00:00, 39.76s/it]\n"
     ]
    },
    {
     "name": "stdout",
     "output_type": "stream",
     "text": [
      "Starting run 2.\n"
     ]
    },
    {
     "name": "stderr",
     "output_type": "stream",
     "text": [
      "Experiment Progress: 100%|██████████| 5/5 [03:04<00:00, 36.99s/it]\n"
     ]
    },
    {
     "name": "stdout",
     "output_type": "stream",
     "text": [
      "Starting run 3.\n"
     ]
    },
    {
     "name": "stderr",
     "output_type": "stream",
     "text": [
      "Experiment Progress: 100%|██████████| 5/5 [03:18<00:00, 39.69s/it]\n"
     ]
    },
    {
     "name": "stdout",
     "output_type": "stream",
     "text": [
      "Starting run 4.\n"
     ]
    },
    {
     "name": "stderr",
     "output_type": "stream",
     "text": [
      "Experiment Progress: 100%|██████████| 5/5 [02:54<00:00, 34.87s/it]\n"
     ]
    },
    {
     "name": "stdout",
     "output_type": "stream",
     "text": [
      "Starting run 5.\n"
     ]
    },
    {
     "name": "stderr",
     "output_type": "stream",
     "text": [
      "Experiment Progress: 100%|██████████| 5/5 [03:04<00:00, 36.85s/it]\n"
     ]
    },
    {
     "name": "stdout",
     "output_type": "stream",
     "text": [
      "Starting run 6.\n"
     ]
    },
    {
     "name": "stderr",
     "output_type": "stream",
     "text": [
      "Experiment Progress: 100%|██████████| 5/5 [03:24<00:00, 40.85s/it]\n"
     ]
    },
    {
     "name": "stdout",
     "output_type": "stream",
     "text": [
      "Starting run 7.\n"
     ]
    },
    {
     "name": "stderr",
     "output_type": "stream",
     "text": [
      "Experiment Progress: 100%|██████████| 5/5 [03:23<00:00, 40.72s/it]\n"
     ]
    },
    {
     "name": "stdout",
     "output_type": "stream",
     "text": [
      "Starting run 8.\n"
     ]
    },
    {
     "name": "stderr",
     "output_type": "stream",
     "text": [
      "Experiment Progress: 100%|██████████| 5/5 [03:11<00:00, 38.34s/it]\n"
     ]
    },
    {
     "name": "stdout",
     "output_type": "stream",
     "text": [
      "Starting run 9.\n"
     ]
    },
    {
     "name": "stderr",
     "output_type": "stream",
     "text": [
      "Experiment Progress: 100%|██████████| 5/5 [03:15<00:00, 39.16s/it]\n"
     ]
    },
    {
     "name": "stdout",
     "output_type": "stream",
     "text": [
      "Starting run 10.\n"
     ]
    },
    {
     "name": "stderr",
     "output_type": "stream",
     "text": [
      "Experiment Progress: 100%|██████████| 5/5 [03:10<00:00, 38.13s/it]\n"
     ]
    },
    {
     "name": "stdout",
     "output_type": "stream",
     "text": [
      "accuracy [0.1975, 0.1995, 0.1995, 0.197, 0.1987, 0.196, 0.1984, 0.1983, 0.1977, 0.1972]\n",
      "Mean accuracy across 10 runs: 0.19798\n",
      "Standard deviation of accuracy across 10 runs: 0.0011163432367431731\n",
      "\n",
      "total confusion [0.3465311, 0.3732426, 0.3210307, 0.36923439999999996, 0.33669190000000004, 0.3597589, 0.3332994, 0.3375175, 0.35552459999999997, 0.3575089]\n",
      "Mean total confusion across 10 runs: 0.349034\n",
      "Standard deviation of total confusion across 10 runs: 0.016819538683130783\n",
      "\n",
      "intra-phase confusion [0.33699559999999995, 0.3662698, 0.3161737, 0.36508430000000003, 0.3321619, 0.35258120000000004, 0.3285435, 0.33358699999999997, 0.3449251, 0.3502046]\n",
      "Mean intra-phase confusion across 10 runs: 0.34265267\n",
      "Standard deviation of intra-phase confusion across 10 runs: 0.016145751920692817\n",
      "\n",
      "per-task confusion [0.08364597055187203, 0.08278852978178179, 0.06975606400700751, 0.06756661498521983, 0.06291605537199534, 0.08121444537867986, 0.06077916931896119, 0.06573679181168461, 0.08885737478871078, 0.08663773178641646]\n",
      "Mean per-task confusion across 10 runs: 0.07498987477823293\n",
      "Standard deviation of per-task confusion across 10 runs: 0.010636994107173708\n",
      "\n",
      "embedding drift [9.992767333984375, 9.986319541931152, 10.264474868774414, 9.957176208496094, 9.335834503173828, 10.129926681518555, 10.106097221374512, 11.033014297485352, 10.497307777404785, 10.50982666015625]\n",
      "Mean embedding drift across 10 runs: 10.181274509429931\n",
      "Standard deviation of embedding drift across 10 runs: 0.4455989701567427\n",
      "\n",
      "attention drift [3.308395273161582e-06, 3.1259026822388076e-06, 3.918758774959438e-06, 3.5249994146482457e-06, 2.8950309388657206e-06, 3.466335946919119e-06, 3.0387722029335643e-06, 4.015017508337006e-06, 4.100791750869889e-06, 3.272883224600272e-06]\n",
      "Mean attention drift across 10 runs: 3.4666887717533645e-06\n",
      "Standard deviation of attention drift across 10 runs: 4.215284863485172e-07\n",
      "\n",
      "attention spread [63.75851314127706, 63.87684054656004, 67.03566879429005, 62.756715378271544, 56.84641421538312, 67.5908958123439, 66.34664389285805, 56.339859007410766, 68.87364084070444, 68.41051266560808]\n",
      "Mean attention spread across 10 runs: 64.1835704294707\n",
      "Standard deviation of attention spread across 10 runs: 4.496361019069718\n",
      "\n"
     ]
    }
   ],
   "source": [
    "run_experiments(n_runs=10, verbose=False, stopOnLoss = 0.02, with_OOD=True)"
   ]
  },
  {
   "cell_type": "code",
   "execution_count": 11,
   "metadata": {},
   "outputs": [
    {
     "name": "stdout",
     "output_type": "stream",
     "text": [
      "Starting run 1.\n"
     ]
    },
    {
     "name": "stderr",
     "output_type": "stream",
     "text": [
      "Experiment Progress: 100%|██████████| 5/5 [02:53<00:00, 34.79s/it]\n"
     ]
    },
    {
     "name": "stdout",
     "output_type": "stream",
     "text": [
      "Starting run 2.\n"
     ]
    },
    {
     "name": "stderr",
     "output_type": "stream",
     "text": [
      "Experiment Progress: 100%|██████████| 5/5 [02:57<00:00, 35.46s/it]\n"
     ]
    },
    {
     "name": "stdout",
     "output_type": "stream",
     "text": [
      "Starting run 3.\n"
     ]
    },
    {
     "name": "stderr",
     "output_type": "stream",
     "text": [
      "Experiment Progress: 100%|██████████| 5/5 [03:13<00:00, 38.76s/it]\n"
     ]
    },
    {
     "name": "stdout",
     "output_type": "stream",
     "text": [
      "Starting run 4.\n"
     ]
    },
    {
     "name": "stderr",
     "output_type": "stream",
     "text": [
      "Experiment Progress: 100%|██████████| 5/5 [03:04<00:00, 36.81s/it]\n"
     ]
    },
    {
     "name": "stdout",
     "output_type": "stream",
     "text": [
      "Starting run 5.\n"
     ]
    },
    {
     "name": "stderr",
     "output_type": "stream",
     "text": [
      "Experiment Progress: 100%|██████████| 5/5 [03:02<00:00, 36.56s/it]\n"
     ]
    },
    {
     "name": "stdout",
     "output_type": "stream",
     "text": [
      "Starting run 6.\n"
     ]
    },
    {
     "name": "stderr",
     "output_type": "stream",
     "text": [
      "Experiment Progress: 100%|██████████| 5/5 [03:13<00:00, 38.69s/it]\n"
     ]
    },
    {
     "name": "stdout",
     "output_type": "stream",
     "text": [
      "Starting run 7.\n"
     ]
    },
    {
     "name": "stderr",
     "output_type": "stream",
     "text": [
      "Experiment Progress: 100%|██████████| 5/5 [03:10<00:00, 38.07s/it]\n"
     ]
    },
    {
     "name": "stdout",
     "output_type": "stream",
     "text": [
      "Starting run 8.\n"
     ]
    },
    {
     "name": "stderr",
     "output_type": "stream",
     "text": [
      "Experiment Progress: 100%|██████████| 5/5 [02:56<00:00, 35.29s/it]\n"
     ]
    },
    {
     "name": "stdout",
     "output_type": "stream",
     "text": [
      "Starting run 9.\n"
     ]
    },
    {
     "name": "stderr",
     "output_type": "stream",
     "text": [
      "Experiment Progress: 100%|██████████| 5/5 [03:02<00:00, 36.58s/it]\n"
     ]
    },
    {
     "name": "stdout",
     "output_type": "stream",
     "text": [
      "Starting run 10.\n"
     ]
    },
    {
     "name": "stderr",
     "output_type": "stream",
     "text": [
      "Experiment Progress: 100%|██████████| 5/5 [03:12<00:00, 38.54s/it]\n"
     ]
    },
    {
     "name": "stdout",
     "output_type": "stream",
     "text": [
      "accuracy [0.6959, 0.7606, 0.7358, 0.7479, 0.7632, 0.697, 0.732, 0.6927, 0.7535, 0.6815]\n",
      "Mean accuracy across 10 runs: 0.72601\n",
      "Standard deviation of accuracy across 10 runs: 0.031242864074145896\n",
      "\n",
      "total confusion [0.34128959999999997, 0.3403307, 0.3671303, 0.3372621, 0.34383430000000004, 0.33159700000000003, 0.35426460000000004, 0.34801570000000004, 0.3184975, 0.34182559999999995]\n",
      "Mean total confusion across 10 runs: 0.34240474\n",
      "Standard deviation of total confusion across 10 runs: 0.01293671264796433\n",
      "\n",
      "intra-phase confusion [0.3382374, 0.33686609999999995, 0.364135, 0.33436889999999997, 0.34082809999999997, 0.32906389999999996, 0.35095960000000004, 0.3447692, 0.316288, 0.33982579999999996]\n",
      "Mean intra-phase confusion across 10 runs: 0.3395342\n",
      "Standard deviation of intra-phase confusion across 10 runs: 0.012694694110532954\n",
      "\n",
      "per-task confusion [0.060382026411822755, 0.06253529983591295, 0.06502086716094588, 0.061255052299771795, 0.0612855165849032, 0.052659620738924454, 0.06169667461140953, 0.05955443842009045, 0.04717640892757149, 0.05497806018052833]\n",
      "Mean per-task confusion across 10 runs: 0.05865439651718808\n",
      "Standard deviation of per-task confusion across 10 runs: 0.005411169348045328\n",
      "\n",
      "embedding drift [6.726914882659912, 6.194118976593018, 6.456262111663818, 6.039211750030518, 6.71893835067749, 5.77584171295166, 6.3325605392456055, 6.566931247711182, 5.460818290710449, 6.003780364990234]\n",
      "Mean embedding drift across 10 runs: 6.227537822723389\n",
      "Standard deviation of embedding drift across 10 runs: 0.41471858467898126\n",
      "\n",
      "attention drift [1.6755195643624055e-06, 1.662847108364429e-06, 1.808699641230074e-06, 1.7332165978689196e-06, 1.9530270297250673e-06, 2.0740150112580553e-06, 2.0794221580886836e-06, 1.4934271245227298e-06, 2.3011104486684632e-06, 1.6746135946264704e-06]\n",
      "Mean attention drift across 10 runs: 1.8455898278715298e-06\n",
      "Standard deviation of attention drift across 10 runs: 2.484297973925368e-07\n",
      "\n",
      "attention spread [67.34418426190493, 66.1854429677681, 67.45851449004223, 64.7460250012734, 60.238901319139266, 54.17527144549674, 60.676644049733184, 70.17548497346189, 56.88386085860768, 69.5963008209733]\n",
      "Mean attention spread across 10 runs: 63.74806301884007\n",
      "Standard deviation of attention spread across 10 runs: 5.473708531024471\n",
      "\n"
     ]
    }
   ],
   "source": [
    "run_experiments(n_runs=10, verbose=False, stopOnLoss = 0.02, full_CE = False, with_OOD=True)"
   ]
  },
  {
   "cell_type": "code",
   "execution_count": 12,
   "metadata": {},
   "outputs": [
    {
     "name": "stdout",
     "output_type": "stream",
     "text": [
      "Starting run 1.\n"
     ]
    },
    {
     "name": "stderr",
     "output_type": "stream",
     "text": [
      "Experiment Progress: 100%|██████████| 5/5 [04:02<00:00, 48.45s/it]\n"
     ]
    },
    {
     "name": "stdout",
     "output_type": "stream",
     "text": [
      "Starting run 2.\n"
     ]
    },
    {
     "name": "stderr",
     "output_type": "stream",
     "text": [
      "Experiment Progress: 100%|██████████| 5/5 [03:53<00:00, 46.79s/it]\n"
     ]
    },
    {
     "name": "stdout",
     "output_type": "stream",
     "text": [
      "Starting run 3.\n"
     ]
    },
    {
     "name": "stderr",
     "output_type": "stream",
     "text": [
      "Experiment Progress: 100%|██████████| 5/5 [03:46<00:00, 45.30s/it]\n"
     ]
    },
    {
     "name": "stdout",
     "output_type": "stream",
     "text": [
      "Starting run 4.\n"
     ]
    },
    {
     "name": "stderr",
     "output_type": "stream",
     "text": [
      "Experiment Progress: 100%|██████████| 5/5 [03:52<00:00, 46.45s/it]\n"
     ]
    },
    {
     "name": "stdout",
     "output_type": "stream",
     "text": [
      "Starting run 5.\n"
     ]
    },
    {
     "name": "stderr",
     "output_type": "stream",
     "text": [
      "Experiment Progress: 100%|██████████| 5/5 [03:39<00:00, 43.92s/it]\n"
     ]
    },
    {
     "name": "stdout",
     "output_type": "stream",
     "text": [
      "Starting run 6.\n"
     ]
    },
    {
     "name": "stderr",
     "output_type": "stream",
     "text": [
      "Experiment Progress: 100%|██████████| 5/5 [03:52<00:00, 46.59s/it]\n"
     ]
    },
    {
     "name": "stdout",
     "output_type": "stream",
     "text": [
      "Starting run 7.\n"
     ]
    },
    {
     "name": "stderr",
     "output_type": "stream",
     "text": [
      "Experiment Progress: 100%|██████████| 5/5 [03:26<00:00, 41.33s/it]\n"
     ]
    },
    {
     "name": "stdout",
     "output_type": "stream",
     "text": [
      "Starting run 8.\n"
     ]
    },
    {
     "name": "stderr",
     "output_type": "stream",
     "text": [
      "Experiment Progress: 100%|██████████| 5/5 [03:43<00:00, 44.64s/it]\n"
     ]
    },
    {
     "name": "stdout",
     "output_type": "stream",
     "text": [
      "Starting run 9.\n"
     ]
    },
    {
     "name": "stderr",
     "output_type": "stream",
     "text": [
      "Experiment Progress: 100%|██████████| 5/5 [03:44<00:00, 44.97s/it]\n"
     ]
    },
    {
     "name": "stdout",
     "output_type": "stream",
     "text": [
      "Starting run 10.\n"
     ]
    },
    {
     "name": "stderr",
     "output_type": "stream",
     "text": [
      "Experiment Progress: 100%|██████████| 5/5 [03:51<00:00, 46.31s/it]\n"
     ]
    },
    {
     "name": "stdout",
     "output_type": "stream",
     "text": [
      "accuracy [0.828, 0.8767, 0.8382, 0.8568, 0.8637, 0.8435, 0.8619, 0.8406, 0.8608, 0.7818]\n",
      "Mean accuracy across 10 runs: 0.8452\n",
      "Standard deviation of accuracy across 10 runs: 0.02662446660915899\n",
      "\n",
      "total confusion [0.3276791, 0.33188090000000003, 0.34987520000000005, 0.3184865, 0.345804, 0.34278470000000005, 0.34630130000000003, 0.3649679, 0.3351818, 0.3529879]\n",
      "Mean total confusion across 10 runs: 0.34159493\n",
      "Standard deviation of total confusion across 10 runs: 0.013536291063085033\n",
      "\n",
      "intra-phase confusion [0.32398760000000004, 0.32816290000000004, 0.3468726, 0.315616, 0.3426274, 0.33880220000000005, 0.34274079999999996, 0.36112639999999996, 0.33155599999999996, 0.34971640000000004]\n",
      "Mean intra-phase confusion across 10 runs: 0.33812083\n",
      "Standard deviation of intra-phase confusion across 10 runs: 0.013461457161511968\n",
      "\n",
      "per-task confusion [0.061029603091504535, 0.06151265935099241, 0.06358187652932738, 0.054910927586055244, 0.057952069103951474, 0.06198898982077241, 0.0627405586769992, 0.07087733454965436, 0.06326569487969202, 0.06196013613553482]\n",
      "Mean per-task confusion across 10 runs: 0.06198198497244839\n",
      "Standard deviation of per-task confusion across 10 runs: 0.004099839305525287\n",
      "\n",
      "embedding drift [5.141119956970215, 5.119732856750488, 4.8010053634643555, 5.321743488311768, 5.262739181518555, 5.019440174102783, 4.885214805603027, 5.719773292541504, 5.264565944671631, 5.160487174987793]\n",
      "Mean embedding drift across 10 runs: 5.169582223892212\n",
      "Standard deviation of embedding drift across 10 runs: 0.2552117931092032\n",
      "\n",
      "attention drift [9.751380852269364e-07, 7.668043535975659e-07, 7.90297522280805e-07, 7.415361311521287e-07, 8.30105631441672e-07, 9.131171509659523e-07, 7.837608467684989e-07, 8.644492297334258e-07, 9.437437767808372e-07, 1.0874592327594117e-06]\n",
      "Mean attention drift across 10 runs: 8.696411960707234e-07\n",
      "Standard deviation of attention drift across 10 runs: 1.0964733164402283e-07\n",
      "\n",
      "attention spread [54.78017016999462, 63.3832489819132, 56.46341518894898, 58.49976224685598, 66.75979301073853, 61.730956103721965, 61.51614198905769, 61.214351826091516, 55.56750014440013, 55.305556381825056]\n",
      "Mean attention spread across 10 runs: 59.52208960435477\n",
      "Standard deviation of attention spread across 10 runs: 4.018241218777772\n",
      "\n"
     ]
    }
   ],
   "source": [
    "run_experiments(n_runs=10, verbose=False, stopOnLoss = 0.02, full_CE = False, kd_loss = 1, with_OOD=True)"
   ]
  },
  {
   "cell_type": "code",
   "execution_count": 13,
   "metadata": {},
   "outputs": [
    {
     "name": "stdout",
     "output_type": "stream",
     "text": [
      "Starting run 1.\n"
     ]
    },
    {
     "name": "stderr",
     "output_type": "stream",
     "text": [
      "Experiment Progress: 100%|██████████| 5/5 [02:21<00:00, 28.30s/it]\n"
     ]
    },
    {
     "name": "stdout",
     "output_type": "stream",
     "text": [
      "Starting run 2.\n"
     ]
    },
    {
     "name": "stderr",
     "output_type": "stream",
     "text": [
      "Experiment Progress: 100%|██████████| 5/5 [02:40<00:00, 32.17s/it]\n"
     ]
    },
    {
     "name": "stdout",
     "output_type": "stream",
     "text": [
      "Starting run 3.\n"
     ]
    },
    {
     "name": "stderr",
     "output_type": "stream",
     "text": [
      "Experiment Progress: 100%|██████████| 5/5 [02:52<00:00, 34.50s/it]\n"
     ]
    },
    {
     "name": "stdout",
     "output_type": "stream",
     "text": [
      "Starting run 4.\n"
     ]
    },
    {
     "name": "stderr",
     "output_type": "stream",
     "text": [
      "Experiment Progress: 100%|██████████| 5/5 [02:37<00:00, 31.44s/it]\n"
     ]
    },
    {
     "name": "stdout",
     "output_type": "stream",
     "text": [
      "Starting run 5.\n"
     ]
    },
    {
     "name": "stderr",
     "output_type": "stream",
     "text": [
      "Experiment Progress: 100%|██████████| 5/5 [02:27<00:00, 29.53s/it]\n"
     ]
    },
    {
     "name": "stdout",
     "output_type": "stream",
     "text": [
      "Starting run 6.\n"
     ]
    },
    {
     "name": "stderr",
     "output_type": "stream",
     "text": [
      "Experiment Progress: 100%|██████████| 5/5 [02:26<00:00, 29.35s/it]\n"
     ]
    },
    {
     "name": "stdout",
     "output_type": "stream",
     "text": [
      "Starting run 7.\n"
     ]
    },
    {
     "name": "stderr",
     "output_type": "stream",
     "text": [
      "Experiment Progress: 100%|██████████| 5/5 [02:36<00:00, 31.35s/it]\n"
     ]
    },
    {
     "name": "stdout",
     "output_type": "stream",
     "text": [
      "Starting run 8.\n"
     ]
    },
    {
     "name": "stderr",
     "output_type": "stream",
     "text": [
      "Experiment Progress: 100%|██████████| 5/5 [02:41<00:00, 32.38s/it]\n"
     ]
    },
    {
     "name": "stdout",
     "output_type": "stream",
     "text": [
      "Starting run 9.\n"
     ]
    },
    {
     "name": "stderr",
     "output_type": "stream",
     "text": [
      "Experiment Progress: 100%|██████████| 5/5 [02:36<00:00, 31.40s/it]\n"
     ]
    },
    {
     "name": "stdout",
     "output_type": "stream",
     "text": [
      "Starting run 10.\n"
     ]
    },
    {
     "name": "stderr",
     "output_type": "stream",
     "text": [
      "Experiment Progress: 100%|██████████| 5/5 [02:26<00:00, 29.39s/it]\n"
     ]
    },
    {
     "name": "stdout",
     "output_type": "stream",
     "text": [
      "accuracy [0.7411, 0.7552, 0.7122, 0.7676, 0.7599, 0.6857, 0.684, 0.7479, 0.7586, 0.7766]\n",
      "Mean accuracy across 10 runs: 0.73888\n",
      "Standard deviation of accuracy across 10 runs: 0.03330454757069803\n",
      "\n",
      "total confusion [0.38535489999999994, 0.39326269999999997, 0.3891513, 0.3907684, 0.40427270000000004, 0.38001399999999996, 0.38709000000000005, 0.3936531, 0.3869469, 0.39867379999999997]\n",
      "Mean total confusion across 10 runs: 0.39091877999999997\n",
      "Standard deviation of total confusion across 10 runs: 0.0069513464372498975\n",
      "\n",
      "intra-phase confusion [0.38336749999999997, 0.3911534, 0.38714190000000004, 0.3886024, 0.4022536, 0.378042, 0.3852276, 0.39145850000000004, 0.3848226, 0.39647600000000005]\n",
      "Mean intra-phase confusion across 10 runs: 0.38885455\n",
      "Standard deviation of intra-phase confusion across 10 runs: 0.006905017498449152\n",
      "\n",
      "per-task confusion [0.05884617069259688, 0.05783846415407488, 0.05478980887664238, 0.05998441149962837, 0.05921650012598223, 0.054963962700555834, 0.05661504818883127, 0.05859697551451541, 0.05703121543428589, 0.060871871841451194]\n",
      "Mean per-task confusion across 10 runs: 0.057875442902856435\n",
      "Standard deviation of per-task confusion across 10 runs: 0.002027264926698293\n",
      "\n",
      "embedding drift [5.1042094230651855, 4.66594934463501, 4.622559547424316, 4.923771858215332, 4.675381183624268, 4.568291187286377, 4.873927593231201, 4.517685890197754, 4.83236026763916, 4.7553229331970215]\n",
      "Mean embedding drift across 10 runs: 4.753945922851562\n",
      "Standard deviation of embedding drift across 10 runs: 0.18059665134709804\n",
      "\n",
      "attention drift [8.21642560564045e-07, 7.738190319531066e-07, 1.1771305102221086e-06, 8.777341965591497e-07, 8.224549850841888e-07, 1.0200277124698806e-06, 1.039166744782114e-06, 9.389630998113365e-07, 9.106718875891987e-07, 8.192869892757376e-07]\n",
      "Mean attention drift across 10 runs: 9.200897718310866e-07\n",
      "Standard deviation of attention drift across 10 runs: 1.2616412933286874e-07\n",
      "\n",
      "attention spread [46.863979719699344, 50.963426569473825, 47.02449778069715, 48.74847129242007, 49.77218264022951, 48.12900418196293, 46.97415851537723, 46.44869339097914, 48.217392811925, 48.04993900845444]\n",
      "Mean attention spread across 10 runs: 48.11917459112186\n",
      "Standard deviation of attention spread across 10 runs: 1.4184560075804873\n",
      "\n"
     ]
    }
   ],
   "source": [
    "run_experiments(n_runs=10, verbose=False, stopOnLoss = 0.02, full_CE = False, kd_loss = 1)"
   ]
  },
  {
   "cell_type": "code",
   "execution_count": 14,
   "metadata": {},
   "outputs": [
    {
     "name": "stdout",
     "output_type": "stream",
     "text": [
      "Starting run 1.\n"
     ]
    },
    {
     "name": "stderr",
     "output_type": "stream",
     "text": [
      "Experiment Progress: 100%|██████████| 5/5 [03:45<00:00, 45.16s/it]\n"
     ]
    },
    {
     "name": "stdout",
     "output_type": "stream",
     "text": [
      "Starting run 2.\n"
     ]
    },
    {
     "name": "stderr",
     "output_type": "stream",
     "text": [
      "Experiment Progress: 100%|██████████| 5/5 [04:07<00:00, 49.55s/it]\n"
     ]
    },
    {
     "name": "stdout",
     "output_type": "stream",
     "text": [
      "Starting run 3.\n"
     ]
    },
    {
     "name": "stderr",
     "output_type": "stream",
     "text": [
      "Experiment Progress: 100%|██████████| 5/5 [04:11<00:00, 50.25s/it]\n"
     ]
    },
    {
     "name": "stdout",
     "output_type": "stream",
     "text": [
      "Starting run 4.\n"
     ]
    },
    {
     "name": "stderr",
     "output_type": "stream",
     "text": [
      "Experiment Progress: 100%|██████████| 5/5 [03:57<00:00, 47.41s/it]\n"
     ]
    },
    {
     "name": "stdout",
     "output_type": "stream",
     "text": [
      "Starting run 5.\n"
     ]
    },
    {
     "name": "stderr",
     "output_type": "stream",
     "text": [
      "Experiment Progress: 100%|██████████| 5/5 [03:59<00:00, 47.87s/it]\n"
     ]
    },
    {
     "name": "stdout",
     "output_type": "stream",
     "text": [
      "Starting run 6.\n"
     ]
    },
    {
     "name": "stderr",
     "output_type": "stream",
     "text": [
      "Experiment Progress: 100%|██████████| 5/5 [04:04<00:00, 48.84s/it]\n"
     ]
    },
    {
     "name": "stdout",
     "output_type": "stream",
     "text": [
      "Starting run 7.\n"
     ]
    },
    {
     "name": "stderr",
     "output_type": "stream",
     "text": [
      "Experiment Progress: 100%|██████████| 5/5 [04:19<00:00, 51.94s/it]\n"
     ]
    },
    {
     "name": "stdout",
     "output_type": "stream",
     "text": [
      "Starting run 8.\n"
     ]
    },
    {
     "name": "stderr",
     "output_type": "stream",
     "text": [
      "Experiment Progress: 100%|██████████| 5/5 [03:43<00:00, 44.64s/it]\n"
     ]
    },
    {
     "name": "stdout",
     "output_type": "stream",
     "text": [
      "Starting run 9.\n"
     ]
    },
    {
     "name": "stderr",
     "output_type": "stream",
     "text": [
      "Experiment Progress: 100%|██████████| 5/5 [04:01<00:00, 48.22s/it]\n"
     ]
    },
    {
     "name": "stdout",
     "output_type": "stream",
     "text": [
      "Starting run 10.\n"
     ]
    },
    {
     "name": "stderr",
     "output_type": "stream",
     "text": [
      "Experiment Progress: 100%|██████████| 5/5 [03:40<00:00, 44.16s/it]\n"
     ]
    },
    {
     "name": "stdout",
     "output_type": "stream",
     "text": [
      "accuracy [0.7036, 0.7484, 0.7821, 0.7637, 0.7981, 0.7591, 0.7729, 0.7838, 0.7664, 0.7871]\n",
      "Mean accuracy across 10 runs: 0.76652\n",
      "Standard deviation of accuracy across 10 runs: 0.02656889576595578\n",
      "\n",
      "total confusion [0.39356990000000003, 0.38609309999999997, 0.3809249, 0.38552280000000005, 0.38427710000000004, 0.40457, 0.38948910000000003, 0.4074234, 0.375209, 0.39377130000000005]\n",
      "Mean total confusion across 10 runs: 0.39008506000000004\n",
      "Standard deviation of total confusion across 10 runs: 0.010067589454967739\n",
      "\n",
      "intra-phase confusion [0.3919142, 0.38466520000000004, 0.37918090000000004, 0.3837522, 0.3828188, 0.40283880000000005, 0.387695, 0.40567889999999995, 0.37370400000000004, 0.3922278]\n",
      "Mean intra-phase confusion across 10 runs: 0.38844758\n",
      "Standard deviation of intra-phase confusion across 10 runs: 0.010012104683254374\n",
      "\n",
      "per-task confusion [0.056508048702055835, 0.053170110659574575, 0.05620240670306831, 0.0575846001506223, 0.05371361214611488, 0.059324830775694656, 0.059349264189737495, 0.05861720312753325, 0.05330612933191847, 0.05672827339673554]\n",
      "Mean per-task confusion across 10 runs: 0.05645044791830553\n",
      "Standard deviation of per-task confusion across 10 runs: 0.0023787483461318627\n",
      "\n",
      "embedding drift [5.1030049324035645, 4.683962821960449, 4.513072490692139, 5.120288848876953, 4.514543056488037, 4.859586238861084, 4.612305641174316, 4.468480110168457, 4.3918280601501465, 4.767376899719238]\n",
      "Mean embedding drift across 10 runs: 4.703444910049439\n",
      "Standard deviation of embedding drift across 10 runs: 0.2570774849490634\n",
      "\n",
      "attention drift [1.3128465926455198e-06, 1.1888746186057495e-06, 1.3078567016314611e-06, 1.2987072673495713e-06, 1.238002902950394e-06, 1.310593936036163e-06, 1.4960641718670254e-06, 1.3736261620212572e-06, 1.2183434705256345e-06, 1.0670764039037718e-06]\n",
      "Mean attention drift across 10 runs: 1.2811992227536548e-06\n",
      "Standard deviation of attention drift across 10 runs: 1.1439775889975494e-07\n",
      "\n",
      "attention spread [48.63941163127609, 50.32631846506934, 49.183475001640154, 49.27538194543389, 48.14598163489817, 48.517521397410555, 47.23115611444306, 47.45864672746442, 53.48700295219065, 49.56345202276041]\n",
      "Mean attention spread across 10 runs: 49.18283478925868\n",
      "Standard deviation of attention spread across 10 runs: 1.7820631794494277\n",
      "\n"
     ]
    }
   ],
   "source": [
    "run_experiments(n_runs=10, verbose=False, stopOnLoss = 0.02, full_CE = False, kd_loss = 1, with_dropout=True)"
   ]
  },
  {
   "cell_type": "code",
   "execution_count": 15,
   "metadata": {},
   "outputs": [
    {
     "name": "stdout",
     "output_type": "stream",
     "text": [
      "Starting run 1.\n"
     ]
    },
    {
     "name": "stderr",
     "output_type": "stream",
     "text": [
      "Experiment Progress: 100%|██████████| 5/5 [07:39<00:00, 91.84s/it] \n"
     ]
    },
    {
     "name": "stdout",
     "output_type": "stream",
     "text": [
      "Starting run 2.\n"
     ]
    },
    {
     "name": "stderr",
     "output_type": "stream",
     "text": [
      "Experiment Progress: 100%|██████████| 5/5 [07:22<00:00, 88.42s/it] \n"
     ]
    },
    {
     "name": "stdout",
     "output_type": "stream",
     "text": [
      "Starting run 3.\n"
     ]
    },
    {
     "name": "stderr",
     "output_type": "stream",
     "text": [
      "Experiment Progress: 100%|██████████| 5/5 [07:22<00:00, 88.41s/it] \n"
     ]
    },
    {
     "name": "stdout",
     "output_type": "stream",
     "text": [
      "Starting run 4.\n"
     ]
    },
    {
     "name": "stderr",
     "output_type": "stream",
     "text": [
      "Experiment Progress: 100%|██████████| 5/5 [07:25<00:00, 89.17s/it] \n"
     ]
    },
    {
     "name": "stdout",
     "output_type": "stream",
     "text": [
      "Starting run 5.\n"
     ]
    },
    {
     "name": "stderr",
     "output_type": "stream",
     "text": [
      "Experiment Progress: 100%|██████████| 5/5 [07:54<00:00, 94.87s/it] \n"
     ]
    },
    {
     "name": "stdout",
     "output_type": "stream",
     "text": [
      "Starting run 6.\n"
     ]
    },
    {
     "name": "stderr",
     "output_type": "stream",
     "text": [
      "Experiment Progress: 100%|██████████| 5/5 [08:01<00:00, 96.24s/it] \n"
     ]
    },
    {
     "name": "stdout",
     "output_type": "stream",
     "text": [
      "Starting run 7.\n"
     ]
    },
    {
     "name": "stderr",
     "output_type": "stream",
     "text": [
      "Experiment Progress: 100%|██████████| 5/5 [07:10<00:00, 86.12s/it] \n"
     ]
    },
    {
     "name": "stdout",
     "output_type": "stream",
     "text": [
      "Starting run 8.\n"
     ]
    },
    {
     "name": "stderr",
     "output_type": "stream",
     "text": [
      "Experiment Progress: 100%|██████████| 5/5 [07:02<00:00, 84.53s/it] \n"
     ]
    },
    {
     "name": "stdout",
     "output_type": "stream",
     "text": [
      "Starting run 9.\n"
     ]
    },
    {
     "name": "stderr",
     "output_type": "stream",
     "text": [
      "Experiment Progress: 100%|██████████| 5/5 [07:47<00:00, 93.46s/it] \n"
     ]
    },
    {
     "name": "stdout",
     "output_type": "stream",
     "text": [
      "Starting run 10.\n"
     ]
    },
    {
     "name": "stderr",
     "output_type": "stream",
     "text": [
      "Experiment Progress: 100%|██████████| 5/5 [07:21<00:00, 88.34s/it] \n"
     ]
    },
    {
     "name": "stdout",
     "output_type": "stream",
     "text": [
      "accuracy [0.8876, 0.8858, 0.8432, 0.8732, 0.8785, 0.8839, 0.8687, 0.8798, 0.8161, 0.8676]\n",
      "Mean accuracy across 10 runs: 0.86844\n",
      "Standard deviation of accuracy across 10 runs: 0.022454160713180373\n",
      "\n",
      "total confusion [0.3307487, 0.3147346, 0.3435386, 0.34747019999999995, 0.3041045, 0.3306139, 0.3325637, 0.32489900000000005, 0.3265641, 0.316345]\n",
      "Mean total confusion across 10 runs: 0.32715823\n",
      "Standard deviation of total confusion across 10 runs: 0.013094311680526691\n",
      "\n",
      "intra-phase confusion [0.32809900000000003, 0.312361, 0.34083589999999997, 0.34498850000000003, 0.3020847, 0.32823230000000003, 0.330349, 0.3224941, 0.32370580000000004, 0.3136721]\n",
      "Mean intra-phase confusion across 10 runs: 0.32468224\n",
      "Standard deviation of intra-phase confusion across 10 runs: 0.01299188043067242\n",
      "\n",
      "per-task confusion [0.05634090529016507, 0.0501948041153887, 0.0545723722310669, 0.053531874992040526, 0.04865028135725198, 0.056725777622537166, 0.050382250979138066, 0.05165308220792166, 0.055565705079666204, 0.05070453318872385]\n",
      "Mean per-task confusion across 10 runs: 0.05283215870639001\n",
      "Standard deviation of per-task confusion across 10 runs: 0.0028833735956086655\n",
      "\n",
      "embedding drift [4.787845611572266, 5.031877517700195, 5.255876064300537, 4.906715393066406, 4.936919689178467, 5.0172438621521, 4.136391639709473, 5.003164291381836, 4.790947914123535, 4.774017333984375]\n",
      "Mean embedding drift across 10 runs: 4.864099931716919\n",
      "Standard deviation of embedding drift across 10 runs: 0.2944653879473469\n",
      "\n",
      "attention drift [1.6583529874235507e-06, 1.4729980871708057e-06, 1.6288791240919902e-06, 1.4119726076700793e-06, 1.6324108020543544e-06, 1.6427033402846624e-06, 1.7949802479694017e-06, 1.4447142470984104e-06, 1.577723647948048e-06, 1.7013776410477022e-06]\n",
      "Mean attention drift across 10 runs: 1.5966112732759005e-06\n",
      "Standard deviation of attention drift across 10 runs: 1.2082433799573472e-07\n",
      "\n",
      "attention spread [55.728691824451765, 53.182196707545074, 56.57928874036769, 56.774264105387054, 56.64344065059663, 53.630559388218124, 56.3500304179252, 56.05844702828303, 54.785260652985436, 57.173938166143486]\n",
      "Mean attention spread across 10 runs: 55.69061176819035\n",
      "Standard deviation of attention spread across 10 runs: 1.3743441919765422\n",
      "\n"
     ]
    }
   ],
   "source": [
    "run_experiments(n_runs=10, verbose=False, stopOnLoss = 0.02, full_CE = False, kd_loss = 1, with_OOD=True, with_dropout=True)"
   ]
  },
  {
   "cell_type": "code",
   "execution_count": 16,
   "metadata": {},
   "outputs": [
    {
     "name": "stdout",
     "output_type": "stream",
     "text": [
      "Starting run 1.\n"
     ]
    },
    {
     "name": "stderr",
     "output_type": "stream",
     "text": [
      "Experiment Progress: 100%|██████████| 5/5 [03:58<00:00, 47.62s/it]\n"
     ]
    },
    {
     "name": "stdout",
     "output_type": "stream",
     "text": [
      "Starting run 2.\n"
     ]
    },
    {
     "name": "stderr",
     "output_type": "stream",
     "text": [
      "Experiment Progress: 100%|██████████| 5/5 [03:39<00:00, 43.89s/it]\n"
     ]
    },
    {
     "name": "stdout",
     "output_type": "stream",
     "text": [
      "Starting run 3.\n"
     ]
    },
    {
     "name": "stderr",
     "output_type": "stream",
     "text": [
      "Experiment Progress: 100%|██████████| 5/5 [03:48<00:00, 45.67s/it]\n"
     ]
    },
    {
     "name": "stdout",
     "output_type": "stream",
     "text": [
      "Starting run 4.\n"
     ]
    },
    {
     "name": "stderr",
     "output_type": "stream",
     "text": [
      "Experiment Progress: 100%|██████████| 5/5 [04:09<00:00, 49.92s/it]\n"
     ]
    },
    {
     "name": "stdout",
     "output_type": "stream",
     "text": [
      "Starting run 5.\n"
     ]
    },
    {
     "name": "stderr",
     "output_type": "stream",
     "text": [
      "Experiment Progress: 100%|██████████| 5/5 [03:47<00:00, 45.56s/it]\n"
     ]
    },
    {
     "name": "stdout",
     "output_type": "stream",
     "text": [
      "Starting run 6.\n"
     ]
    },
    {
     "name": "stderr",
     "output_type": "stream",
     "text": [
      "Experiment Progress: 100%|██████████| 5/5 [03:49<00:00, 45.90s/it]\n"
     ]
    },
    {
     "name": "stdout",
     "output_type": "stream",
     "text": [
      "Starting run 7.\n"
     ]
    },
    {
     "name": "stderr",
     "output_type": "stream",
     "text": [
      "Experiment Progress: 100%|██████████| 5/5 [03:55<00:00, 47.03s/it]\n"
     ]
    },
    {
     "name": "stdout",
     "output_type": "stream",
     "text": [
      "Starting run 8.\n"
     ]
    },
    {
     "name": "stderr",
     "output_type": "stream",
     "text": [
      "Experiment Progress: 100%|██████████| 5/5 [04:02<00:00, 48.42s/it]\n"
     ]
    },
    {
     "name": "stdout",
     "output_type": "stream",
     "text": [
      "Starting run 9.\n"
     ]
    },
    {
     "name": "stderr",
     "output_type": "stream",
     "text": [
      "Experiment Progress: 100%|██████████| 5/5 [03:49<00:00, 46.00s/it]\n"
     ]
    },
    {
     "name": "stdout",
     "output_type": "stream",
     "text": [
      "Starting run 10.\n"
     ]
    },
    {
     "name": "stderr",
     "output_type": "stream",
     "text": [
      "Experiment Progress: 100%|██████████| 5/5 [03:48<00:00, 45.61s/it]\n"
     ]
    },
    {
     "name": "stdout",
     "output_type": "stream",
     "text": [
      "accuracy [0.8475, 0.8258, 0.8726, 0.8616, 0.831, 0.8709, 0.8329, 0.8398, 0.8582, 0.8237]\n",
      "Mean accuracy across 10 runs: 0.8464\n",
      "Standard deviation of accuracy across 10 runs: 0.01844149909548813\n",
      "\n",
      "total confusion [0.33850460000000004, 0.32606060000000003, 0.34732620000000003, 0.339186, 0.3486659, 0.33174630000000005, 0.3601244, 0.32260310000000003, 0.3544064, 0.348533]\n",
      "Mean total confusion across 10 runs: 0.34171565000000004\n",
      "Standard deviation of total confusion across 10 runs: 0.012259535010961862\n",
      "\n",
      "intra-phase confusion [0.33572270000000004, 0.3229193, 0.34365389999999996, 0.3351971, 0.3449141, 0.3287169, 0.3564144, 0.31963640000000004, 0.35041900000000004, 0.34421100000000004]\n",
      "Mean intra-phase confusion across 10 runs: 0.33818048\n",
      "Standard deviation of intra-phase confusion across 10 runs: 0.011903367636634972\n",
      "\n",
      "per-task confusion [0.06062307836885807, 0.0587536071225039, 0.06579785579350761, 0.07067425656207886, 0.06311524704168887, 0.058932913765759334, 0.07000158245041162, 0.0552231782106329, 0.06865252780967694, 0.06876622305382063]\n",
      "Mean per-task confusion across 10 runs: 0.06405404701789387\n",
      "Standard deviation of per-task confusion across 10 runs: 0.005482797884592656\n",
      "\n",
      "embedding drift [5.138515472412109, 4.800501823425293, 5.033205986022949, 4.936219692230225, 4.666918754577637, 4.908092498779297, 5.050991535186768, 4.945575714111328, 5.334988594055176, 5.454545021057129]\n",
      "Mean embedding drift across 10 runs: 5.026955509185791\n",
      "Standard deviation of embedding drift across 10 runs: 0.23586045961055596\n",
      "\n",
      "attention drift [8.57790109912389e-07, 9.357682879393618e-07, 7.279035501753261e-07, 7.480683796222017e-07, 8.676628846114734e-07, 8.568142357078169e-07, 7.531758004569473e-07, 1.073886880471574e-06, 8.361723296396292e-07, 8.336332989205796e-07]\n",
      "Mean attention drift across 10 runs: 8.490875757457299e-07\n",
      "Standard deviation of attention drift across 10 runs: 1.0166606758199181e-07\n",
      "\n",
      "attention spread [56.3691675385365, 56.9034489574727, 65.38437801976623, 60.17579093493837, 54.75582395693324, 55.3428482554739, 58.11713787830954, 53.184218299962325, 57.05820900284505, 62.293107391494274]\n",
      "Mean attention spread across 10 runs: 57.958413023573215\n",
      "Standard deviation of attention spread across 10 runs: 3.7000930691829015\n",
      "\n"
     ]
    }
   ],
   "source": [
    "run_experiments(n_runs=10, verbose=False, stopOnLoss = 0.02, full_CE = False, kd_loss = 1, with_OOD=True)"
   ]
  },
  {
   "cell_type": "code",
   "execution_count": 17,
   "metadata": {},
   "outputs": [
    {
     "name": "stdout",
     "output_type": "stream",
     "text": [
      "Starting run 1.\n"
     ]
    },
    {
     "name": "stderr",
     "output_type": "stream",
     "text": [
      "Experiment Progress: 100%|██████████| 1/1 [04:04<00:00, 244.47s/it]\n"
     ]
    },
    {
     "name": "stdout",
     "output_type": "stream",
     "text": [
      "Starting run 2.\n"
     ]
    },
    {
     "name": "stderr",
     "output_type": "stream",
     "text": [
      "Experiment Progress: 100%|██████████| 1/1 [04:06<00:00, 246.68s/it]\n"
     ]
    },
    {
     "name": "stdout",
     "output_type": "stream",
     "text": [
      "Starting run 3.\n"
     ]
    },
    {
     "name": "stderr",
     "output_type": "stream",
     "text": [
      "Experiment Progress: 100%|██████████| 1/1 [03:33<00:00, 213.44s/it]\n"
     ]
    },
    {
     "name": "stdout",
     "output_type": "stream",
     "text": [
      "Starting run 4.\n"
     ]
    },
    {
     "name": "stderr",
     "output_type": "stream",
     "text": [
      "Experiment Progress: 100%|██████████| 1/1 [03:40<00:00, 220.13s/it]\n"
     ]
    },
    {
     "name": "stdout",
     "output_type": "stream",
     "text": [
      "Starting run 5.\n"
     ]
    },
    {
     "name": "stderr",
     "output_type": "stream",
     "text": [
      "Experiment Progress: 100%|██████████| 1/1 [04:03<00:00, 243.98s/it]\n"
     ]
    },
    {
     "name": "stdout",
     "output_type": "stream",
     "text": [
      "Starting run 6.\n"
     ]
    },
    {
     "name": "stderr",
     "output_type": "stream",
     "text": [
      "Experiment Progress: 100%|██████████| 1/1 [03:37<00:00, 217.40s/it]\n"
     ]
    },
    {
     "name": "stdout",
     "output_type": "stream",
     "text": [
      "Starting run 7.\n"
     ]
    },
    {
     "name": "stderr",
     "output_type": "stream",
     "text": [
      "Experiment Progress: 100%|██████████| 1/1 [03:31<00:00, 211.62s/it]\n"
     ]
    },
    {
     "name": "stdout",
     "output_type": "stream",
     "text": [
      "Starting run 8.\n"
     ]
    },
    {
     "name": "stderr",
     "output_type": "stream",
     "text": [
      "Experiment Progress: 100%|██████████| 1/1 [04:05<00:00, 245.24s/it]\n"
     ]
    },
    {
     "name": "stdout",
     "output_type": "stream",
     "text": [
      "Starting run 9.\n"
     ]
    },
    {
     "name": "stderr",
     "output_type": "stream",
     "text": [
      "Experiment Progress: 100%|██████████| 1/1 [03:39<00:00, 219.02s/it]\n"
     ]
    },
    {
     "name": "stdout",
     "output_type": "stream",
     "text": [
      "Starting run 10.\n"
     ]
    },
    {
     "name": "stderr",
     "output_type": "stream",
     "text": [
      "Experiment Progress: 100%|██████████| 1/1 [03:35<00:00, 215.75s/it]\n"
     ]
    },
    {
     "name": "stdout",
     "output_type": "stream",
     "text": [
      "accuracy [0.9905, 0.9907, 0.9905, 0.9887, 0.9912, 0.989, 0.9922, 0.9911, 0.9905, 0.9897]\n",
      "Mean accuracy across 10 runs: 0.99041\n",
      "Standard deviation of accuracy across 10 runs: 0.001045041200676359\n",
      "\n",
      "total confusion [0.20959899999999998, 0.21825139999999998, 0.19106140000000005, 0.18511520000000004, 0.20553259999999995, 0.19872730000000005, 0.19630979999999998, 0.2121366, 0.19685160000000002, 0.20325610000000005]\n",
      "Mean total confusion across 10 runs: 0.2016841\n",
      "Standard deviation of total confusion across 10 runs: 0.010066484486651716\n",
      "\n",
      "intra-phase confusion [0.0, 0.0, 0.0, 0.0, 0.0, 0.0, 0.0, 0.0, 0.0, 0.0]\n",
      "Mean intra-phase confusion across 10 runs: 0.0\n",
      "Standard deviation of intra-phase confusion across 10 runs: 0.0\n",
      "\n",
      "per-task confusion [0.20959899999999998, 0.21825139999999998, 0.19106140000000005, 0.18511520000000004, 0.20553259999999995, 0.19872730000000005, 0.19630979999999998, 0.2121366, 0.19685160000000002, 0.20325610000000005]\n",
      "Mean per-task confusion across 10 runs: 0.2016841\n",
      "Standard deviation of per-task confusion across 10 runs: 0.010066484486651716\n",
      "\n",
      "embedding drift [7.856384399929084e-06, 8.799341230769642e-06, 7.2804368755896576e-06, 8.329021511599422e-06, 8.270685611933004e-06, 7.726443072897382e-06, 7.320615168282529e-06, 8.20045988803031e-06, 7.726101102889515e-06, 7.800658750056755e-06]\n",
      "Mean embedding drift across 10 runs: 7.93101476119773e-06\n",
      "Standard deviation of embedding drift across 10 runs: 4.717129548653128e-07\n",
      "\n",
      "attention drift [1.477238567624084e-20, 1.4967662973106476e-20, 1.453978461629551e-20, 1.378744858857499e-20, 1.5457707982339655e-20, 1.5972351283881185e-20, 1.516801337288003e-20, 1.688543700811931e-20, 1.600038226399558e-20, 1.545260264756747e-20]\n",
      "Mean attention drift across 10 runs: 1.5300377641300104e-20\n",
      "Standard deviation of attention drift across 10 runs: 8.677137563494605e-22\n",
      "\n",
      "attention spread [54.17292302093506, 52.55858622627258, 51.99707940292358, 55.107977953720095, 51.9482512758255, 51.6171743347168, 52.841655484581, 50.17235028591156, 50.43247911071777, 53.13539209136963]\n",
      "Mean attention spread across 10 runs: 52.398386918697355\n",
      "Standard deviation of attention spread across 10 runs: 1.529349351120838\n",
      "\n"
     ]
    }
   ],
   "source": [
    "# training on entire dataset\n",
    "globals.ITERATIONS = 1\n",
    "globals.CLASSES_PER_ITER = 10\n",
    "run_experiments(n_runs=10, verbose=False, stopOnLoss = 0.02)"
   ]
  },
  {
   "cell_type": "code",
   "execution_count": 18,
   "metadata": {},
   "outputs": [],
   "source": [
    "torch.cuda.empty_cache()"
   ]
  }
 ],
 "metadata": {
  "kernelspec": {
   "display_name": "dl_project",
   "language": "python",
   "name": "python3"
  },
  "language_info": {
   "codemirror_mode": {
    "name": "ipython",
    "version": 3
   },
   "file_extension": ".py",
   "mimetype": "text/x-python",
   "name": "python",
   "nbconvert_exporter": "python",
   "pygments_lexer": "ipython3",
   "version": "3.10.15"
  }
 },
 "nbformat": 4,
 "nbformat_minor": 4
}
