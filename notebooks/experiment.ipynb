{
 "cells": [
  {
   "cell_type": "code",
   "execution_count": 1,
   "metadata": {},
   "outputs": [],
   "source": [
    "import torch\n",
    "import torchvision\n",
    "import torchvision.transforms as transforms\n",
    "from sklearn import metrics\n",
    "from sklearn.model_selection import train_test_split\n",
    "from torch.utils.data import DataLoader, Subset\n",
    "import numpy as np\n",
    "import copy\n",
    "import statistics\n",
    "import matplotlib.pyplot as plt\n",
    "import time\n",
    "from tqdm import tqdm\n",
    "\n",
    "import sys\n",
    "sys.path.append('./../src')\n",
    "import globals\n",
    "from model import Net\n",
    "from training import train_model, train_model_CL\n",
    "from visualizations import plot_embeddings, plot_confusion_matrix\n",
    "from feature_attribution import Feature_Importance_Evaluations\n",
    "from pytorch_utils import get_features, get_labels\n",
    "from embedding_measurements import measure_embedding_confusion_knn, measure_embedding_drift"
   ]
  },
  {
   "cell_type": "code",
   "execution_count": 2,
   "metadata": {},
   "outputs": [],
   "source": [
    "SEED = globals.SEED\n",
    "DEVICE = globals.DEVICE\n",
    "full_trainset = globals.full_trainset\n",
    "trainset = globals.trainset\n",
    "testset = globals.testset\n",
    "trainloaders = globals.trainloaders\n",
    "valloaders = globals.valloaders\n",
    "testloaders = globals.testloaders"
   ]
  },
  {
   "cell_type": "code",
   "execution_count": 3,
   "metadata": {},
   "outputs": [],
   "source": [
    "# This is the two-step process used to prepare the\n",
    "# data for use with the convolutional neural network.\n",
    "\n",
    "# First step is to convert Python Image Library (PIL) format\n",
    "# to PyTorch tensors.\n",
    "\n",
    "# Second step is used to normalize the data by specifying a \n",
    "# mean and standard deviation for each of the three channels.\n",
    "# This will convert the data from [0,1] to [-1,1]\n",
    "\n",
    "# Normalization of data should help speed up conversion and\n",
    "# reduce the chance of vanishing gradients with certain \n",
    "# activation functions.\n",
    "def initialize_data():\n",
    "    transform = transforms.Compose([\n",
    "        transforms.ToTensor()\n",
    "        #transforms.Normalize((0.5,), (0.5,))  # Normalizes to mean 0.5 and std 0.5 for the single channel\n",
    "    ])\n",
    "\n",
    "    globals.full_trainset = torchvision.datasets.MNIST('./../data/', train=True, download=True,\n",
    "                                transform=transform)\n",
    "    targets = np.array(globals.full_trainset.targets)\n",
    "\n",
    "    # Perform stratified split\n",
    "    train_indices, val_indices = train_test_split(\n",
    "        np.arange(len(targets)),\n",
    "        test_size=0.01,\n",
    "        stratify=targets\n",
    "    )\n",
    "\n",
    "    # Create subsets\n",
    "    valset = Subset(globals.full_trainset, val_indices)\n",
    "    globals.trainset = Subset(globals.full_trainset, train_indices)\n",
    "\n",
    "    globals.testset = torchvision.datasets.MNIST('./../data/', train=False, download=True,\n",
    "                                transform=transform)\n",
    "\n",
    "    # Define class pairs for each subset\n",
    "    class_pairs = [tuple(range(i*globals.CLASSES_PER_ITER,(i+1)*globals.CLASSES_PER_ITER)) for i in range(globals.ITERATIONS)]\n",
    "    #print(class_pairs)\n",
    "\n",
    "    # Dictionary to hold data loaders for each subset\n",
    "    globals.trainloaders = []\n",
    "    globals.testloaders = []\n",
    "    globals.valloaders = []\n",
    "    subset_indices = []\n",
    "    # Loop over each class pair\n",
    "    for i, t in enumerate(class_pairs):\n",
    "        # Get indices of images belonging to the specified class pair\n",
    "        subs_ind = [idx for idx, (_, label) in enumerate(globals.trainset) if label in list(t)]\n",
    "        val_subset_indices = [idx for idx, (_, label) in enumerate(valset) if label in list(t)]\n",
    "        test_subset_indices = [idx for idx, (_, label) in enumerate(globals.testset) if label in list(t)]\n",
    "        # Create a subset for the current class pair\n",
    "        train_subset = Subset(globals.trainset, subs_ind)\n",
    "        globals.trainloaders.append(DataLoader(train_subset, batch_size=globals.BATCH_SIZE, shuffle=True, pin_memory=True, num_workers = 0))\n",
    "\n",
    "        subset_indices.append(subs_ind)\n",
    "        \n",
    "        val_subset = Subset(valset, val_subset_indices)\n",
    "        globals.valloaders.append(DataLoader(val_subset, batch_size=500, shuffle=False))\n",
    "\n",
    "        test_subset = Subset(globals.testset, test_subset_indices)\n",
    "        globals.testloaders.append(DataLoader(test_subset, batch_size=500, shuffle=False))\n"
   ]
  },
  {
   "cell_type": "code",
   "execution_count": 4,
   "metadata": {},
   "outputs": [],
   "source": [
    "def run_experiment(\n",
    "        verbose = False,\n",
    "        stopOnLoss = 0.03,\n",
    "        full_CE = True,\n",
    "        with_OOD = False,\n",
    "        kd_loss = 0,\n",
    "        stopOnValAcc = None,\n",
    "        epochs = 1000000,\n",
    "        with_dropout = False,\n",
    "        ogd = False\n",
    "        ):\n",
    "    def _print(*args, **kwargs):\n",
    "        if verbose:\n",
    "            print(*args, **kwargs)\n",
    "    if with_OOD:\n",
    "        globals.OOD_CLASS = 1\n",
    "    else:\n",
    "        globals.OOD_CLASS = 0\n",
    "    initialize_data()\n",
    "    prevModel = None\n",
    "    globals.BATCH_SIZE=4\n",
    "    \n",
    "    globals.WITH_DROPOUT = with_dropout\n",
    "\n",
    "    #[Denis] added code:\n",
    "    Feature_Importance_Eval=Feature_Importance_Evaluations(globals.testloaders, DEVICE)\n",
    "\n",
    "    for i in tqdm(range(globals.ITERATIONS), desc=\"Experiment Progress\"):\n",
    "        model = Net((i+1)*(globals.CLASSES_PER_ITER+globals.OOD_CLASS))\n",
    "        if prevModel is not None:\n",
    "            with torch.no_grad():\n",
    "                model.copyPrev(prevModel)\n",
    "        train_loader = globals.trainloaders[i]\n",
    "        val_loader = globals.valloaders[i]\n",
    "        if prevModel:\n",
    "            _print(\"CL TRAIN!!\")\n",
    "            train_model_CL(\n",
    "                model,\n",
    "                prevModel,\n",
    "                train_loader,\n",
    "                val_loader,\n",
    "                i,\n",
    "                verbose,\n",
    "                epochs,\n",
    "                True,\n",
    "                freeze_nonzero_params=False,\n",
    "                l1_loss=0,\n",
    "                ewc_loss=0,\n",
    "                kd_loss=kd_loss,\n",
    "                distance_loss=0,\n",
    "                center_loss=0,\n",
    "                param_reuse_loss=0,\n",
    "                stopOnLoss=stopOnLoss,\n",
    "                stopOnValAcc = stopOnValAcc,\n",
    "                full_CE=full_CE,\n",
    "                ogd=ogd,\n",
    "                )\n",
    "        else:\n",
    "            train_model(\n",
    "                model, \n",
    "                train_loader, \n",
    "                val_loader, \n",
    "                verbose, \n",
    "                epochs=epochs, \n",
    "                l1_loss=0,\n",
    "                stopOnLoss=stopOnLoss,\n",
    "                center_loss =0,\n",
    "                ogd=ogd\n",
    "                )\n",
    "\n",
    "        #[Denis] added code:\n",
    "        Feature_Importance_Eval.Task_Feature_Attribution(model, i)\n",
    "        \n",
    "        if verbose or i == globals.ITERATIONS-1:\n",
    "            _print(\"Starting evaluation\")\n",
    "            _print(\"ITERATION\", i+1)\n",
    "            _print(\"ACCURACIES PER TASK:\")\n",
    "            accumPred = []\n",
    "            all_labels = []\n",
    "            all_embeddings = []\n",
    "            with torch.no_grad():\n",
    "                for j in range(i+1):\n",
    "                    val_loader = globals.testloaders[j]\n",
    "                    val_labels = get_labels(val_loader).to(DEVICE)\n",
    "                    all_labels.append(val_labels)\n",
    "                    model.eval()\n",
    "                    pred, embeddings = model.get_pred_and_embeddings((get_features(val_loader).to(DEVICE)))\n",
    "                    model.train()\n",
    "                    accumPred.append(pred)\n",
    "                    all_embeddings.append(embeddings)\n",
    "                    sliced_pred = pred[:, j*(globals.CLASSES_PER_ITER+globals.OOD_CLASS):(j+1)*(globals.CLASSES_PER_ITER+globals.OOD_CLASS)]\n",
    "                    _, predicted = torch.max(sliced_pred, 1)  # Get the class predictions\n",
    "                    predicted += j*globals.CLASSES_PER_ITER\n",
    "                    correct = (predicted == val_labels).sum().item()  # Count how many were correct\n",
    "                    accuracy = correct / val_labels.size(0)  # Accuracy as a percentage\n",
    "                    _print(str(accuracy), end=' ')\n",
    "            accumPred = torch.cat(accumPred)\n",
    "            all_labels = torch.cat(all_labels)\n",
    "            all_embeddings = torch.cat(all_embeddings)\n",
    "            predicted = []\n",
    "            for x in accumPred:\n",
    "                if globals.OOD_CLASS == 1:\n",
    "                    x_pred = x[[i for i in range(x.size(0)) if (i + 1) % (globals.CLASSES_PER_ITER+1) != 0]]\n",
    "                else:\n",
    "                    x_pred = x\n",
    "                x_pred = torch.softmax(x_pred, dim=-1)\n",
    "                max = 0\n",
    "                for (k, v) in enumerate(x_pred):\n",
    "                    if v > max:\n",
    "                        max = v\n",
    "                        p = k\n",
    "                predicted.append(p)\n",
    "            predicted = torch.tensor(predicted).to(DEVICE)\n",
    "            correct = (predicted == all_labels).sum().item()  # Count how many were correct\n",
    "            accuracy = correct / all_labels.size(0)  # Accuracy as a percentage\n",
    "            _print(\"Accuracy on tasks so far:\", accuracy)\n",
    "\n",
    "            embedding_drift = measure_embedding_drift(all_embeddings, all_labels, model.prev_test_embedding_centers)\n",
    "            _print(\"Average embedding drift based on centroids:\", embedding_drift)\n",
    "            total_confusion, intra_phase_confusion, per_task_confusion = measure_embedding_confusion_knn(all_embeddings, all_labels, k = 1000, task=i+1)\n",
    "            _print(\"Total confusion\", total_confusion)\n",
    "            _print(\"Intra-phase confusion\", intra_phase_confusion)\n",
    "            _print(\"Per task confusions\", per_task_confusion)\n",
    "            if verbose:\n",
    "                plot_confusion_matrix(predicted.cpu(), all_labels.cpu(), list(range(globals.CLASSES_PER_ITER*(i+1))))\n",
    "        prevModel = copy.deepcopy(model)\n",
    "        \n",
    "    #[Denis] added code:\n",
    "    [avg_att_diff,att_diffs,_,_,avg_att_spread,att_spreads]=Feature_Importance_Eval.Get_Feature_Change_Score(prevModel)\n",
    "    _print(\"Average SHAPC values (ordered as tasks):\", att_diffs)\n",
    "    _print(\"Averaged SHAPC value (the smaller the better):\", avg_att_diff)\n",
    "    _print(\"Average attention spread values (ordered as tasks):\", att_spreads)\n",
    "    _print(\"Averaged attention spread value (the bigger the better):\", avg_att_spread)\n",
    "    Feature_Importance_Eval.Save_Random_Picture_Salency() #prints the salcency maps for 1 example by class (first row: image, second row: salency map after training, third row: salency map after training task where class is included)\n",
    "    \n",
    "    return accuracy, total_confusion, intra_phase_confusion, per_task_confusion, embedding_drift, avg_att_diff, avg_att_spread"
   ]
  },
  {
   "cell_type": "code",
   "execution_count": 5,
   "metadata": {},
   "outputs": [],
   "source": [
    "def run_experiments(n_runs=1, *args, **kwargs):\n",
    "    verbose = kwargs.get('verbose', None)\n",
    "    def _print(*args, **kwargs):\n",
    "        if verbose:\n",
    "            print(*args, **kwargs)\n",
    "    def report_stats(data, name):\n",
    "        print(name, data)\n",
    "        mean = statistics.mean(data)\n",
    "        std = statistics.stdev(data)\n",
    "        print(f\"Mean \" + name + f\" across {n_runs} runs: {mean}\")\n",
    "        print(f\"Standard deviation of \" + name + f\" across {n_runs} runs: {std}\\n\")\n",
    "    accuracies = []\n",
    "    total_confusions = []\n",
    "    intra_phase_confusions = []\n",
    "    per_task_confusions = []\n",
    "    att_diffs = []\n",
    "    embedding_drifts = []\n",
    "    att_spreads = []\n",
    "    for r in range(n_runs):\n",
    "        print(f\"Starting run {r+1}.\")\n",
    "        accuracy, total_confusion, intra_phase_confusion, per_task_confusion, embedding_drift, avg_att_diff, avg_att_spread = run_experiment(*args, **kwargs)\n",
    "        accuracies.append(accuracy)\n",
    "        total_confusions.append(total_confusion)\n",
    "        intra_phase_confusions.append(intra_phase_confusion)\n",
    "        per_task_confusions.append(per_task_confusion)\n",
    "        att_diffs.append(avg_att_diff)\n",
    "        embedding_drifts.append(embedding_drift)\n",
    "        att_spreads.append(avg_att_spread)\n",
    "        _print(f\"Run {r} finished with accuracy {accuracy}\")\n",
    "\n",
    "    report_stats(accuracies, \"accuracy\")\n",
    "    report_stats(total_confusions, \"total confusion\")\n",
    "    report_stats(intra_phase_confusions, \"intra-phase confusion\")\n",
    "    report_stats(per_task_confusions, \"per-task confusion\")\n",
    "    report_stats(embedding_drifts, \"embedding drift\")\n",
    "    report_stats(att_diffs, \"attention drift\")\n",
    "    report_stats(att_spreads, \"attention spread\")"
   ]
  },
  {
   "cell_type": "code",
   "execution_count": 6,
   "metadata": {},
   "outputs": [
    {
     "name": "stdout",
     "output_type": "stream",
     "text": [
      "Starting run 1.\n"
     ]
    },
    {
     "name": "stderr",
     "output_type": "stream",
     "text": [
      "Experiment Progress: 100%|██████████| 5/5 [02:16<00:00, 27.28s/it]\n"
     ]
    },
    {
     "name": "stdout",
     "output_type": "stream",
     "text": [
      "Starting run 2.\n"
     ]
    },
    {
     "name": "stderr",
     "output_type": "stream",
     "text": [
      "Experiment Progress: 100%|██████████| 5/5 [01:54<00:00, 22.99s/it]\n"
     ]
    },
    {
     "name": "stdout",
     "output_type": "stream",
     "text": [
      "Starting run 3.\n"
     ]
    },
    {
     "name": "stderr",
     "output_type": "stream",
     "text": [
      "Experiment Progress: 100%|██████████| 5/5 [02:09<00:00, 25.84s/it]\n"
     ]
    },
    {
     "name": "stdout",
     "output_type": "stream",
     "text": [
      "Starting run 4.\n"
     ]
    },
    {
     "name": "stderr",
     "output_type": "stream",
     "text": [
      "Experiment Progress: 100%|██████████| 5/5 [02:01<00:00, 24.21s/it]\n"
     ]
    },
    {
     "name": "stdout",
     "output_type": "stream",
     "text": [
      "Starting run 5.\n"
     ]
    },
    {
     "name": "stderr",
     "output_type": "stream",
     "text": [
      "Experiment Progress: 100%|██████████| 5/5 [02:03<00:00, 24.74s/it]\n"
     ]
    },
    {
     "name": "stdout",
     "output_type": "stream",
     "text": [
      "Starting run 6.\n"
     ]
    },
    {
     "name": "stderr",
     "output_type": "stream",
     "text": [
      "Experiment Progress: 100%|██████████| 5/5 [02:06<00:00, 25.31s/it]\n"
     ]
    },
    {
     "name": "stdout",
     "output_type": "stream",
     "text": [
      "Starting run 7.\n"
     ]
    },
    {
     "name": "stderr",
     "output_type": "stream",
     "text": [
      "Experiment Progress: 100%|██████████| 5/5 [02:00<00:00, 24.12s/it]\n"
     ]
    },
    {
     "name": "stdout",
     "output_type": "stream",
     "text": [
      "Starting run 8.\n"
     ]
    },
    {
     "name": "stderr",
     "output_type": "stream",
     "text": [
      "Experiment Progress: 100%|██████████| 5/5 [02:09<00:00, 25.85s/it]\n"
     ]
    },
    {
     "name": "stdout",
     "output_type": "stream",
     "text": [
      "Starting run 9.\n"
     ]
    },
    {
     "name": "stderr",
     "output_type": "stream",
     "text": [
      "Experiment Progress: 100%|██████████| 5/5 [02:05<00:00, 25.15s/it]\n"
     ]
    },
    {
     "name": "stdout",
     "output_type": "stream",
     "text": [
      "Starting run 10.\n"
     ]
    },
    {
     "name": "stderr",
     "output_type": "stream",
     "text": [
      "Experiment Progress: 100%|██████████| 5/5 [01:59<00:00, 23.99s/it]\n"
     ]
    },
    {
     "name": "stdout",
     "output_type": "stream",
     "text": [
      "accuracy [0.1977, 0.1965, 0.1975, 0.1964, 0.197, 0.1976, 0.1967, 0.1974, 0.1974, 0.1974]\n",
      "Mean accuracy across 10 runs: 0.19716\n",
      "Standard deviation of accuracy across 10 runs: 0.0004742245131674291\n",
      "\n",
      "total confusion [0.44943299999999997, 0.4149712, 0.3875702, 0.42745409999999995, 0.38913489999999995, 0.41174409999999995, 0.40658150000000004, 0.39565300000000003, 0.41054749999999995, 0.4281956]\n",
      "Mean total confusion across 10 runs: 0.41212851\n",
      "Standard deviation of total confusion across 10 runs: 0.019233670576965334\n",
      "\n",
      "intra-phase confusion [0.44132229999999995, 0.4064647, 0.3812308, 0.4186225, 0.38446210000000003, 0.40449710000000005, 0.40128909999999995, 0.38833660000000003, 0.40281809999999996, 0.42079659999999997]\n",
      "Mean intra-phase confusion across 10 runs: 0.40498399\n",
      "Standard deviation of intra-phase confusion across 10 runs: 0.01837809933779574\n",
      "\n",
      "per-task confusion [0.09558462092663422, 0.08496075659449494, 0.08095636096199192, 0.08522670286473828, 0.07100789869842554, 0.0841048491297574, 0.07397224031658871, 0.07644105697411752, 0.0868563997485928, 0.08922790204809442]\n",
      "Mean per-task confusion across 10 runs: 0.08283387882634358\n",
      "Standard deviation of per-task confusion across 10 runs: 0.007410847160290136\n",
      "\n",
      "embedding drift [10.4443359375, 10.511526107788086, 8.798795700073242, 9.676165580749512, 9.586282730102539, 10.076498985290527, 9.216331481933594, 9.571171760559082, 10.01253890991211, 9.498888969421387]\n",
      "Mean embedding drift across 10 runs: 9.739253616333007\n",
      "Standard deviation of embedding drift across 10 runs: 0.532632945130358\n",
      "\n",
      "attention drift [7.146006775465892e-06, 7.865338875839794e-06, 5.7897837960923225e-06, 7.304196507875565e-06, 6.6478138507212055e-06, 7.0294634028978975e-06, 6.638969184376611e-06, 6.37463812677248e-06, 6.729915298236808e-06, 8.238098407414253e-06]\n",
      "Mean attention drift across 10 runs: 6.976422422569282e-06\n",
      "Standard deviation of attention drift across 10 runs: 7.128882110658259e-07\n",
      "\n",
      "attention spread [61.2933815519368, 53.205221793998575, 56.67608782695203, 54.468520692089726, 52.78665903229425, 58.42747978239555, 52.72695397486996, 54.33013286412036, 56.39442681283094, 57.83405002792174]\n",
      "Mean attention spread across 10 runs: 55.814291435940994\n",
      "Standard deviation of attention spread across 10 runs: 2.819123922351533\n",
      "\n"
     ]
    }
   ],
   "source": [
    "run_experiments(n_runs=10, verbose=False, stopOnLoss = 0.02)"
   ]
  },
  {
   "cell_type": "code",
   "execution_count": 7,
   "metadata": {},
   "outputs": [
    {
     "name": "stdout",
     "output_type": "stream",
     "text": [
      "Starting run 1.\n"
     ]
    },
    {
     "name": "stderr",
     "output_type": "stream",
     "text": [
      "Experiment Progress: 100%|██████████| 5/5 [03:12<00:00, 38.54s/it]\n"
     ]
    },
    {
     "name": "stdout",
     "output_type": "stream",
     "text": [
      "Starting run 2.\n"
     ]
    },
    {
     "name": "stderr",
     "output_type": "stream",
     "text": [
      "Experiment Progress: 100%|██████████| 5/5 [03:06<00:00, 37.39s/it]\n"
     ]
    },
    {
     "name": "stdout",
     "output_type": "stream",
     "text": [
      "Starting run 3.\n"
     ]
    },
    {
     "name": "stderr",
     "output_type": "stream",
     "text": [
      "Experiment Progress: 100%|██████████| 5/5 [03:20<00:00, 40.06s/it]\n"
     ]
    },
    {
     "name": "stdout",
     "output_type": "stream",
     "text": [
      "Starting run 4.\n"
     ]
    },
    {
     "name": "stderr",
     "output_type": "stream",
     "text": [
      "Experiment Progress: 100%|██████████| 5/5 [02:58<00:00, 35.73s/it]\n"
     ]
    },
    {
     "name": "stdout",
     "output_type": "stream",
     "text": [
      "Starting run 5.\n"
     ]
    },
    {
     "name": "stderr",
     "output_type": "stream",
     "text": [
      "Experiment Progress: 100%|██████████| 5/5 [03:10<00:00, 38.04s/it]\n"
     ]
    },
    {
     "name": "stdout",
     "output_type": "stream",
     "text": [
      "Starting run 6.\n"
     ]
    },
    {
     "name": "stderr",
     "output_type": "stream",
     "text": [
      "Experiment Progress: 100%|██████████| 5/5 [03:11<00:00, 38.27s/it]\n"
     ]
    },
    {
     "name": "stdout",
     "output_type": "stream",
     "text": [
      "Starting run 7.\n"
     ]
    },
    {
     "name": "stderr",
     "output_type": "stream",
     "text": [
      "Experiment Progress: 100%|██████████| 5/5 [03:14<00:00, 38.84s/it]\n"
     ]
    },
    {
     "name": "stdout",
     "output_type": "stream",
     "text": [
      "Starting run 8.\n"
     ]
    },
    {
     "name": "stderr",
     "output_type": "stream",
     "text": [
      "Experiment Progress: 100%|██████████| 5/5 [03:29<00:00, 41.81s/it]\n"
     ]
    },
    {
     "name": "stdout",
     "output_type": "stream",
     "text": [
      "Starting run 9.\n"
     ]
    },
    {
     "name": "stderr",
     "output_type": "stream",
     "text": [
      "Experiment Progress: 100%|██████████| 5/5 [03:23<00:00, 40.77s/it]\n"
     ]
    },
    {
     "name": "stdout",
     "output_type": "stream",
     "text": [
      "Starting run 10.\n"
     ]
    },
    {
     "name": "stderr",
     "output_type": "stream",
     "text": [
      "Experiment Progress: 100%|██████████| 5/5 [03:23<00:00, 40.74s/it]\n"
     ]
    },
    {
     "name": "stdout",
     "output_type": "stream",
     "text": [
      "accuracy [0.1975, 0.1975, 0.1975, 0.1979, 0.1978, 0.198, 0.1978, 0.1979, 0.1978, 0.1977]\n",
      "Mean accuracy across 10 runs: 0.19774\n",
      "Standard deviation of accuracy across 10 runs: 0.00018378731669453315\n",
      "\n",
      "total confusion [0.43969480000000005, 0.44410689999999997, 0.4666378, 0.44546759999999996, 0.4278931, 0.41982030000000004, 0.43395819999999996, 0.443643, 0.46588229999999997, 0.46773560000000003]\n",
      "Mean total confusion across 10 runs: 0.44548396\n",
      "Standard deviation of total confusion across 10 runs: 0.016661391555275986\n",
      "\n",
      "intra-phase confusion [0.43142040000000004, 0.4318543, 0.45850729999999995, 0.4379881, 0.4203555, 0.41033739999999996, 0.4232504, 0.43658889999999995, 0.45161530000000005, 0.45781629999999995]\n",
      "Mean intra-phase confusion across 10 runs: 0.43597339\n",
      "Standard deviation of intra-phase confusion across 10 runs: 0.01610621219277759\n",
      "\n",
      "per-task confusion [0.114121261966319, 0.10917685907723804, 0.12291185966004921, 0.10234253975880528, 0.10336357900976638, 0.10573744004378918, 0.11714660571621258, 0.09686481868249777, 0.13684165724081448, 0.12367828914441988]\n",
      "Mean per-task confusion across 10 runs: 0.11321849102999118\n",
      "Standard deviation of per-task confusion across 10 runs: 0.012169255218226474\n",
      "\n",
      "embedding drift [8.612151145935059, 8.512784957885742, 8.438241004943848, 8.221882820129395, 8.806021690368652, 8.625272750854492, 9.091099739074707, 8.241239547729492, 9.349737167358398, 8.398921012878418]\n",
      "Mean embedding drift across 10 runs: 8.62973518371582\n",
      "Standard deviation of embedding drift across 10 runs: 0.36263865094890846\n",
      "\n",
      "attention drift [8.772225685633747e-06, 9.122289656391624e-06, 1.116708428011531e-05, 8.705974229803552e-06, 8.459453177946788e-06, 9.979051599153719e-06, 9.319012332068123e-06, 9.940975048818046e-06, 9.80535697984695e-06, 8.961565189100822e-06]\n",
      "Mean attention drift across 10 runs: 9.423298817887868e-06\n",
      "Standard deviation of attention drift across 10 runs: 8.127959527717507e-07\n",
      "\n",
      "attention spread [59.35288502625933, 58.619368774769214, 56.91209726695454, 56.87962396889117, 59.35964462819673, 55.799342905952265, 55.97561371464148, 55.2476529787476, 59.11538292552317, 57.859124906086706]\n",
      "Mean attention spread across 10 runs: 57.51207370960222\n",
      "Standard deviation of attention spread across 10 runs: 1.559949205491376\n",
      "\n"
     ]
    }
   ],
   "source": [
    "run_experiments(n_runs=10, verbose=False, stopOnLoss = 0.02, with_dropout=True)"
   ]
  },
  {
   "cell_type": "code",
   "execution_count": 8,
   "metadata": {},
   "outputs": [
    {
     "name": "stdout",
     "output_type": "stream",
     "text": [
      "Starting run 1.\n"
     ]
    },
    {
     "name": "stderr",
     "output_type": "stream",
     "text": [
      "Experiment Progress: 100%|██████████| 5/5 [02:39<00:00, 31.99s/it]\n"
     ]
    },
    {
     "name": "stdout",
     "output_type": "stream",
     "text": [
      "Starting run 2.\n"
     ]
    },
    {
     "name": "stderr",
     "output_type": "stream",
     "text": [
      "Experiment Progress: 100%|██████████| 5/5 [02:53<00:00, 34.64s/it]\n"
     ]
    },
    {
     "name": "stdout",
     "output_type": "stream",
     "text": [
      "Starting run 3.\n"
     ]
    },
    {
     "name": "stderr",
     "output_type": "stream",
     "text": [
      "Experiment Progress: 100%|██████████| 5/5 [02:31<00:00, 30.39s/it]\n"
     ]
    },
    {
     "name": "stdout",
     "output_type": "stream",
     "text": [
      "Starting run 4.\n"
     ]
    },
    {
     "name": "stderr",
     "output_type": "stream",
     "text": [
      "Experiment Progress: 100%|██████████| 5/5 [02:58<00:00, 35.76s/it]\n"
     ]
    },
    {
     "name": "stdout",
     "output_type": "stream",
     "text": [
      "Starting run 5.\n"
     ]
    },
    {
     "name": "stderr",
     "output_type": "stream",
     "text": [
      "Experiment Progress: 100%|██████████| 5/5 [02:26<00:00, 29.29s/it]\n"
     ]
    },
    {
     "name": "stdout",
     "output_type": "stream",
     "text": [
      "Starting run 6.\n"
     ]
    },
    {
     "name": "stderr",
     "output_type": "stream",
     "text": [
      "Experiment Progress: 100%|██████████| 5/5 [03:03<00:00, 36.65s/it]\n"
     ]
    },
    {
     "name": "stdout",
     "output_type": "stream",
     "text": [
      "Starting run 7.\n"
     ]
    },
    {
     "name": "stderr",
     "output_type": "stream",
     "text": [
      "Experiment Progress: 100%|██████████| 5/5 [02:51<00:00, 34.37s/it]\n"
     ]
    },
    {
     "name": "stdout",
     "output_type": "stream",
     "text": [
      "Starting run 8.\n"
     ]
    },
    {
     "name": "stderr",
     "output_type": "stream",
     "text": [
      "Experiment Progress: 100%|██████████| 5/5 [02:30<00:00, 30.03s/it]\n"
     ]
    },
    {
     "name": "stdout",
     "output_type": "stream",
     "text": [
      "Starting run 9.\n"
     ]
    },
    {
     "name": "stderr",
     "output_type": "stream",
     "text": [
      "Experiment Progress: 100%|██████████| 5/5 [02:26<00:00, 29.22s/it]\n"
     ]
    },
    {
     "name": "stdout",
     "output_type": "stream",
     "text": [
      "Starting run 10.\n"
     ]
    },
    {
     "name": "stderr",
     "output_type": "stream",
     "text": [
      "Experiment Progress: 100%|██████████| 5/5 [03:00<00:00, 36.19s/it]\n"
     ]
    },
    {
     "name": "stdout",
     "output_type": "stream",
     "text": [
      "accuracy [0.1976, 0.2012, 0.1985, 0.2189, 0.1976, 0.2014, 0.2005, 0.197, 0.2086, 0.1979]\n",
      "Mean accuracy across 10 runs: 0.20192\n",
      "Standard deviation of accuracy across 10 runs: 0.006872942116250753\n",
      "\n",
      "total confusion [0.3634056, 0.38402119999999995, 0.36573409999999995, 0.3987897, 0.3696667, 0.3781171, 0.3943352, 0.39169149999999997, 0.3904193, 0.38495650000000003]\n",
      "Mean total confusion across 10 runs: 0.38211369\n",
      "Standard deviation of total confusion across 10 runs: 0.01242343785337037\n",
      "\n",
      "intra-phase confusion [0.36075310000000005, 0.3808104, 0.3631723, 0.39430960000000004, 0.3670685, 0.37405140000000003, 0.3907419, 0.387694, 0.3869815, 0.378637]\n",
      "Mean intra-phase confusion across 10 runs: 0.37842197\n",
      "Standard deviation of intra-phase confusion across 10 runs: 0.011841213139243788\n",
      "\n",
      "per-task confusion [0.056471947001980195, 0.06295926726266514, 0.05949299955661831, 0.07777199874932487, 0.056508568737939614, 0.06522173312298656, 0.06821445862777578, 0.07023182762181075, 0.064475190532302, 0.08202724957832126]\n",
      "Mean per-task confusion across 10 runs: 0.06633752407917246\n",
      "Standard deviation of per-task confusion across 10 runs: 0.008514788217662146\n",
      "\n",
      "embedding drift [9.418558120727539, 10.138400077819824, 9.644582748413086, 11.0053129196167, 10.63000202178955, 10.695741653442383, 11.284502983093262, 11.720409393310547, 10.758310317993164, 11.655111312866211]\n",
      "Mean embedding drift across 10 runs: 10.695093154907227\n",
      "Standard deviation of embedding drift across 10 runs: 0.7794444728216783\n",
      "\n",
      "attention drift [5.560756765798829e-06, 7.149814242056282e-06, 7.222417445800664e-06, 9.02613231216729e-06, 7.789427384879422e-06, 9.185252988032112e-06, 6.870744205449346e-06, 8.779410889663418e-06, 6.271614525344157e-06, 7.547425510585205e-06]\n",
      "Mean attention drift across 10 runs: 7.540299626977672e-06\n",
      "Standard deviation of attention drift across 10 runs: 1.189821026387633e-06\n",
      "\n",
      "attention spread [58.93896226513566, 55.61401403915045, 52.25585366970565, 55.639439270061224, 53.0500847949211, 54.584149769871075, 53.46270822021212, 54.397916837074, 57.0441000506511, 54.92149473682389]\n",
      "Mean attention spread across 10 runs: 54.99087236536063\n",
      "Standard deviation of attention spread across 10 runs: 1.9640152878183137\n",
      "\n"
     ]
    }
   ],
   "source": [
    "run_experiments(n_runs=10, verbose=False, stopOnLoss = 0.02, kd_loss=1)"
   ]
  },
  {
   "cell_type": "code",
   "execution_count": 9,
   "metadata": {},
   "outputs": [
    {
     "name": "stdout",
     "output_type": "stream",
     "text": [
      "Starting run 1.\n"
     ]
    },
    {
     "name": "stderr",
     "output_type": "stream",
     "text": [
      "Experiment Progress: 100%|██████████| 5/5 [02:03<00:00, 24.62s/it]\n"
     ]
    },
    {
     "name": "stdout",
     "output_type": "stream",
     "text": [
      "Starting run 2.\n"
     ]
    },
    {
     "name": "stderr",
     "output_type": "stream",
     "text": [
      "Experiment Progress: 100%|██████████| 5/5 [01:52<00:00, 22.58s/it]\n"
     ]
    },
    {
     "name": "stdout",
     "output_type": "stream",
     "text": [
      "Starting run 3.\n"
     ]
    },
    {
     "name": "stderr",
     "output_type": "stream",
     "text": [
      "Experiment Progress: 100%|██████████| 5/5 [01:59<00:00, 23.90s/it]\n"
     ]
    },
    {
     "name": "stdout",
     "output_type": "stream",
     "text": [
      "Starting run 4.\n"
     ]
    },
    {
     "name": "stderr",
     "output_type": "stream",
     "text": [
      "Experiment Progress: 100%|██████████| 5/5 [01:55<00:00, 23.17s/it]\n"
     ]
    },
    {
     "name": "stdout",
     "output_type": "stream",
     "text": [
      "Starting run 5.\n"
     ]
    },
    {
     "name": "stderr",
     "output_type": "stream",
     "text": [
      "Experiment Progress: 100%|██████████| 5/5 [01:51<00:00, 22.32s/it]\n"
     ]
    },
    {
     "name": "stdout",
     "output_type": "stream",
     "text": [
      "Starting run 6.\n"
     ]
    },
    {
     "name": "stderr",
     "output_type": "stream",
     "text": [
      "Experiment Progress: 100%|██████████| 5/5 [01:54<00:00, 22.92s/it]\n"
     ]
    },
    {
     "name": "stdout",
     "output_type": "stream",
     "text": [
      "Starting run 7.\n"
     ]
    },
    {
     "name": "stderr",
     "output_type": "stream",
     "text": [
      "Experiment Progress: 100%|██████████| 5/5 [01:57<00:00, 23.46s/it]\n"
     ]
    },
    {
     "name": "stdout",
     "output_type": "stream",
     "text": [
      "Starting run 8.\n"
     ]
    },
    {
     "name": "stderr",
     "output_type": "stream",
     "text": [
      "Experiment Progress: 100%|██████████| 5/5 [01:58<00:00, 23.63s/it]\n"
     ]
    },
    {
     "name": "stdout",
     "output_type": "stream",
     "text": [
      "Starting run 9.\n"
     ]
    },
    {
     "name": "stderr",
     "output_type": "stream",
     "text": [
      "Experiment Progress: 100%|██████████| 5/5 [01:53<00:00, 22.80s/it]\n"
     ]
    },
    {
     "name": "stdout",
     "output_type": "stream",
     "text": [
      "Starting run 10.\n"
     ]
    },
    {
     "name": "stderr",
     "output_type": "stream",
     "text": [
      "Experiment Progress: 100%|██████████| 5/5 [02:03<00:00, 24.75s/it]\n"
     ]
    },
    {
     "name": "stdout",
     "output_type": "stream",
     "text": [
      "accuracy [0.679, 0.6623, 0.6559, 0.6825, 0.6188, 0.6378, 0.6662, 0.6405, 0.6442, 0.6607]\n",
      "Mean accuracy across 10 runs: 0.65479\n",
      "Standard deviation of accuracy across 10 runs: 0.019655389422072855\n",
      "\n",
      "total confusion [0.4103538, 0.42270490000000005, 0.418976, 0.42667330000000003, 0.41352500000000003, 0.43503480000000005, 0.4172456, 0.41843490000000005, 0.41846300000000003, 0.43340599999999996]\n",
      "Mean total confusion across 10 runs: 0.42148173\n",
      "Standard deviation of total confusion across 10 runs: 0.00805593106434287\n",
      "\n",
      "intra-phase confusion [0.4086381, 0.42050770000000004, 0.41685720000000004, 0.42387129999999995, 0.4114116, 0.4329024, 0.4147005, 0.41602340000000004, 0.41618239999999995, 0.4305721]\n",
      "Mean intra-phase confusion across 10 runs: 0.41916667\n",
      "Standard deviation of intra-phase confusion across 10 runs: 0.007872203234172193\n",
      "\n",
      "per-task confusion [0.060793760203501315, 0.06946660769905703, 0.0645575213698262, 0.07054972383357314, 0.06364486251623458, 0.06869555575174766, 0.06626540071799616, 0.06403279304972968, 0.06619543115088264, 0.07387267453327082]\n",
      "Mean per-task confusion across 10 runs: 0.06680743308258193\n",
      "Standard deviation of per-task confusion across 10 runs: 0.0038608258073988076\n",
      "\n",
      "embedding drift [5.062972068786621, 5.279188632965088, 5.6465277671813965, 6.01462984085083, 5.604467868804932, 5.803208351135254, 5.088128089904785, 5.046420097351074, 5.676418781280518, 5.887967586517334]\n",
      "Mean embedding drift across 10 runs: 5.510992908477784\n",
      "Standard deviation of embedding drift across 10 runs: 0.3628163546101926\n",
      "\n",
      "attention drift [2.892951414992228e-06, 2.649572290431403e-06, 2.414784466675211e-06, 2.9430502794927157e-06, 2.39565809834451e-06, 2.109183616790722e-06, 2.4617086530222795e-06, 2.1754108006004068e-06, 2.636219483738904e-06, 2.9353011621325647e-06]\n",
      "Mean attention drift across 10 runs: 2.5613840266220945e-06\n",
      "Standard deviation of attention drift across 10 runs: 3.020577276677845e-07\n",
      "\n",
      "attention spread [47.69256706505648, 45.81643875443393, 50.02247564325908, 47.25472530953728, 52.027966745071055, 49.05332987177116, 49.4357063466991, 50.8970522242095, 50.15450650715012, 50.203795135228546]\n",
      "Mean attention spread across 10 runs: 49.25585636024162\n",
      "Standard deviation of attention spread across 10 runs: 1.8566199978627649\n",
      "\n"
     ]
    }
   ],
   "source": [
    "run_experiments(n_runs=10, verbose=False, stopOnLoss = 0.02, full_CE=False)"
   ]
  },
  {
   "cell_type": "code",
   "execution_count": 10,
   "metadata": {},
   "outputs": [
    {
     "name": "stdout",
     "output_type": "stream",
     "text": [
      "Starting run 1.\n"
     ]
    },
    {
     "name": "stderr",
     "output_type": "stream",
     "text": [
      "Experiment Progress: 100%|██████████| 5/5 [03:20<00:00, 40.06s/it]\n"
     ]
    },
    {
     "name": "stdout",
     "output_type": "stream",
     "text": [
      "Starting run 2.\n"
     ]
    },
    {
     "name": "stderr",
     "output_type": "stream",
     "text": [
      "Experiment Progress: 100%|██████████| 5/5 [03:00<00:00, 36.04s/it]\n"
     ]
    },
    {
     "name": "stdout",
     "output_type": "stream",
     "text": [
      "Starting run 3.\n"
     ]
    },
    {
     "name": "stderr",
     "output_type": "stream",
     "text": [
      "Experiment Progress: 100%|██████████| 5/5 [03:05<00:00, 37.04s/it]\n"
     ]
    },
    {
     "name": "stdout",
     "output_type": "stream",
     "text": [
      "Starting run 4.\n"
     ]
    },
    {
     "name": "stderr",
     "output_type": "stream",
     "text": [
      "Experiment Progress: 100%|██████████| 5/5 [03:09<00:00, 37.94s/it]\n"
     ]
    },
    {
     "name": "stdout",
     "output_type": "stream",
     "text": [
      "Starting run 5.\n"
     ]
    },
    {
     "name": "stderr",
     "output_type": "stream",
     "text": [
      "Experiment Progress: 100%|██████████| 5/5 [03:07<00:00, 37.49s/it]\n"
     ]
    },
    {
     "name": "stdout",
     "output_type": "stream",
     "text": [
      "Starting run 6.\n"
     ]
    },
    {
     "name": "stderr",
     "output_type": "stream",
     "text": [
      "Experiment Progress: 100%|██████████| 5/5 [02:57<00:00, 35.59s/it]\n"
     ]
    },
    {
     "name": "stdout",
     "output_type": "stream",
     "text": [
      "Starting run 7.\n"
     ]
    },
    {
     "name": "stderr",
     "output_type": "stream",
     "text": [
      "Experiment Progress: 100%|██████████| 5/5 [03:07<00:00, 37.47s/it]\n"
     ]
    },
    {
     "name": "stdout",
     "output_type": "stream",
     "text": [
      "Starting run 8.\n"
     ]
    },
    {
     "name": "stderr",
     "output_type": "stream",
     "text": [
      "Experiment Progress: 100%|██████████| 5/5 [03:07<00:00, 37.42s/it]\n"
     ]
    },
    {
     "name": "stdout",
     "output_type": "stream",
     "text": [
      "Starting run 9.\n"
     ]
    },
    {
     "name": "stderr",
     "output_type": "stream",
     "text": [
      "Experiment Progress: 100%|██████████| 5/5 [03:08<00:00, 37.78s/it]\n"
     ]
    },
    {
     "name": "stdout",
     "output_type": "stream",
     "text": [
      "Starting run 10.\n"
     ]
    },
    {
     "name": "stderr",
     "output_type": "stream",
     "text": [
      "Experiment Progress: 100%|██████████| 5/5 [03:01<00:00, 36.29s/it]\n"
     ]
    },
    {
     "name": "stdout",
     "output_type": "stream",
     "text": [
      "accuracy [0.1972, 0.1947, 0.1973, 0.1976, 0.2026, 0.1975, 0.2019, 0.1977, 0.1994, 0.2066]\n",
      "Mean accuracy across 10 runs: 0.19925\n",
      "Standard deviation of accuracy across 10 runs: 0.0034830542152924737\n",
      "\n",
      "total confusion [0.35353219999999996, 0.3224897, 0.3741, 0.32867349999999995, 0.36605010000000004, 0.36746369999999995, 0.34240879999999996, 0.35646029999999995, 0.38574260000000005, 0.3594914]\n",
      "Mean total confusion across 10 runs: 0.35564123\n",
      "Standard deviation of total confusion across 10 runs: 0.01976600992726039\n",
      "\n",
      "intra-phase confusion [0.34341750000000004, 0.31511560000000005, 0.3674995, 0.3227232, 0.35441469999999997, 0.3632388, 0.3365226, 0.350475, 0.3792729, 0.34924429999999995]\n",
      "Mean intra-phase confusion across 10 runs: 0.34819241\n",
      "Standard deviation of intra-phase confusion across 10 runs: 0.019753841444159655\n",
      "\n",
      "per-task confusion [0.08573580984689053, 0.07231327535044012, 0.08093096909107253, 0.0733482354552929, 0.09511231453418094, 0.07380446264268503, 0.069508196567894, 0.07106233735985676, 0.08020273329486324, 0.09462470000172421]\n",
      "Mean per-task confusion across 10 runs: 0.07966430341449003\n",
      "Standard deviation of per-task confusion across 10 runs: 0.009467021359854695\n",
      "\n",
      "embedding drift [9.950069427490234, 10.064251899719238, 10.472930908203125, 10.388188362121582, 10.882438659667969, 10.587193489074707, 9.800824165344238, 11.144856452941895, 10.559103012084961, 9.726677894592285]\n",
      "Mean embedding drift across 10 runs: 10.357653427124024\n",
      "Standard deviation of embedding drift across 10 runs: 0.4670210704076529\n",
      "\n",
      "attention drift [4.607086352273395e-06, 3.035648972919701e-06, 3.595383756847532e-06, 3.3925229088947563e-06, 3.9093470432240034e-06, 3.337541456443952e-06, 3.284429317642707e-06, 3.639422226727491e-06, 3.7903791270803177e-06, 3.254273356415307e-06]\n",
      "Mean attention drift across 10 runs: 3.5846034518469163e-06\n",
      "Standard deviation of attention drift across 10 runs: 4.465799282272066e-07\n",
      "\n",
      "attention spread [65.22537997724915, 64.31611918541675, 61.61321743232554, 70.52164022363624, 57.266908525163345, 59.440924135426584, 62.80861319900595, 70.34731058768202, 63.12775800479542, 64.87587260325675]\n",
      "Mean attention spread across 10 runs: 63.954374387395774\n",
      "Standard deviation of attention spread across 10 runs: 4.205348437982182\n",
      "\n"
     ]
    }
   ],
   "source": [
    "run_experiments(n_runs=10, verbose=False, stopOnLoss = 0.02, with_OOD=True)"
   ]
  },
  {
   "cell_type": "code",
   "execution_count": 11,
   "metadata": {},
   "outputs": [
    {
     "name": "stdout",
     "output_type": "stream",
     "text": [
      "Starting run 1.\n"
     ]
    },
    {
     "name": "stderr",
     "output_type": "stream",
     "text": [
      "Experiment Progress: 100%|██████████| 5/5 [02:40<00:00, 32.11s/it]\n"
     ]
    },
    {
     "name": "stdout",
     "output_type": "stream",
     "text": [
      "Starting run 2.\n"
     ]
    },
    {
     "name": "stderr",
     "output_type": "stream",
     "text": [
      "Experiment Progress: 100%|██████████| 5/5 [03:03<00:00, 36.65s/it]\n"
     ]
    },
    {
     "name": "stdout",
     "output_type": "stream",
     "text": [
      "Starting run 3.\n"
     ]
    },
    {
     "name": "stderr",
     "output_type": "stream",
     "text": [
      "Experiment Progress: 100%|██████████| 5/5 [02:52<00:00, 34.55s/it]\n"
     ]
    },
    {
     "name": "stdout",
     "output_type": "stream",
     "text": [
      "Starting run 4.\n"
     ]
    },
    {
     "name": "stderr",
     "output_type": "stream",
     "text": [
      "Experiment Progress: 100%|██████████| 5/5 [03:04<00:00, 36.98s/it]\n"
     ]
    },
    {
     "name": "stdout",
     "output_type": "stream",
     "text": [
      "Starting run 5.\n"
     ]
    },
    {
     "name": "stderr",
     "output_type": "stream",
     "text": [
      "Experiment Progress: 100%|██████████| 5/5 [03:15<00:00, 39.18s/it]\n"
     ]
    },
    {
     "name": "stdout",
     "output_type": "stream",
     "text": [
      "Starting run 6.\n"
     ]
    },
    {
     "name": "stderr",
     "output_type": "stream",
     "text": [
      "Experiment Progress: 100%|██████████| 5/5 [03:13<00:00, 38.71s/it]\n"
     ]
    },
    {
     "name": "stdout",
     "output_type": "stream",
     "text": [
      "Starting run 7.\n"
     ]
    },
    {
     "name": "stderr",
     "output_type": "stream",
     "text": [
      "Experiment Progress: 100%|██████████| 5/5 [03:18<00:00, 39.68s/it]\n"
     ]
    },
    {
     "name": "stdout",
     "output_type": "stream",
     "text": [
      "Starting run 8.\n"
     ]
    },
    {
     "name": "stderr",
     "output_type": "stream",
     "text": [
      "Experiment Progress: 100%|██████████| 5/5 [02:36<00:00, 31.22s/it]\n"
     ]
    },
    {
     "name": "stdout",
     "output_type": "stream",
     "text": [
      "Starting run 9.\n"
     ]
    },
    {
     "name": "stderr",
     "output_type": "stream",
     "text": [
      "Experiment Progress: 100%|██████████| 5/5 [02:53<00:00, 34.70s/it]\n"
     ]
    },
    {
     "name": "stdout",
     "output_type": "stream",
     "text": [
      "Starting run 10.\n"
     ]
    },
    {
     "name": "stderr",
     "output_type": "stream",
     "text": [
      "Experiment Progress: 100%|██████████| 5/5 [02:53<00:00, 34.66s/it]\n"
     ]
    },
    {
     "name": "stdout",
     "output_type": "stream",
     "text": [
      "accuracy [0.7555, 0.7746, 0.7027, 0.8095, 0.7049, 0.7875, 0.7755, 0.7456, 0.707, 0.7533]\n",
      "Mean accuracy across 10 runs: 0.75161\n",
      "Standard deviation of accuracy across 10 runs: 0.03705369827096285\n",
      "\n",
      "total confusion [0.3288173, 0.34396879999999996, 0.3717703, 0.34110949999999995, 0.3262279, 0.35404119999999994, 0.34030099999999996, 0.34495469999999995, 0.34428250000000005, 0.3580573]\n",
      "Mean total confusion across 10 runs: 0.34535305\n",
      "Standard deviation of total confusion across 10 runs: 0.01341933613412212\n",
      "\n",
      "intra-phase confusion [0.3260809, 0.3413393, 0.36811249999999995, 0.33831259999999996, 0.32324470000000005, 0.3510626, 0.33763449999999995, 0.34234, 0.34028480000000005, 0.35493929999999996]\n",
      "Mean intra-phase confusion across 10 runs: 0.34233512\n",
      "Standard deviation of intra-phase confusion across 10 runs: 0.01321456844545273\n",
      "\n",
      "per-task confusion [0.05520785792034462, 0.056060945091840876, 0.06932549534193291, 0.06135647294225206, 0.056822218565981866, 0.05927385438189723, 0.0592484491646351, 0.05540546663471213, 0.0652722813468563, 0.06127870383807381]\n",
      "Mean per-task confusion across 10 runs: 0.05992517452285269\n",
      "Standard deviation of per-task confusion across 10 runs: 0.004582113230160929\n",
      "\n",
      "embedding drift [6.274153709411621, 6.494433403015137, 7.5703935623168945, 6.30409049987793, 7.41964864730835, 6.5019683837890625, 6.790317535400391, 6.079510688781738, 6.787598609924316, 6.283069610595703]\n",
      "Mean embedding drift across 10 runs: 6.650518465042114\n",
      "Standard deviation of embedding drift across 10 runs: 0.49946940255455025\n",
      "\n",
      "attention drift [2.255656088005149e-06, 1.929405530135815e-06, 2.063515014951473e-06, 1.7059190677979009e-06, 2.1164670617293113e-06, 1.9735935397872972e-06, 2.0525902671418365e-06, 1.7885602853289075e-06, 1.6225041633810669e-06, 1.8360641179268917e-06]\n",
      "Mean attention drift across 10 runs: 1.9344275136185647e-06\n",
      "Standard deviation of attention drift across 10 runs: 1.9691405442166094e-07\n",
      "\n",
      "attention spread [57.76046026203204, 65.70389944636256, 56.7639251922176, 65.17453004149408, 66.38921250061243, 59.20012350330319, 64.63040125574078, 66.39240322923422, 68.7691813246336, 67.31738248259546]\n",
      "Mean attention spread across 10 runs: 63.810151923822595\n",
      "Standard deviation of attention spread across 10 runs: 4.266579071250418\n",
      "\n"
     ]
    }
   ],
   "source": [
    "run_experiments(n_runs=10, verbose=False, stopOnLoss = 0.02, full_CE = False, with_OOD=True)"
   ]
  },
  {
   "cell_type": "code",
   "execution_count": 12,
   "metadata": {},
   "outputs": [
    {
     "name": "stdout",
     "output_type": "stream",
     "text": [
      "Starting run 1.\n"
     ]
    },
    {
     "name": "stderr",
     "output_type": "stream",
     "text": [
      "Experiment Progress: 100%|██████████| 5/5 [03:35<00:00, 43.10s/it]\n"
     ]
    },
    {
     "name": "stdout",
     "output_type": "stream",
     "text": [
      "Starting run 2.\n"
     ]
    },
    {
     "name": "stderr",
     "output_type": "stream",
     "text": [
      "Experiment Progress: 100%|██████████| 5/5 [04:01<00:00, 48.32s/it]\n"
     ]
    },
    {
     "name": "stdout",
     "output_type": "stream",
     "text": [
      "Starting run 3.\n"
     ]
    },
    {
     "name": "stderr",
     "output_type": "stream",
     "text": [
      "Experiment Progress: 100%|██████████| 5/5 [03:23<00:00, 40.62s/it]\n"
     ]
    },
    {
     "name": "stdout",
     "output_type": "stream",
     "text": [
      "Starting run 4.\n"
     ]
    },
    {
     "name": "stderr",
     "output_type": "stream",
     "text": [
      "Experiment Progress: 100%|██████████| 5/5 [04:06<00:00, 49.22s/it]\n"
     ]
    },
    {
     "name": "stdout",
     "output_type": "stream",
     "text": [
      "Starting run 5.\n"
     ]
    },
    {
     "name": "stderr",
     "output_type": "stream",
     "text": [
      "Experiment Progress: 100%|██████████| 5/5 [03:48<00:00, 45.74s/it]\n"
     ]
    },
    {
     "name": "stdout",
     "output_type": "stream",
     "text": [
      "Starting run 6.\n"
     ]
    },
    {
     "name": "stderr",
     "output_type": "stream",
     "text": [
      "Experiment Progress: 100%|██████████| 5/5 [03:47<00:00, 45.46s/it]\n"
     ]
    },
    {
     "name": "stdout",
     "output_type": "stream",
     "text": [
      "Starting run 7.\n"
     ]
    },
    {
     "name": "stderr",
     "output_type": "stream",
     "text": [
      "Experiment Progress: 100%|██████████| 5/5 [04:03<00:00, 48.65s/it]\n"
     ]
    },
    {
     "name": "stdout",
     "output_type": "stream",
     "text": [
      "Starting run 8.\n"
     ]
    },
    {
     "name": "stderr",
     "output_type": "stream",
     "text": [
      "Experiment Progress: 100%|██████████| 5/5 [03:44<00:00, 44.80s/it]\n"
     ]
    },
    {
     "name": "stdout",
     "output_type": "stream",
     "text": [
      "Starting run 9.\n"
     ]
    },
    {
     "name": "stderr",
     "output_type": "stream",
     "text": [
      "Experiment Progress: 100%|██████████| 5/5 [03:41<00:00, 44.33s/it]\n"
     ]
    },
    {
     "name": "stdout",
     "output_type": "stream",
     "text": [
      "Starting run 10.\n"
     ]
    },
    {
     "name": "stderr",
     "output_type": "stream",
     "text": [
      "Experiment Progress: 100%|██████████| 5/5 [03:42<00:00, 44.53s/it]\n"
     ]
    },
    {
     "name": "stdout",
     "output_type": "stream",
     "text": [
      "accuracy [0.8616, 0.8825, 0.8152, 0.8575, 0.8198, 0.7945, 0.8421, 0.847, 0.8627, 0.8562]\n",
      "Mean accuracy across 10 runs: 0.8439099999999999\n",
      "Standard deviation of accuracy across 10 runs: 0.02656365311222586\n",
      "\n",
      "total confusion [0.33459799999999995, 0.3288046, 0.33512810000000004, 0.34465789999999996, 0.34999020000000003, 0.332723, 0.35960289999999995, 0.33585790000000004, 0.33089250000000003, 0.3471951]\n",
      "Mean total confusion across 10 runs: 0.33994502\n",
      "Standard deviation of total confusion across 10 runs: 0.009937724562359989\n",
      "\n",
      "intra-phase confusion [0.331445, 0.32531410000000005, 0.33142119999999997, 0.3417169, 0.34568489999999996, 0.3288552, 0.356282, 0.33280279999999995, 0.3267947, 0.34407960000000004]\n",
      "Mean intra-phase confusion across 10 runs: 0.33643964\n",
      "Standard deviation of intra-phase confusion across 10 runs: 0.010017188320881257\n",
      "\n",
      "per-task confusion [0.062081280457460974, 0.058755388312693155, 0.06096391725267125, 0.056012167859016485, 0.06531364839805301, 0.06233225717074546, 0.06821579363065741, 0.05926773994578409, 0.06800810186909725, 0.06090974127058766]\n",
      "Mean per-task confusion across 10 runs: 0.06218600361667667\n",
      "Standard deviation of per-task confusion across 10 runs: 0.0039664381927287905\n",
      "\n",
      "embedding drift [5.547554969787598, 4.738124847412109, 5.6800384521484375, 5.126413345336914, 4.762589454650879, 5.019811630249023, 5.7233734130859375, 5.2631306648254395, 5.681948661804199, 5.111853122711182]\n",
      "Mean embedding drift across 10 runs: 5.265483856201172\n",
      "Standard deviation of embedding drift across 10 runs: 0.3754758609479211\n",
      "\n",
      "attention drift [8.478131322815238e-07, 8.054284074562268e-07, 8.266296184384511e-07, 9.525491860323464e-07, 6.475813761858699e-07, 8.002395234119659e-07, 7.296268897019753e-07, 9.027115436625637e-07, 7.953275582995841e-07, 7.583235782790942e-07]\n",
      "Mean attention drift across 10 runs: 8.066230813749601e-07\n",
      "Standard deviation of attention drift across 10 runs: 8.586137913632276e-08\n",
      "\n",
      "attention spread [56.527967104708225, 59.15273687723142, 60.505312272059186, 59.675388030711176, 64.18127882545643, 62.71790558341625, 63.75639484817841, 58.799764380558464, 60.15930897078416, 59.869033463203074]\n",
      "Mean attention spread across 10 runs: 60.53450903563068\n",
      "Standard deviation of attention spread across 10 runs: 2.3744071613887696\n",
      "\n"
     ]
    }
   ],
   "source": [
    "run_experiments(n_runs=10, verbose=False, stopOnLoss = 0.02, full_CE = False, kd_loss = 1, with_OOD=True)"
   ]
  },
  {
   "cell_type": "code",
   "execution_count": 13,
   "metadata": {},
   "outputs": [
    {
     "name": "stdout",
     "output_type": "stream",
     "text": [
      "Starting run 1.\n"
     ]
    },
    {
     "name": "stderr",
     "output_type": "stream",
     "text": [
      "Experiment Progress: 100%|██████████| 5/5 [02:20<00:00, 28.01s/it]\n"
     ]
    },
    {
     "name": "stdout",
     "output_type": "stream",
     "text": [
      "Starting run 2.\n"
     ]
    },
    {
     "name": "stderr",
     "output_type": "stream",
     "text": [
      "Experiment Progress: 100%|██████████| 5/5 [02:35<00:00, 31.07s/it]\n"
     ]
    },
    {
     "name": "stdout",
     "output_type": "stream",
     "text": [
      "Starting run 3.\n"
     ]
    },
    {
     "name": "stderr",
     "output_type": "stream",
     "text": [
      "Experiment Progress: 100%|██████████| 5/5 [02:33<00:00, 30.63s/it]\n"
     ]
    },
    {
     "name": "stdout",
     "output_type": "stream",
     "text": [
      "Starting run 4.\n"
     ]
    },
    {
     "name": "stderr",
     "output_type": "stream",
     "text": [
      "Experiment Progress: 100%|██████████| 5/5 [02:29<00:00, 29.87s/it]\n"
     ]
    },
    {
     "name": "stdout",
     "output_type": "stream",
     "text": [
      "Starting run 5.\n"
     ]
    },
    {
     "name": "stderr",
     "output_type": "stream",
     "text": [
      "Experiment Progress: 100%|██████████| 5/5 [02:30<00:00, 30.19s/it]\n"
     ]
    },
    {
     "name": "stdout",
     "output_type": "stream",
     "text": [
      "Starting run 6.\n"
     ]
    },
    {
     "name": "stderr",
     "output_type": "stream",
     "text": [
      "Experiment Progress: 100%|██████████| 5/5 [02:20<00:00, 28.07s/it]\n"
     ]
    },
    {
     "name": "stdout",
     "output_type": "stream",
     "text": [
      "Starting run 7.\n"
     ]
    },
    {
     "name": "stderr",
     "output_type": "stream",
     "text": [
      "Experiment Progress: 100%|██████████| 5/5 [02:30<00:00, 30.11s/it]\n"
     ]
    },
    {
     "name": "stdout",
     "output_type": "stream",
     "text": [
      "Starting run 8.\n"
     ]
    },
    {
     "name": "stderr",
     "output_type": "stream",
     "text": [
      "Experiment Progress: 100%|██████████| 5/5 [02:22<00:00, 28.45s/it]\n"
     ]
    },
    {
     "name": "stdout",
     "output_type": "stream",
     "text": [
      "Starting run 9.\n"
     ]
    },
    {
     "name": "stderr",
     "output_type": "stream",
     "text": [
      "Experiment Progress: 100%|██████████| 5/5 [02:50<00:00, 34.15s/it]\n"
     ]
    },
    {
     "name": "stdout",
     "output_type": "stream",
     "text": [
      "Starting run 10.\n"
     ]
    },
    {
     "name": "stderr",
     "output_type": "stream",
     "text": [
      "Experiment Progress: 100%|██████████| 5/5 [02:20<00:00, 28.04s/it]\n"
     ]
    },
    {
     "name": "stdout",
     "output_type": "stream",
     "text": [
      "accuracy [0.7817, 0.7097, 0.7277, 0.7791, 0.7482, 0.7326, 0.726, 0.75, 0.6578, 0.6404]\n",
      "Mean accuracy across 10 runs: 0.72532\n",
      "Standard deviation of accuracy across 10 runs: 0.04628061269161322\n",
      "\n",
      "total confusion [0.39739349999999996, 0.408949, 0.39550929999999995, 0.3805647, 0.37810889999999997, 0.38847319999999996, 0.40739309999999995, 0.39386449999999995, 0.41056630000000005, 0.39680249999999995]\n",
      "Mean total confusion across 10 runs: 0.39576249999999996\n",
      "Standard deviation of total confusion across 10 runs: 0.011212453495902584\n",
      "\n",
      "intra-phase confusion [0.39505199999999996, 0.4069349, 0.39340699999999995, 0.3786178, 0.37583599999999995, 0.3863639, 0.405405, 0.391957, 0.40823909999999997, 0.3945554]\n",
      "Mean intra-phase confusion across 10 runs: 0.39363681\n",
      "Standard deviation of intra-phase confusion across 10 runs: 0.011203234797092216\n",
      "\n",
      "per-task confusion [0.06045580769479264, 0.0606780366347411, 0.05672472204941688, 0.054323932602047154, 0.05816458776587892, 0.05673229051835473, 0.057387362464589045, 0.057599133354265655, 0.06178359074254216, 0.06159508545609773]\n",
      "Mean per-task confusion across 10 runs: 0.0585444549282726\n",
      "Standard deviation of per-task confusion across 10 runs: 0.0024673143057636444\n",
      "\n",
      "embedding drift [5.0961174964904785, 4.4054975509643555, 4.343173027038574, 4.688276290893555, 4.531574249267578, 4.610462665557861, 5.146583080291748, 4.536990165710449, 4.987185955047607, 4.779112815856934]\n",
      "Mean embedding drift across 10 runs: 4.712497329711914\n",
      "Standard deviation of embedding drift across 10 runs: 0.2829741442564037\n",
      "\n",
      "attention drift [8.868126022644095e-07, 1.456127664968687e-06, 9.94438372517199e-07, 1.0109106125047826e-06, 7.757028110609359e-07, 9.958620940411328e-07, 1.0381057082057303e-06, 7.692432831796311e-07, 9.55900166506723e-07, 8.883456546155379e-07]\n",
      "Mean attention drift across 10 runs: 9.77144896986477e-07\n",
      "Standard deviation of attention drift across 10 runs: 1.929964871092147e-07\n",
      "\n",
      "attention spread [47.920477350587475, 47.120176508200686, 46.33284829521698, 46.844257419111145, 50.3717916664901, 49.083939511880985, 48.38009138423814, 48.08689855141363, 47.00240536108748, 51.056207793825735]\n",
      "Mean attention spread across 10 runs: 48.21990938420524\n",
      "Standard deviation of attention spread across 10 runs: 1.552771361569855\n",
      "\n"
     ]
    }
   ],
   "source": [
    "run_experiments(n_runs=10, verbose=False, stopOnLoss = 0.02, full_CE = False, kd_loss = 1)"
   ]
  },
  {
   "cell_type": "code",
   "execution_count": 14,
   "metadata": {},
   "outputs": [
    {
     "name": "stdout",
     "output_type": "stream",
     "text": [
      "Starting run 1.\n"
     ]
    },
    {
     "name": "stderr",
     "output_type": "stream",
     "text": [
      "Experiment Progress: 100%|██████████| 5/5 [03:56<00:00, 47.28s/it]\n"
     ]
    },
    {
     "name": "stdout",
     "output_type": "stream",
     "text": [
      "Starting run 2.\n"
     ]
    },
    {
     "name": "stderr",
     "output_type": "stream",
     "text": [
      "Experiment Progress: 100%|██████████| 5/5 [03:49<00:00, 45.98s/it]\n"
     ]
    },
    {
     "name": "stdout",
     "output_type": "stream",
     "text": [
      "Starting run 3.\n"
     ]
    },
    {
     "name": "stderr",
     "output_type": "stream",
     "text": [
      "Experiment Progress: 100%|██████████| 5/5 [03:53<00:00, 46.66s/it]\n"
     ]
    },
    {
     "name": "stdout",
     "output_type": "stream",
     "text": [
      "Starting run 4.\n"
     ]
    },
    {
     "name": "stderr",
     "output_type": "stream",
     "text": [
      "Experiment Progress: 100%|██████████| 5/5 [04:00<00:00, 48.04s/it]\n"
     ]
    },
    {
     "name": "stdout",
     "output_type": "stream",
     "text": [
      "Starting run 5.\n"
     ]
    },
    {
     "name": "stderr",
     "output_type": "stream",
     "text": [
      "Experiment Progress: 100%|██████████| 5/5 [04:02<00:00, 48.59s/it]\n"
     ]
    },
    {
     "name": "stdout",
     "output_type": "stream",
     "text": [
      "Starting run 6.\n"
     ]
    },
    {
     "name": "stderr",
     "output_type": "stream",
     "text": [
      "Experiment Progress: 100%|██████████| 5/5 [03:48<00:00, 45.76s/it]\n"
     ]
    },
    {
     "name": "stdout",
     "output_type": "stream",
     "text": [
      "Starting run 7.\n"
     ]
    },
    {
     "name": "stderr",
     "output_type": "stream",
     "text": [
      "Experiment Progress: 100%|██████████| 5/5 [03:46<00:00, 45.33s/it]\n"
     ]
    },
    {
     "name": "stdout",
     "output_type": "stream",
     "text": [
      "Starting run 8.\n"
     ]
    },
    {
     "name": "stderr",
     "output_type": "stream",
     "text": [
      "Experiment Progress: 100%|██████████| 5/5 [04:04<00:00, 48.89s/it]\n"
     ]
    },
    {
     "name": "stdout",
     "output_type": "stream",
     "text": [
      "Starting run 9.\n"
     ]
    },
    {
     "name": "stderr",
     "output_type": "stream",
     "text": [
      "Experiment Progress: 100%|██████████| 5/5 [04:14<00:00, 50.91s/it]\n"
     ]
    },
    {
     "name": "stdout",
     "output_type": "stream",
     "text": [
      "Starting run 10.\n"
     ]
    },
    {
     "name": "stderr",
     "output_type": "stream",
     "text": [
      "Experiment Progress: 100%|██████████| 5/5 [03:36<00:00, 43.32s/it]\n"
     ]
    },
    {
     "name": "stdout",
     "output_type": "stream",
     "text": [
      "accuracy [0.7515, 0.7588, 0.7735, 0.7629, 0.7843, 0.712, 0.7861, 0.7856, 0.7738, 0.7883]\n",
      "Mean accuracy across 10 runs: 0.76768\n",
      "Standard deviation of accuracy across 10 runs: 0.02332598932045066\n",
      "\n",
      "total confusion [0.3798897, 0.38332160000000004, 0.3825027, 0.390088, 0.3888752, 0.38298069999999995, 0.38966480000000003, 0.4048952, 0.38741309999999995, 0.39956899999999995]\n",
      "Mean total confusion across 10 runs: 0.38892\n",
      "Standard deviation of total confusion across 10 runs: 0.00790320150431316\n",
      "\n",
      "intra-phase confusion [0.3781044, 0.3817285, 0.3809078, 0.388309, 0.3872504, 0.38133340000000004, 0.38798239999999995, 0.4027269, 0.38566, 0.3981123]\n",
      "Mean intra-phase confusion across 10 runs: 0.38721151\n",
      "Standard deviation of intra-phase confusion across 10 runs: 0.007824844968496168\n",
      "\n",
      "per-task confusion [0.05644981332012735, 0.05477967314406325, 0.05374147101838771, 0.0586109084369467, 0.057987883239672675, 0.055799522425375024, 0.05901799695205616, 0.06528988685019613, 0.05869066885242378, 0.05613500059570409]\n",
      "Mean per-task confusion across 10 runs: 0.05765028248349528\n",
      "Standard deviation of per-task confusion across 10 runs: 0.0032151568354813684\n",
      "\n",
      "embedding drift [4.657530784606934, 4.616420745849609, 4.478219032287598, 4.202580451965332, 4.286953926086426, 4.742279052734375, 4.206835746765137, 4.579803466796875, 4.276619911193848, 4.364167213439941]\n",
      "Mean embedding drift across 10 runs: 4.441141033172608\n",
      "Standard deviation of embedding drift across 10 runs: 0.19927914764691637\n",
      "\n",
      "attention drift [1.3577872583349764e-06, 1.210968095533387e-06, 1.3752752819009705e-06, 1.240145810856828e-06, 1.2182732199314463e-06, 1.3743942258928698e-06, 1.5767500086421617e-06, 1.3459340761804032e-06, 1.1610634307668211e-06, 1.1116098222247688e-06]\n",
      "Mean attention drift across 10 runs: 1.2972201230264633e-06\n",
      "Standard deviation of attention drift across 10 runs: 1.3587010361993565e-07\n",
      "\n",
      "attention spread [48.52148209307144, 50.532146013233856, 50.239424909323, 47.73344998624935, 50.012305894211906, 48.022165385726986, 45.424018881956826, 47.04149937189586, 47.520750074102935, 47.478841289048965]\n",
      "Mean attention spread across 10 runs: 48.25260838988211\n",
      "Standard deviation of attention spread across 10 runs: 1.6068335057890384\n",
      "\n"
     ]
    }
   ],
   "source": [
    "run_experiments(n_runs=10, verbose=False, stopOnLoss = 0.02, full_CE = False, kd_loss = 1, with_dropout=True)"
   ]
  },
  {
   "cell_type": "code",
   "execution_count": 15,
   "metadata": {},
   "outputs": [
    {
     "name": "stdout",
     "output_type": "stream",
     "text": [
      "Starting run 1.\n"
     ]
    },
    {
     "name": "stderr",
     "output_type": "stream",
     "text": [
      "Experiment Progress: 100%|██████████| 5/5 [08:14<00:00, 98.88s/it] \n"
     ]
    },
    {
     "name": "stdout",
     "output_type": "stream",
     "text": [
      "Starting run 2.\n"
     ]
    },
    {
     "name": "stderr",
     "output_type": "stream",
     "text": [
      "Experiment Progress: 100%|██████████| 5/5 [07:51<00:00, 94.35s/it] \n"
     ]
    },
    {
     "name": "stdout",
     "output_type": "stream",
     "text": [
      "Starting run 3.\n"
     ]
    },
    {
     "name": "stderr",
     "output_type": "stream",
     "text": [
      "Experiment Progress: 100%|██████████| 5/5 [07:47<00:00, 93.54s/it] \n"
     ]
    },
    {
     "name": "stdout",
     "output_type": "stream",
     "text": [
      "Starting run 4.\n"
     ]
    },
    {
     "name": "stderr",
     "output_type": "stream",
     "text": [
      "Experiment Progress: 100%|██████████| 5/5 [08:39<00:00, 103.99s/it]\n"
     ]
    },
    {
     "name": "stdout",
     "output_type": "stream",
     "text": [
      "Starting run 5.\n"
     ]
    },
    {
     "name": "stderr",
     "output_type": "stream",
     "text": [
      "Experiment Progress: 100%|██████████| 5/5 [08:20<00:00, 100.06s/it]\n"
     ]
    },
    {
     "name": "stdout",
     "output_type": "stream",
     "text": [
      "Starting run 6.\n"
     ]
    },
    {
     "name": "stderr",
     "output_type": "stream",
     "text": [
      "Experiment Progress: 100%|██████████| 5/5 [08:14<00:00, 98.99s/it] \n"
     ]
    },
    {
     "name": "stdout",
     "output_type": "stream",
     "text": [
      "Starting run 7.\n"
     ]
    },
    {
     "name": "stderr",
     "output_type": "stream",
     "text": [
      "Experiment Progress: 100%|██████████| 5/5 [08:15<00:00, 99.05s/it] \n"
     ]
    },
    {
     "name": "stdout",
     "output_type": "stream",
     "text": [
      "Starting run 8.\n"
     ]
    },
    {
     "name": "stderr",
     "output_type": "stream",
     "text": [
      "Experiment Progress: 100%|██████████| 5/5 [08:18<00:00, 99.68s/it] \n"
     ]
    },
    {
     "name": "stdout",
     "output_type": "stream",
     "text": [
      "Starting run 9.\n"
     ]
    },
    {
     "name": "stderr",
     "output_type": "stream",
     "text": [
      "Experiment Progress: 100%|██████████| 5/5 [07:46<00:00, 93.27s/it] \n"
     ]
    },
    {
     "name": "stdout",
     "output_type": "stream",
     "text": [
      "Starting run 10.\n"
     ]
    },
    {
     "name": "stderr",
     "output_type": "stream",
     "text": [
      "Experiment Progress: 100%|██████████| 5/5 [08:38<00:00, 103.72s/it]\n"
     ]
    },
    {
     "name": "stdout",
     "output_type": "stream",
     "text": [
      "accuracy [0.8614, 0.8782, 0.8883, 0.8802, 0.8813, 0.8668, 0.8707, 0.8941, 0.8851, 0.8959]\n",
      "Mean accuracy across 10 runs: 0.8802\n",
      "Standard deviation of accuracy across 10 runs: 0.011342055467252045\n",
      "\n",
      "total confusion [0.3218822, 0.327094, 0.30800970000000005, 0.33423899999999995, 0.32600989999999996, 0.32439969999999996, 0.31565200000000004, 0.3159969, 0.32359039999999994, 0.3082323]\n",
      "Mean total confusion across 10 runs: 0.32051061\n",
      "Standard deviation of total confusion across 10 runs: 0.008429792467255613\n",
      "\n",
      "intra-phase confusion [0.31949720000000004, 0.32471839999999996, 0.3057324, 0.33198720000000004, 0.32359689999999997, 0.3223967, 0.31331739999999997, 0.3135527, 0.3210545, 0.3059898]\n",
      "Mean intra-phase confusion across 10 runs: 0.31818432\n",
      "Standard deviation of intra-phase confusion across 10 runs: 0.008426880905873646\n",
      "\n",
      "per-task confusion [0.050377915978045903, 0.05457299622576237, 0.04991771277570356, 0.05269847078014307, 0.05230042596717337, 0.047196952958522685, 0.04979997720523124, 0.052208236709505584, 0.05354026635968014, 0.04577457964384053]\n",
      "Mean per-task confusion across 10 runs: 0.05083875346036085\n",
      "Standard deviation of per-task confusion across 10 runs: 0.0027841130833462895\n",
      "\n",
      "embedding drift [4.4409027099609375, 5.225312232971191, 4.388050079345703, 5.140188217163086, 4.8237481117248535, 5.067548751831055, 4.655190467834473, 4.846975803375244, 4.9312310218811035, 4.454909801483154]\n",
      "Mean embedding drift across 10 runs: 4.79740571975708\n",
      "Standard deviation of embedding drift across 10 runs: 0.3031018305040562\n",
      "\n",
      "attention drift [1.3423874622018006e-06, 1.4698495242301905e-06, 1.3164838495073098e-06, 1.4095124077476072e-06, 1.3811693374188443e-06, 1.4032753605072395e-06, 1.2568284725768709e-06, 1.2449756320024162e-06, 1.4344903871832293e-06, 1.2925256756779385e-06]\n",
      "Mean attention drift across 10 runs: 1.3551498109053446e-06\n",
      "Standard deviation of attention drift across 10 runs: 7.658291018867248e-08\n",
      "\n",
      "attention spread [57.153768182409316, 56.96666720949796, 57.39177007438874, 58.31063766533528, 57.865428502458734, 56.40649547070872, 59.45895158406408, 57.77643039980181, 55.50734220147551, 60.6197258352028]\n",
      "Mean attention spread across 10 runs: 57.7457217125343\n",
      "Standard deviation of attention spread across 10 runs: 1.4687842851817143\n",
      "\n"
     ]
    }
   ],
   "source": [
    "run_experiments(n_runs=10, verbose=False, stopOnLoss = 0.02, full_CE = False, kd_loss = 1, with_OOD=True, with_dropout=True, ogd=True)"
   ]
  },
  {
   "cell_type": "code",
   "execution_count": 16,
   "metadata": {},
   "outputs": [
    {
     "name": "stdout",
     "output_type": "stream",
     "text": [
      "Starting run 1.\n"
     ]
    },
    {
     "name": "stderr",
     "output_type": "stream",
     "text": [
      "Experiment Progress: 100%|██████████| 5/5 [03:25<00:00, 41.16s/it]\n"
     ]
    },
    {
     "name": "stdout",
     "output_type": "stream",
     "text": [
      "Starting run 2.\n"
     ]
    },
    {
     "name": "stderr",
     "output_type": "stream",
     "text": [
      "Experiment Progress: 100%|██████████| 5/5 [03:40<00:00, 44.08s/it]\n"
     ]
    },
    {
     "name": "stdout",
     "output_type": "stream",
     "text": [
      "Starting run 3.\n"
     ]
    },
    {
     "name": "stderr",
     "output_type": "stream",
     "text": [
      "Experiment Progress: 100%|██████████| 5/5 [03:43<00:00, 44.66s/it]\n"
     ]
    },
    {
     "name": "stdout",
     "output_type": "stream",
     "text": [
      "Starting run 4.\n"
     ]
    },
    {
     "name": "stderr",
     "output_type": "stream",
     "text": [
      "Experiment Progress: 100%|██████████| 5/5 [03:42<00:00, 44.46s/it]\n"
     ]
    },
    {
     "name": "stdout",
     "output_type": "stream",
     "text": [
      "Starting run 5.\n"
     ]
    },
    {
     "name": "stderr",
     "output_type": "stream",
     "text": [
      "Experiment Progress: 100%|██████████| 5/5 [04:04<00:00, 48.85s/it]\n"
     ]
    },
    {
     "name": "stdout",
     "output_type": "stream",
     "text": [
      "Starting run 6.\n"
     ]
    },
    {
     "name": "stderr",
     "output_type": "stream",
     "text": [
      "Experiment Progress: 100%|██████████| 5/5 [04:09<00:00, 49.81s/it]\n"
     ]
    },
    {
     "name": "stdout",
     "output_type": "stream",
     "text": [
      "Starting run 7.\n"
     ]
    },
    {
     "name": "stderr",
     "output_type": "stream",
     "text": [
      "Experiment Progress: 100%|██████████| 5/5 [03:43<00:00, 44.78s/it]\n"
     ]
    },
    {
     "name": "stdout",
     "output_type": "stream",
     "text": [
      "Starting run 8.\n"
     ]
    },
    {
     "name": "stderr",
     "output_type": "stream",
     "text": [
      "Experiment Progress: 100%|██████████| 5/5 [04:01<00:00, 48.25s/it]\n"
     ]
    },
    {
     "name": "stdout",
     "output_type": "stream",
     "text": [
      "Starting run 9.\n"
     ]
    },
    {
     "name": "stderr",
     "output_type": "stream",
     "text": [
      "Experiment Progress: 100%|██████████| 5/5 [03:51<00:00, 46.37s/it]\n"
     ]
    },
    {
     "name": "stdout",
     "output_type": "stream",
     "text": [
      "Starting run 10.\n"
     ]
    },
    {
     "name": "stderr",
     "output_type": "stream",
     "text": [
      "Experiment Progress: 100%|██████████| 5/5 [03:47<00:00, 45.54s/it]\n"
     ]
    },
    {
     "name": "stdout",
     "output_type": "stream",
     "text": [
      "accuracy [0.8258, 0.8121, 0.8424, 0.713, 0.8106, 0.7814, 0.8615, 0.8555, 0.8617, 0.8547]\n",
      "Mean accuracy across 10 runs: 0.82187\n",
      "Standard deviation of accuracy across 10 runs: 0.04656613099190824\n",
      "\n",
      "total confusion [0.3424703, 0.35254830000000004, 0.3197354, 0.33199120000000004, 0.3422233, 0.3393106, 0.35108779999999995, 0.33810569999999995, 0.3475425, 0.3531221]\n",
      "Mean total confusion across 10 runs: 0.34181372\n",
      "Standard deviation of total confusion across 10 runs: 0.010362786703906751\n",
      "\n",
      "intra-phase confusion [0.3389839, 0.34956580000000004, 0.3161345, 0.3285097, 0.3388044, 0.3361543, 0.347278, 0.33438120000000005, 0.34424639999999995, 0.34957760000000004]\n",
      "Mean intra-phase confusion across 10 runs: 0.33836358\n",
      "Standard deviation of intra-phase confusion across 10 runs: 0.010423631106694276\n",
      "\n",
      "per-task confusion [0.05989238798090919, 0.05911372236187444, 0.05963243054433602, 0.05723384226471466, 0.06783373042319449, 0.060629871745132013, 0.07000971916482764, 0.06214458304169166, 0.062361839787624974, 0.06697653139626283]\n",
      "Mean per-task confusion across 10 runs: 0.0625828658710568\n",
      "Standard deviation of per-task confusion across 10 runs: 0.004251534437856103\n",
      "\n",
      "embedding drift [5.283213138580322, 4.963980197906494, 5.26425838470459, 5.192545413970947, 5.357903480529785, 5.276883602142334, 5.426039218902588, 4.985716342926025, 5.200982570648193, 5.48893404006958]\n",
      "Mean embedding drift across 10 runs: 5.244045639038086\n",
      "Standard deviation of embedding drift across 10 runs: 0.16955954629454834\n",
      "\n",
      "attention drift [7.637152670857322e-07, 8.08011435338926e-07, 7.558123328752654e-07, 1.0603840527554808e-06, 7.25543478301421e-07, 1.019854878711117e-06, 7.772750489480826e-07, 7.328281851857977e-07, 8.133542501372728e-07, 7.854163316068639e-07]\n",
      "Mean attention drift across 10 runs: 8.242195260945959e-07\n",
      "Standard deviation of attention drift across 10 runs: 1.1764671792866558e-07\n",
      "\n",
      "attention spread [61.924766580869665, 60.820251559574714, 58.759507978312726, 63.76374831653798, 59.61210270721504, 56.45117365841954, 58.692203963966946, 58.67524983231441, 62.94271728600315, 68.72425306682501]\n",
      "Mean attention spread across 10 runs: 61.03659749500392\n",
      "Standard deviation of attention spread across 10 runs: 3.501093797053289\n",
      "\n"
     ]
    }
   ],
   "source": [
    "run_experiments(n_runs=10, verbose=False, stopOnLoss = 0.02, full_CE = False, kd_loss = 1, with_OOD=True)"
   ]
  },
  {
   "cell_type": "code",
   "execution_count": 6,
   "metadata": {},
   "outputs": [
    {
     "name": "stdout",
     "output_type": "stream",
     "text": [
      "Starting run 1.\n"
     ]
    },
    {
     "name": "stderr",
     "output_type": "stream",
     "text": [
      "Experiment Progress: 100%|██████████| 5/5 [07:07<00:00, 85.52s/it] \n"
     ]
    },
    {
     "name": "stdout",
     "output_type": "stream",
     "text": [
      "Starting run 2.\n"
     ]
    },
    {
     "name": "stderr",
     "output_type": "stream",
     "text": [
      "Experiment Progress: 100%|██████████| 5/5 [07:26<00:00, 89.28s/it] \n"
     ]
    },
    {
     "name": "stdout",
     "output_type": "stream",
     "text": [
      "Starting run 3.\n"
     ]
    },
    {
     "name": "stderr",
     "output_type": "stream",
     "text": [
      "Experiment Progress: 100%|██████████| 5/5 [07:47<00:00, 93.42s/it] \n"
     ]
    },
    {
     "name": "stdout",
     "output_type": "stream",
     "text": [
      "Starting run 4.\n"
     ]
    },
    {
     "name": "stderr",
     "output_type": "stream",
     "text": [
      "Experiment Progress: 100%|██████████| 5/5 [07:16<00:00, 87.37s/it] \n"
     ]
    },
    {
     "name": "stdout",
     "output_type": "stream",
     "text": [
      "Starting run 5.\n"
     ]
    },
    {
     "name": "stderr",
     "output_type": "stream",
     "text": [
      "Experiment Progress: 100%|██████████| 5/5 [07:52<00:00, 94.50s/it] \n"
     ]
    },
    {
     "name": "stdout",
     "output_type": "stream",
     "text": [
      "Starting run 6.\n"
     ]
    },
    {
     "name": "stderr",
     "output_type": "stream",
     "text": [
      "Experiment Progress: 100%|██████████| 5/5 [07:43<00:00, 92.61s/it] \n"
     ]
    },
    {
     "name": "stdout",
     "output_type": "stream",
     "text": [
      "Starting run 7.\n"
     ]
    },
    {
     "name": "stderr",
     "output_type": "stream",
     "text": [
      "Experiment Progress: 100%|██████████| 5/5 [06:55<00:00, 83.04s/it] \n"
     ]
    },
    {
     "name": "stdout",
     "output_type": "stream",
     "text": [
      "Starting run 8.\n"
     ]
    },
    {
     "name": "stderr",
     "output_type": "stream",
     "text": [
      "Experiment Progress: 100%|██████████| 5/5 [07:18<00:00, 87.78s/it] \n"
     ]
    },
    {
     "name": "stdout",
     "output_type": "stream",
     "text": [
      "Starting run 9.\n"
     ]
    },
    {
     "name": "stderr",
     "output_type": "stream",
     "text": [
      "Experiment Progress: 100%|██████████| 5/5 [06:59<00:00, 83.95s/it] \n"
     ]
    },
    {
     "name": "stdout",
     "output_type": "stream",
     "text": [
      "Starting run 10.\n"
     ]
    },
    {
     "name": "stderr",
     "output_type": "stream",
     "text": [
      "Experiment Progress: 100%|██████████| 5/5 [06:21<00:00, 76.37s/it] \n"
     ]
    },
    {
     "name": "stdout",
     "output_type": "stream",
     "text": [
      "accuracy [0.8832, 0.8664, 0.8257, 0.8562, 0.8638, 0.8462, 0.8747, 0.8772, 0.8371, 0.8833]\n",
      "Mean accuracy across 10 runs: 0.86138\n",
      "Standard deviation of accuracy across 10 runs: 0.019819171414455144\n",
      "\n",
      "total confusion [0.3128014, 0.3207443, 0.32837019999999995, 0.33641909999999997, 0.3331537, 0.33293269999999997, 0.3228172, 0.31472710000000004, 0.3328434, 0.3220687]\n",
      "Mean total confusion across 10 runs: 0.32568778\n",
      "Standard deviation of total confusion across 10 runs: 0.008258057280929388\n",
      "\n",
      "intra-phase confusion [0.3101087, 0.3185837, 0.32618309999999995, 0.3340997, 0.33052970000000004, 0.33069479999999996, 0.3203538, 0.31198289999999995, 0.33045250000000004, 0.3195703]\n",
      "Mean intra-phase confusion across 10 runs: 0.32325592\n",
      "Standard deviation of intra-phase confusion across 10 runs: 0.008366318923291313\n",
      "\n",
      "per-task confusion [0.05351556350007423, 0.05314371663644586, 0.05197445406789425, 0.05270911752140741, 0.05826406745431898, 0.05447583172700352, 0.05579256025899848, 0.05263171447505943, 0.05538344485380864, 0.05142668560585981]\n",
      "Mean per-task confusion across 10 runs: 0.05393171561008706\n",
      "Standard deviation of per-task confusion across 10 runs: 0.0020741937528869266\n",
      "\n",
      "embedding drift [4.728856086730957, 4.860170841217041, 5.001505374908447, 4.957793235778809, 5.346134185791016, 4.899967193603516, 5.182806491851807, 4.973339557647705, 4.784853458404541, 5.034104347229004]\n",
      "Mean embedding drift across 10 runs: 4.976953077316284\n",
      "Standard deviation of embedding drift across 10 runs: 0.18285964758533624\n",
      "\n",
      "attention drift [1.5406189363131743e-06, 1.4284397287180564e-06, 1.5556333678627418e-06, 1.503908721910584e-06, 1.762671882345212e-06, 1.3992172242924962e-06, 1.8245567775879053e-06, 1.6767804271817223e-06, 1.6408343332507581e-06, 1.3780020789018456e-06]\n",
      "Mean attention drift across 10 runs: 1.5710663478364496e-06\n",
      "Standard deviation of attention drift across 10 runs: 1.5269314593258682e-07\n",
      "\n",
      "attention spread [55.98742373767419, 54.66267109285993, 52.156746813093335, 59.62601149416987, 56.06922934295578, 54.7047558465805, 54.03152292778229, 53.868392110125896, 58.80419739432906, 56.48351023678017]\n",
      "Mean attention spread across 10 runs: 55.6394460996351\n",
      "Standard deviation of attention spread across 10 runs: 2.275609308061624\n",
      "\n"
     ]
    }
   ],
   "source": [
    "run_experiments(n_runs=10, verbose=False, stopOnLoss = 0.02, full_CE = False, kd_loss = 1, with_OOD=True, with_dropout=True)"
   ]
  },
  {
   "cell_type": "code",
   "execution_count": 18,
   "metadata": {},
   "outputs": [
    {
     "name": "stdout",
     "output_type": "stream",
     "text": [
      "Starting run 1.\n"
     ]
    },
    {
     "name": "stderr",
     "output_type": "stream",
     "text": [
      "Experiment Progress: 100%|██████████| 1/1 [04:20<00:00, 260.81s/it]\n"
     ]
    },
    {
     "name": "stdout",
     "output_type": "stream",
     "text": [
      "Starting run 2.\n"
     ]
    },
    {
     "name": "stderr",
     "output_type": "stream",
     "text": [
      "Experiment Progress: 100%|██████████| 1/1 [03:42<00:00, 222.60s/it]\n"
     ]
    },
    {
     "name": "stdout",
     "output_type": "stream",
     "text": [
      "Starting run 3.\n"
     ]
    },
    {
     "name": "stderr",
     "output_type": "stream",
     "text": [
      "Experiment Progress: 100%|██████████| 1/1 [03:41<00:00, 221.24s/it]\n"
     ]
    },
    {
     "name": "stdout",
     "output_type": "stream",
     "text": [
      "Starting run 4.\n"
     ]
    },
    {
     "name": "stderr",
     "output_type": "stream",
     "text": [
      "Experiment Progress: 100%|██████████| 1/1 [04:09<00:00, 249.30s/it]\n"
     ]
    },
    {
     "name": "stdout",
     "output_type": "stream",
     "text": [
      "Starting run 5.\n"
     ]
    },
    {
     "name": "stderr",
     "output_type": "stream",
     "text": [
      "Experiment Progress: 100%|██████████| 1/1 [03:40<00:00, 220.34s/it]\n"
     ]
    },
    {
     "name": "stdout",
     "output_type": "stream",
     "text": [
      "Starting run 6.\n"
     ]
    },
    {
     "name": "stderr",
     "output_type": "stream",
     "text": [
      "Experiment Progress: 100%|██████████| 1/1 [04:03<00:00, 243.67s/it]\n"
     ]
    },
    {
     "name": "stdout",
     "output_type": "stream",
     "text": [
      "Starting run 7.\n"
     ]
    },
    {
     "name": "stderr",
     "output_type": "stream",
     "text": [
      "Experiment Progress: 100%|██████████| 1/1 [04:03<00:00, 243.27s/it]\n"
     ]
    },
    {
     "name": "stdout",
     "output_type": "stream",
     "text": [
      "Starting run 8.\n"
     ]
    },
    {
     "name": "stderr",
     "output_type": "stream",
     "text": [
      "Experiment Progress: 100%|██████████| 1/1 [03:36<00:00, 216.45s/it]\n"
     ]
    },
    {
     "name": "stdout",
     "output_type": "stream",
     "text": [
      "Starting run 9.\n"
     ]
    },
    {
     "name": "stderr",
     "output_type": "stream",
     "text": [
      "Experiment Progress: 100%|██████████| 1/1 [03:32<00:00, 212.56s/it]\n"
     ]
    },
    {
     "name": "stdout",
     "output_type": "stream",
     "text": [
      "Starting run 10.\n"
     ]
    },
    {
     "name": "stderr",
     "output_type": "stream",
     "text": [
      "Experiment Progress: 100%|██████████| 1/1 [03:40<00:00, 220.24s/it]\n"
     ]
    },
    {
     "name": "stdout",
     "output_type": "stream",
     "text": [
      "accuracy [0.9894, 0.9883, 0.9882, 0.9914, 0.9879, 0.989, 0.9905, 0.9916, 0.989, 0.9903]\n",
      "Mean accuracy across 10 runs: 0.98956\n",
      "Standard deviation of accuracy across 10 runs: 0.0013259797216482034\n",
      "\n",
      "total confusion [0.2295988, 0.2016749, 0.1983973, 0.21697999999999995, 0.21374439999999995, 0.20362369999999996, 0.2011659, 0.18750109999999998, 0.2111398, 0.20915170000000005]\n",
      "Mean total confusion across 10 runs: 0.20729776\n",
      "Standard deviation of total confusion across 10 runs: 0.011569503026702954\n",
      "\n",
      "intra-phase confusion [0.0, 0.0, 0.0, 0.0, 0.0, 0.0, 0.0, 0.0, 0.0, 0.0]\n",
      "Mean intra-phase confusion across 10 runs: 0.0\n",
      "Standard deviation of intra-phase confusion across 10 runs: 0.0\n",
      "\n",
      "per-task confusion [0.2295988, 0.2016749, 0.1983973, 0.21697999999999995, 0.21374439999999995, 0.20362369999999996, 0.2011659, 0.18750109999999998, 0.2111398, 0.20915170000000005]\n",
      "Mean per-task confusion across 10 runs: 0.20729776\n",
      "Standard deviation of per-task confusion across 10 runs: 0.011569503026702954\n",
      "\n",
      "embedding drift [8.398498721362557e-06, 7.61874980526045e-06, 7.2031944000627846e-06, 8.17736054159468e-06, 7.2407883635605685e-06, 8.540342605556361e-06, 8.683398846187629e-06, 7.431577159877634e-06, 7.205948350019753e-06, 7.014574748609448e-06]\n",
      "Mean embedding drift across 10 runs: 7.751443354209186e-06\n",
      "Standard deviation of embedding drift across 10 runs: 6.335786106972157e-07\n",
      "\n",
      "attention drift [1.5789212774007472e-20, 1.509849410555557e-20, 1.5528178472913368e-20, 1.6546507362826083e-20, 1.510623100870312e-20, 1.617480589521848e-20, 1.723240389910234e-20, 1.600202596079899e-20, 1.620110192098407e-20, 1.49650755851029e-20]\n",
      "Mean attention drift across 10 runs: 1.5864403698521238e-20\n",
      "Standard deviation of attention drift across 10 runs: 7.191260534440663e-22\n",
      "\n",
      "attention spread [53.15814071807861, 54.31212763366699, 52.441354039764406, 51.86068927745819, 53.44799147224426, 50.161349277114866, 50.53222847290039, 51.61879252872467, 52.755144421577455, 52.1134830329895]\n",
      "Mean attention spread across 10 runs: 52.24013008745193\n",
      "Standard deviation of attention spread across 10 runs: 1.2773631723492616\n",
      "\n"
     ]
    }
   ],
   "source": [
    "# training on entire dataset\n",
    "globals.ITERATIONS = 1\n",
    "globals.CLASSES_PER_ITER = 10\n",
    "run_experiments(n_runs=10, verbose=False, stopOnLoss = 0.02)"
   ]
  },
  {
   "cell_type": "code",
   "execution_count": 19,
   "metadata": {},
   "outputs": [],
   "source": [
    "torch.cuda.empty_cache()"
   ]
  }
 ],
 "metadata": {
  "kernelspec": {
   "display_name": "Python 3",
   "language": "python",
   "name": "python3"
  },
  "language_info": {
   "codemirror_mode": {
    "name": "ipython",
    "version": 3
   },
   "file_extension": ".py",
   "mimetype": "text/x-python",
   "name": "python",
   "nbconvert_exporter": "python",
   "pygments_lexer": "ipython3",
   "version": "3.8.5"
  }
 },
 "nbformat": 4,
 "nbformat_minor": 4
}
